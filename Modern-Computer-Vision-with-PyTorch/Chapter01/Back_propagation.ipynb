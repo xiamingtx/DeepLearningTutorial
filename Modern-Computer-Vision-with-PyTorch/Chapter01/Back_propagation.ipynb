{
 "nbformat": 4,
 "nbformat_minor": 0,
 "metadata": {
  "colab": {
   "name": "Back_propagation.ipynb",
   "provenance": [],
   "collapsed_sections": [],
   "include_colab_link": true
  },
  "kernelspec": {
   "name": "pycharm-9146fa6d",
   "language": "python",
   "display_name": "PyCharm (DeepLearningTutorial)"
  },
  "language_info": {
   "codemirror_mode": {
    "name": "ipython",
    "version": 3
   },
   "file_extension": ".py",
   "mimetype": "text/x-python",
   "name": "python",
   "nbconvert_exporter": "python",
   "pygments_lexer": "ipython3",
   "version": "3.7.6"
  }
 },
 "cells": [
  {
   "cell_type": "markdown",
   "metadata": {
    "id": "view-in-github",
    "colab_type": "text"
   },
   "source": [
    "<a href=\"https://colab.research.google.com/github/PacktPublishing/Modern-Computer-Vision-with-PyTorch/blob/master/Chapter01/Back_propagation.ipynb\" target=\"_parent\"><img src=\"https://colab.research.google.com/assets/colab-badge.svg\" alt=\"Open In Colab\"/></a>"
   ]
  },
  {
   "cell_type": "code",
   "metadata": {
    "ExecuteTime": {
     "end_time": "2020-09-24T13:36:49.845714Z",
     "start_time": "2020-09-24T13:36:49.666592Z"
    },
    "id": "TTWK_bQBC7mf"
   },
   "source": [
    "# 导入相关的包并定义数据集\n",
    "import numpy as np \n",
    "from copy import deepcopy\n",
    "import matplotlib.pyplot as plt\n",
    "x = np.array([[1,1]])\n",
    "y = np.array([[0]])"
   ],
   "execution_count": 1,
   "outputs": []
  },
  {
   "cell_type": "code",
   "metadata": {
    "ExecuteTime": {
     "end_time": "2020-09-24T13:36:49.850377Z",
     "start_time": "2020-09-24T13:36:49.846832Z"
    },
    "id": "V8f13jAKC9Rv"
   },
   "source": [
    "from copy import deepcopy\n",
    "import numpy as np\n",
    "def feed_forward(inputs, outputs, weights):     \n",
    "    pre_hidden = np.dot(inputs,weights[0])+ weights[1]\n",
    "    hidden = 1/(1+np.exp(-pre_hidden))\n",
    "    out = np.dot(hidden, weights[2]) + weights[3]\n",
    "    mean_squared_error = np.mean(np.square(out - outputs))\n",
    "    return mean_squared_error"
   ],
   "execution_count": 2,
   "outputs": []
  },
  {
   "cell_type": "code",
   "metadata": {
    "ExecuteTime": {
     "end_time": "2020-09-24T13:36:49.855575Z",
     "start_time": "2020-09-24T13:36:49.851797Z"
    },
    "id": "8mF3nQbMC_Ja"
   },
   "source": [
    "def update_weights(inputs, outputs, weights, lr):\n",
    "    original_weights = deepcopy(weights)\n",
    "    temp_weights = deepcopy(weights)\n",
    "    updated_weights = deepcopy(weights)\n",
    "    original_loss = feed_forward(inputs, outputs, original_weights)\n",
    "    for i, layer in enumerate(original_weights):\n",
    "        for index, weight in np.ndenumerate(layer):\n",
    "            temp_weights = deepcopy(weights)\n",
    "            temp_weights[i][index] += 0.0001\n",
    "            _loss_plus = feed_forward(inputs, outputs, temp_weights)\n",
    "            grad = (_loss_plus - original_loss)/(0.0001)\n",
    "            updated_weights[i][index] -= grad*lr\n",
    "    return updated_weights, original_loss"
   ],
   "execution_count": 3,
   "outputs": []
  },
  {
   "cell_type": "code",
   "metadata": {
    "ExecuteTime": {
     "end_time": "2020-09-24T13:36:49.859883Z",
     "start_time": "2020-09-24T13:36:49.856643Z"
    },
    "id": "jgka7ZyOC_Ow",
    "scrolled": false
   },
   "source": [
    "# 随机初始化权重和偏置项\n",
    "W = [\n",
    "    # 第一层w\n",
    "    np.array([[-0.0053, 0.3793],\n",
    "              [-0.5820, -0.5204],\n",
    "              [-0.2723, 0.1896]], dtype=np.float32).T,\n",
    "    # 第一层b\n",
    "    np.array([-0.0140, 0.5607, -0.0628], dtype=np.float32),\n",
    "    # 第二层w\n",
    "    np.array([[ 0.1528, -0.1745, -0.1135]], dtype=np.float32).T,\n",
    "    # 第二层b\n",
    "    np.array([-0.5516], dtype=np.float32)\n",
    "]"
   ],
   "execution_count": 4,
   "outputs": []
  },
  {
   "cell_type": "code",
   "metadata": {
    "ExecuteTime": {
     "end_time": "2020-09-24T13:36:50.261156Z",
     "start_time": "2020-09-24T13:36:49.860952Z"
    },
    "id": "EFr7P1F0C_L_",
    "colab": {
     "base_uri": "https://localhost:8080/",
     "height": 298
    },
    "outputId": "2a439af3-e2a1-4605-acf1-d8d2b874b1e3"
   },
   "source": [
    "losses = []\n",
    "lr = 0.01\n",
    "# 在神经网络中运行100轮前向传播和反向传播\n",
    "for epoch in range(100):\n",
    "    W, loss = update_weights(x, y, W, lr)\n",
    "    losses.append(loss)\n",
    "\n",
    "# 绘制损失值的图像\n",
    "plt.plot(losses)\n",
    "plt.title('Loss over increasing number of epochs')"
   ],
   "execution_count": 5,
   "outputs": [
    {
     "data": {
      "text/plain": "Text(0.5, 1.0, 'Loss over increasing number of epochs')"
     },
     "execution_count": 5,
     "metadata": {},
     "output_type": "execute_result"
    },
    {
     "data": {
      "text/plain": "<Figure size 640x480 with 1 Axes>",
      "image/png": "[encoded data removed]"
     },
     "metadata": {},
     "output_type": "display_data"
    }
   ]
  },
  {
   "cell_type": "code",
   "metadata": {
    "ExecuteTime": {
     "end_time": "2020-09-24T13:36:50.265635Z",
     "start_time": "2020-09-24T13:36:50.262366Z"
    },
    "id": "Hyul1G_CDFy_",
    "colab": {
     "base_uri": "https://localhost:8080/"
    },
    "outputId": "f0ce94c6-9902-4c16-def4-0b6b6f9f436c"
   },
   "source": [
    "W"
   ],
   "execution_count": 6,
   "outputs": [
    {
     "data": {
      "text/plain": "[array([[ 0.01424004, -0.5907864 , -0.27549535],\n        [ 0.39883757, -0.52918637,  0.18640439]], dtype=float32),\n array([ 0.00554004,  0.5519136 , -0.06599568], dtype=float32),\n array([[ 0.3475135 ],\n        [-0.05529078],\n        [ 0.03760847]], dtype=float32),\n array([-0.22443289], dtype=float32)]"
     },
     "execution_count": 6,
     "metadata": {},
     "output_type": "execute_result"
    }
   ]
  },
  {
   "cell_type": "code",
   "metadata": {
    "ExecuteTime": {
     "end_time": "2020-09-24T13:36:50.269686Z",
     "start_time": "2020-09-24T13:36:50.266775Z"
    },
    "id": "zWGav-f7DIhI"
   },
   "source": [
    "# 最后做一轮prediction\n",
    "pre_hidden = np.dot(x,W[0]) + W[1]\n",
    "hidden = 1/(1+np.exp(-pre_hidden))\n",
    "out = np.dot(hidden, W[2]) + W[3]"
   ],
   "execution_count": 7,
   "outputs": []
  },
  {
   "cell_type": "code",
   "metadata": {
    "ExecuteTime": {
     "end_time": "2020-09-24T13:36:50.273559Z",
     "start_time": "2020-09-24T13:36:50.271055Z"
    },
    "id": "30Wqe4KADQFE",
    "colab": {
     "base_uri": "https://localhost:8080/"
    },
    "outputId": "f81dacdc-4efe-4cdf-ef39-e6ffb19e4ca9",
    "pycharm": {
     "name": "#%%\n"
    }
   },
   "source": [
    "out"
   ],
   "execution_count": 8,
   "outputs": [
    {
     "data": {
      "text/plain": "array([[-0.0174781]])"
     },
     "execution_count": 8,
     "metadata": {},
     "output_type": "execute_result"
    }
   ]
  }
 ]
}