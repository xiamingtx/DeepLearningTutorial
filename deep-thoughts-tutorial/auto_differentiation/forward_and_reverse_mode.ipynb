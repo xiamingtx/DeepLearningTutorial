{
 "cells": [
  {
   "cell_type": "markdown",
   "metadata": {
    "collapsed": true,
    "pycharm": {
     "name": "#%% md\n"
    }
   },
   "source": [
    "$a = f(x), b = g(a), y = h(b)$\n",
    "\n",
    "$\\frac{\\partial y}{\\partial x} = \\frac{\\partial h}{\\partial b}\n",
    "\\times \\frac{\\partial g}{\\partial a}\n",
    "\\times \\frac{\\partial f}{\\partial x}$\n",
    "\n",
    "Jacobian矩阵大小: \\|y\\| * \\|b\\|, \\|b\\| * \\|a\\|, \\|a\\| * \\|x\\|\n",
    "\n",
    "统计计算量：\n",
    "\n",
    "forward mode for AD:\n",
    "\n",
    "\\|y\\| * \\|b\\| ( \\|b\\| * \\|a\\|, \\|a\\| * \\|x\\| ) = bax + ybx\n",
    "\n",
    "reverse mode for AD:\n",
    "\n",
    "\\|y\\| * \\|b\\|  \\|b\\| * \\|a\\|  \\|a\\| * \\|x\\| = yba + yax\n",
    "\n",
    "假设 a=b 变成x和y比较\n",
    "\n",
    "当x > y 输入特征大于输出特征 reverse mode计算量比较小\n",
    "当 x< y 输入特征小于输出特征 forward mode计算量比较小"
   ]
  }
 ],
 "metadata": {
  "kernelspec": {
   "display_name": "Python 3",
   "language": "python",
   "name": "python3"
  },
  "language_info": {
   "codemirror_mode": {
    "name": "ipython",
    "version": 2
   },
   "file_extension": ".py",
   "mimetype": "text/x-python",
   "name": "python",
   "nbconvert_exporter": "python",
   "pygments_lexer": "ipython2",
   "version": "2.7.6"
  }
 },
 "nbformat": 4,
 "nbformat_minor": 0
}