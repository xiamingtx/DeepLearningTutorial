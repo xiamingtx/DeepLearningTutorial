{
 "cells": [
  {
   "cell_type": "markdown",
   "metadata": {
    "collapsed": true,
    "pycharm": {
     "name": "#%% md\n"
    }
   },
   "source": [
    "## 二维卷积代码演示"
   ]
  },
  {
   "cell_type": "code",
   "execution_count": 1,
   "outputs": [],
   "source": [
    "import torch\n",
    "import torch.nn as nn\n",
    "import torch.nn.functional as F\n",
    "from math import floor"
   ],
   "metadata": {
    "collapsed": false,
    "pycharm": {
     "name": "#%%\n"
    }
   }
  },
  {
   "cell_type": "markdown",
   "source": [
    "定义常量"
   ],
   "metadata": {
    "collapsed": false,
    "pycharm": {
     "name": "#%% md\n"
    }
   }
  },
  {
   "cell_type": "code",
   "execution_count": 2,
   "outputs": [],
   "source": [
    "in_channels = 1\n",
    "out_channels = 1\n",
    "kernel_size = 3\n",
    "batch_size = 1\n",
    "bias = False\n",
    "input_size = [batch_size, in_channels, 4, 4]"
   ],
   "metadata": {
    "collapsed": false,
    "pycharm": {
     "name": "#%%\n"
    }
   }
  },
  {
   "cell_type": "code",
   "execution_count": 3,
   "outputs": [
    {
     "name": "stdout",
     "output_type": "stream",
     "text": [
      "tensor([[[[-0.1155,  1.4302, -0.3380,  2.3349],\n",
      "          [ 0.3045,  0.2451, -0.1641, -0.0408],\n",
      "          [ 0.8828,  0.8284,  0.1857, -3.7096],\n",
      "          [ 0.3694, -0.7512, -0.5036, -0.3607]]]])\n",
      "Parameter containing:\n",
      "tensor([[[[ 0.1958, -0.0813, -0.1376],\n",
      "          [-0.0529,  0.3282,  0.0298],\n",
      "          [-0.2797, -0.2688, -0.1258]]]], requires_grad=True)\n",
      "conv shape:  torch.Size([1, 1, 3, 3])\n",
      "tensor([[[[-0.5260,  0.1033],\n",
      "          [ 0.4550,  0.3645]]]], grad_fn=<ConvolutionBackward0>)\n"
     ]
    }
   ],
   "source": [
    "conv_layer = nn.Conv2d(in_channels, out_channels, kernel_size, bias=bias)\n",
    "input_feature_map = torch.randn(input_size)\n",
    "output_feature_map = conv_layer(input_feature_map)\n",
    "\n",
    "print(input_feature_map)\n",
    "print(conv_layer.weight)\n",
    "print('conv shape: ', conv_layer.weight.shape)  # out_channels * in_channels * height * width\n",
    "print(output_feature_map)"
   ],
   "metadata": {
    "collapsed": false,
    "pycharm": {
     "name": "#%%\n"
    }
   }
  },
  {
   "cell_type": "code",
   "execution_count": 4,
   "outputs": [
    {
     "name": "stdout",
     "output_type": "stream",
     "text": [
      "tensor([[[[-0.5260,  0.1033],\n",
      "          [ 0.4550,  0.3645]]]], grad_fn=<ConvolutionBackward0>)\n"
     ]
    }
   ],
   "source": [
    "output_feature_map1  = F.conv2d(input_feature_map, conv_layer.weight)\n",
    "print(output_feature_map1)"
   ],
   "metadata": {
    "collapsed": false,
    "pycharm": {
     "name": "#%%\n"
    }
   }
  },
  {
   "cell_type": "markdown",
   "source": [
    "### 实现卷积"
   ],
   "metadata": {
    "collapsed": false,
    "pycharm": {
     "name": "#%% md\n"
    }
   }
  },
  {
   "cell_type": "code",
   "execution_count": 5,
   "outputs": [
    {
     "name": "stdout",
     "output_type": "stream",
     "text": [
      "tensor([[ 0.9505, -0.4460,  0.8429, -0.3798,  0.3851],\n",
      "        [-0.5468,  0.6040, -0.1081, -1.4094,  0.1884],\n",
      "        [ 0.8526, -1.2893,  0.6167,  1.2525, -0.3472],\n",
      "        [ 0.8868,  1.3822,  0.3365, -0.6784, -0.1037],\n",
      "        [-1.0550,  1.7445, -0.1075,  1.1560,  0.2925]])\n",
      "tensor([[-0.0231,  0.1776,  0.7969],\n",
      "        [ 1.8381,  1.8153,  0.3973],\n",
      "        [-0.6080, -1.4425,  0.7053]])\n",
      "tensor([-1.2711])\n"
     ]
    }
   ],
   "source": [
    "input = torch.randn(5, 5)  # 卷积输入特征图\n",
    "kernel = torch.randn(3, 3)  # 卷积核\n",
    "bias = torch.randn(1)  # 卷积偏置 默认输出通道数目为1\n",
    "\n",
    "print(input)\n",
    "print(kernel)\n",
    "print(bias)"
   ],
   "metadata": {
    "collapsed": false,
    "pycharm": {
     "name": "#%%\n"
    }
   }
  },
  {
   "cell_type": "markdown",
   "source": [
    "用原始的矩阵运算实现二维卷积\n",
    "\n",
    "先不考虑batch_size维度和channel维度"
   ],
   "metadata": {
    "collapsed": false,
    "pycharm": {
     "name": "#%% md\n"
    }
   }
  },
  {
   "cell_type": "code",
   "execution_count": 6,
   "outputs": [],
   "source": [
    "def matrix_multiplication_for_conv2d(input, kernel, bias=0, stride=1, padding=0):\n",
    "    if padding > 0:\n",
    "        input = F.pad(input, (padding, padding, padding, padding))\n",
    "\n",
    "    input_h, input_w = input.shape\n",
    "    kernel_h, kernel_w = kernel.shape\n",
    "\n",
    "    output_h = floor((input_h - kernel_h) / stride + 1)  # 卷积输入的高度\n",
    "    output_w = floor((input_w - kernel_w) / stride + 1)  # 卷积输入的宽度\n",
    "    output = torch.zeros(output_h, output_w)  # 初始化输出矩阵\n",
    "    for i in range(0, input_h - kernel_h + 1, stride):  # 对高度进行遍历\n",
    "        for j in range(0, input_w - kernel_w + 1, stride):  # 对宽度进行遍历\n",
    "            region = input[i:i + kernel_h, j:j + kernel_h]  # 取出被核滑动到的区域\n",
    "            output[int(i / stride), int(j / stride)] = torch.sum(region * kernel) + bias  # 点乘 并赋值给输出位置的元素\n",
    "\n",
    "    return output"
   ],
   "metadata": {
    "collapsed": false,
    "pycharm": {
     "name": "#%%\n"
    }
   }
  },
  {
   "cell_type": "markdown",
   "source": [
    "结果验证："
   ],
   "metadata": {
    "collapsed": false,
    "pycharm": {
     "name": "#%% md\n"
    }
   }
  },
  {
   "cell_type": "code",
   "execution_count": 7,
   "outputs": [
    {
     "name": "stdout",
     "output_type": "stream",
     "text": [
      "tensor([[ 1.4919, -1.9171, -0.6849],\n",
      "        [-0.1557, -4.9845,  1.0292],\n",
      "        [-1.2342,  1.6869,  1.3821]])\n",
      "tensor([[ 1.4919, -1.9171, -0.6849],\n",
      "        [-0.1557, -4.9845,  1.0292],\n",
      "        [-1.2342,  1.6869,  1.3821]])\n"
     ]
    },
    {
     "data": {
      "text/plain": "True"
     },
     "execution_count": 7,
     "metadata": {},
     "output_type": "execute_result"
    }
   ],
   "source": [
    "# 矩阵运算实现卷积的结果\n",
    "mat_mul_conv_output = matrix_multiplication_for_conv2d(input, kernel, bias=bias, padding=1, stride=2)\n",
    "print(mat_mul_conv_output)\n",
    "\n",
    "# 调用pytorch api卷积的结果\n",
    "pytorch_api_conv_output = F.conv2d(input.reshape(1, 1, input.shape[0], input.shape[1]),\n",
    "                                   kernel.reshape(1, 1, kernel.shape[0], kernel.shape[1]),\n",
    "                                   padding=1,\n",
    "                                   bias=bias,\n",
    "                                   stride=2)\n",
    "print(pytorch_api_conv_output.squeeze())\n",
    "\n",
    "torch.allclose(mat_mul_conv_output, pytorch_api_conv_output)  # 验证成功"
   ],
   "metadata": {
    "collapsed": false,
    "pycharm": {
     "name": "#%%\n"
    }
   }
  },
  {
   "cell_type": "markdown",
   "source": [
    "region拉直, flatten版本:"
   ],
   "metadata": {
    "collapsed": false,
    "pycharm": {
     "name": "#%% md\n"
    }
   }
  },
  {
   "cell_type": "code",
   "execution_count": 8,
   "outputs": [],
   "source": [
    "def matrix_multiplication_for_conv2d_flatten(input, kernel, bias=0, stride=1, padding=0):\n",
    "    if padding > 0:\n",
    "        input = F.pad(input, (padding, padding, padding, padding))\n",
    "\n",
    "    input_h, input_w = input.shape\n",
    "    kernel_h, kernel_w = kernel.shape\n",
    "\n",
    "    output_h = floor((input_h - kernel_h) / stride + 1)  # 卷积输入的高度\n",
    "    output_w = floor((input_w - kernel_w) / stride + 1)  # 卷积输入的宽度\n",
    "    output = torch.zeros(output_h, output_w)  # 初始化输出矩阵\n",
    "\n",
    "    region_matrix = torch.zeros(output.numel(), kernel.numel())  # 存储着拉平后的所有特征区域\n",
    "    kernel_matrix = kernel.reshape(kernel.numel(), 1)  # kernel的列向量（矩阵）形式\n",
    "    row_index = 0\n",
    "    for i in range(0, input_h - kernel_h + 1, stride):  # 对高度进行遍历\n",
    "        for j in range(0, input_w - kernel_w + 1, stride):  # 对宽度进行遍历\n",
    "            region = input[i:i + kernel_h, j:j + kernel_h]  # 取出被核滑动到的区域\n",
    "            region_vector = torch.flatten(region)\n",
    "            region_matrix[row_index] = region_vector\n",
    "            row_index += 1\n",
    "\n",
    "    output_matrix = region_matrix @ kernel_matrix\n",
    "    output = output_matrix.reshape(output_h, output_w) + bias\n",
    "\n",
    "    return output"
   ],
   "metadata": {
    "collapsed": false,
    "pycharm": {
     "name": "#%%\n"
    }
   }
  },
  {
   "cell_type": "code",
   "execution_count": 9,
   "outputs": [
    {
     "name": "stdout",
     "output_type": "stream",
     "text": [
      "tensor([[ 1.4919, -1.9171, -0.6849],\n",
      "        [-0.1557, -4.9845,  1.0292],\n",
      "        [-1.2342,  1.6869,  1.3821]])\n",
      "tensor([[ 1.4919, -1.9171, -0.6849],\n",
      "        [-0.1557, -4.9845,  1.0292],\n",
      "        [-1.2342,  1.6869,  1.3821]])\n"
     ]
    },
    {
     "data": {
      "text/plain": "True"
     },
     "execution_count": 9,
     "metadata": {},
     "output_type": "execute_result"
    }
   ],
   "source": [
    "# flatten版 实现卷积的结果\n",
    "mat_mul_conv_output_flatten = matrix_multiplication_for_conv2d_flatten(input, kernel, bias=bias, padding=1, stride=2)\n",
    "print(mat_mul_conv_output_flatten)\n",
    "\n",
    "# 调用pytorch api卷积的结果\n",
    "pytorch_api_conv_output = F.conv2d(input.reshape(1, 1, input.shape[0], input.shape[1]),\n",
    "                                   kernel.reshape(1, 1, kernel.shape[0], kernel.shape[1]),\n",
    "                                   padding=1,\n",
    "                                   bias=bias,\n",
    "                                   stride=2)\n",
    "print(pytorch_api_conv_output.squeeze())\n",
    "\n",
    "torch.allclose(mat_mul_conv_output_flatten, pytorch_api_conv_output)  # 验证成功"
   ],
   "metadata": {
    "collapsed": false,
    "pycharm": {
     "name": "#%%\n"
    }
   }
  },
  {
   "cell_type": "markdown",
   "source": [
    "考虑batch_size维和channel维度的完整实现"
   ],
   "metadata": {
    "collapsed": false,
    "pycharm": {
     "name": "#%% md\n"
    }
   }
  },
  {
   "cell_type": "code",
   "execution_count": 10,
   "outputs": [],
   "source": [
    "def matrix_multiplication_for_conv2d_full(input, kernel, bias=None, stride=1, padding=0):\n",
    "    # input, kernel都是四维的张量\n",
    "    if padding > 0:\n",
    "        input = F.pad(input, (padding, padding, padding, padding, 0, 0, 0, 0))\n",
    "\n",
    "    bs, in_channel, input_h, input_w = input.shape\n",
    "    output_channel, in_channel, kernel_h, kernel_w = kernel.shape\n",
    "\n",
    "    if bias is None:\n",
    "        bias = torch.zeros(output_channel)\n",
    "\n",
    "    output_h = floor((input_h - kernel_h) / stride + 1)  # 卷积输入的高度\n",
    "    output_w = floor((input_w - kernel_w) / stride + 1)  # 卷积输入的宽度\n",
    "    output = torch.zeros(bs, output_channel, output_h, output_w)  # 初始化输出矩阵\n",
    "\n",
    "    for idx in range(bs):\n",
    "        for oc in range(output_channel):\n",
    "            for ic in range(in_channel):\n",
    "                for i in range(0, input_h - kernel_h + 1, stride):  # 对高度进行遍历\n",
    "                    for j in range(0, input_w - kernel_w + 1, stride):  # 对宽度进行遍历\n",
    "                        region = input[idx, ic, i:i + kernel_h, j:j + kernel_h]  # 取出被核滑动到的区域\n",
    "                        output[idx, oc, int(i / stride), int(j / stride)] += torch.sum(region * kernel[oc, ic])  # 点乘 并赋值给输出位置的元素\n",
    "            output[idx, oc] += bias[oc]\n",
    "\n",
    "    return output"
   ],
   "metadata": {
    "collapsed": false,
    "pycharm": {
     "name": "#%%\n"
    }
   }
  },
  {
   "cell_type": "code",
   "execution_count": 11,
   "outputs": [
    {
     "data": {
      "text/plain": "True"
     },
     "execution_count": 11,
     "metadata": {},
     "output_type": "execute_result"
    }
   ],
   "source": [
    "input = torch.randn(2 ,2, 5, 5)  # bs * in_channel * in_h * in_w\n",
    "kernel = torch.randn(3, 2, 3, 3)  # out_channel * in_channel * kernel_h * kernel_w\n",
    "bias = torch.randn(3)\n",
    "\n",
    "pytorch_conv2d_api_output = F.conv2d(input, kernel, bias, padding=1, stride=2)\n",
    "mm_conv2d_full_output = matrix_multiplication_for_conv2d_full(input, kernel, bias=bias, padding=1, stride=2)\n",
    "\n",
    "torch.allclose(mm_conv2d_full_output, pytorch_conv2d_api_output)"
   ],
   "metadata": {
    "collapsed": false,
    "pycharm": {
     "name": "#%%\n"
    }
   }
  },
  {
   "cell_type": "markdown",
   "source": [
    "对kernel进行展开来实现二维卷积 并推导出转置卷积: 先不考虑batch和channel, 不考虑padding, 假设stride=1"
   ],
   "metadata": {
    "collapsed": false,
    "pycharm": {
     "name": "#%% md\n"
    }
   }
  },
  {
   "cell_type": "code",
   "execution_count": 12,
   "outputs": [],
   "source": [
    "def get_kernel_matrix(kernel, input_size):\n",
    "    \"\"\" 基于kernel和输入特征图的大小来得到填充拉直后的kernel堆叠后的矩阵 \"\"\"\n",
    "    kernel_h, kernel_w = kernel.shape\n",
    "    input_h, input_w = input_size\n",
    "    num_out_feat_map = (input_h - kernel_h + 1) * (input_w - kernel_w + 1)\n",
    "    result = torch.zeros(num_out_feat_map, input_h * input_w)  # 初始化结果矩阵 输出特征图元素个数 * 输入特征图元素个数\n",
    "    count = 0\n",
    "    for i in range(0, input_h - kernel_h + 1, 1):\n",
    "        for j in range(0, input_w - kernel_w + 1, 1):\n",
    "            padded_kernel = F.pad(kernel, (i, input_h - kernel_h - i, j, input_w - kernel_w - j))  # 填充成跟输入特征图一样大小\n",
    "            result[count] = padded_kernel.flatten()\n",
    "            count += 1\n",
    "\n",
    "    return result"
   ],
   "metadata": {
    "collapsed": false,
    "pycharm": {
     "name": "#%%\n"
    }
   }
  },
  {
   "cell_type": "code",
   "execution_count": 13,
   "outputs": [
    {
     "name": "stdout",
     "output_type": "stream",
     "text": [
      "tensor([[-1.5272, -2.5173,  0.9265],\n",
      "        [ 1.3476,  0.5256,  1.2691],\n",
      "        [-0.4085, -1.0632, -1.3741]])\n",
      "tensor([[-1.5272, -2.5173,  0.9265,  0.0000,  1.3476,  0.5256,  1.2691,  0.0000,\n",
      "         -0.4085, -1.0632, -1.3741,  0.0000,  0.0000,  0.0000,  0.0000,  0.0000],\n",
      "        [ 0.0000,  0.0000,  0.0000,  0.0000, -1.5272, -2.5173,  0.9265,  0.0000,\n",
      "          1.3476,  0.5256,  1.2691,  0.0000, -0.4085, -1.0632, -1.3741,  0.0000],\n",
      "        [ 0.0000, -1.5272, -2.5173,  0.9265,  0.0000,  1.3476,  0.5256,  1.2691,\n",
      "          0.0000, -0.4085, -1.0632, -1.3741,  0.0000,  0.0000,  0.0000,  0.0000],\n",
      "        [ 0.0000,  0.0000,  0.0000,  0.0000,  0.0000, -1.5272, -2.5173,  0.9265,\n",
      "          0.0000,  1.3476,  0.5256,  1.2691,  0.0000, -0.4085, -1.0632, -1.3741]])\n"
     ]
    }
   ],
   "source": [
    "kernel = torch.randn(3, 3)\n",
    "input = torch.randn(4, 4)\n",
    "kernel_matrix = get_kernel_matrix(kernel, input.shape)  # 4*16\n",
    "\n",
    "print(kernel)\n",
    "print(kernel_matrix)"
   ],
   "metadata": {
    "collapsed": false,
    "pycharm": {
     "name": "#%%\n"
    }
   }
  },
  {
   "cell_type": "markdown",
   "source": [
    "验证二维卷积"
   ],
   "metadata": {
    "collapsed": false,
    "pycharm": {
     "name": "#%% md\n"
    }
   }
  },
  {
   "cell_type": "code",
   "execution_count": 14,
   "outputs": [
    {
     "name": "stdout",
     "output_type": "stream",
     "text": [
      "tensor([[-2.2367],\n",
      "        [ 0.3064],\n",
      "        [-2.1816],\n",
      "        [ 3.5625]])\n",
      "tensor([[[[-2.2367, -2.1816],\n",
      "          [ 0.3064,  3.5625]]]])\n"
     ]
    }
   ],
   "source": [
    "mm_conv2d_output = kernel_matrix @ input.reshape(-1, 1)\n",
    "pytorch_conv2d_output = F.conv2d(input.unsqueeze(0).unsqueeze(0), kernel.unsqueeze(0).unsqueeze(0))\n",
    "\n",
    "print(mm_conv2d_output)\n",
    "print(pytorch_conv2d_output)"
   ],
   "metadata": {
    "collapsed": false,
    "pycharm": {
     "name": "#%%\n"
    }
   }
  },
  {
   "cell_type": "markdown",
   "source": [
    "验证二维转置卷积"
   ],
   "metadata": {
    "collapsed": false,
    "pycharm": {
     "name": "#%% md\n"
    }
   }
  },
  {
   "cell_type": "code",
   "execution_count": 15,
   "outputs": [
    {
     "name": "stdout",
     "output_type": "stream",
     "text": [
      "tensor([[  3.4159,   8.9621,   3.4194,  -2.0213],\n",
      "        [ -3.4821, -10.3277, -12.6691,   0.5322],\n",
      "        [  1.3266,   8.2311,   7.6543,   7.5188],\n",
      "        [ -0.1252,  -1.7810,  -4.2088,  -4.8953]])\n",
      "tensor([[[[  3.4159,   8.9621,   3.4194,  -2.0213],\n",
      "          [ -3.4821, -10.3277, -12.6691,   0.5322],\n",
      "          [  1.3266,   8.2311,   7.6543,   7.5188],\n",
      "          [ -0.1252,  -1.7810,  -4.2088,  -4.8953]]]])\n"
     ]
    }
   ],
   "source": [
    "mm_transposed_conv2d_output = kernel_matrix.transpose(-1, -2) @ mm_conv2d_output\n",
    "pytorch_transposed_conv2d_output = F.conv_transpose2d(pytorch_conv2d_output, kernel.unsqueeze(0).unsqueeze(0))\n",
    "\n",
    "print(mm_transposed_conv2d_output.reshape(4, 4))\n",
    "print(pytorch_transposed_conv2d_output)"
   ],
   "metadata": {
    "collapsed": false,
    "pycharm": {
     "name": "#%%\n"
    }
   }
  }
 ],
 "metadata": {
  "kernelspec": {
   "name": "pycharm-9146fa6d",
   "language": "python",
   "display_name": "PyCharm (DeepLearningTutorial)"
  },
  "language_info": {
   "codemirror_mode": {
    "name": "ipython",
    "version": 2
   },
   "file_extension": ".py",
   "mimetype": "text/x-python",
   "name": "python",
   "nbconvert_exporter": "python",
   "pygments_lexer": "ipython2",
   "version": "2.7.6"
  }
 },
 "nbformat": 4,
 "nbformat_minor": 0
}