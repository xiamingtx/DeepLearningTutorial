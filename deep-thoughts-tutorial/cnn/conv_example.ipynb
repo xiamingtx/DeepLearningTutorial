{
 "cells": [
  {
   "cell_type": "markdown",
   "metadata": {
    "collapsed": true,
    "pycharm": {
     "name": "#%% md\n"
    }
   },
   "source": [
    "## 二维卷积代码演示"
   ]
  },
  {
   "cell_type": "code",
   "execution_count": 1,
   "outputs": [],
   "source": [
    "import torch\n",
    "import torch.nn as nn\n",
    "import torch.nn.functional as F\n",
    "from math import floor"
   ],
   "metadata": {
    "collapsed": false,
    "pycharm": {
     "name": "#%%\n"
    }
   }
  },
  {
   "cell_type": "markdown",
   "source": [
    "定义常量"
   ],
   "metadata": {
    "collapsed": false,
    "pycharm": {
     "name": "#%% md\n"
    }
   }
  },
  {
   "cell_type": "code",
   "execution_count": 2,
   "outputs": [],
   "source": [
    "in_channels = 1\n",
    "out_channels = 1\n",
    "kernel_size = 3\n",
    "batch_size = 1\n",
    "bias = False\n",
    "input_size = [batch_size, in_channels, 4, 4]"
   ],
   "metadata": {
    "collapsed": false,
    "pycharm": {
     "name": "#%%\n"
    }
   }
  },
  {
   "cell_type": "code",
   "execution_count": 3,
   "outputs": [
    {
     "name": "stdout",
     "output_type": "stream",
     "text": [
      "tensor([[[[-0.4572,  0.5507,  1.5359, -1.5225],\n",
      "          [-0.1363, -1.1387,  0.7246,  1.1263],\n",
      "          [ 0.2960,  0.6730, -1.0714,  1.1075],\n",
      "          [ 0.4757,  0.7135,  0.5020, -0.1362]]]])\n",
      "Parameter containing:\n",
      "tensor([[[[ 0.2842,  0.0535,  0.3133],\n",
      "          [-0.0275,  0.0215, -0.2678],\n",
      "          [-0.0581, -0.2202, -0.1530]]]], requires_grad=True)\n",
      "conv shape:  torch.Size([1, 1, 3, 3])\n",
      "tensor([[[[ 0.1644, -0.4657],\n",
      "          [ 0.1590, -0.4014]]]], grad_fn=<ConvolutionBackward0>)\n"
     ]
    }
   ],
   "source": [
    "conv_layer = nn.Conv2d(in_channels, out_channels, kernel_size, bias=bias)\n",
    "input_feature_map = torch.randn(input_size)\n",
    "output_feature_map = conv_layer(input_feature_map)\n",
    "\n",
    "print(input_feature_map)\n",
    "print(conv_layer.weight)\n",
    "print('conv shape: ', conv_layer.weight.shape)  # out_channels * in_channels * height * width\n",
    "print(output_feature_map)"
   ],
   "metadata": {
    "collapsed": false,
    "pycharm": {
     "name": "#%%\n"
    }
   }
  },
  {
   "cell_type": "code",
   "execution_count": 4,
   "outputs": [
    {
     "name": "stdout",
     "output_type": "stream",
     "text": [
      "tensor([[[[ 0.1644, -0.4657],\n",
      "          [ 0.1590, -0.4014]]]], grad_fn=<ConvolutionBackward0>)\n"
     ]
    }
   ],
   "source": [
    "output_feature_map1  = F.conv2d(input_feature_map, conv_layer.weight)\n",
    "print(output_feature_map1)"
   ],
   "metadata": {
    "collapsed": false,
    "pycharm": {
     "name": "#%%\n"
    }
   }
  },
  {
   "cell_type": "markdown",
   "source": [
    "### 实现卷积"
   ],
   "metadata": {
    "collapsed": false,
    "pycharm": {
     "name": "#%% md\n"
    }
   }
  },
  {
   "cell_type": "code",
   "execution_count": 5,
   "outputs": [
    {
     "name": "stdout",
     "output_type": "stream",
     "text": [
      "tensor([[ 1.4450,  1.5122,  0.6525, -1.7100,  0.3809],\n",
      "        [ 0.6517,  0.2388, -0.5335, -0.2180,  1.2641],\n",
      "        [ 0.8478, -0.1348, -1.5858,  0.1307,  0.0873],\n",
      "        [-0.5883, -0.1998,  1.1304,  2.1471, -1.2738],\n",
      "        [-1.4078, -0.7528,  0.0373,  0.6296,  0.3642]])\n",
      "tensor([[-0.6550, -2.7360, -0.4297],\n",
      "        [ 0.5924,  0.6039, -0.8319],\n",
      "        [-0.2285,  0.0837,  1.1828]])\n",
      "tensor([-1.2358])\n"
     ]
    }
   ],
   "source": [
    "input = torch.randn(5, 5)  # 卷积输入特征图\n",
    "kernel = torch.randn(3, 3)  # 卷积核\n",
    "bias = torch.randn(1)  # 卷积偏置 默认输出通道数目为1\n",
    "\n",
    "print(input)\n",
    "print(kernel)\n",
    "print(bias)"
   ],
   "metadata": {
    "collapsed": false,
    "pycharm": {
     "name": "#%%\n"
    }
   }
  },
  {
   "cell_type": "markdown",
   "source": [
    "用原始的矩阵运算实现二维卷积\n",
    "\n",
    "先不考虑batch_size维度和channel维度"
   ],
   "metadata": {
    "collapsed": false,
    "pycharm": {
     "name": "#%% md\n"
    }
   }
  },
  {
   "cell_type": "code",
   "execution_count": 6,
   "outputs": [],
   "source": [
    "def matrix_multiplication_for_conv2d(input, kernel, bias=0, stride=1, padding=0):\n",
    "    if padding > 0:\n",
    "        input = F.pad(input, (padding, padding, padding, padding))\n",
    "\n",
    "    input_h, input_w = input.shape\n",
    "    kernel_h, kernel_w = kernel.shape\n",
    "\n",
    "    output_h = floor((input_h - kernel_h) / stride + 1)  # 卷积输入的高度\n",
    "    output_w = floor((input_w - kernel_w) / stride + 1)  # 卷积输入的宽度\n",
    "    output = torch.zeros(output_h, output_w)  # 初始化输出矩阵\n",
    "    for i in range(0, input_h - kernel_h + 1, stride):  # 对高度进行遍历\n",
    "        for j in range(0, input_w - kernel_w + 1, stride):  # 对宽度进行遍历\n",
    "            region = input[i:i + kernel_h, j:j + kernel_h]  # 取出被核滑动到的区域\n",
    "            output[int(i / stride), int(j / stride)] = torch.sum(region * kernel) + bias  # 点乘 并赋值给输出位置的元素\n",
    "\n",
    "    return output"
   ],
   "metadata": {
    "collapsed": false,
    "pycharm": {
     "name": "#%%\n"
    }
   }
  },
  {
   "cell_type": "markdown",
   "source": [
    "结果验证："
   ],
   "metadata": {
    "collapsed": false,
    "pycharm": {
     "name": "#%% md\n"
    }
   }
  },
  {
   "cell_type": "code",
   "execution_count": 7,
   "outputs": [
    {
     "name": "stdout",
     "output_type": "stream",
     "text": [
      "tensor([[-1.2841,  1.1195, -1.8631],\n",
      "        [-2.7829,  1.6947, -5.0187],\n",
      "        [ 0.2356, -6.0676,  1.4359]])\n",
      "tensor([[-1.2841,  1.1195, -1.8631],\n",
      "        [-2.7829,  1.6947, -5.0187],\n",
      "        [ 0.2356, -6.0676,  1.4359]])\n"
     ]
    },
    {
     "data": {
      "text/plain": "True"
     },
     "execution_count": 7,
     "metadata": {},
     "output_type": "execute_result"
    }
   ],
   "source": [
    "# 矩阵运算实现卷积的结果\n",
    "mat_mul_conv_output = matrix_multiplication_for_conv2d(input, kernel, bias=bias, padding=1, stride=2)\n",
    "print(mat_mul_conv_output)\n",
    "\n",
    "# 调用pytorch api卷积的结果\n",
    "pytorch_api_conv_output = F.conv2d(input.reshape(1, 1, input.shape[0], input.shape[1]),\n",
    "                                   kernel.reshape(1, 1, kernel.shape[0], kernel.shape[1]),\n",
    "                                   padding=1,\n",
    "                                   bias=bias,\n",
    "                                   stride=2)\n",
    "print(pytorch_api_conv_output.squeeze())\n",
    "\n",
    "torch.allclose(mat_mul_conv_output, pytorch_api_conv_output)  # 验证成功"
   ],
   "metadata": {
    "collapsed": false,
    "pycharm": {
     "name": "#%%\n"
    }
   }
  },
  {
   "cell_type": "markdown",
   "source": [
    "region拉直, flatten版本:"
   ],
   "metadata": {
    "collapsed": false,
    "pycharm": {
     "name": "#%% md\n"
    }
   }
  },
  {
   "cell_type": "code",
   "execution_count": 8,
   "outputs": [],
   "source": [
    "def matrix_multiplication_for_conv2d_flatten(input, kernel, bias=0, stride=1, padding=0):\n",
    "    if padding > 0:\n",
    "        input = F.pad(input, (padding, padding, padding, padding))\n",
    "\n",
    "    input_h, input_w = input.shape\n",
    "    kernel_h, kernel_w = kernel.shape\n",
    "\n",
    "    output_h = floor((input_h - kernel_h) / stride + 1)  # 卷积输入的高度\n",
    "    output_w = floor((input_w - kernel_w) / stride + 1)  # 卷积输入的宽度\n",
    "    output = torch.zeros(output_h, output_w)  # 初始化输出矩阵\n",
    "\n",
    "    region_matrix = torch.zeros(output.numel(), kernel.numel())  # 存储着拉平后的所有特征区域\n",
    "    kernel_matrix = kernel.reshape(kernel.numel(), 1)  # kernel的列向量（矩阵）形式\n",
    "    row_index = 0\n",
    "    for i in range(0, input_h - kernel_h + 1, stride):  # 对高度进行遍历\n",
    "        for j in range(0, input_w - kernel_w + 1, stride):  # 对宽度进行遍历\n",
    "            region = input[i:i + kernel_h, j:j + kernel_h]  # 取出被核滑动到的区域\n",
    "            region_vector = torch.flatten(region)\n",
    "            region_matrix[row_index] = region_vector\n",
    "            row_index += 1\n",
    "\n",
    "    output_matrix = region_matrix @ kernel_matrix\n",
    "    output = output_matrix.reshape(output_h, output_w) + bias\n",
    "\n",
    "    return output"
   ],
   "metadata": {
    "collapsed": false,
    "pycharm": {
     "name": "#%%\n"
    }
   }
  },
  {
   "cell_type": "code",
   "execution_count": 9,
   "outputs": [
    {
     "name": "stdout",
     "output_type": "stream",
     "text": [
      "tensor([[-1.2841,  1.1195, -1.8631],\n",
      "        [-2.7829,  1.6947, -5.0187],\n",
      "        [ 0.2356, -6.0676,  1.4359]])\n",
      "tensor([[-1.2841,  1.1195, -1.8631],\n",
      "        [-2.7829,  1.6947, -5.0187],\n",
      "        [ 0.2356, -6.0676,  1.4359]])\n"
     ]
    },
    {
     "data": {
      "text/plain": "True"
     },
     "execution_count": 9,
     "metadata": {},
     "output_type": "execute_result"
    }
   ],
   "source": [
    "# flatten版 实现卷积的结果\n",
    "mat_mul_conv_output_flatten = matrix_multiplication_for_conv2d_flatten(input, kernel, bias=bias, padding=1, stride=2)\n",
    "print(mat_mul_conv_output_flatten)\n",
    "\n",
    "# 调用pytorch api卷积的结果\n",
    "pytorch_api_conv_output = F.conv2d(input.reshape(1, 1, input.shape[0], input.shape[1]),\n",
    "                                   kernel.reshape(1, 1, kernel.shape[0], kernel.shape[1]),\n",
    "                                   padding=1,\n",
    "                                   bias=bias,\n",
    "                                   stride=2)\n",
    "print(pytorch_api_conv_output.squeeze())\n",
    "\n",
    "torch.allclose(mat_mul_conv_output_flatten, pytorch_api_conv_output)  # 验证成功"
   ],
   "metadata": {
    "collapsed": false,
    "pycharm": {
     "name": "#%%\n"
    }
   }
  },
  {
   "cell_type": "markdown",
   "source": [
    "考虑batch_size维和channel维度的完整实现"
   ],
   "metadata": {
    "collapsed": false,
    "pycharm": {
     "name": "#%% md\n"
    }
   }
  },
  {
   "cell_type": "code",
   "execution_count": 10,
   "outputs": [],
   "source": [
    "def matrix_multiplication_for_conv2d_full(input, kernel, bias=None, stride=1, padding=0):\n",
    "    # input, kernel都是四维的张量\n",
    "    if padding > 0:\n",
    "        input = F.pad(input, (padding, padding, padding, padding, 0, 0, 0, 0))\n",
    "\n",
    "    bs, in_channel, input_h, input_w = input.shape\n",
    "    output_channel, in_channel, kernel_h, kernel_w = kernel.shape\n",
    "\n",
    "    if bias is None:\n",
    "        bias = torch.zeros(output_channel)\n",
    "\n",
    "    output_h = floor((input_h - kernel_h) / stride + 1)  # 卷积输入的高度\n",
    "    output_w = floor((input_w - kernel_w) / stride + 1)  # 卷积输入的宽度\n",
    "    output = torch.zeros(bs, output_channel, output_h, output_w)  # 初始化输出矩阵\n",
    "\n",
    "    for idx in range(bs):\n",
    "        for oc in range(output_channel):\n",
    "            for ic in range(in_channel):\n",
    "                for i in range(0, input_h - kernel_h + 1, stride):  # 对高度进行遍历\n",
    "                    for j in range(0, input_w - kernel_w + 1, stride):  # 对宽度进行遍历\n",
    "                        region = input[idx, ic, i:i + kernel_h, j:j + kernel_h]  # 取出被核滑动到的区域\n",
    "                        output[idx, oc, int(i / stride), int(j / stride)] += torch.sum(region * kernel[oc, ic])  # 点乘 并赋值给输出位置的元素\n",
    "            output[idx, oc] += bias[oc]\n",
    "\n",
    "    return output"
   ],
   "metadata": {
    "collapsed": false,
    "pycharm": {
     "name": "#%%\n"
    }
   }
  },
  {
   "cell_type": "code",
   "execution_count": 11,
   "outputs": [
    {
     "data": {
      "text/plain": "True"
     },
     "execution_count": 11,
     "metadata": {},
     "output_type": "execute_result"
    }
   ],
   "source": [
    "input = torch.randn(2 ,2, 5, 5)  # bs * in_channel * in_h * in_w\n",
    "kernel = torch.randn(3, 2, 3, 3)  # out_channel * in_channel * kernel_h * kernel_w\n",
    "bias = torch.randn(3)\n",
    "\n",
    "pytorch_conv2d_api_output = F.conv2d(input, kernel, bias, padding=1, stride=2)\n",
    "mm_conv2d_full_output = matrix_multiplication_for_conv2d_full(input, kernel, bias=bias, padding=1, stride=2)\n",
    "\n",
    "torch.allclose(mm_conv2d_full_output, pytorch_conv2d_api_output)"
   ],
   "metadata": {
    "collapsed": false,
    "pycharm": {
     "name": "#%%\n"
    }
   }
  }
 ],
 "metadata": {
  "kernelspec": {
   "name": "pycharm-9146fa6d",
   "language": "python",
   "display_name": "PyCharm (DeepLearningTutorial)"
  },
  "language_info": {
   "codemirror_mode": {
    "name": "ipython",
    "version": 2
   },
   "file_extension": ".py",
   "mimetype": "text/x-python",
   "name": "python",
   "nbconvert_exporter": "python",
   "pygments_lexer": "ipython2",
   "version": "2.7.6"
  }
 },
 "nbformat": 4,
 "nbformat_minor": 0
}