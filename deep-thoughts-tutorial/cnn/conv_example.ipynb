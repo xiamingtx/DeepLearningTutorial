{
 "cells": [
  {
   "cell_type": "markdown",
   "metadata": {
    "collapsed": true,
    "pycharm": {
     "name": "#%% md\n"
    }
   },
   "source": [
    "## 二维卷积代码演示"
   ]
  },
  {
   "cell_type": "code",
   "execution_count": 7,
   "outputs": [],
   "source": [
    "import torch\n",
    "import torch.nn as nn\n",
    "import torch.nn.functional as F\n",
    "from math import floor"
   ],
   "metadata": {
    "collapsed": false,
    "pycharm": {
     "name": "#%%\n"
    }
   }
  },
  {
   "cell_type": "markdown",
   "source": [
    "定义常量"
   ],
   "metadata": {
    "collapsed": false,
    "pycharm": {
     "name": "#%% md\n"
    }
   }
  },
  {
   "cell_type": "code",
   "execution_count": 2,
   "outputs": [],
   "source": [
    "in_channels = 1\n",
    "out_channels = 1\n",
    "kernel_size = 3\n",
    "batch_size = 1\n",
    "bias = False\n",
    "input_size = [batch_size, in_channels, 4, 4]"
   ],
   "metadata": {
    "collapsed": false,
    "pycharm": {
     "name": "#%%\n"
    }
   }
  },
  {
   "cell_type": "code",
   "execution_count": 3,
   "outputs": [
    {
     "name": "stdout",
     "output_type": "stream",
     "text": [
      "tensor([[[[-0.6196, -2.0041,  1.1195,  0.7799],\n",
      "          [ 0.3707,  0.4966, -0.3549,  0.5802],\n",
      "          [-1.4829,  0.1418, -0.6850,  1.8667],\n",
      "          [ 1.1718,  1.0255, -1.6357,  1.3332]]]])\n",
      "Parameter containing:\n",
      "tensor([[[[ 0.2092,  0.2278, -0.0349],\n",
      "          [-0.1058, -0.3263,  0.2733],\n",
      "          [ 0.1064,  0.0666, -0.1739]]]], requires_grad=True)\n",
      "conv shape:  torch.Size([1, 1, 3, 3])\n",
      "tensor([[[[-0.9527, -0.3249],\n",
      "          [ 0.6040,  0.4898]]]], grad_fn=<ConvolutionBackward0>)\n"
     ]
    }
   ],
   "source": [
    "conv_layer = nn.Conv2d(in_channels, out_channels, kernel_size, bias=bias)\n",
    "input_feature_map = torch.randn(input_size)\n",
    "output_feature_map = conv_layer(input_feature_map)\n",
    "\n",
    "print(input_feature_map)\n",
    "print(conv_layer.weight)\n",
    "print('conv shape: ', conv_layer.weight.shape)  # out_channels * in_channels * height * width\n",
    "print(output_feature_map)"
   ],
   "metadata": {
    "collapsed": false,
    "pycharm": {
     "name": "#%%\n"
    }
   }
  },
  {
   "cell_type": "code",
   "execution_count": 4,
   "outputs": [
    {
     "name": "stdout",
     "output_type": "stream",
     "text": [
      "tensor([[[[-0.9527, -0.3249],\n",
      "          [ 0.6040,  0.4898]]]], grad_fn=<ConvolutionBackward0>)\n"
     ]
    }
   ],
   "source": [
    "output_feature_map1  = F.conv2d(input_feature_map, conv_layer.weight)\n",
    "print(output_feature_map1)"
   ],
   "metadata": {
    "collapsed": false,
    "pycharm": {
     "name": "#%%\n"
    }
   }
  },
  {
   "cell_type": "markdown",
   "source": [
    "### 实现卷积"
   ],
   "metadata": {
    "collapsed": false,
    "pycharm": {
     "name": "#%% md\n"
    }
   }
  },
  {
   "cell_type": "code",
   "execution_count": 15,
   "outputs": [
    {
     "name": "stdout",
     "output_type": "stream",
     "text": [
      "tensor([[ 0.0986, -1.2195, -1.5816,  0.0463, -1.2453],\n",
      "        [ 0.0985, -0.5343,  0.8175, -0.7282, -0.3857],\n",
      "        [-0.5309, -0.0902, -0.1461, -0.7005,  3.0180],\n",
      "        [-0.4246,  0.8115, -0.3002,  0.1562,  0.8089],\n",
      "        [ 1.2668,  0.5935, -2.5263, -0.0135, -0.0775]])\n",
      "tensor([[ 0.6461, -1.2289, -0.1575],\n",
      "        [ 0.8391, -1.7176, -0.4441],\n",
      "        [-0.7126, -1.7188,  0.0099]])\n",
      "tensor([-1.2915])\n"
     ]
    }
   ],
   "source": [
    "input = torch.randn(5, 5)  # 卷积输入特征图\n",
    "kernel = torch.randn(3, 3)  # 卷积核\n",
    "bias = torch.randn(1)  # 卷积偏置 默认输出通道数目为1\n",
    "\n",
    "print(input)\n",
    "print(kernel)\n",
    "print(bias)"
   ],
   "metadata": {
    "collapsed": false,
    "pycharm": {
     "name": "#%%\n"
    }
   }
  },
  {
   "cell_type": "markdown",
   "source": [
    "用原始的矩阵运算实现二维卷积\n",
    "\n",
    "先不考虑batch_size维度和channel维度"
   ],
   "metadata": {
    "collapsed": false,
    "pycharm": {
     "name": "#%% md\n"
    }
   }
  },
  {
   "cell_type": "code",
   "execution_count": 16,
   "outputs": [
    {
     "name": "stdout",
     "output_type": "stream",
     "text": [
      "tensor([[-1.0939,  2.4447, -0.6503, -1.4798,  2.0682],\n",
      "        [-0.2408,  1.6893, -1.3638,  1.2721, -4.3678],\n",
      "        [ 0.3614, -2.0208, -2.1008, -0.1139, -8.5612],\n",
      "        [-2.4275, -5.0651,  3.9865, -0.0571, -6.5682],\n",
      "        [-3.3370, -1.3500,  4.4204, -3.8669, -2.0628]])\n",
      "tensor([[-1.0939,  2.4447, -0.6503, -1.4798,  2.0682],\n",
      "        [-0.2408,  1.6893, -1.3638,  1.2721, -4.3678],\n",
      "        [ 0.3614, -2.0208, -2.1008, -0.1139, -8.5612],\n",
      "        [-2.4275, -5.0651,  3.9865, -0.0571, -6.5682],\n",
      "        [-3.3370, -1.3500,  4.4204, -3.8669, -2.0628]])\n"
     ]
    },
    {
     "data": {
      "text/plain": "tensor([[[[True, True, True, True, True],\n          [True, True, True, True, True],\n          [True, True, True, True, True],\n          [True, True, True, True, True],\n          [True, True, True, True, True]]]])"
     },
     "execution_count": 16,
     "metadata": {},
     "output_type": "execute_result"
    }
   ],
   "source": [
    "def matrix_multiplication_for_conv2d(input, kernel, bias=0, stride=1, padding=0):\n",
    "    if padding > 0:\n",
    "        input = F.pad(input, (padding, padding, padding, padding))\n",
    "\n",
    "    input_h, input_w = input.shape\n",
    "    kernel_h, kernel_w = kernel.shape\n",
    "\n",
    "    output_h = floor((input_h - kernel_h) / stride + 1)  # 卷积输入的高度\n",
    "    output_w = floor((input_w - kernel_w) / stride + 1)  # 卷积输入的宽度\n",
    "    output = torch.zeros(output_h, output_w)  # 初始化输出矩阵\n",
    "    for i in range(0, input_h - kernel_h + 1, stride):  # 对高度进行遍历\n",
    "        for j in range(0, input_w - kernel_w + 1, stride):  # 对宽度进行遍历\n",
    "            region = input[i:i + kernel_h, j:j + kernel_h]  # 取出被核滑动到的区域\n",
    "            output[int(i / stride), int(j / stride)] = torch.sum(region * kernel) + bias  # 点乘 并赋值给输出位置的元素\n",
    "\n",
    "    return output\n",
    "\n",
    "# 矩阵运算实现卷积的结果\n",
    "mat_mul_conv_output = matrix_multiplication_for_conv2d(input, kernel, bias=bias, padding=1)\n",
    "print(mat_mul_conv_output)\n",
    "\n",
    "# 调用pytorch api卷积的结果\n",
    "pytorch_api_conv_output = F.conv2d(input.reshape(1, 1, input.shape[0], input.shape[1]),\n",
    "                                   kernel.reshape(1, 1, kernel.shape[0], kernel.shape[1]),\n",
    "                                   padding=1,\n",
    "                                   bias=bias)\n",
    "print(pytorch_api_conv_output.squeeze())\n",
    "\n",
    "torch.isclose(mat_mul_conv_output, pytorch_api_conv_output)  # 验证成功"
   ],
   "metadata": {
    "collapsed": false,
    "pycharm": {
     "name": "#%%\n"
    }
   }
  }
 ],
 "metadata": {
  "kernelspec": {
   "name": "pycharm-9146fa6d",
   "language": "python",
   "display_name": "PyCharm (DeepLearningTutorial)"
  },
  "language_info": {
   "codemirror_mode": {
    "name": "ipython",
    "version": 2
   },
   "file_extension": ".py",
   "mimetype": "text/x-python",
   "name": "python",
   "nbconvert_exporter": "python",
   "pygments_lexer": "ipython2",
   "version": "2.7.6"
  }
 },
 "nbformat": 4,
 "nbformat_minor": 0
}