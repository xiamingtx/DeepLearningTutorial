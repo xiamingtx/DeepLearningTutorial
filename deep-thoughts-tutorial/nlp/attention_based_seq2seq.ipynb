{
 "cells": [
  {
   "cell_type": "markdown",
   "metadata": {
    "collapsed": true,
    "pycharm": {
     "name": "#%% md\n"
    }
   },
   "source": [
    "## 基于注意力机制的seq2seq模型原理实现示例\n",
    "\n",
    "以离散符号的分类任务为例，实现基于注意力机制的seq2seq模型"
   ]
  },
  {
   "cell_type": "code",
   "execution_count": 1,
   "outputs": [],
   "source": [
    "import torch\n",
    "import torch.nn as nn\n",
    "import torch.nn.functional as F"
   ],
   "metadata": {
    "collapsed": false,
    "pycharm": {
     "name": "#%%\n"
    }
   }
  },
  {
   "cell_type": "code",
   "execution_count": 2,
   "outputs": [],
   "source": [
    "class Seq2SeqEncoder(nn.Module):\n",
    "    \"\"\"实现基于LSTM的编码器, 也可以是其他类型的, 如CNN、Transformer\"\"\"\n",
    "\n",
    "    def __init__(self, embedding_dim, hidden_size, source_vocab_size):\n",
    "        super(Seq2SeqEncoder, self).__init__()\n",
    "\n",
    "        self.lstm_layer = nn.LSTM(input_size=embedding_dim,\n",
    "                                  hidden_size=hidden_size,\n",
    "                                  batch_first=True)\n",
    "        self.embedding_table = nn.Embedding(source_vocab_size, embedding_dim)\n",
    "\n",
    "    def forward(self, input_ids):\n",
    "        input_sequence = self.embedding_table(input_ids)  # 3D tensor\n",
    "        output_states, (final_h, final_c) = self.lstm_layer(input_sequence)\n",
    "\n",
    "        return output_states, final_h"
   ],
   "metadata": {
    "collapsed": false,
    "pycharm": {
     "name": "#%%\n"
    }
   }
  },
  {
   "cell_type": "code",
   "execution_count": 3,
   "outputs": [],
   "source": [
    "class Seq2SeqAttentionMechanism(nn.Module):\n",
    "    \"\"\"实现dot-product的attention\"\"\"\n",
    "    def __init__(self):\n",
    "        super().__init__()\n",
    "\n",
    "    def forward(self, decoder_state_t, encoder_states):\n",
    "        bs, source_length, hidden_size = encoder_states.shape\n",
    "\n",
    "        decoder_state_t = decoder_state_t.unsqueeze(1)  # [bs, 1, hidden_size]\n",
    "        decoder_state_t = decoder_state_t.tile(1, source_length, 1)  # [bs, source_length, hidden_size]\n",
    "\n",
    "        score = torch.sum(decoder_state_t * encoder_states, dim=-1)  # [bs, source_length]\n",
    "\n",
    "        attn_prob = F.softmax(score, dim=-1)  # [bs, source_length]\n",
    "\n",
    "        context = torch.sum(attn_prob.unsqueeze(-1) * encoder_states, 1)  # 广播机制 [bs, hidden_size]\n",
    "\n",
    "        return attn_prob, context"
   ],
   "metadata": {
    "collapsed": false,
    "pycharm": {
     "name": "#%%\n"
    }
   }
  },
  {
   "cell_type": "code",
   "execution_count": 4,
   "outputs": [],
   "source": [
    "class Seq2SeqDecoder(nn.Module):\n",
    "\n",
    "    def __init__(self, embedding_dim, hidden_size, num_classes, target_vocab_size, start_id, end_id):\n",
    "        super().__init__()\n",
    "\n",
    "        self.lstm_cell = nn.LSTMCell(embedding_dim, hidden_size)\n",
    "        self.proj_layer = nn.Linear(hidden_size * 2, num_classes)\n",
    "        self.attention_mechanism = Seq2SeqAttentionMechanism()\n",
    "        self.num_classes = num_classes\n",
    "        self.embedding_table = nn.Embedding(target_vocab_size, embedding_dim)\n",
    "        self.start_id = start_id\n",
    "        self.end_id = end_id\n",
    "\n",
    "    def forward(self, shifted_target_ids, encoder_states):\n",
    "        # 训练阶段调用, teacher-force mode\n",
    "        shifted_target = self.embedding_table(shifted_target_ids)\n",
    "\n",
    "        bs, target_length, embedding_dim = shifted_target.shape\n",
    "        bs, source_length, hidden_size = encoder_states.shape\n",
    "\n",
    "        logits = torch.zeros(bs, target_length, self.num_classes)\n",
    "        probs = torch.zeros(bs, target_length, source_length)\n",
    "\n",
    "        for t in range(target_length):\n",
    "            decoder_input_t = shifted_target[:, t, :]  # [bs, embedding_dim]\n",
    "            if t == 0:\n",
    "                h_t, c_t = self.lstm_cell(decoder_input_t)\n",
    "            else:\n",
    "                h_t, c_t = self.lstm_cell(decoder_input_t, (h_t, c_t))\n",
    "\n",
    "            attn_prob, context = self.attention_mechanism(h_t, encoder_states)\n",
    "\n",
    "            decoder_output = torch.cat((context, h_t), -1)\n",
    "            logits[:, t, :] = self.proj_layer(decoder_output)\n",
    "            probs[:, t, :] = attn_prob\n",
    "        return probs, logits\n",
    "\n",
    "    def inference(self, encoder_states):\n",
    "        # 推理阶段使用\n",
    "\n",
    "        target_id = self.start_id\n",
    "        h_t = None\n",
    "        result = []\n",
    "\n",
    "        while True:\n",
    "            decoder_input_t = self.embedding_table(target_id)\n",
    "            if h_t is None:\n",
    "                h_t, c_t = self.lstm_cell(decoder_input_t)\n",
    "            else:\n",
    "                h_t, c_t = self.lstm_cell(decoder_input_t, (h_t, c_t))\n",
    "\n",
    "            attn_prob, context = self.attention_mechanism(h_t, encoder_states)\n",
    "\n",
    "            decoder_output = torch.cat((context, h_t), -1)\n",
    "            logits = self.proj_layer(decoder_output)\n",
    "\n",
    "            target_id = torch.argmax(logits, -1)\n",
    "            result.append(target_id)\n",
    "\n",
    "            if torch.any(target_id == self.end_id):  # 解码终止条件\n",
    "                print('stop decoding!')\n",
    "                break\n",
    "\n",
    "        predicted_ids = torch.stack(result, dim=0)\n",
    "\n",
    "        return predicted_ids"
   ],
   "metadata": {
    "collapsed": false,
    "pycharm": {
     "name": "#%%\n"
    }
   }
  },
  {
   "cell_type": "code",
   "execution_count": 5,
   "outputs": [],
   "source": [
    "class Model(nn.Module):\n",
    "\n",
    "    def __init__(self, embedding_dim, hidden_size, num_classes, source_vocab_size,\n",
    "                 target_vocab_size, start_id, end_id):\n",
    "        super().__init__()\n",
    "\n",
    "        self.encoder = Seq2SeqEncoder(embedding_dim, hidden_size, source_vocab_size)\n",
    "        self.decoder = Seq2SeqDecoder(embedding_dim, hidden_size, num_classes, target_vocab_size, start_id, end_id)\n",
    "\n",
    "    def forward(self, input_sequence_ids, shifted_target_ids):\n",
    "        # 训练阶段\n",
    "        encoder_states, final_h = self.encoder(input_sequence_ids)\n",
    "\n",
    "        probs, logits = self.decoder(shifted_target_ids, encoder_states)\n",
    "\n",
    "        return probs, logits\n",
    "\n",
    "    def infer(self):\n",
    "        pass"
   ],
   "metadata": {
    "collapsed": false,
    "pycharm": {
     "name": "#%%\n"
    }
   }
  },
  {
   "cell_type": "code",
   "execution_count": 6,
   "outputs": [
    {
     "name": "stdout",
     "output_type": "stream",
     "text": [
      "torch.Size([2, 5, 3])\n",
      "torch.Size([2, 5, 10])\n"
     ]
    }
   ],
   "source": [
    "if __name__ == '__main__':\n",
    "    # 单步模拟, 如果要训练, 需要引入dataloader, mini-batch training\n",
    "    source_length = 3\n",
    "    target_length = 4\n",
    "    embedding_dim = 8\n",
    "    hidden_size = 16\n",
    "    num_classes = 10\n",
    "    bs = 2\n",
    "    start_id = end_id = 0\n",
    "    source_vocab_size = 100\n",
    "    target_vocab_size = 100\n",
    "\n",
    "    input_sequence_ids = torch.randint(source_vocab_size, size=(bs, source_length)).to(torch.int32)\n",
    "\n",
    "    target_ids = torch.randint(target_vocab_size, size=(bs, target_length))\n",
    "    target_ids = torch.cat((target_ids, end_id * torch.ones(bs, 1)), dim=1).to(torch.int32)\n",
    "    shifted_target_ids = torch.cat((start_id * torch.ones(bs, 1), target_ids[:, 1:]), dim=1).to(torch.int32)\n",
    "\n",
    "    model = Model(embedding_dim, hidden_size, num_classes, source_vocab_size, target_vocab_size, start_id, end_id)\n",
    "    probs, logits = model(input_sequence_ids, shifted_target_ids)\n",
    "\n",
    "    print(probs.shape)\n",
    "    print(logits.shape)"
   ],
   "metadata": {
    "collapsed": false,
    "pycharm": {
     "name": "#%%\n"
    }
   }
  }
 ],
 "metadata": {
  "kernelspec": {
   "name": "pycharm-9146fa6d",
   "language": "python",
   "display_name": "PyCharm (DeepLearningTutorial)"
  },
  "language_info": {
   "codemirror_mode": {
    "name": "ipython",
    "version": 2
   },
   "file_extension": ".py",
   "mimetype": "text/x-python",
   "name": "python",
   "nbconvert_exporter": "python",
   "pygments_lexer": "ipython2",
   "version": "2.7.6"
  }
 },
 "nbformat": 4,
 "nbformat_minor": 0
}