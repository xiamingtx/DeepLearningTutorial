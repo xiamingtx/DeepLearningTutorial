{
 "nbformat": 4,
 "nbformat_minor": 0,
 "metadata": {
  "colab": {
   "name": "Feed_forward_propagation.ipynb",
   "provenance": [],
   "collapsed_sections": [],
   "include_colab_link": true
  },
  "kernelspec": {
   "name": "pycharm-9146fa6d",
   "language": "python",
   "display_name": "PyCharm (DeepLearningTutorial)"
  },
  "language_info": {
   "codemirror_mode": {
    "name": "ipython",
    "version": 3
   },
   "file_extension": ".py",
   "mimetype": "text/x-python",
   "name": "python",
   "nbconvert_exporter": "python",
   "pygments_lexer": "ipython3",
   "version": "3.7.6"
  }
 },
 "cells": [
  {
   "cell_type": "markdown",
   "metadata": {
    "id": "view-in-github",
    "colab_type": "text"
   },
   "source": [
    "<a href=\"https://colab.research.google.com/github/PacktPublishing/Hands-On-Computer-Vision-with-PyTorch/blob/master/Chapter01/Feed_forward_propagation.ipynb\" target=\"_parent\"><img src=\"https://colab.research.google.com/assets/colab-badge.svg\" alt=\"Open In Colab\"/></a>"
   ]
  },
  {
   "cell_type": "markdown",
   "source": [
    "### 激活函数的代码\n",
    "\n",
    "书中P12"
   ],
   "metadata": {
    "collapsed": false
   }
  },
  {
   "cell_type": "code",
   "execution_count": 1,
   "outputs": [],
   "source": [
    "import numpy as np"
   ],
   "metadata": {
    "collapsed": false,
    "pycharm": {
     "name": "#%%\n"
    }
   }
  },
  {
   "cell_type": "code",
   "execution_count": 2,
   "outputs": [],
   "source": [
    "# logistic (binary classification, label = 0 or 1)\n",
    "def sigmoid(x):\n",
    "    return 1 / (1 + np.exp(-x))\n",
    "\n",
    "def tanh(x):\n",
    "    return (np.exp(x) - np.exp(-x)) / (np.exp(x) + np.exp(-x))\n",
    "\n",
    "# max(0, x)\n",
    "def relu(x):\n",
    "    return np.where(x > 0, x, 0)\n",
    "\n",
    "# identity\n",
    "def linear(x):\n",
    "    return x\n",
    "\n",
    "# multiple classification (label = 0, 1, ... , n)\n",
    "def softmax(x):\n",
    "    return np.exp(x) / np.sum(np.exp(x))"
   ],
   "metadata": {
    "collapsed": false,
    "pycharm": {
     "name": "#%%\n"
    }
   }
  },
  {
   "cell_type": "markdown",
   "source": [
    "### 损失函数的代码\n",
    "\n",
    "书中P13\n",
    "\n",
    "一般来说,在预测输出中包含小于1的值的时候,最好使用平均绝对误差作为损失函数"
   ],
   "metadata": {
    "collapsed": false,
    "pycharm": {
     "name": "#%% md\n"
    }
   }
  },
  {
   "cell_type": "code",
   "execution_count": 3,
   "outputs": [],
   "source": [
    "# 均方误差\n",
    "def mse(p, y):\n",
    "    return np.mean(np.square(p - y))\n",
    "\n",
    "# 平均绝对误差\n",
    "def mae(p, y):\n",
    "    return np.mean(np.abs(p - y))\n",
    "\n",
    "# 二元交叉熵 (度量两个分布之间的差异)\n",
    "def binary_cross_entropy(p, y):\n",
    "    return -np.mean(np.sum(y * np.log(p) + (1 - y) * np.log(1 - p)))\n",
    "\n",
    "# 分类交叉熵\n",
    "def categorical_cross_entropy(p, y):\n",
    "    return -np.mean(np.sum(y * np.log(p)))"
   ],
   "metadata": {
    "collapsed": false,
    "pycharm": {
     "name": "#%%\n"
    }
   }
  },
  {
   "cell_type": "markdown",
   "metadata": {
    "id": "Uk4Fezbb9SZc",
    "colab_type": "text"
   },
   "source": [
    "### Forward Propagation\n",
    "\n",
    "书中P12"
   ]
  },
  {
   "cell_type": "code",
   "metadata": {
    "ExecuteTime": {
     "end_time": "2020-09-24T12:46:03.594770Z",
     "start_time": "2020-09-24T12:46:03.589643Z"
    },
    "colab_type": "code",
    "id": "VytiqjTQgwf4",
    "colab": {},
    "pycharm": {
     "name": "#%%\n"
    }
   },
   "source": [
    "# 前向传播示例代码\n",
    "def feed_forward(inputs, outputs, weights):\n",
    "    # y = w * x + b\n",
    "    pre_hidden = np.dot(inputs,weights[0])+ weights[1]\n",
    "    # sigmoid activation\n",
    "    hidden = sigmoid(pre_hidden)\n",
    "    # 第二层隐藏层\n",
    "    pred_out = np.dot(hidden, weights[2]) + weights[3]\n",
    "    # 回归问题, 损失函数常用MSE(均方误差)\n",
    "    mean_squared_error = mse(pred_out, outputs)\n",
    "    return mean_squared_error\n",
    "\n",
    "# 书中P7 eg\n",
    "x = np.array([1, 1])\n",
    "output = np.zeros(1)\n",
    "weights = np.array([[[0.8, 0.4, 0.3], [0.2, 0.9, 0.5]], [0, 0, 0], [0.3, 0.5, 0.9], [0, 0, 0]], dtype=object)\n",
    "\n",
    "error = feed_forward(x, output, weights)\n",
    "\n",
    "print(f'output: {output}, MSE: {error}')\n"
   ],
   "execution_count": 4,
   "outputs": [
    {
     "name": "stdout",
     "output_type": "stream",
     "text": [
      "output: [0.], MSE: 1.5208120789621902\n"
     ]
    }
   ]
  }
 ]
}