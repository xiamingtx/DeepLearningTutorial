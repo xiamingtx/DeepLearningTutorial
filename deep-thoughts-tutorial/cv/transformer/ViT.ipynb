{
 "cells": [
  {
   "cell_type": "code",
   "execution_count": 1,
   "metadata": {
    "collapsed": true
   },
   "outputs": [],
   "source": [
    "import torch\n",
    "import torch.nn as nn\n",
    "import torch.nn.functional as F"
   ]
  },
  {
   "cell_type": "markdown",
   "source": [
    "step1: convert image to embedding vector sequence"
   ],
   "metadata": {
    "collapsed": false,
    "pycharm": {
     "name": "#%% md\n"
    }
   }
  },
  {
   "cell_type": "code",
   "execution_count": 2,
   "outputs": [],
   "source": [
    "def image2emb_naive(image, patch_size, weight):\n",
    "    # image size: bs * channel * h * w\n",
    "    patch = F.unfold(image, kernel_size=patch_size, stride=patch_size).transpose(-1, -2)\n",
    "    patch_embedding = patch @ weight\n",
    "    return patch_embedding\n",
    "\n",
    "def image2emb_conv(image, kernel, stride):\n",
    "    conv_output = F.conv2d(image, kernel, stride=stride)  # bs * oc * oh * ow\n",
    "    bs, oc, oh, ow = conv_output.shape\n",
    "    patch_embedding = conv_output.reshape(bs, oc, oh * ow).transpose(-1, -2)\n",
    "    return patch_embedding"
   ],
   "metadata": {
    "collapsed": false,
    "pycharm": {
     "name": "#%%\n"
    }
   }
  },
  {
   "cell_type": "markdown",
   "source": [
    "定义常量"
   ],
   "metadata": {
    "collapsed": false,
    "pycharm": {
     "name": "#%% md\n"
    }
   }
  },
  {
   "cell_type": "code",
   "execution_count": 3,
   "outputs": [],
   "source": [
    "bs, ic, image_h, image_w = 1, 3, 8, 8\n",
    "patch_size = 4\n",
    "model_dim = 8\n",
    "max_num_token = 16\n",
    "num_classes = 10\n",
    "label = torch.randint(10, (bs, ))"
   ],
   "metadata": {
    "collapsed": false,
    "pycharm": {
     "name": "#%%\n"
    }
   }
  },
  {
   "cell_type": "code",
   "execution_count": 4,
   "outputs": [
    {
     "name": "stdout",
     "output_type": "stream",
     "text": [
      "torch.Size([48, 8])\n"
     ]
    },
    {
     "data": {
      "text/plain": "tensor([[[  4.0152,   1.2908,  -0.6719,   4.3084,   8.2290,   7.2539,  -0.7970,\n            0.5109],\n         [ -3.3614,  -5.3569,  -0.3916,   6.0683,   4.3965, -13.0564,   7.3109,\n          -11.3383],\n         [ -9.2427,  -5.5954,   2.7279,   4.6565,  -6.5556,   4.1334,   1.7786,\n            4.3553],\n         [  8.1741,   0.5207,  -2.3741,  11.8238,  -6.7830,   2.6585,  -0.2237,\n           13.3919]]])"
     },
     "execution_count": 4,
     "metadata": {},
     "output_type": "execute_result"
    }
   ],
   "source": [
    "# test code for image2emb\n",
    "image = torch.randn(bs, ic, image_h, image_w)\n",
    "\n",
    "patch_depth = patch_size * patch_size * ic\n",
    "weight = torch.randn(patch_depth, model_dim)  # model_dim是输出通道数目 patch_size是卷积核的面积乘以输入通道数目\n",
    "print(weight.shape)\n",
    "\n",
    "image2emb_naive(image, patch_size, weight)"
   ],
   "metadata": {
    "collapsed": false,
    "pycharm": {
     "name": "#%%\n"
    }
   }
  },
  {
   "cell_type": "code",
   "execution_count": 5,
   "outputs": [
    {
     "data": {
      "text/plain": "tensor([[[  4.0152,   1.2908,  -0.6719,   4.3084,   8.2290,   7.2539,  -0.7970,\n            0.5109],\n         [ -3.3614,  -5.3569,  -0.3916,   6.0683,   4.3965, -13.0564,   7.3109,\n          -11.3383],\n         [ -9.2427,  -5.5954,   2.7279,   4.6565,  -6.5556,   4.1334,   1.7786,\n            4.3553],\n         [  8.1741,   0.5207,  -2.3741,  11.8238,  -6.7830,   2.6585,  -0.2237,\n           13.3919]]])"
     },
     "execution_count": 5,
     "metadata": {},
     "output_type": "execute_result"
    }
   ],
   "source": [
    "kernel = weight.transpose(0, 1).reshape(-1, ic, patch_size, patch_size) # oc * ic * kh * kw\n",
    "patch_embedding_conv = image2emb_conv(image, kernel, patch_size)\n",
    "patch_embedding_conv"
   ],
   "metadata": {
    "collapsed": false,
    "pycharm": {
     "name": "#%%\n"
    }
   }
  },
  {
   "cell_type": "markdown",
   "source": [
    "step2: prepend CLS token embedding"
   ],
   "metadata": {
    "collapsed": false,
    "pycharm": {
     "name": "#%% md\n"
    }
   }
  },
  {
   "cell_type": "code",
   "execution_count": 6,
   "outputs": [
    {
     "data": {
      "text/plain": "tensor([[[ -0.2484,   1.4410,   0.1289,  -0.1829,   1.1918,  -0.3986,  -0.3584,\n            1.8053],\n         [  4.0152,   1.2908,  -0.6719,   4.3084,   8.2290,   7.2539,  -0.7970,\n            0.5109],\n         [ -3.3614,  -5.3569,  -0.3916,   6.0683,   4.3965, -13.0564,   7.3109,\n          -11.3383],\n         [ -9.2427,  -5.5954,   2.7279,   4.6565,  -6.5556,   4.1334,   1.7786,\n            4.3553],\n         [  8.1741,   0.5207,  -2.3741,  11.8238,  -6.7830,   2.6585,  -0.2237,\n           13.3919]]], grad_fn=<CatBackward0>)"
     },
     "execution_count": 6,
     "metadata": {},
     "output_type": "execute_result"
    }
   ],
   "source": [
    "cls_token_embedding = torch.randn(bs, 1, model_dim, requires_grad=True)\n",
    "token_embedding = torch.cat([cls_token_embedding, patch_embedding_conv], dim=1)\n",
    "token_embedding"
   ],
   "metadata": {
    "collapsed": false,
    "pycharm": {
     "name": "#%%\n"
    }
   }
  },
  {
   "cell_type": "markdown",
   "source": [
    "step3: add position embedding"
   ],
   "metadata": {
    "collapsed": false,
    "pycharm": {
     "name": "#%% md\n"
    }
   }
  },
  {
   "cell_type": "code",
   "execution_count": 7,
   "outputs": [
    {
     "data": {
      "text/plain": "tensor([[[  0.9585,   4.2727,  -0.4708,   0.5940,   1.1600,  -0.3619,  -1.0689,\n            0.5173],\n         [  6.4486,   1.2571,   0.5272,   4.1966,   8.2855,   6.6908,  -0.7029,\n            1.8371],\n         [ -3.8875,  -6.2062,  -0.1072,   6.3478,   2.7142, -11.3760,   8.5360,\n          -10.9376],\n         [ -9.0394,  -6.0852,   1.3953,   3.9682,  -8.1176,   3.6017,   1.8497,\n            5.1600],\n         [  9.4518,   0.7019,  -2.4703,  11.5458,  -7.5297,   2.9255,  -0.3044,\n           13.1077]]], grad_fn=<AddBackward0>)"
     },
     "execution_count": 7,
     "metadata": {},
     "output_type": "execute_result"
    }
   ],
   "source": [
    "position_embedding_table = torch.randn(max_num_token, model_dim, requires_grad=True)\n",
    "seq_len = token_embedding.shape[1]\n",
    "position_embedding = torch.tile(position_embedding_table[:seq_len], [token_embedding.shape[0], 1, 1])\n",
    "\n",
    "token_embedding += position_embedding\n",
    "token_embedding"
   ],
   "metadata": {
    "collapsed": false,
    "pycharm": {
     "name": "#%%\n"
    }
   }
  },
  {
   "cell_type": "markdown",
   "source": [
    "step4: pass embedding to transformer encoder"
   ],
   "metadata": {
    "collapsed": false,
    "pycharm": {
     "name": "#%% md\n"
    }
   }
  },
  {
   "cell_type": "code",
   "execution_count": 8,
   "outputs": [
    {
     "data": {
      "text/plain": "tensor([[[-0.8060, -1.7401,  1.5659, -0.1192,  1.2076, -0.4879,  0.3993,\n          -0.0196],\n         [-1.0634, -1.1550, -0.4834, -0.2341,  2.2232, -0.0312,  0.2568,\n           0.4870],\n         [-0.5729,  0.5682, -0.2679,  1.7192, -1.7254, -0.8179,  0.3561,\n           0.7406],\n         [-0.7607,  0.3504,  1.0961,  1.4312, -1.3287, -1.4237,  0.1522,\n           0.4831],\n         [-0.6054,  0.4418,  0.0546,  1.5891, -1.8297, -0.6505, -0.0654,\n           1.0653]]], grad_fn=<NativeLayerNormBackward0>)"
     },
     "execution_count": 8,
     "metadata": {},
     "output_type": "execute_result"
    }
   ],
   "source": [
    "encoder_layer = nn.TransformerEncoderLayer(d_model=model_dim, nhead=8)\n",
    "transformer_encoder = nn.TransformerEncoder(encoder_layer, num_layers=6)\n",
    "encoder_output = transformer_encoder(token_embedding)\n",
    "encoder_output"
   ],
   "metadata": {
    "collapsed": false,
    "pycharm": {
     "name": "#%%\n"
    }
   }
  },
  {
   "cell_type": "markdown",
   "source": [
    "step5: do classification"
   ],
   "metadata": {
    "collapsed": false,
    "pycharm": {
     "name": "#%% md\n"
    }
   }
  },
  {
   "cell_type": "code",
   "execution_count": 9,
   "outputs": [
    {
     "name": "stdout",
     "output_type": "stream",
     "text": [
      "tensor([[-0.3001, -0.6782, -0.6632, -0.0236, -1.0029, -0.1697,  0.6739, -0.6440,\n",
      "          0.3561,  0.6160]], grad_fn=<AddmmBackward0>)\n",
      "tensor([6])\n",
      "tensor(1.6000, grad_fn=<NllLossBackward0>)\n"
     ]
    }
   ],
   "source": [
    "cls_token_output = encoder_output[:, 0, :]\n",
    "linear_layer = nn.Linear(model_dim, num_classes)\n",
    "logits = linear_layer(cls_token_output)\n",
    "\n",
    "loss_fn = nn.CrossEntropyLoss()\n",
    "loss = loss_fn(logits, label)\n",
    "\n",
    "print(logits)\n",
    "print(label)\n",
    "print(loss)"
   ],
   "metadata": {
    "collapsed": false,
    "pycharm": {
     "name": "#%%\n"
    }
   }
  }
 ],
 "metadata": {
  "kernelspec": {
   "name": "pycharm-9146fa6d",
   "language": "python",
   "display_name": "PyCharm (DeepLearningTutorial)"
  },
  "language_info": {
   "codemirror_mode": {
    "name": "ipython",
    "version": 2
   },
   "file_extension": ".py",
   "mimetype": "text/x-python",
   "name": "python",
   "nbconvert_exporter": "python",
   "pygments_lexer": "ipython2",
   "version": "2.7.6"
  }
 },
 "nbformat": 4,
 "nbformat_minor": 0
}