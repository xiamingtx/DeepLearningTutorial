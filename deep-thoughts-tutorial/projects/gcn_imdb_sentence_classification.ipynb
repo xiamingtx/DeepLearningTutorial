{
 "cells": [
  {
   "cell_type": "markdown",
   "metadata": {
    "collapsed": true,
    "pycharm": {
     "name": "#%% md\n"
    }
   },
   "source": [
    "## 基于PyTorch的文本分类项目模型与训练代码"
   ]
  },
  {
   "cell_type": "code",
   "execution_count": 1,
   "outputs": [],
   "source": [
    "import torch\n",
    "import torch.nn as nn\n",
    "import torch.nn.functional as F\n",
    "import torchtext\n",
    "import torchdata\n",
    "from torchtext.datasets import IMDB\n",
    "# pip install torchtext 安装指令\n",
    "from torchtext.datasets.imdb import NUM_LINES\n",
    "from torchtext.data import get_tokenizer\n",
    "from torchtext.vocab import build_vocab_from_iterator\n",
    "from torchtext.data.functional import to_map_style_dataset\n",
    "\n",
    "import sys\n",
    "import os\n",
    "import logging\n",
    "\n",
    "logging.basicConfig(\n",
    "    level=logging.WARN,\n",
    "    stream=sys.stdout,\n",
    "    format=\"%(asctime)s (%(module)s:%(lineno)d) %(levelname)s: %(message)s\",\n",
    ")\n",
    "\n",
    "VOCAB_SIZE = 15000"
   ],
   "metadata": {
    "collapsed": false,
    "pycharm": {
     "name": "#%%\n"
    }
   }
  },
  {
   "cell_type": "markdown",
   "source": [
    "1. 编写 GCNN模型代码"
   ],
   "metadata": {
    "collapsed": false,
    "pycharm": {
     "name": "#%% md\n"
    }
   }
  },
  {
   "cell_type": "code",
   "execution_count": 2,
   "outputs": [],
   "source": [
    "class GCNN(nn.Module):\n",
    "    def __init__(self, vocab_size=VOCAB_SIZE, embedding_dim=64, num_class=2):\n",
    "        super().__init__()\n",
    "\n",
    "        self.embedding_table = nn.Embedding(vocab_size, embedding_dim)\n",
    "        nn.init.xavier_uniform_(self.embedding_table.weight)\n",
    "\n",
    "        self.conv_A_1 = nn.Conv1d(embedding_dim, 64, 15, stride=7)\n",
    "        self.conv_B_1 = nn.Conv1d(embedding_dim, 64, 15, stride=7)\n",
    "\n",
    "        self.conv_A_2 = nn.Conv1d(64, 64, 15, stride=7)\n",
    "        self.conv_B_2 = nn.Conv1d(64, 64, 15, stride=7)\n",
    "\n",
    "        self.output_linear1 = nn.Linear(64, 128)\n",
    "        self.output_linear2 = nn.Linear(128, num_class)\n",
    "\n",
    "    def forward(self, word_index):\n",
    "        # 定义GCN网络的算子操作流程, 基于句子单词ID输入得到分类logits输出\n",
    "\n",
    "        # 1. 通过word_index得到word_embedding\n",
    "        # word_index_shape: [bs, max_seq_len]\n",
    "        word_embedding = self.embedding_table(word_index)  # [bs, max_seq_len, embedding_dim]\n",
    "\n",
    "        # 2. 编写第一层1D门卷积\n",
    "        word_embedding = word_embedding.transpose(1, 2)  # [bs, embedding_dim, max_seq_len]\n",
    "        A = self.conv_A_1(word_embedding)\n",
    "        B = self.conv_B_1(word_embedding)\n",
    "        H = A * torch.sigmoid(B)  # [bs, 64, max_seq_len]\n",
    "\n",
    "        A = self.conv_A_2(H)\n",
    "        B = self.conv_B_2(H)\n",
    "        H = A * torch.sigmoid(B)  # [bs, 64, max_seq_len]\n",
    "\n",
    "        # 3. 池化并经过全连接层\n",
    "        pool_output = torch.mean(H, dim=-1)  # 平均池化, 得到[bs, 64]\n",
    "        linear1_output = self.output_linear1(pool_output)\n",
    "        logits = self.output_linear2(linear1_output)  # [bs, 2]"
   ],
   "metadata": {
    "collapsed": false,
    "pycharm": {
     "name": "#%%\n"
    }
   }
  },
  {
   "cell_type": "code",
   "execution_count": 3,
   "outputs": [],
   "source": [
    "class TextClassificationModel(nn.Module):\n",
    "    \"\"\"简单版embeddingbag + DNN模型\"\"\"\n",
    "    def __init__(self, vocab_size=VOCAB_SIZE, embed_dim=64, num_class=2):\n",
    "        super().__init__()\n",
    "        self.embedding = nn.EmbeddingBag(vocab_size, embed_dim, sparse=False)\n",
    "        self.fc = nn.Linear(embed_dim, num_class)\n",
    "\n",
    "    def forward(self, token_index):\n",
    "        embedded = self.embedding(token_index)  # shape: [bs, embedding_dim] 得到的是这句话平均的embedding 所以没有seq_len\n",
    "        return self.fc(embedded)"
   ],
   "metadata": {
    "collapsed": false,
    "pycharm": {
     "name": "#%%\n"
    }
   }
  },
  {
   "cell_type": "markdown",
   "source": [
    "2. 构建 IMDB DataLoader"
   ],
   "metadata": {
    "collapsed": false,
    "pycharm": {
     "name": "#%% md\n"
    }
   }
  },
  {
   "cell_type": "code",
   "execution_count": 5,
   "outputs": [
    {
     "name": "stdout",
     "output_type": "stream",
     "text": [
      "单词表大小: 13351\n"
     ]
    }
   ],
   "source": [
    "BATCH_SIZE = 64\n",
    "\n",
    "def yield_tokens(train_data_iter, tokenizer):\n",
    "    for i, sample in enumerate(train_data_iter):\n",
    "        label, comment = sample\n",
    "        yield tokenizer(comment)\n",
    "\n",
    "train_data_iter = IMDB(root='data', split='train')  # Dataset类型的对象\n",
    "tokenizer = get_tokenizer('basic_english')\n",
    "vocab = build_vocab_from_iterator(yield_tokens(train_data_iter, tokenizer), min_freq=20, specials=['<unk>'])\n",
    "vocab.set_default_index(0)\n",
    "print(f'单词表大小: {len(vocab)}')"
   ],
   "metadata": {
    "collapsed": false,
    "pycharm": {
     "name": "#%%\n"
    }
   }
  },
  {
   "cell_type": "markdown",
   "source": [
    "实现一个collate_function 对DataLoader生成的mini-batch进行后处理"
   ],
   "metadata": {
    "collapsed": false,
    "pycharm": {
     "name": "#%% md\n"
    }
   }
  },
  {
   "cell_type": "code",
   "execution_count": 6,
   "outputs": [],
   "source": [
    "def collate_fn(batch):\n",
    "    \"\"\"\n",
    "    对DataLoader生成的mini-batch进行后处理\n",
    "    :param batch:\n",
    "    :return:\n",
    "    \"\"\"\n",
    "    target = []\n",
    "    token_index = []\n",
    "    max_length = 0\n",
    "    for i, (label, comment) in enumerate(batch):\n",
    "        tokens=  tokenizer(comment)\n",
    "\n",
    "        token_index.append(vocab(tokens))\n",
    "        if len(tokens) > max_length:\n",
    "            max_length = len(tokens)\n",
    "\n",
    "        if label == 'pos':\n",
    "            target.append(0)\n",
    "        else:\n",
    "            target.append(1)\n",
    "\n",
    "    token_index = [index + [0] * (max_length - len(index)) for index in token_index]\n",
    "    # target需要是int64,因为后面算loss的时候 需要将target先转换成one-hot向量 它接收的是一个长整型数据\n",
    "    return torch.tensor(target, dtype=torch.int64), torch.tensor(token_index, dtype=torch.int32)"
   ],
   "metadata": {
    "collapsed": false,
    "pycharm": {
     "name": "#%%\n"
    }
   }
  },
  {
   "cell_type": "markdown",
   "source": [
    "3. 编写训练代码"
   ],
   "metadata": {
    "collapsed": false,
    "pycharm": {
     "name": "#%% md\n"
    }
   }
  },
  {
   "cell_type": "code",
   "execution_count": 7,
   "outputs": [],
   "source": [
    "def train(train_data_loader, eval_data_loader, model, optimizer, num_epoch,\n",
    "          log_step_interval, save_step_interval, eval_step_interval, save_path, resume=''):\n",
    "    \"\"\"此处data_loader是map-style dataset\"\"\"\n",
    "    start_epoch, start_step = 0, 0\n",
    "    if resume != '':\n",
    "        # 加载之前训练过的模型的参数文件\n",
    "        logging.warning(f'loading from {resume}')\n",
    "        checkpoint = torch.load(resume)\n",
    "        model.load_state_dict(checkpoint['model_state_dict'])\n",
    "        optimizer.load_state_dict(checkpoint['optimizer_state_dict'])\n",
    "        start_epoch = checkpoint['epoch']\n",
    "        start_step = checkpoint['step']\n",
    "\n",
    "    for epoch_index in range(start_epoch, num_epoch):\n",
    "        ema_loss = 0.\n",
    "        num_batches = len(train_data_loader)\n",
    "\n",
    "        for batch_index, (target, token_index) in enumerate(train_data_loader):\n",
    "            optimizer.zero_grad()\n",
    "            step = num_batches * (epoch_index) + batch_index + 1\n",
    "            logits = model(token_index)\n",
    "            bce_loss = F.binary_cross_entropy(torch.sigmoid(logits), F.one_hot(target, num_classes=2).to(torch.float32))\n",
    "            ema_loss = 0.9 * ema_loss + 0.1 * bce_loss\n",
    "            bce_loss.backward()\n",
    "            nn.utils.clip_grad_norm(model.parameters(), 0.1)\n",
    "            optimizer.step()\n",
    "\n",
    "            if step % log_step_interval == 0:\n",
    "                logging.warning(f'epoch_index: {epoch_index}, batch_index: {batch_index}, ema_loss: {ema_loss}')\n",
    "\n",
    "            if step % save_step_interval == 0:\n",
    "                os.makedirs(save_path, exist_ok=True)\n",
    "                save_file = os.path.join(save_path, f'step_{step}.pt')\n",
    "                torch.save({\n",
    "                    'epoch': epoch_index,\n",
    "                    'step': step,\n",
    "                    'model_state_dict': model.state_dict(),\n",
    "                    'optimizer_state_dict': optimizer.state_dict(),\n",
    "                    'loss': bce_loss\n",
    "                }, save_file)\n",
    "                logging.warning(f'checkpoint has been saved in {save_file}')\n",
    "\n",
    "            if step % eval_step_interval == 0:\n",
    "                logging.warning('start to do evaluation...')\n",
    "                model.eval()\n",
    "                eval_ema_loss = 0\n",
    "                total_acc_count = 0\n",
    "                total_count = 0\n",
    "                for eval_batch_index, (eval_target, eval_token_index) in enumerate(eval_data_loader):\n",
    "                    total_count += eval_target.shape[0]\n",
    "                    eval_logits = model(eval_token_index)\n",
    "                    total_acc_count += (torch.argmax(eval_logits, dim=1) == eval_target).sum().item()\n",
    "                    eval_bce_loss = F.binary_cross_entropy(torch.sigmoid(eval_logits),\n",
    "                                                           F.one_hot(eval_target, num_classes=2).to(torch.float32))\n",
    "                    eval_ema_loss = 0.9 * eval_ema_loss + 0.1 * eval_bce_loss\n",
    "\n",
    "                logging.warning(f'eval_ema_loss: {eval_ema_loss}, eval_acc: {total_acc_count / total_count}')\n",
    "                model.train()"
   ],
   "metadata": {
    "collapsed": false,
    "pycharm": {
     "name": "#%%\n"
    }
   }
  },
  {
   "cell_type": "markdown",
   "source": [
    "4. 测试代码"
   ],
   "metadata": {
    "collapsed": false,
    "pycharm": {
     "name": "#%% md\n"
    }
   }
  },
  {
   "cell_type": "code",
   "execution_count": 8,
   "outputs": [
    {
     "name": "stdout",
     "output_type": "stream",
     "text": [
      "模型总参数: 960130\n"
     ]
    },
    {
     "name": "stderr",
     "output_type": "stream",
     "text": [
      "C:\\Users\\86183\\AppData\\Local\\Temp\\ipykernel_16880\\2978795070.py:25: UserWarning: torch.nn.utils.clip_grad_norm is now deprecated in favor of torch.nn.utils.clip_grad_norm_.\n",
      "  nn.utils.clip_grad_norm(model.parameters(), 0.1)\n"
     ]
    },
    {
     "name": "stdout",
     "output_type": "stream",
     "text": [
      "2023-03-09 22:56:13,650 (2978795070:29) WARNING: epoch_index: 0, batch_index: 19, ema_loss: 0.44394293427467346\n",
      "2023-03-09 22:56:14,438 (2978795070:29) WARNING: epoch_index: 0, batch_index: 39, ema_loss: 0.26635417342185974\n",
      "2023-03-09 22:56:15,217 (2978795070:29) WARNING: epoch_index: 0, batch_index: 59, ema_loss: 0.1265319287776947\n",
      "2023-03-09 22:56:15,985 (2978795070:29) WARNING: epoch_index: 0, batch_index: 79, ema_loss: 0.0573892742395401\n",
      "2023-03-09 22:56:16,729 (2978795070:29) WARNING: epoch_index: 0, batch_index: 99, ema_loss: 0.027646586298942566\n",
      "2023-03-09 22:56:17,505 (2978795070:29) WARNING: epoch_index: 0, batch_index: 119, ema_loss: 0.018324173986911774\n",
      "2023-03-09 22:56:18,272 (2978795070:29) WARNING: epoch_index: 0, batch_index: 139, ema_loss: 0.011881133541464806\n",
      "2023-03-09 22:56:18,996 (2978795070:29) WARNING: epoch_index: 0, batch_index: 159, ema_loss: 0.009380263276398182\n",
      "2023-03-09 22:56:19,722 (2978795070:29) WARNING: epoch_index: 0, batch_index: 179, ema_loss: 0.0071545313112437725\n",
      "2023-03-09 22:56:20,462 (2978795070:29) WARNING: epoch_index: 0, batch_index: 199, ema_loss: 0.00501397205516696\n",
      "2023-03-09 22:56:21,296 (2978795070:29) WARNING: epoch_index: 0, batch_index: 219, ema_loss: 0.005226094741374254\n",
      "2023-03-09 22:56:22,149 (2978795070:29) WARNING: epoch_index: 0, batch_index: 239, ema_loss: 0.004357693251222372\n",
      "2023-03-09 22:56:22,979 (2978795070:29) WARNING: epoch_index: 0, batch_index: 259, ema_loss: 0.0033104498870670795\n",
      "2023-03-09 22:56:23,924 (2978795070:29) WARNING: epoch_index: 0, batch_index: 279, ema_loss: 0.0031208894215524197\n",
      "2023-03-09 22:56:24,721 (2978795070:29) WARNING: epoch_index: 0, batch_index: 299, ema_loss: 0.0025597685016691685\n",
      "2023-03-09 22:56:24,722 (2978795070:44) WARNING: start to do evaluation...\n",
      "2023-03-09 22:56:33,841 (2978795070:57) WARNING: eval_ema_loss: 0.012088826857507229, eval_acc: 1.0\n",
      "2023-03-09 22:56:34,678 (2978795070:29) WARNING: epoch_index: 0, batch_index: 319, ema_loss: 0.002492409897968173\n",
      "2023-03-09 22:56:35,553 (2978795070:29) WARNING: epoch_index: 0, batch_index: 339, ema_loss: 0.0017788627883419394\n",
      "2023-03-09 22:56:36,318 (2978795070:29) WARNING: epoch_index: 0, batch_index: 359, ema_loss: 0.0015790942125022411\n",
      "2023-03-09 22:56:37,047 (2978795070:29) WARNING: epoch_index: 0, batch_index: 379, ema_loss: 0.0016054183943197131\n",
      "2023-03-09 22:56:37,736 (2978795070:29) WARNING: epoch_index: 1, batch_index: 8, ema_loss: 0.0007148194126784801\n",
      "2023-03-09 22:56:38,430 (2978795070:29) WARNING: epoch_index: 1, batch_index: 28, ema_loss: 0.0012635441962629557\n",
      "2023-03-09 22:56:39,185 (2978795070:29) WARNING: epoch_index: 1, batch_index: 48, ema_loss: 0.0011892622569575906\n",
      "2023-03-09 22:56:39,897 (2978795070:29) WARNING: epoch_index: 1, batch_index: 68, ema_loss: 0.0009256675839424133\n",
      "2023-03-09 22:56:40,756 (2978795070:29) WARNING: epoch_index: 1, batch_index: 88, ema_loss: 0.000939604127779603\n",
      "2023-03-09 22:56:41,615 (2978795070:29) WARNING: epoch_index: 1, batch_index: 108, ema_loss: 0.0008777861949056387\n",
      "2023-03-09 22:56:41,638 (2978795070:41) WARNING: checkpoint has been saved in ./logs_imdb_text_classification\\step_500.pt\n",
      "2023-03-09 22:56:42,324 (2978795070:29) WARNING: epoch_index: 1, batch_index: 128, ema_loss: 0.0007544508553110063\n",
      "2023-03-09 22:56:43,003 (2978795070:29) WARNING: epoch_index: 1, batch_index: 148, ema_loss: 0.0006816796958446503\n",
      "2023-03-09 22:56:43,737 (2978795070:29) WARNING: epoch_index: 1, batch_index: 168, ema_loss: 0.0007303911843337119\n",
      "2023-03-09 22:56:44,450 (2978795070:29) WARNING: epoch_index: 1, batch_index: 188, ema_loss: 0.0007049789419397712\n",
      "2023-03-09 22:56:45,142 (2978795070:29) WARNING: epoch_index: 1, batch_index: 208, ema_loss: 0.0007158835651353002\n",
      "2023-03-09 22:56:45,143 (2978795070:44) WARNING: start to do evaluation...\n",
      "2023-03-09 22:56:53,470 (2978795070:57) WARNING: eval_ema_loss: 0.002991022076457739, eval_acc: 1.0\n",
      "2023-03-09 22:56:54,178 (2978795070:29) WARNING: epoch_index: 1, batch_index: 228, ema_loss: 0.0006182702491059899\n",
      "2023-03-09 22:56:54,907 (2978795070:29) WARNING: epoch_index: 1, batch_index: 248, ema_loss: 0.0004928770940750837\n",
      "2023-03-09 22:56:55,576 (2978795070:29) WARNING: epoch_index: 1, batch_index: 268, ema_loss: 0.0004588229930959642\n",
      "2023-03-09 22:56:56,270 (2978795070:29) WARNING: epoch_index: 1, batch_index: 288, ema_loss: 0.0004517549241427332\n",
      "2023-03-09 22:56:57,014 (2978795070:29) WARNING: epoch_index: 1, batch_index: 308, ema_loss: 0.0003890653024427593\n",
      "2023-03-09 22:56:57,853 (2978795070:29) WARNING: epoch_index: 1, batch_index: 328, ema_loss: 0.000423010322265327\n",
      "2023-03-09 22:56:58,708 (2978795070:29) WARNING: epoch_index: 1, batch_index: 348, ema_loss: 0.0003929308441001922\n",
      "2023-03-09 22:56:59,426 (2978795070:29) WARNING: epoch_index: 1, batch_index: 368, ema_loss: 0.0003309599997010082\n",
      "2023-03-09 22:57:00,140 (2978795070:29) WARNING: epoch_index: 1, batch_index: 388, ema_loss: 0.0003472171083558351\n",
      "2023-03-09 22:57:00,902 (2978795070:29) WARNING: epoch_index: 2, batch_index: 17, ema_loss: 0.00027589869569055736\n",
      "2023-03-09 22:57:01,624 (2978795070:29) WARNING: epoch_index: 2, batch_index: 37, ema_loss: 0.0002656773431226611\n",
      "2023-03-09 22:57:02,346 (2978795070:29) WARNING: epoch_index: 2, batch_index: 57, ema_loss: 0.0002860023523680866\n",
      "2023-03-09 22:57:03,066 (2978795070:29) WARNING: epoch_index: 2, batch_index: 77, ema_loss: 0.00029402546351775527\n",
      "2023-03-09 22:57:03,844 (2978795070:29) WARNING: epoch_index: 2, batch_index: 97, ema_loss: 0.0002826797135639936\n",
      "2023-03-09 22:57:04,542 (2978795070:29) WARNING: epoch_index: 2, batch_index: 117, ema_loss: 0.00025832431856542826\n",
      "2023-03-09 22:57:04,543 (2978795070:44) WARNING: start to do evaluation...\n",
      "2023-03-09 22:57:12,778 (2978795070:57) WARNING: eval_ema_loss: 0.0012110219104215503, eval_acc: 1.0\n",
      "2023-03-09 22:57:13,487 (2978795070:29) WARNING: epoch_index: 2, batch_index: 137, ema_loss: 0.0003017605049535632\n",
      "2023-03-09 22:57:14,269 (2978795070:29) WARNING: epoch_index: 2, batch_index: 157, ema_loss: 0.0001985775015782565\n",
      "2023-03-09 22:57:14,962 (2978795070:29) WARNING: epoch_index: 2, batch_index: 177, ema_loss: 0.0002198637230321765\n",
      "2023-03-09 22:57:15,671 (2978795070:29) WARNING: epoch_index: 2, batch_index: 197, ema_loss: 0.0002731522254180163\n",
      "2023-03-09 22:57:16,369 (2978795070:29) WARNING: epoch_index: 2, batch_index: 217, ema_loss: 0.00021327854483388364\n",
      "2023-03-09 22:57:16,382 (2978795070:41) WARNING: checkpoint has been saved in ./logs_imdb_text_classification\\step_1000.pt\n",
      "2023-03-09 22:57:17,059 (2978795070:29) WARNING: epoch_index: 2, batch_index: 237, ema_loss: 0.00016120228974614292\n",
      "2023-03-09 22:57:17,698 (2978795070:29) WARNING: epoch_index: 2, batch_index: 257, ema_loss: 0.0001831957488320768\n",
      "2023-03-09 22:57:18,392 (2978795070:29) WARNING: epoch_index: 2, batch_index: 277, ema_loss: 0.00014695078425575048\n",
      "2023-03-09 22:57:19,175 (2978795070:29) WARNING: epoch_index: 2, batch_index: 297, ema_loss: 0.0001482483057770878\n",
      "2023-03-09 22:57:19,900 (2978795070:29) WARNING: epoch_index: 2, batch_index: 317, ema_loss: 0.0001435368467355147\n",
      "2023-03-09 22:57:20,749 (2978795070:29) WARNING: epoch_index: 2, batch_index: 337, ema_loss: 0.00013726652832701802\n",
      "2023-03-09 22:57:21,826 (2978795070:29) WARNING: epoch_index: 2, batch_index: 357, ema_loss: 0.00013487492105923593\n",
      "2023-03-09 22:57:22,664 (2978795070:29) WARNING: epoch_index: 2, batch_index: 377, ema_loss: 0.00013942254008725286\n",
      "2023-03-09 22:57:23,386 (2978795070:29) WARNING: epoch_index: 3, batch_index: 6, ema_loss: 7.198157982202247e-05\n",
      "2023-03-09 22:57:24,050 (2978795070:29) WARNING: epoch_index: 3, batch_index: 26, ema_loss: 0.00011067892046412453\n",
      "2023-03-09 22:57:24,051 (2978795070:44) WARNING: start to do evaluation...\n",
      "2023-03-09 22:57:31,544 (2978795070:57) WARNING: eval_ema_loss: 0.0006417065160349011, eval_acc: 1.0\n",
      "2023-03-09 22:57:32,213 (2978795070:29) WARNING: epoch_index: 3, batch_index: 46, ema_loss: 0.00010811324318638071\n",
      "2023-03-09 22:57:32,883 (2978795070:29) WARNING: epoch_index: 3, batch_index: 66, ema_loss: 0.00010770239896373823\n",
      "2023-03-09 22:57:33,654 (2978795070:29) WARNING: epoch_index: 3, batch_index: 86, ema_loss: 0.00011088128667324781\n",
      "2023-03-09 22:57:34,451 (2978795070:29) WARNING: epoch_index: 3, batch_index: 106, ema_loss: 0.00011248622467974201\n",
      "2023-03-09 22:57:35,131 (2978795070:29) WARNING: epoch_index: 3, batch_index: 126, ema_loss: 0.00012503535253927112\n",
      "2023-03-09 22:57:35,793 (2978795070:29) WARNING: epoch_index: 3, batch_index: 146, ema_loss: 0.0001107353309635073\n",
      "2023-03-09 22:57:36,449 (2978795070:29) WARNING: epoch_index: 3, batch_index: 166, ema_loss: 0.00010299457790097222\n",
      "2023-03-09 22:57:37,102 (2978795070:29) WARNING: epoch_index: 3, batch_index: 186, ema_loss: 9.349970059702173e-05\n",
      "2023-03-09 22:57:37,796 (2978795070:29) WARNING: epoch_index: 3, batch_index: 206, ema_loss: 9.018766286317259e-05\n",
      "2023-03-09 22:57:38,550 (2978795070:29) WARNING: epoch_index: 3, batch_index: 226, ema_loss: 8.300792251247913e-05\n",
      "2023-03-09 22:57:39,282 (2978795070:29) WARNING: epoch_index: 3, batch_index: 246, ema_loss: 7.361706957453862e-05\n",
      "2023-03-09 22:57:40,019 (2978795070:29) WARNING: epoch_index: 3, batch_index: 266, ema_loss: 8.4857594629284e-05\n",
      "2023-03-09 22:57:40,705 (2978795070:29) WARNING: epoch_index: 3, batch_index: 286, ema_loss: 7.961584924487397e-05\n",
      "2023-03-09 22:57:41,398 (2978795070:29) WARNING: epoch_index: 3, batch_index: 306, ema_loss: 8.030940807657316e-05\n",
      "2023-03-09 22:57:42,060 (2978795070:29) WARNING: epoch_index: 3, batch_index: 326, ema_loss: 8.109013288049027e-05\n",
      "2023-03-09 22:57:42,075 (2978795070:41) WARNING: checkpoint has been saved in ./logs_imdb_text_classification\\step_1500.pt\n",
      "2023-03-09 22:57:42,076 (2978795070:44) WARNING: start to do evaluation...\n",
      "2023-03-09 22:57:49,689 (2978795070:57) WARNING: eval_ema_loss: 0.00039039496914483607, eval_acc: 1.0\n",
      "2023-03-09 22:57:50,343 (2978795070:29) WARNING: epoch_index: 3, batch_index: 346, ema_loss: 7.684102456551045e-05\n",
      "2023-03-09 22:57:51,007 (2978795070:29) WARNING: epoch_index: 3, batch_index: 366, ema_loss: 8.279335452243686e-05\n",
      "2023-03-09 22:57:51,713 (2978795070:29) WARNING: epoch_index: 3, batch_index: 386, ema_loss: 7.338440627790987e-05\n",
      "2023-03-09 22:57:52,353 (2978795070:29) WARNING: epoch_index: 4, batch_index: 15, ema_loss: 5.371474253479391e-05\n",
      "2023-03-09 22:57:53,036 (2978795070:29) WARNING: epoch_index: 4, batch_index: 35, ema_loss: 5.987929762341082e-05\n",
      "2023-03-09 22:57:53,707 (2978795070:29) WARNING: epoch_index: 4, batch_index: 55, ema_loss: 7.171073229983449e-05\n",
      "2023-03-09 22:57:54,401 (2978795070:29) WARNING: epoch_index: 4, batch_index: 75, ema_loss: 5.678443267242983e-05\n",
      "2023-03-09 22:57:55,084 (2978795070:29) WARNING: epoch_index: 4, batch_index: 95, ema_loss: 5.5332257034024224e-05\n",
      "2023-03-09 22:57:55,763 (2978795070:29) WARNING: epoch_index: 4, batch_index: 115, ema_loss: 5.4043553973315284e-05\n",
      "2023-03-09 22:57:56,525 (2978795070:29) WARNING: epoch_index: 4, batch_index: 135, ema_loss: 5.658010923070833e-05\n",
      "2023-03-09 22:57:57,321 (2978795070:29) WARNING: epoch_index: 4, batch_index: 155, ema_loss: 4.629428804037161e-05\n",
      "2023-03-09 22:57:58,164 (2978795070:29) WARNING: epoch_index: 4, batch_index: 175, ema_loss: 6.015736289555207e-05\n",
      "2023-03-09 22:57:58,827 (2978795070:29) WARNING: epoch_index: 4, batch_index: 195, ema_loss: 5.8064437325811014e-05\n",
      "2023-03-09 22:57:59,486 (2978795070:29) WARNING: epoch_index: 4, batch_index: 215, ema_loss: 5.235054777585901e-05\n",
      "2023-03-09 22:58:00,177 (2978795070:29) WARNING: epoch_index: 4, batch_index: 235, ema_loss: 5.023470293963328e-05\n",
      "2023-03-09 22:58:00,178 (2978795070:44) WARNING: start to do evaluation...\n",
      "2023-03-09 22:58:07,528 (2978795070:57) WARNING: eval_ema_loss: 0.000252503901720047, eval_acc: 1.0\n",
      "2023-03-09 22:58:08,308 (2978795070:29) WARNING: epoch_index: 4, batch_index: 255, ema_loss: 5.0818191084545106e-05\n",
      "2023-03-09 22:58:09,088 (2978795070:29) WARNING: epoch_index: 4, batch_index: 275, ema_loss: 4.782162432093173e-05\n",
      "2023-03-09 22:58:09,796 (2978795070:29) WARNING: epoch_index: 4, batch_index: 295, ema_loss: 4.972722308593802e-05\n",
      "2023-03-09 22:58:10,454 (2978795070:29) WARNING: epoch_index: 4, batch_index: 315, ema_loss: 5.036992661189288e-05\n",
      "2023-03-09 22:58:11,133 (2978795070:29) WARNING: epoch_index: 4, batch_index: 335, ema_loss: 4.380010432214476e-05\n",
      "2023-03-09 22:58:11,815 (2978795070:29) WARNING: epoch_index: 4, batch_index: 355, ema_loss: 4.2141542508034036e-05\n",
      "2023-03-09 22:58:12,523 (2978795070:29) WARNING: epoch_index: 4, batch_index: 375, ema_loss: 4.0360235288972035e-05\n",
      "2023-03-09 22:58:13,187 (2978795070:29) WARNING: epoch_index: 5, batch_index: 4, ema_loss: 1.4289322280092165e-05\n",
      "2023-03-09 22:58:13,858 (2978795070:29) WARNING: epoch_index: 5, batch_index: 24, ema_loss: 3.614083107095212e-05\n",
      "2023-03-09 22:58:14,601 (2978795070:29) WARNING: epoch_index: 5, batch_index: 44, ema_loss: 4.442948193172924e-05\n",
      "2023-03-09 22:58:14,615 (2978795070:41) WARNING: checkpoint has been saved in ./logs_imdb_text_classification\\step_2000.pt\n",
      "2023-03-09 22:58:15,315 (2978795070:29) WARNING: epoch_index: 5, batch_index: 64, ema_loss: 3.71105779777281e-05\n",
      "2023-03-09 22:58:15,984 (2978795070:29) WARNING: epoch_index: 5, batch_index: 84, ema_loss: 3.623418160714209e-05\n",
      "2023-03-09 22:58:16,667 (2978795070:29) WARNING: epoch_index: 5, batch_index: 104, ema_loss: 3.869364445563406e-05\n",
      "2023-03-09 22:58:17,320 (2978795070:29) WARNING: epoch_index: 5, batch_index: 124, ema_loss: 3.1335399398813024e-05\n",
      "2023-03-09 22:58:18,004 (2978795070:29) WARNING: epoch_index: 5, batch_index: 144, ema_loss: 3.6502933653537184e-05\n",
      "2023-03-09 22:58:18,006 (2978795070:44) WARNING: start to do evaluation...\n",
      "2023-03-09 22:58:25,741 (2978795070:57) WARNING: eval_ema_loss: 0.0001743683242239058, eval_acc: 1.0\n",
      "2023-03-09 22:58:26,432 (2978795070:29) WARNING: epoch_index: 5, batch_index: 164, ema_loss: 3.1032668630359694e-05\n",
      "2023-03-09 22:58:27,126 (2978795070:29) WARNING: epoch_index: 5, batch_index: 184, ema_loss: 3.283938713138923e-05\n",
      "2023-03-09 22:58:27,802 (2978795070:29) WARNING: epoch_index: 5, batch_index: 204, ema_loss: 3.3267413527937606e-05\n",
      "2023-03-09 22:58:28,490 (2978795070:29) WARNING: epoch_index: 5, batch_index: 224, ema_loss: 3.263467806391418e-05\n",
      "2023-03-09 22:58:29,145 (2978795070:29) WARNING: epoch_index: 5, batch_index: 244, ema_loss: 3.405235838727094e-05\n",
      "2023-03-09 22:58:29,905 (2978795070:29) WARNING: epoch_index: 5, batch_index: 264, ema_loss: 2.7741140002035536e-05\n",
      "2023-03-09 22:58:30,593 (2978795070:29) WARNING: epoch_index: 5, batch_index: 284, ema_loss: 3.163578730891459e-05\n",
      "2023-03-09 22:58:31,371 (2978795070:29) WARNING: epoch_index: 5, batch_index: 304, ema_loss: 2.923796455434058e-05\n",
      "2023-03-09 22:58:32,162 (2978795070:29) WARNING: epoch_index: 5, batch_index: 324, ema_loss: 2.4455002858303487e-05\n",
      "2023-03-09 22:58:32,847 (2978795070:29) WARNING: epoch_index: 5, batch_index: 344, ema_loss: 2.9662569431820884e-05\n",
      "2023-03-09 22:58:33,516 (2978795070:29) WARNING: epoch_index: 5, batch_index: 364, ema_loss: 3.158660183544271e-05\n",
      "2023-03-09 22:58:34,195 (2978795070:29) WARNING: epoch_index: 5, batch_index: 384, ema_loss: 2.8385733457980677e-05\n",
      "2023-03-09 22:58:34,860 (2978795070:29) WARNING: epoch_index: 6, batch_index: 13, ema_loss: 2.3672626412007958e-05\n",
      "2023-03-09 22:58:35,578 (2978795070:29) WARNING: epoch_index: 6, batch_index: 33, ema_loss: 2.483611933712382e-05\n",
      "2023-03-09 22:58:36,218 (2978795070:29) WARNING: epoch_index: 6, batch_index: 53, ema_loss: 2.873217272281181e-05\n",
      "2023-03-09 22:58:36,219 (2978795070:44) WARNING: start to do evaluation...\n",
      "2023-03-09 22:58:44,048 (2978795070:57) WARNING: eval_ema_loss: 0.00012571614934131503, eval_acc: 1.0\n",
      "2023-03-09 22:58:44,821 (2978795070:29) WARNING: epoch_index: 6, batch_index: 73, ema_loss: 2.6633035304257646e-05\n",
      "2023-03-09 22:58:45,508 (2978795070:29) WARNING: epoch_index: 6, batch_index: 93, ema_loss: 2.3220500224852003e-05\n",
      "2023-03-09 22:58:46,186 (2978795070:29) WARNING: epoch_index: 6, batch_index: 113, ema_loss: 2.0327448510215618e-05\n",
      "2023-03-09 22:58:46,852 (2978795070:29) WARNING: epoch_index: 6, batch_index: 133, ema_loss: 2.727849641814828e-05\n",
      "2023-03-09 22:58:47,542 (2978795070:29) WARNING: epoch_index: 6, batch_index: 153, ema_loss: 2.3366554160020314e-05\n",
      "2023-03-09 22:58:47,556 (2978795070:41) WARNING: checkpoint has been saved in ./logs_imdb_text_classification\\step_2500.pt\n",
      "2023-03-09 22:58:48,214 (2978795070:29) WARNING: epoch_index: 6, batch_index: 173, ema_loss: 2.8124275559093803e-05\n",
      "2023-03-09 22:58:48,908 (2978795070:29) WARNING: epoch_index: 6, batch_index: 193, ema_loss: 2.1868561816518195e-05\n",
      "2023-03-09 22:58:49,600 (2978795070:29) WARNING: epoch_index: 6, batch_index: 213, ema_loss: 2.2867408915772103e-05\n",
      "2023-03-09 22:58:50,294 (2978795070:29) WARNING: epoch_index: 6, batch_index: 233, ema_loss: 1.848232204793021e-05\n",
      "2023-03-09 22:58:50,988 (2978795070:29) WARNING: epoch_index: 6, batch_index: 253, ema_loss: 1.924226489791181e-05\n",
      "2023-03-09 22:58:51,656 (2978795070:29) WARNING: epoch_index: 6, batch_index: 273, ema_loss: 2.24308023462072e-05\n",
      "2023-03-09 22:58:52,370 (2978795070:29) WARNING: epoch_index: 6, batch_index: 293, ema_loss: 2.0218369172653183e-05\n",
      "2023-03-09 22:58:53,031 (2978795070:29) WARNING: epoch_index: 6, batch_index: 313, ema_loss: 1.9371536836843006e-05\n",
      "2023-03-09 22:58:53,756 (2978795070:29) WARNING: epoch_index: 6, batch_index: 333, ema_loss: 1.9158975192112848e-05\n",
      "2023-03-09 22:58:54,537 (2978795070:29) WARNING: epoch_index: 6, batch_index: 353, ema_loss: 1.9012273696716875e-05\n",
      "2023-03-09 22:58:54,538 (2978795070:44) WARNING: start to do evaluation...\n",
      "2023-03-09 22:59:02,174 (2978795070:57) WARNING: eval_ema_loss: 9.19573794817552e-05, eval_acc: 1.0\n",
      "2023-03-09 22:59:02,844 (2978795070:29) WARNING: epoch_index: 6, batch_index: 373, ema_loss: 1.8306051060790196e-05\n",
      "2023-03-09 22:59:03,507 (2978795070:29) WARNING: epoch_index: 7, batch_index: 2, ema_loss: 5.069380677014124e-06\n",
      "2023-03-09 22:59:04,211 (2978795070:29) WARNING: epoch_index: 7, batch_index: 22, ema_loss: 1.6563946701353416e-05\n",
      "2023-03-09 22:59:04,876 (2978795070:29) WARNING: epoch_index: 7, batch_index: 42, ema_loss: 1.808879642339889e-05\n",
      "2023-03-09 22:59:05,623 (2978795070:29) WARNING: epoch_index: 7, batch_index: 62, ema_loss: 1.8429194824420847e-05\n",
      "2023-03-09 22:59:06,407 (2978795070:29) WARNING: epoch_index: 7, batch_index: 82, ema_loss: 1.5164371689024847e-05\n",
      "2023-03-09 22:59:07,110 (2978795070:29) WARNING: epoch_index: 7, batch_index: 102, ema_loss: 1.7097065210691653e-05\n",
      "2023-03-09 22:59:07,803 (2978795070:29) WARNING: epoch_index: 7, batch_index: 122, ema_loss: 1.6634627172606997e-05\n",
      "2023-03-09 22:59:08,489 (2978795070:29) WARNING: epoch_index: 7, batch_index: 142, ema_loss: 1.5323274055845104e-05\n",
      "2023-03-09 22:59:09,155 (2978795070:29) WARNING: epoch_index: 7, batch_index: 162, ema_loss: 1.313688244408695e-05\n",
      "2023-03-09 22:59:09,818 (2978795070:29) WARNING: epoch_index: 7, batch_index: 182, ema_loss: 1.4045462194189895e-05\n",
      "2023-03-09 22:59:10,471 (2978795070:29) WARNING: epoch_index: 7, batch_index: 202, ema_loss: 1.4199784345692024e-05\n",
      "2023-03-09 22:59:11,135 (2978795070:29) WARNING: epoch_index: 7, batch_index: 222, ema_loss: 1.3899096302338876e-05\n",
      "2023-03-09 22:59:11,807 (2978795070:29) WARNING: epoch_index: 7, batch_index: 242, ema_loss: 1.4253642802941613e-05\n",
      "2023-03-09 22:59:12,493 (2978795070:29) WARNING: epoch_index: 7, batch_index: 262, ema_loss: 1.4470591850113124e-05\n",
      "2023-03-09 22:59:12,506 (2978795070:41) WARNING: checkpoint has been saved in ./logs_imdb_text_classification\\step_3000.pt\n",
      "2023-03-09 22:59:12,507 (2978795070:44) WARNING: start to do evaluation...\n",
      "2023-03-09 22:59:20,225 (2978795070:57) WARNING: eval_ema_loss: 6.99983283993788e-05, eval_acc: 1.0\n",
      "2023-03-09 22:59:20,867 (2978795070:29) WARNING: epoch_index: 7, batch_index: 282, ema_loss: 1.552578942209948e-05\n",
      "2023-03-09 22:59:21,538 (2978795070:29) WARNING: epoch_index: 7, batch_index: 302, ema_loss: 1.3288642549014185e-05\n",
      "2023-03-09 22:59:22,207 (2978795070:29) WARNING: epoch_index: 7, batch_index: 322, ema_loss: 1.410193999618059e-05\n",
      "2023-03-09 22:59:22,906 (2978795070:29) WARNING: epoch_index: 7, batch_index: 342, ema_loss: 1.2008137673547026e-05\n",
      "2023-03-09 22:59:23,608 (2978795070:29) WARNING: epoch_index: 7, batch_index: 362, ema_loss: 1.2217856237839442e-05\n",
      "2023-03-09 22:59:24,331 (2978795070:29) WARNING: epoch_index: 7, batch_index: 382, ema_loss: 1.2502109711931553e-05\n",
      "2023-03-09 22:59:25,020 (2978795070:29) WARNING: epoch_index: 8, batch_index: 11, ema_loss: 8.193465873773675e-06\n",
      "2023-03-09 22:59:25,676 (2978795070:29) WARNING: epoch_index: 8, batch_index: 31, ema_loss: 1.2103336302971002e-05\n",
      "2023-03-09 22:59:26,358 (2978795070:29) WARNING: epoch_index: 8, batch_index: 51, ema_loss: 1.1103232282039244e-05\n",
      "2023-03-09 22:59:27,010 (2978795070:29) WARNING: epoch_index: 8, batch_index: 71, ema_loss: 1.3077478797640651e-05\n",
      "2023-03-09 22:59:27,693 (2978795070:29) WARNING: epoch_index: 8, batch_index: 91, ema_loss: 1.2841334864788223e-05\n",
      "2023-03-09 22:59:28,421 (2978795070:29) WARNING: epoch_index: 8, batch_index: 111, ema_loss: 1.0814708730322309e-05\n",
      "2023-03-09 22:59:29,202 (2978795070:29) WARNING: epoch_index: 8, batch_index: 131, ema_loss: 1.0256702807964757e-05\n",
      "2023-03-09 22:59:29,939 (2978795070:29) WARNING: epoch_index: 8, batch_index: 151, ema_loss: 1.1928443200304173e-05\n",
      "2023-03-09 22:59:30,632 (2978795070:29) WARNING: epoch_index: 8, batch_index: 171, ema_loss: 1.045364660967607e-05\n",
      "2023-03-09 22:59:30,632 (2978795070:44) WARNING: start to do evaluation...\n",
      "2023-03-09 22:59:38,182 (2978795070:57) WARNING: eval_ema_loss: 5.403654358815402e-05, eval_acc: 1.0\n",
      "2023-03-09 22:59:38,850 (2978795070:29) WARNING: epoch_index: 8, batch_index: 191, ema_loss: 1.2404044355207589e-05\n",
      "2023-03-09 22:59:39,542 (2978795070:29) WARNING: epoch_index: 8, batch_index: 211, ema_loss: 1.0030134944827296e-05\n",
      "2023-03-09 22:59:40,324 (2978795070:29) WARNING: epoch_index: 8, batch_index: 231, ema_loss: 1.0734936040535104e-05\n",
      "2023-03-09 22:59:41,113 (2978795070:29) WARNING: epoch_index: 8, batch_index: 251, ema_loss: 9.592255992174614e-06\n",
      "2023-03-09 22:59:41,832 (2978795070:29) WARNING: epoch_index: 8, batch_index: 271, ema_loss: 7.688934601901565e-06\n",
      "2023-03-09 22:59:42,484 (2978795070:29) WARNING: epoch_index: 8, batch_index: 291, ema_loss: 9.76234605332138e-06\n",
      "2023-03-09 22:59:43,181 (2978795070:29) WARNING: epoch_index: 8, batch_index: 311, ema_loss: 9.540849532641005e-06\n",
      "2023-03-09 22:59:43,867 (2978795070:29) WARNING: epoch_index: 8, batch_index: 331, ema_loss: 8.762527613725979e-06\n",
      "2023-03-09 22:59:44,541 (2978795070:29) WARNING: epoch_index: 8, batch_index: 351, ema_loss: 9.563494131725747e-06\n",
      "2023-03-09 22:59:45,245 (2978795070:29) WARNING: epoch_index: 8, batch_index: 371, ema_loss: 1.1164090210513677e-05\n",
      "2023-03-09 22:59:45,258 (2978795070:41) WARNING: checkpoint has been saved in ./logs_imdb_text_classification\\step_3500.pt\n",
      "2023-03-09 22:59:45,919 (2978795070:29) WARNING: epoch_index: 9, batch_index: 0, ema_loss: 5.290652893563674e-07\n",
      "2023-03-09 22:59:46,594 (2978795070:29) WARNING: epoch_index: 9, batch_index: 20, ema_loss: 8.024955604923889e-06\n",
      "2023-03-09 22:59:47,363 (2978795070:29) WARNING: epoch_index: 9, batch_index: 40, ema_loss: 8.70965959620662e-06\n",
      "2023-03-09 22:59:48,303 (2978795070:29) WARNING: epoch_index: 9, batch_index: 60, ema_loss: 7.772656317683868e-06\n",
      "2023-03-09 22:59:49,266 (2978795070:29) WARNING: epoch_index: 9, batch_index: 80, ema_loss: 8.45471367938444e-06\n",
      "2023-03-09 22:59:49,267 (2978795070:44) WARNING: start to do evaluation...\n",
      "2023-03-09 22:59:57,611 (2978795070:57) WARNING: eval_ema_loss: 4.25622274633497e-05, eval_acc: 1.0\n",
      "2023-03-09 22:59:58,364 (2978795070:29) WARNING: epoch_index: 9, batch_index: 100, ema_loss: 8.563139999751002e-06\n",
      "2023-03-09 22:59:59,127 (2978795070:29) WARNING: epoch_index: 9, batch_index: 120, ema_loss: 9.696806955616921e-06\n",
      "2023-03-09 22:59:59,813 (2978795070:29) WARNING: epoch_index: 9, batch_index: 140, ema_loss: 9.093306289287284e-06\n",
      "2023-03-09 23:00:00,563 (2978795070:29) WARNING: epoch_index: 9, batch_index: 160, ema_loss: 8.457514013571199e-06\n",
      "2023-03-09 23:00:01,320 (2978795070:29) WARNING: epoch_index: 9, batch_index: 180, ema_loss: 9.270059308619238e-06\n",
      "2023-03-09 23:00:02,117 (2978795070:29) WARNING: epoch_index: 9, batch_index: 200, ema_loss: 8.402529601880815e-06\n",
      "2023-03-09 23:00:02,879 (2978795070:29) WARNING: epoch_index: 9, batch_index: 220, ema_loss: 8.533263098797761e-06\n",
      "2023-03-09 23:00:03,639 (2978795070:29) WARNING: epoch_index: 9, batch_index: 240, ema_loss: 7.279004876181716e-06\n",
      "2023-03-09 23:00:04,366 (2978795070:29) WARNING: epoch_index: 9, batch_index: 260, ema_loss: 7.48609591028071e-06\n",
      "2023-03-09 23:00:05,071 (2978795070:29) WARNING: epoch_index: 9, batch_index: 280, ema_loss: 6.657199719484197e-06\n",
      "2023-03-09 23:00:05,806 (2978795070:29) WARNING: epoch_index: 9, batch_index: 300, ema_loss: 7.564336101495428e-06\n",
      "2023-03-09 23:00:06,450 (2978795070:29) WARNING: epoch_index: 9, batch_index: 320, ema_loss: 7.452656518580625e-06\n",
      "2023-03-09 23:00:07,133 (2978795070:29) WARNING: epoch_index: 9, batch_index: 340, ema_loss: 7.254735464812256e-06\n",
      "2023-03-09 23:00:07,858 (2978795070:29) WARNING: epoch_index: 9, batch_index: 360, ema_loss: 6.023964488122147e-06\n",
      "2023-03-09 23:00:08,518 (2978795070:29) WARNING: epoch_index: 9, batch_index: 380, ema_loss: 6.620690328418277e-06\n",
      "2023-03-09 23:00:08,519 (2978795070:44) WARNING: start to do evaluation...\n",
      "2023-03-09 23:00:16,353 (2978795070:57) WARNING: eval_ema_loss: 3.355286753503606e-05, eval_acc: 1.0\n"
     ]
    }
   ],
   "source": [
    "if __name__ == '__main__':\n",
    "    # model = GCNN\n",
    "    model = TextClassificationModel()\n",
    "    print('模型总参数:', sum(p.numel() for p in model.parameters()))\n",
    "    optimizer = torch.optim.Adam(model.parameters(), lr=0.001)\n",
    "\n",
    "    train_data_iter = IMDB(root='data', split='train')  # Dataset类型的对象\n",
    "    train_data_loader = torch.utils.data.DataLoader(to_map_style_dataset(train_data_iter),\n",
    "                                                    batch_size=BATCH_SIZE,\n",
    "                                                    collate_fn=collate_fn,\n",
    "                                                    shuffle=True)\n",
    "\n",
    "    eval_data_iter = IMDB(root='data', split='test')  # Dataset类型的对象\n",
    "    eval_data_loader = torch.utils.data.DataLoader(to_map_style_dataset(eval_data_iter),\n",
    "                                                   batch_size=8,\n",
    "                                                   collate_fn=collate_fn)\n",
    "    resume = ''\n",
    "\n",
    "    train(train_data_loader, eval_data_loader, model, optimizer, num_epoch=10, log_step_interval=20,\n",
    "          save_step_interval=500, eval_step_interval=300, save_path='./logs_imdb_text_classification', resume=resume)"
   ],
   "metadata": {
    "collapsed": false,
    "pycharm": {
     "name": "#%%\n"
    }
   }
  }
 ],
 "metadata": {
  "kernelspec": {
   "name": "pycharm-9146fa6d",
   "language": "python",
   "display_name": "PyCharm (DeepLearningTutorial)"
  },
  "language_info": {
   "codemirror_mode": {
    "name": "ipython",
    "version": 2
   },
   "file_extension": ".py",
   "mimetype": "text/x-python",
   "name": "python",
   "nbconvert_exporter": "python",
   "pygments_lexer": "ipython2",
   "version": "2.7.6"
  }
 },
 "nbformat": 4,
 "nbformat_minor": 0
}