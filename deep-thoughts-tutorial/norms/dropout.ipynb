{
 "cells": [
  {
   "cell_type": "markdown",
   "metadata": {
    "collapsed": true,
    "pycharm": {
     "name": "#%% md\n"
    }
   },
   "source": [
    "## implement dropout in numpy codes"
   ]
  },
  {
   "cell_type": "code",
   "execution_count": 1,
   "outputs": [],
   "source": [
    "import numpy as np"
   ],
   "metadata": {
    "collapsed": false,
    "pycharm": {
     "name": "#%%\n"
    }
   }
  },
  {
   "cell_type": "code",
   "execution_count": 2,
   "outputs": [],
   "source": [
    "def train(rate, x, w1, b1, w2, b2):\n",
    "    layer1 = np.maximum(0, (np.dot(w1, x) + b1))\n",
    "    mask1 = np.random.binomial(1, 1 - rate, layer1.shape)\n",
    "    layer1 = layer1 * mask1\n",
    "\n",
    "    layer2 = np.maximum(0, (np.dot(w2, layer1) + b2))\n",
    "    mask2 = np.random.binomial(1, 1 - rate, layer2.shape)\n",
    "    layer2 = layer2 * mask2\n",
    "\n",
    "    return layer2"
   ],
   "metadata": {
    "collapsed": false,
    "pycharm": {
     "name": "#%%\n"
    }
   }
  },
  {
   "cell_type": "code",
   "execution_count": 3,
   "outputs": [],
   "source": [
    "def test(rate, x, w1, b1, w2, b2):\n",
    "    layer1 = np.maximum(0, (np.dot(w1, x) + b1))\n",
    "    layer1 = layer1 * (1 - rate)\n",
    "\n",
    "    layer2 = np.maximum(0, (np.dot(w2, layer1) + b2))\n",
    "    layer2 = layer2 * (1 - rate)\n",
    "\n",
    "    return layer2"
   ],
   "metadata": {
    "collapsed": false,
    "pycharm": {
     "name": "#%%\n"
    }
   }
  },
  {
   "cell_type": "code",
   "execution_count": 4,
   "outputs": [],
   "source": [
    "def another_train(rate, x, w1, b1, w2, b2):\n",
    "    layer1 = np.maximum(0, (np.dot(w1, x) + b1))\n",
    "    mask1 = np.random.binomial(1, 1 - rate, layer1.shape)\n",
    "    layer1 = layer1 * mask1\n",
    "    layer1 = layer1 / (1 - rate)\n",
    "\n",
    "    layer2 = np.maximum(0, (np.dot(w2, layer1) + b2))\n",
    "    mask2 = np.random.binomial(1, 1 - rate, layer2.shape)\n",
    "    layer2 = layer2 * mask2\n",
    "    layer2 = layer2 / (1 - rate)\n",
    "\n",
    "    return layer2"
   ],
   "metadata": {
    "collapsed": false,
    "pycharm": {
     "name": "#%%\n"
    }
   }
  },
  {
   "cell_type": "code",
   "execution_count": 5,
   "outputs": [],
   "source": [
    "def another_test(x, w1, b1, w2, b2):\n",
    "    layer1 = np.maximum(0, (np.dot(w1, x) + b1))\n",
    "\n",
    "    layer2 = np.maximum(0, (np.dot(w2, layer1) + b2))\n",
    "\n",
    "    return layer2"
   ],
   "metadata": {
    "collapsed": false,
    "pycharm": {
     "name": "#%%\n"
    }
   }
  },
  {
   "cell_type": "markdown",
   "source": [
    "## R-Drop\n",
    "\n",
    "\n",
    "def train_r_dropout(rate, x, w1, b1, w2, b2):\n",
    "    x = torch.cat([x, x], 0)\n",
    "\n",
    "    layer1 = np.maximum(0, (np.dot(w1, x) + b1))\n",
    "    mask1 = np.random.binomial(1, 1 - rate, layer1.shape)\n",
    "    layer1 = layer1 * mask1\n",
    "\n",
    "    layer2 = np.maximum(0, (np.dot(w2, layer1) + b2))\n",
    "    mask2 = np.random.binomial(1, 1 - rate, layer2.shape)\n",
    "    layer2 = layer2 * mask2\n",
    "\n",
    "    logits = func(layer2)\n",
    "    logits1, logits2 = logits[:bs, :], logits[bs:, :]\n",
    "    nll1 = nll(logits1, label)\n",
    "    nll2 = nll(logits2, label)\n",
    "    kl_loss = kl(logits1, logits2)\n",
    "    loss = nll1 + nll2 + kl_loss\n",
    "\n",
    "    return loss"
   ],
   "metadata": {
    "collapsed": false,
    "pycharm": {
     "name": "#%% md\n"
    }
   }
  }
 ],
 "metadata": {
  "kernelspec": {
   "name": "pycharm-9146fa6d",
   "language": "python",
   "display_name": "PyCharm (DeepLearningTutorial)"
  },
  "language_info": {
   "codemirror_mode": {
    "name": "ipython",
    "version": 2
   },
   "file_extension": ".py",
   "mimetype": "text/x-python",
   "name": "python",
   "nbconvert_exporter": "python",
   "pygments_lexer": "ipython2",
   "version": "2.7.6"
  }
 },
 "nbformat": 4,
 "nbformat_minor": 0
}