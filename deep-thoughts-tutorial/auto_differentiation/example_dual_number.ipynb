{
 "cells": [
  {
   "cell_type": "markdown",
   "metadata": {
    "collapsed": true,
    "pycharm": {
     "name": "#%% md\n"
    }
   },
   "source": [
    "假设$f(x) = x^2 + 2x$\n",
    "\n",
    "求$f(X)$在$x = 2$ 处的导数\n",
    "\n",
    "$f(2 + \\epsilon) = (2 + \\epsilon)^2 + 2(2 + \\epsilon) = 8 + 6\\epsilon $\n",
    "\n",
    "f(2) = 8\n",
    "\n",
    "f'(2) = 6"
   ]
  }
 ],
 "metadata": {
  "kernelspec": {
   "display_name": "Python 3",
   "language": "python",
   "name": "python3"
  },
  "language_info": {
   "codemirror_mode": {
    "name": "ipython",
    "version": 2
   },
   "file_extension": ".py",
   "mimetype": "text/x-python",
   "name": "python",
   "nbconvert_exporter": "python",
   "pygments_lexer": "ipython2",
   "version": "2.7.6"
  }
 },
 "nbformat": 4,
 "nbformat_minor": 0
}