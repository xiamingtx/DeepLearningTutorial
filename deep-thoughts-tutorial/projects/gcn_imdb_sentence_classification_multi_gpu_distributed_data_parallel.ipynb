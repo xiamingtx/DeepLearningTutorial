{
 "cells": [
  {
   "cell_type": "markdown",
   "metadata": {
    "collapsed": true,
    "pycharm": {
     "name": "#%% md\n"
    }
   },
   "source": [
    "## 基于PyTorch的文本分类项目模型与训练代码 - 多GPU版, 使用DistributedDataParallel（推荐）"
   ]
  },
  {
   "cell_type": "code",
   "execution_count": 1,
   "outputs": [],
   "source": [
    "import torch\n",
    "import torch.nn as nn\n",
    "import torch.nn.functional as F\n",
    "import torchtext\n",
    "import torchdata\n",
    "from torchtext.datasets import IMDB\n",
    "# pip install torchtext 安装指令\n",
    "from torchtext.datasets.imdb import NUM_LINES\n",
    "from torchtext.data import get_tokenizer\n",
    "from torchtext.vocab import build_vocab_from_iterator\n",
    "from torchtext.data.functional import to_map_style_dataset\n",
    "import argparse\n",
    "\n",
    "import sys\n",
    "import os\n",
    "import logging\n",
    "\n",
    "logging.basicConfig(\n",
    "    level=logging.WARN,\n",
    "    stream=sys.stdout,\n",
    "    format=\"%(asctime)s (%(module)s:%(lineno)d) %(levelname)s: %(message)s\",\n",
    ")\n",
    "\n",
    "VOCAB_SIZE = 15000"
   ],
   "metadata": {
    "collapsed": false,
    "pycharm": {
     "name": "#%%\n"
    }
   }
  },
  {
   "cell_type": "markdown",
   "source": [
    "1. 编写 GCNN模型代码"
   ],
   "metadata": {
    "collapsed": false,
    "pycharm": {
     "name": "#%% md\n"
    }
   }
  },
  {
   "cell_type": "code",
   "execution_count": 2,
   "outputs": [],
   "source": [
    "class GCNN(nn.Module):\n",
    "    def __init__(self, vocab_size=VOCAB_SIZE, embedding_dim=64, num_class=2):\n",
    "        super().__init__()\n",
    "\n",
    "        self.embedding_table = nn.Embedding(vocab_size, embedding_dim)\n",
    "        nn.init.xavier_uniform_(self.embedding_table.weight)\n",
    "\n",
    "        self.conv_A_1 = nn.Conv1d(embedding_dim, 64, 15, stride=7)\n",
    "        self.conv_B_1 = nn.Conv1d(embedding_dim, 64, 15, stride=7)\n",
    "\n",
    "        self.conv_A_2 = nn.Conv1d(64, 64, 15, stride=7)\n",
    "        self.conv_B_2 = nn.Conv1d(64, 64, 15, stride=7)\n",
    "\n",
    "        self.output_linear1 = nn.Linear(64, 128)\n",
    "        self.output_linear2 = nn.Linear(128, num_class)\n",
    "\n",
    "    def forward(self, word_index):\n",
    "        # 定义GCN网络的算子操作流程, 基于句子单词ID输入得到分类logits输出\n",
    "\n",
    "        # 1. 通过word_index得到word_embedding\n",
    "        # word_index_shape: [bs, max_seq_len]\n",
    "        word_embedding = self.embedding_table(word_index)  # [bs, max_seq_len, embedding_dim]\n",
    "\n",
    "        # 2. 编写第一层1D门卷积\n",
    "        word_embedding = word_embedding.transpose(1, 2)  # [bs, embedding_dim, max_seq_len]\n",
    "        A = self.conv_A_1(word_embedding)\n",
    "        B = self.conv_B_1(word_embedding)\n",
    "        H = A * torch.sigmoid(B)  # [bs, 64, max_seq_len]\n",
    "\n",
    "        A = self.conv_A_2(H)\n",
    "        B = self.conv_B_2(H)\n",
    "        H = A * torch.sigmoid(B)  # [bs, 64, max_seq_len]\n",
    "\n",
    "        # 3. 池化并经过全连接层\n",
    "        pool_output = torch.mean(H, dim=-1)  # 平均池化, 得到[bs, 64]\n",
    "        linear1_output = self.output_linear1(pool_output)\n",
    "        logits = self.output_linear2(linear1_output)  # [bs, 2]\n",
    "\n",
    "        return logits"
   ],
   "metadata": {
    "collapsed": false,
    "pycharm": {
     "name": "#%%\n"
    }
   }
  },
  {
   "cell_type": "code",
   "execution_count": 3,
   "outputs": [],
   "source": [
    "class TextClassificationModel(nn.Module):\n",
    "    \"\"\"简单版embeddingbag + DNN模型\"\"\"\n",
    "    def __init__(self, vocab_size=VOCAB_SIZE, embed_dim=64, num_class=2):\n",
    "        super().__init__()\n",
    "        self.embedding = nn.EmbeddingBag(vocab_size, embed_dim, sparse=False)\n",
    "        self.fc = nn.Linear(embed_dim, num_class)\n",
    "\n",
    "    def forward(self, token_index):\n",
    "        embedded = self.embedding(token_index)  # shape: [bs, embedding_dim] 得到的是这句话平均的embedding 所以没有seq_len\n",
    "        return self.fc(embedded)"
   ],
   "metadata": {
    "collapsed": false,
    "pycharm": {
     "name": "#%%\n"
    }
   }
  },
  {
   "cell_type": "markdown",
   "source": [
    "2. 构建 IMDB DataLoader"
   ],
   "metadata": {
    "collapsed": false,
    "pycharm": {
     "name": "#%% md\n"
    }
   }
  },
  {
   "cell_type": "code",
   "execution_count": 4,
   "outputs": [
    {
     "name": "stdout",
     "output_type": "stream",
     "text": [
      "单词表大小: 13351\n"
     ]
    }
   ],
   "source": [
    "BATCH_SIZE = 64 * 2  # 假设用两张卡, 乘以2\n",
    "\n",
    "def yield_tokens(train_data_iter, tokenizer):\n",
    "    for i, sample in enumerate(train_data_iter):\n",
    "        label, comment = sample\n",
    "        yield tokenizer(comment)\n",
    "\n",
    "train_data_iter = IMDB(root='data', split='train')  # Dataset类型的对象\n",
    "tokenizer = get_tokenizer('basic_english')\n",
    "vocab = build_vocab_from_iterator(yield_tokens(train_data_iter, tokenizer), min_freq=20, specials=['<unk>'])\n",
    "vocab.set_default_index(0)\n",
    "print(f'单词表大小: {len(vocab)}')"
   ],
   "metadata": {
    "collapsed": false,
    "pycharm": {
     "name": "#%%\n"
    }
   }
  },
  {
   "cell_type": "markdown",
   "source": [
    "实现一个collate_function 对DataLoader生成的mini-batch进行后处理"
   ],
   "metadata": {
    "collapsed": false,
    "pycharm": {
     "name": "#%% md\n"
    }
   }
  },
  {
   "cell_type": "code",
   "execution_count": 5,
   "outputs": [],
   "source": [
    "def collate_fn(batch):\n",
    "    \"\"\"\n",
    "    对DataLoader生成的mini-batch进行后处理\n",
    "    :param batch:\n",
    "    :return:\n",
    "    \"\"\"\n",
    "    target = []\n",
    "    token_index = []\n",
    "    max_length = 0\n",
    "    for i, (label, comment) in enumerate(batch):\n",
    "        tokens=  tokenizer(comment)\n",
    "\n",
    "        token_index.append(vocab(tokens))\n",
    "        if len(tokens) > max_length:\n",
    "            max_length = len(tokens)\n",
    "\n",
    "        if label == 'pos':\n",
    "            target.append(0)\n",
    "        else:\n",
    "            target.append(1)\n",
    "\n",
    "    token_index = [index + [0] * (max_length - len(index)) for index in token_index]\n",
    "    # target需要是int64,因为后面算loss的时候 需要将target先转换成one-hot向量 它接收的是一个长整型数据\n",
    "    return torch.tensor(target, dtype=torch.int64), torch.tensor(token_index, dtype=torch.int32)"
   ],
   "metadata": {
    "collapsed": false,
    "pycharm": {
     "name": "#%%\n"
    }
   }
  },
  {
   "cell_type": "markdown",
   "source": [
    "3. 编写训练代码"
   ],
   "metadata": {
    "collapsed": false,
    "pycharm": {
     "name": "#%% md\n"
    }
   }
  },
  {
   "cell_type": "code",
   "execution_count": 6,
   "outputs": [],
   "source": [
    "def train(local_rank, train_dataset, eval_dataset, model, optimizer, num_epoch,\n",
    "          log_step_interval, save_step_interval, eval_step_interval, save_path, resume=''):\n",
    "    \"\"\"传入的是dataset\"\"\"\n",
    "    start_epoch, start_step = 0, 0\n",
    "    if resume != '':\n",
    "        # 加载之前训练过的模型的参数文件\n",
    "        logging.warning(f'loading from {resume}')\n",
    "        checkpoint = torch.load(resume, map_location=torch.device('cuda:0'))  # cuda, cuda:index\n",
    "        model.load_state_dict(checkpoint['model_state_dict'])\n",
    "        optimizer.load_state_dict(checkpoint['optimizer_state_dict'])\n",
    "        start_epoch = checkpoint['epoch']\n",
    "        start_step = checkpoint['step']\n",
    "\n",
    "    model = nn.parallel.DistributedDataParallel(model.cuda(local_rank), device_ids=[local_rank])  # 模型拷贝, 放入DistributedDataParallel\n",
    "\n",
    "    train_sampler = torch.utils.data.DistributedSampler(train_dataset)\n",
    "    train_data_loader = torch.utils.data.DataLoader(train_dataset,\n",
    "                                                    batch_size=BATCH_SIZE,\n",
    "                                                    collate_fn=collate_fn,\n",
    "                                                    sampler=train_sampler\n",
    "                                                    )\n",
    "    eval_data_loader = torch.utils.data.DataLoader(eval_dataset,\n",
    "                                                    batch_size=8,\n",
    "                                                    collate_fn=collate_fn,\n",
    "                                                    )\n",
    "    for epoch_index in range(start_epoch, num_epoch):\n",
    "        ema_loss = 0.\n",
    "        num_batches = len(train_data_loader)\n",
    "\n",
    "        train_sampler.set_epoch(epoch_index)  # 为了让每张卡在每个周期得到的数据是随机的\n",
    "\n",
    "        for batch_index, (target, token_index) in enumerate(train_data_loader):\n",
    "            optimizer.zero_grad()\n",
    "            step = num_batches * (epoch_index) + batch_index + 1\n",
    "\n",
    "            token_index = token_index.cuda(local_rank)  # 数据拷贝\n",
    "            target = target.cuda(local_rank)  # 数据拷贝\n",
    "\n",
    "            logits = model(token_index)\n",
    "            bce_loss = F.binary_cross_entropy(torch.sigmoid(logits), F.one_hot(target, num_classes=2).to(torch.float32))\n",
    "            ema_loss = 0.9 * ema_loss + 0.1 * bce_loss\n",
    "            bce_loss.backward()\n",
    "            nn.utils.clip_grad_norm(model.parameters(), 0.1)\n",
    "            optimizer.step()\n",
    "\n",
    "            if step % log_step_interval == 0:\n",
    "                logging.warning(f'epoch_index: {epoch_index}, batch_index: {batch_index}, ema_loss: {ema_loss.item()}')\n",
    "\n",
    "            if step % save_step_interval == 0 and local_rank == 0:\n",
    "                os.makedirs(save_path, exist_ok=True)\n",
    "                save_file = os.path.join(save_path, f'step_{step}.pt')\n",
    "                torch.save({\n",
    "                    'epoch': epoch_index,\n",
    "                    'step': step,\n",
    "                    'model_state_dict': model.module.state_dict(),  # 有改动\n",
    "                    'optimizer_state_dict': optimizer.state_dict(),\n",
    "                    'loss': bce_loss\n",
    "                }, save_file)\n",
    "                logging.warning(f'checkpoint has been saved in {save_file}')\n",
    "\n",
    "            if step % eval_step_interval == 0:\n",
    "                logging.warning('start to do evaluation...')\n",
    "                model.eval()\n",
    "                eval_ema_loss = 0\n",
    "                total_acc_count = 0\n",
    "                total_count = 0\n",
    "                for eval_batch_index, (eval_target, eval_token_index) in enumerate(eval_data_loader):\n",
    "                    total_count += eval_target.shape[0]\n",
    "\n",
    "                    eval_target = eval_target.cuda()  # 数据拷贝\n",
    "                    eval_token_index = eval_token_index.cuda()  # 数据拷贝\n",
    "\n",
    "                    eval_logits = model(eval_token_index)\n",
    "                    total_acc_count += (torch.argmax(eval_logits, dim=1) == eval_target).sum().item()\n",
    "                    eval_bce_loss = F.binary_cross_entropy(torch.sigmoid(eval_logits),\n",
    "                                                           F.one_hot(eval_target, num_classes=2).to(torch.float32))\n",
    "                    eval_ema_loss = 0.9 * eval_ema_loss + 0.1 * eval_bce_loss\n",
    "\n",
    "                acc = total_acc_count / total_count\n",
    "                logging.warning(f'eval_ema_loss: {eval_ema_loss.item()}, eval_acc: {acc}')\n",
    "                model.train()"
   ],
   "metadata": {
    "collapsed": false,
    "pycharm": {
     "name": "#%%\n"
    }
   }
  },
  {
   "cell_type": "markdown",
   "source": [
    "4. 测试代码\n",
    "\n",
    "运行命令: `python -m torch.distributed.launch --nproc_per_node=2 gcn_imdb_sentence_classification_single_gpu.py`\n",
    "\n",
    "在多机多卡中：\n",
    "```\n",
    "python -m torch.distributed.launch --nproc_per_node=2 --nnodes=2 --node_rank=0 --master_addr=\"主节点ip\"\n",
    "--master_port=\"主节点端口\" gcn_imdb_sentence_classification_single_gpu.py\n",
    "\n",
    "python -m torch.distributed.launch --nproc_per_node=2 --nnodes=2 --node_rank=1 --master_addr=\"主节点ip\"\n",
    "--master_port=\"主节点端口\" gcn_imdb_sentence_classification_single_gpu.py\n",
    "```\n",
    "\n",
    "模型并行参考pytorch官网"
   ],
   "metadata": {
    "collapsed": false,
    "pycharm": {
     "name": "#%% md\n"
    }
   }
  },
  {
   "cell_type": "code",
   "execution_count": null,
   "outputs": [
    {
     "name": "stdout",
     "output_type": "stream",
     "text": [
      "2023-03-10 20:22:32,225 (1203732492:3) WARNING: Cuda is available!\n",
      "模型总参数: 1214594\n"
     ]
    },
    {
     "name": "stderr",
     "output_type": "stream",
     "text": [
      "C:\\Users\\86183\\AppData\\Local\\Temp\\ipykernel_9804\\2970765371.py:31: UserWarning: torch.nn.utils.clip_grad_norm is now deprecated in favor of torch.nn.utils.clip_grad_norm_.\n",
      "  nn.utils.clip_grad_norm(model.parameters(), 0.1)\n"
     ]
    },
    {
     "name": "stdout",
     "output_type": "stream",
     "text": [
      "2023-03-10 20:22:39,132 (2970765371:35) WARNING: epoch_index: 0, batch_index: 19, ema_loss: 0.14171279966831207\n",
      "2023-03-10 20:22:39,746 (2970765371:35) WARNING: epoch_index: 0, batch_index: 39, ema_loss: 0.017228955402970314\n",
      "2023-03-10 20:22:40,349 (2970765371:35) WARNING: epoch_index: 0, batch_index: 59, ema_loss: 0.0020946378353983164\n",
      "2023-03-10 20:22:40,947 (2970765371:35) WARNING: epoch_index: 0, batch_index: 79, ema_loss: 0.0002546589821577072\n",
      "2023-03-10 20:22:41,575 (2970765371:35) WARNING: epoch_index: 0, batch_index: 99, ema_loss: 3.096057480433956e-05\n",
      "2023-03-10 20:22:42,203 (2970765371:35) WARNING: epoch_index: 0, batch_index: 119, ema_loss: 3.764080474866205e-06\n",
      "2023-03-10 20:22:42,803 (2970765371:35) WARNING: epoch_index: 0, batch_index: 139, ema_loss: 4.5762402578475303e-07\n",
      "2023-03-10 20:22:43,420 (2970765371:35) WARNING: epoch_index: 0, batch_index: 159, ema_loss: 5.5636352414012435e-08\n",
      "2023-03-10 20:22:44,048 (2970765371:35) WARNING: epoch_index: 0, batch_index: 179, ema_loss: 6.7640772982713315e-09\n",
      "2023-03-10 20:22:44,688 (2970765371:35) WARNING: epoch_index: 0, batch_index: 199, ema_loss: 8.223534631035534e-10\n",
      "2023-03-10 20:22:45,340 (2970765371:35) WARNING: epoch_index: 0, batch_index: 219, ema_loss: 9.997892791435703e-11\n",
      "2023-03-10 20:22:45,988 (2970765371:35) WARNING: epoch_index: 0, batch_index: 239, ema_loss: 1.21550981085905e-11\n",
      "2023-03-10 20:22:46,699 (2970765371:35) WARNING: epoch_index: 0, batch_index: 259, ema_loss: 1.4777753673533844e-12\n",
      "2023-03-10 20:22:47,357 (2970765371:35) WARNING: epoch_index: 0, batch_index: 279, ema_loss: 1.7966291160961129e-13\n",
      "2023-03-10 20:22:48,021 (2970765371:35) WARNING: epoch_index: 0, batch_index: 299, ema_loss: 2.1842801140948068e-14\n",
      "2023-03-10 20:22:48,022 (2970765371:50) WARNING: start to do evaluation...\n",
      "2023-03-10 20:23:08,539 (2970765371:68) WARNING: eval_ema_loss: 0.0, eval_acc: 1.0\n",
      "2023-03-10 20:23:09,357 (2970765371:35) WARNING: epoch_index: 0, batch_index: 319, ema_loss: 2.6555734387601884e-15\n",
      "2023-03-10 20:23:10,030 (2970765371:35) WARNING: epoch_index: 0, batch_index: 339, ema_loss: 3.2285560757104115e-16\n",
      "2023-03-10 20:23:10,721 (2970765371:35) WARNING: epoch_index: 0, batch_index: 359, ema_loss: 3.925167882933169e-17\n"
     ]
    }
   ],
   "source": [
    "if __name__ == '__main__':\n",
    "    parser = argparse.ArgumentParser()\n",
    "    parser.add_argument('--local_rank', help='local device id on current node', type=int)\n",
    "    args = parser.parse_args()\n",
    "\n",
    "    if torch.cuda.is_available():\n",
    "        logging.warning('Cuda is available!')\n",
    "        if torch.cuda.device_count() > 1:\n",
    "            logging.warning(f'Find {torch.cuda.device_count()} GPUs')\n",
    "        else:\n",
    "            logging.warning('Too few GPU')\n",
    "            exit(0)\n",
    "    else:\n",
    "        logging.warning('Cuda is not available! Exit!')\n",
    "        exit(0)\n",
    "\n",
    "    n_gpus = 2\n",
    "    local_rank = args.local_rank\n",
    "    torch.distributed.init_process_group(\"nccl\", world_size=n_gpus, rank=local_rank)\n",
    "    torch.cuda.set_device(args.local_rank)  # 相当于修改了CUDA_VISIBLE_DEVICES\n",
    "\n",
    "    model = GCNN()\n",
    "    # model = TextClassificationModel()\n",
    "    print('模型总参数:', sum(p.numel() for p in model.parameters()))\n",
    "    optimizer = torch.optim.Adam(model.parameters(), lr=0.001)\n",
    "\n",
    "    train_data_iter = IMDB(root='data', split='train')  # Dataset类型的对象\n",
    "    train_data_loader = torch.utils.data.DataLoader(to_map_style_dataset(train_data_iter),\n",
    "                                                    batch_size=BATCH_SIZE,\n",
    "                                                    collate_fn=collate_fn,\n",
    "                                                    shuffle=True)\n",
    "\n",
    "    eval_data_iter = IMDB(root='data', split='test')  # Dataset类型的对象\n",
    "    eval_data_loader = torch.utils.data.DataLoader(to_map_style_dataset(eval_data_iter),\n",
    "                                                   batch_size=8,\n",
    "                                                   collate_fn=collate_fn)\n",
    "    resume = ''\n",
    "    # resume = './logs_imdb_text_classification/step_1000.pt'\n",
    "\n",
    "    train(local_rank, to_map_style_dataset(train_data_iter), to_map_style_dataset(eval_data_iter), model, optimizer,\n",
    "          num_epoch=10, log_step_interval=20, save_step_interval=500, eval_step_interval=300,\n",
    "          save_path='./logs_imdb_text_classification', resume=resume)"
   ],
   "metadata": {
    "collapsed": false,
    "pycharm": {
     "name": "#%%\n",
     "is_executing": true
    }
   }
  }
 ],
 "metadata": {
  "kernelspec": {
   "name": "pycharm-9146fa6d",
   "language": "python",
   "display_name": "PyCharm (DeepLearningTutorial)"
  },
  "language_info": {
   "codemirror_mode": {
    "name": "ipython",
    "version": 2
   },
   "file_extension": ".py",
   "mimetype": "text/x-python",
   "name": "python",
   "nbconvert_exporter": "python",
   "pygments_lexer": "ipython2",
   "version": "2.7.6"
  }
 },
 "nbformat": 4,
 "nbformat_minor": 0
}