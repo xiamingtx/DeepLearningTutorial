{
 "cells": [
  {
   "cell_type": "code",
   "execution_count": null,
   "metadata": {
    "collapsed": false
   },
   "outputs": [],
   "source": [
    "%matplotlib inline"
   ]
  },
  {
   "cell_type": "markdown",
   "metadata": {},
   "source": [
    "\n",
    "# Saving and loading a general checkpoint in PyTorch\n",
    "Saving and loading a general checkpoint model for inference or \n",
    "resuming training can be helpful for picking up where you last left off.\n",
    "When saving a general checkpoint, you must save more than just the\n",
    "model’s state_dict. It is important to also save the optimizer’s\n",
    "state_dict, as this contains buffers and parameters that are updated as\n",
    "the model trains. Other items that you may want to save are the epoch\n",
    "you left off on, the latest recorded training loss, external\n",
    "``torch.nn.Embedding`` layers, and more, based on your own algorithm.\n",
    "\n",
    "## Introduction\n",
    "To save multiple checkpoints, you must organize them in a dictionary and\n",
    "use ``torch.save()`` to serialize the dictionary. A common PyTorch\n",
    "convention is to save these checkpoints using the ``.tar`` file\n",
    "extension. To load the items, first initialize the model and optimizer,\n",
    "then load the dictionary locally using torch.load(). From here, you can\n",
    "easily access the saved items by simply querying the dictionary as you\n",
    "would expect.\n",
    "\n",
    "In this recipe, we will explore how to save and load multiple\n",
    "checkpoints.\n",
    "\n",
    "## Setup\n",
    "Before we begin, we need to install ``torch`` if it isn’t already\n",
    "available.\n",
    "\n",
    "::\n",
    "\n",
    "   pip install torch\n"
   ]
  },
  {
   "cell_type": "markdown",
   "metadata": {},
   "source": [
    "## Steps\n",
    "\n",
    "1. Import all necessary libraries for loading our data\n",
    "2. Define and initialize the neural network\n",
    "3. Initialize the optimizer\n",
    "4. Save the general checkpoint\n",
    "5. Load the general checkpoint\n",
    "\n",
    "### 1. Import necessary libraries for loading our data\n",
    "\n",
    "For this recipe, we will use ``torch`` and its subsidiaries ``torch.nn``\n",
    "and ``torch.optim``.\n",
    "\n",
    "\n"
   ]
  },
  {
   "cell_type": "code",
   "execution_count": null,
   "metadata": {
    "collapsed": false
   },
   "outputs": [],
   "source": [
    "import torch\n",
    "import torch.nn as nn\n",
    "import torch.optim as optim\n",
    "import torch.nn.functional as F"
   ]
  },
  {
   "cell_type": "markdown",
   "metadata": {},
   "source": [
    "### 2. Define and initialize the neural network\n\nFor sake of example, we will create a neural network for training\nimages. To learn more see the Defining a Neural Network recipe.\n\n\n"
   ]
  },
  {
   "cell_type": "code",
   "execution_count": null,
   "metadata": {
    "collapsed": false
   },
   "outputs": [],
   "source": [
    "class Net(nn.Module):\n    def __init__(self):\n        super(Net, self).__init__()\n        self.conv1 = nn.Conv2d(3, 6, 5)\n        self.pool = nn.MaxPool2d(2, 2)\n        self.conv2 = nn.Conv2d(6, 16, 5)\n        self.fc1 = nn.Linear(16 * 5 * 5, 120)\n        self.fc2 = nn.Linear(120, 84)\n        self.fc3 = nn.Linear(84, 10)\n\n    def forward(self, x):\n        x = self.pool(F.relu(self.conv1(x)))\n        x = self.pool(F.relu(self.conv2(x)))\n        x = x.view(-1, 16 * 5 * 5)\n        x = F.relu(self.fc1(x))\n        x = F.relu(self.fc2(x))\n        x = self.fc3(x)\n        return x\n\nnet = Net()\nprint(net)"
   ]
  },
  {
   "cell_type": "markdown",
   "metadata": {},
   "source": [
    "### 3. Initialize the optimizer\n\nWe will use SGD with momentum.\n\n\n"
   ]
  },
  {
   "cell_type": "code",
   "execution_count": null,
   "metadata": {
    "collapsed": false
   },
   "outputs": [],
   "source": [
    "optimizer = optim.SGD(net.parameters(), lr=0.001, momentum=0.9)"
   ]
  },
  {
   "cell_type": "markdown",
   "metadata": {},
   "source": [
    "### 4. Save the general checkpoint\n\nCollect all relevant information and build your dictionary.\n\n\n"
   ]
  },
  {
   "cell_type": "code",
   "execution_count": null,
   "metadata": {
    "collapsed": false
   },
   "outputs": [],
   "source": [
    "# Additional information\nEPOCH = 5\nPATH = \"model.pt\"\nLOSS = 0.4\n\ntorch.save({\n            'epoch': EPOCH,\n            'model_state_dict': net.state_dict(),\n            'optimizer_state_dict': optimizer.state_dict(),\n            'loss': LOSS,\n            }, PATH)"
   ]
  },
  {
   "cell_type": "markdown",
   "metadata": {},
   "source": [
    "### 5. Load the general checkpoint\n\nRemember to first initialize the model and optimizer, then load the\ndictionary locally.\n\n\n"
   ]
  },
  {
   "cell_type": "code",
   "execution_count": null,
   "metadata": {
    "collapsed": false
   },
   "outputs": [],
   "source": [
    "model = Net()\noptimizer = optim.SGD(net.parameters(), lr=0.001, momentum=0.9)\n\ncheckpoint = torch.load(PATH)\nmodel.load_state_dict(checkpoint['model_state_dict'])\noptimizer.load_state_dict(checkpoint['optimizer_state_dict'])\nepoch = checkpoint['epoch']\nloss = checkpoint['loss']\n\nmodel.eval()\n# - or -\nmodel.train()"
   ]
  },
  {
   "cell_type": "markdown",
   "metadata": {},
   "source": [
    "You must call ``model.eval()`` to set dropout and batch normalization\nlayers to evaluation mode before running inference. Failing to do this\nwill yield inconsistent inference results.\n\nIf you wish to resuming training, call ``model.train()`` to ensure these\nlayers are in training mode.\n\nCongratulations! You have successfully saved and loaded a general\ncheckpoint for inference and/or resuming training in PyTorch.\n\n## Learn More\n\nTake a look at these other recipes to continue your learning:\n\n-  TBD\n-  TBD\n\n"
   ]
  }
 ],
 "metadata": {
  "kernelspec": {
   "display_name": "Python 3",
   "language": "python",
   "name": "python3"
  },
  "language_info": {
   "codemirror_mode": {
    "name": "ipython",
    "version": 3
   },
   "file_extension": ".py",
   "mimetype": "text/x-python",
   "name": "python",
   "nbconvert_exporter": "python",
   "pygments_lexer": "ipython3",
   "version": "3.7.13"
  }
 },
 "nbformat": 4,
 "nbformat_minor": 0
}