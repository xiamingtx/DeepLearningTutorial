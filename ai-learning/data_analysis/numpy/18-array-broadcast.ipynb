{
 "cells": [
  {
   "cell_type": "markdown",
   "metadata": {
    "collapsed": true,
    "pycharm": {
     "name": "#%% md\n"
    }
   },
   "source": [
    "## 数组广播机制"
   ]
  },
  {
   "cell_type": "code",
   "execution_count": 1,
   "outputs": [],
   "source": [
    "import numpy as np"
   ],
   "metadata": {
    "collapsed": false,
    "pycharm": {
     "name": "#%%\n"
    }
   }
  },
  {
   "cell_type": "markdown",
   "source": [
    "正常的加法："
   ],
   "metadata": {
    "collapsed": false,
    "pycharm": {
     "name": "#%% md\n"
    }
   }
  },
  {
   "cell_type": "code",
   "execution_count": 2,
   "outputs": [
    {
     "data": {
      "text/plain": "array([[ 0,  1,  2],\n       [10, 11, 12],\n       [20, 21, 22],\n       [30, 31, 32]])"
     },
     "execution_count": 2,
     "metadata": {},
     "output_type": "execute_result"
    }
   ],
   "source": [
    "a = np.array([[ 0, 0, 0],\n",
    "              [10,10,10],\n",
    "              [20,20,20],\n",
    "              [30,30,30]])\n",
    "b = np.array([[ 0, 1, 2],\n",
    "              [ 0, 1, 2],\n",
    "              [ 0, 1, 2],\n",
    "              [ 0, 1, 2]])\n",
    "a + b"
   ],
   "metadata": {
    "collapsed": false,
    "pycharm": {
     "name": "#%%\n"
    }
   }
  },
  {
   "cell_type": "markdown",
   "source": [
    "将 `b` 的值变成一维的 `[0,1,2]` 之后的加法："
   ],
   "metadata": {
    "collapsed": false,
    "pycharm": {
     "name": "#%% md\n"
    }
   }
  },
  {
   "cell_type": "code",
   "execution_count": 3,
   "outputs": [
    {
     "data": {
      "text/plain": "array([[ 0,  1,  2],\n       [10, 11, 12],\n       [20, 21, 22],\n       [30, 31, 32]])"
     },
     "execution_count": 3,
     "metadata": {},
     "output_type": "execute_result"
    }
   ],
   "source": [
    "b = np.array([0,1,2])\n",
    "\n",
    "a + b"
   ],
   "metadata": {
    "collapsed": false,
    "pycharm": {
     "name": "#%%\n"
    }
   }
  },
  {
   "cell_type": "markdown",
   "source": [
    "结果一样，虽然两个数组的维数不一样，但是 Numpy 检测到 `b` 的维度与 `a` 的维度匹配，\n",
    "所以将 b 扩展为之前的形式，得到相同的形状。\n",
    "\n",
    "对于更高维度，这样的扩展依然有效。\n",
    "\n",
    "如果我们再将 `a` 变成一个列向量呢？"
   ],
   "metadata": {
    "collapsed": false,
    "pycharm": {
     "name": "#%% md\n"
    }
   }
  },
  {
   "cell_type": "code",
   "execution_count": 4,
   "outputs": [
    {
     "data": {
      "text/plain": "array([[ 0],\n       [10],\n       [20],\n       [30]])"
     },
     "execution_count": 4,
     "metadata": {},
     "output_type": "execute_result"
    }
   ],
   "source": [
    "a = np.array([0,10,20,30])\n",
    "a.shape = 4,1\n",
    "a"
   ],
   "metadata": {
    "collapsed": false,
    "pycharm": {
     "name": "#%%\n"
    }
   }
  },
  {
   "cell_type": "code",
   "execution_count": 5,
   "outputs": [
    {
     "data": {
      "text/plain": "array([0, 1, 2])"
     },
     "execution_count": 5,
     "metadata": {},
     "output_type": "execute_result"
    }
   ],
   "source": [
    "b"
   ],
   "metadata": {
    "collapsed": false,
    "pycharm": {
     "name": "#%%\n"
    }
   }
  },
  {
   "cell_type": "code",
   "execution_count": 6,
   "outputs": [
    {
     "data": {
      "text/plain": "array([[ 0,  1,  2],\n       [10, 11, 12],\n       [20, 21, 22],\n       [30, 31, 32]])"
     },
     "execution_count": 6,
     "metadata": {},
     "output_type": "execute_result"
    }
   ],
   "source": [
    "a + b"
   ],
   "metadata": {
    "collapsed": false,
    "pycharm": {
     "name": "#%%\n"
    }
   }
  },
  {
   "cell_type": "markdown",
   "source": [
    "可以看到，虽然两者的维度并不相同，但是Numpy还是根据两者的维度，自动将它们进行扩展然后进行计算。\n",
    "\n",
    "对于 Numpy 来说，维度匹配当且仅当：\n",
    "\n",
    "- 维度相同\n",
    "- 有一个的维度是1\n",
    "\n",
    "匹配会从最后一维开始进行，直到某一个的维度全部匹配为止，因此对于以下情况，Numpy 都会进行相应的匹配：\n",
    "\n",
    "|  A  |  B  |  Result  |\n",
    "|  ----  |  ----  |  ----  |\n",
    "|  3d array: 256 x 256 x 3  |  1d array: 3  |  3d array: 256 x 256 x 3  |\n",
    "|  4d array: 8 x 1 x 6 x 1  |  3d array: 7 x 1 x 5  |  3d array: 8 x 7 x 6 x 5  |\n",
    "|  3d array: 5 x 4 x 3  |  1d array: 1  |  3d array: 5 x 4 x 3  |\n",
    "|  3d array: 15 x 4 x 13  |  1d array: 15 x 1 x 13  |  3d array: 15 x 4 x 13  |\n",
    "|  2d array: 4 x 1  |  1d array: 3  |  2d array: 4 x 3  |\n",
    "\n",
    "匹配成功后，Numpy 会进行运算得到相应的结果。\n",
    "\n",
    "当然，如果相应的维度不匹配，那么Numpy会报错："
   ],
   "metadata": {
    "collapsed": false,
    "pycharm": {
     "name": "#%% md\n"
    }
   }
  },
  {
   "cell_type": "code",
   "execution_count": 7,
   "outputs": [
    {
     "data": {
      "text/plain": "(4,)"
     },
     "execution_count": 7,
     "metadata": {},
     "output_type": "execute_result"
    }
   ],
   "source": [
    "a = np.array([0,10,20,30])\n",
    "a.shape"
   ],
   "metadata": {
    "collapsed": false,
    "pycharm": {
     "name": "#%%\n"
    }
   }
  },
  {
   "cell_type": "code",
   "execution_count": 8,
   "outputs": [
    {
     "data": {
      "text/plain": "(3,)"
     },
     "execution_count": 8,
     "metadata": {},
     "output_type": "execute_result"
    }
   ],
   "source": [
    "b.shape"
   ],
   "metadata": {
    "collapsed": false,
    "pycharm": {
     "name": "#%%\n"
    }
   }
  },
  {
   "cell_type": "code",
   "execution_count": 9,
   "outputs": [
    {
     "ename": "ValueError",
     "evalue": "operands could not be broadcast together with shapes (4,) (3,) ",
     "output_type": "error",
     "traceback": [
      "\u001B[1;31m---------------------------------------------------------------------------\u001B[0m",
      "\u001B[1;31mValueError\u001B[0m                                Traceback (most recent call last)",
      "Cell \u001B[1;32mIn[9], line 1\u001B[0m\n\u001B[1;32m----> 1\u001B[0m \u001B[43ma\u001B[49m\u001B[43m \u001B[49m\u001B[38;5;241;43m+\u001B[39;49m\u001B[43m \u001B[49m\u001B[43mb\u001B[49m\n",
      "\u001B[1;31mValueError\u001B[0m: operands could not be broadcast together with shapes (4,) (3,) "
     ]
    }
   ],
   "source": [
    "a + b"
   ],
   "metadata": {
    "collapsed": false,
    "pycharm": {
     "name": "#%%\n"
    }
   }
  },
  {
   "cell_type": "markdown",
   "source": [
    "将 a 转换为列向量，还是可以计算出结果："
   ],
   "metadata": {
    "collapsed": false,
    "pycharm": {
     "name": "#%% md\n"
    }
   }
  },
  {
   "cell_type": "code",
   "execution_count": 10,
   "outputs": [
    {
     "data": {
      "text/plain": "array([[ 0,  1,  2],\n       [10, 11, 12],\n       [20, 21, 22],\n       [30, 31, 32]])"
     },
     "execution_count": 10,
     "metadata": {},
     "output_type": "execute_result"
    }
   ],
   "source": [
    "a[:, np.newaxis] + b"
   ],
   "metadata": {
    "collapsed": false,
    "pycharm": {
     "name": "#%%\n"
    }
   }
  },
  {
   "cell_type": "markdown",
   "source": [
    "### 例子"
   ],
   "metadata": {
    "collapsed": false,
    "pycharm": {
     "name": "#%% md\n"
    }
   }
  },
  {
   "cell_type": "code",
   "execution_count": 11,
   "outputs": [
    {
     "name": "stdout",
     "output_type": "stream",
     "text": [
      "(21,)\n"
     ]
    },
    {
     "data": {
      "text/plain": "array([-0.5 , -0.45, -0.4 , -0.35, -0.3 , -0.25, -0.2 , -0.15, -0.1 ,\n       -0.05,  0.  ,  0.05,  0.1 ,  0.15,  0.2 ,  0.25,  0.3 ,  0.35,\n        0.4 ,  0.45,  0.5 ])"
     },
     "execution_count": 11,
     "metadata": {},
     "output_type": "execute_result"
    }
   ],
   "source": [
    "x = np.linspace(-.5,.5, 21)\n",
    "print(x.shape)\n",
    "x"
   ],
   "metadata": {
    "collapsed": false,
    "pycharm": {
     "name": "#%%\n"
    }
   }
  },
  {
   "cell_type": "code",
   "execution_count": 12,
   "outputs": [
    {
     "name": "stdout",
     "output_type": "stream",
     "text": [
      "(21, 1)\n"
     ]
    },
    {
     "data": {
      "text/plain": "array([[-0.5 ],\n       [-0.45],\n       [-0.4 ],\n       [-0.35],\n       [-0.3 ],\n       [-0.25],\n       [-0.2 ],\n       [-0.15],\n       [-0.1 ],\n       [-0.05],\n       [ 0.  ],\n       [ 0.05],\n       [ 0.1 ],\n       [ 0.15],\n       [ 0.2 ],\n       [ 0.25],\n       [ 0.3 ],\n       [ 0.35],\n       [ 0.4 ],\n       [ 0.45],\n       [ 0.5 ]])"
     },
     "execution_count": 12,
     "metadata": {},
     "output_type": "execute_result"
    }
   ],
   "source": [
    "y = x[:, np.newaxis]\n",
    "print(y.shape)\n",
    "y"
   ],
   "metadata": {
    "collapsed": false,
    "pycharm": {
     "name": "#%%\n"
    }
   }
  },
  {
   "cell_type": "markdown",
   "source": [
    "先形成一个 21 乘 21 的网格，再计算网格到原点的距离："
   ],
   "metadata": {
    "collapsed": false,
    "pycharm": {
     "name": "#%% md\n"
    }
   }
  },
  {
   "cell_type": "code",
   "execution_count": 13,
   "outputs": [
    {
     "data": {
      "text/plain": "array([[0.70710678, 0.6726812 , 0.64031242, 0.61032778, 0.58309519,\n        0.55901699, 0.53851648, 0.52201533, 0.50990195, 0.50249378,\n        0.5       , 0.50249378, 0.50990195, 0.52201533, 0.53851648,\n        0.55901699, 0.58309519, 0.61032778, 0.64031242, 0.6726812 ,\n        0.70710678],\n       [0.6726812 , 0.6363961 , 0.60207973, 0.57008771, 0.54083269,\n        0.51478151, 0.49244289, 0.47434165, 0.46097722, 0.45276926,\n        0.45      , 0.45276926, 0.46097722, 0.47434165, 0.49244289,\n        0.51478151, 0.54083269, 0.57008771, 0.60207973, 0.6363961 ,\n        0.6726812 ],\n       [0.64031242, 0.60207973, 0.56568542, 0.53150729, 0.5       ,\n        0.47169906, 0.4472136 , 0.42720019, 0.41231056, 0.40311289,\n        0.4       , 0.40311289, 0.41231056, 0.42720019, 0.4472136 ,\n        0.47169906, 0.5       , 0.53150729, 0.56568542, 0.60207973,\n        0.64031242],\n       [0.61032778, 0.57008771, 0.53150729, 0.49497475, 0.46097722,\n        0.43011626, 0.40311289, 0.38078866, 0.36400549, 0.35355339,\n        0.35      , 0.35355339, 0.36400549, 0.38078866, 0.40311289,\n        0.43011626, 0.46097722, 0.49497475, 0.53150729, 0.57008771,\n        0.61032778],\n       [0.58309519, 0.54083269, 0.5       , 0.46097722, 0.42426407,\n        0.39051248, 0.36055513, 0.3354102 , 0.31622777, 0.30413813,\n        0.3       , 0.30413813, 0.31622777, 0.3354102 , 0.36055513,\n        0.39051248, 0.42426407, 0.46097722, 0.5       , 0.54083269,\n        0.58309519],\n       [0.55901699, 0.51478151, 0.47169906, 0.43011626, 0.39051248,\n        0.35355339, 0.32015621, 0.29154759, 0.26925824, 0.25495098,\n        0.25      , 0.25495098, 0.26925824, 0.29154759, 0.32015621,\n        0.35355339, 0.39051248, 0.43011626, 0.47169906, 0.51478151,\n        0.55901699],\n       [0.53851648, 0.49244289, 0.4472136 , 0.40311289, 0.36055513,\n        0.32015621, 0.28284271, 0.25      , 0.2236068 , 0.20615528,\n        0.2       , 0.20615528, 0.2236068 , 0.25      , 0.28284271,\n        0.32015621, 0.36055513, 0.40311289, 0.4472136 , 0.49244289,\n        0.53851648],\n       [0.52201533, 0.47434165, 0.42720019, 0.38078866, 0.3354102 ,\n        0.29154759, 0.25      , 0.21213203, 0.18027756, 0.15811388,\n        0.15      , 0.15811388, 0.18027756, 0.21213203, 0.25      ,\n        0.29154759, 0.3354102 , 0.38078866, 0.42720019, 0.47434165,\n        0.52201533],\n       [0.50990195, 0.46097722, 0.41231056, 0.36400549, 0.31622777,\n        0.26925824, 0.2236068 , 0.18027756, 0.14142136, 0.1118034 ,\n        0.1       , 0.1118034 , 0.14142136, 0.18027756, 0.2236068 ,\n        0.26925824, 0.31622777, 0.36400549, 0.41231056, 0.46097722,\n        0.50990195],\n       [0.50249378, 0.45276926, 0.40311289, 0.35355339, 0.30413813,\n        0.25495098, 0.20615528, 0.15811388, 0.1118034 , 0.07071068,\n        0.05      , 0.07071068, 0.1118034 , 0.15811388, 0.20615528,\n        0.25495098, 0.30413813, 0.35355339, 0.40311289, 0.45276926,\n        0.50249378],\n       [0.5       , 0.45      , 0.4       , 0.35      , 0.3       ,\n        0.25      , 0.2       , 0.15      , 0.1       , 0.05      ,\n        0.        , 0.05      , 0.1       , 0.15      , 0.2       ,\n        0.25      , 0.3       , 0.35      , 0.4       , 0.45      ,\n        0.5       ],\n       [0.50249378, 0.45276926, 0.40311289, 0.35355339, 0.30413813,\n        0.25495098, 0.20615528, 0.15811388, 0.1118034 , 0.07071068,\n        0.05      , 0.07071068, 0.1118034 , 0.15811388, 0.20615528,\n        0.25495098, 0.30413813, 0.35355339, 0.40311289, 0.45276926,\n        0.50249378],\n       [0.50990195, 0.46097722, 0.41231056, 0.36400549, 0.31622777,\n        0.26925824, 0.2236068 , 0.18027756, 0.14142136, 0.1118034 ,\n        0.1       , 0.1118034 , 0.14142136, 0.18027756, 0.2236068 ,\n        0.26925824, 0.31622777, 0.36400549, 0.41231056, 0.46097722,\n        0.50990195],\n       [0.52201533, 0.47434165, 0.42720019, 0.38078866, 0.3354102 ,\n        0.29154759, 0.25      , 0.21213203, 0.18027756, 0.15811388,\n        0.15      , 0.15811388, 0.18027756, 0.21213203, 0.25      ,\n        0.29154759, 0.3354102 , 0.38078866, 0.42720019, 0.47434165,\n        0.52201533],\n       [0.53851648, 0.49244289, 0.4472136 , 0.40311289, 0.36055513,\n        0.32015621, 0.28284271, 0.25      , 0.2236068 , 0.20615528,\n        0.2       , 0.20615528, 0.2236068 , 0.25      , 0.28284271,\n        0.32015621, 0.36055513, 0.40311289, 0.4472136 , 0.49244289,\n        0.53851648],\n       [0.55901699, 0.51478151, 0.47169906, 0.43011626, 0.39051248,\n        0.35355339, 0.32015621, 0.29154759, 0.26925824, 0.25495098,\n        0.25      , 0.25495098, 0.26925824, 0.29154759, 0.32015621,\n        0.35355339, 0.39051248, 0.43011626, 0.47169906, 0.51478151,\n        0.55901699],\n       [0.58309519, 0.54083269, 0.5       , 0.46097722, 0.42426407,\n        0.39051248, 0.36055513, 0.3354102 , 0.31622777, 0.30413813,\n        0.3       , 0.30413813, 0.31622777, 0.3354102 , 0.36055513,\n        0.39051248, 0.42426407, 0.46097722, 0.5       , 0.54083269,\n        0.58309519],\n       [0.61032778, 0.57008771, 0.53150729, 0.49497475, 0.46097722,\n        0.43011626, 0.40311289, 0.38078866, 0.36400549, 0.35355339,\n        0.35      , 0.35355339, 0.36400549, 0.38078866, 0.40311289,\n        0.43011626, 0.46097722, 0.49497475, 0.53150729, 0.57008771,\n        0.61032778],\n       [0.64031242, 0.60207973, 0.56568542, 0.53150729, 0.5       ,\n        0.47169906, 0.4472136 , 0.42720019, 0.41231056, 0.40311289,\n        0.4       , 0.40311289, 0.41231056, 0.42720019, 0.4472136 ,\n        0.47169906, 0.5       , 0.53150729, 0.56568542, 0.60207973,\n        0.64031242],\n       [0.6726812 , 0.6363961 , 0.60207973, 0.57008771, 0.54083269,\n        0.51478151, 0.49244289, 0.47434165, 0.46097722, 0.45276926,\n        0.45      , 0.45276926, 0.46097722, 0.47434165, 0.49244289,\n        0.51478151, 0.54083269, 0.57008771, 0.60207973, 0.6363961 ,\n        0.6726812 ],\n       [0.70710678, 0.6726812 , 0.64031242, 0.61032778, 0.58309519,\n        0.55901699, 0.53851648, 0.52201533, 0.50990195, 0.50249378,\n        0.5       , 0.50249378, 0.50990195, 0.52201533, 0.53851648,\n        0.55901699, 0.58309519, 0.61032778, 0.64031242, 0.6726812 ,\n        0.70710678]])"
     },
     "execution_count": 13,
     "metadata": {},
     "output_type": "execute_result"
    }
   ],
   "source": [
    "radius = np.sqrt(x ** 2 + y ** 2)\n",
    "radius"
   ],
   "metadata": {
    "collapsed": false,
    "pycharm": {
     "name": "#%%\n"
    }
   }
  },
  {
   "cell_type": "code",
   "execution_count": 14,
   "outputs": [
    {
     "data": {
      "text/plain": "<matplotlib.image.AxesImage at 0x294543235e0>"
     },
     "execution_count": 14,
     "metadata": {},
     "output_type": "execute_result"
    },
    {
     "data": {
      "text/plain": "<Figure size 640x480 with 1 Axes>",
      "image/png": "[encoded data removed]"
     },
     "metadata": {},
     "output_type": "display_data"
    }
   ],
   "source": [
    "import matplotlib.pyplot as plt\n",
    "%matplotlib inline\n",
    "\n",
    "plt.imshow(radius)\n"
   ],
   "metadata": {
    "collapsed": false,
    "pycharm": {
     "name": "#%%\n"
    }
   }
  }
 ],
 "metadata": {
  "kernelspec": {
   "display_name": "Python 3",
   "language": "python",
   "name": "python3"
  },
  "language_info": {
   "codemirror_mode": {
    "name": "ipython",
    "version": 2
   },
   "file_extension": ".py",
   "mimetype": "text/x-python",
   "name": "python",
   "nbconvert_exporter": "python",
   "pygments_lexer": "ipython2",
   "version": "2.7.6"
  }
 },
 "nbformat": 4,
 "nbformat_minor": 0
}