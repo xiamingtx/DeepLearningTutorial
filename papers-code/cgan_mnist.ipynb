{
 "cells": [
  {
   "cell_type": "markdown",
   "metadata": {
    "collapsed": true,
    "pycharm": {
     "name": "#%% md\n"
    }
   },
   "source": [
    "## Conditional GAN on MNIST"
   ]
  },
  {
   "cell_type": "code",
   "execution_count": null,
   "outputs": [],
   "source": [
    "import torch\n",
    "import torch.nn as nn\n",
    "import torchvision\n",
    "from torch.utils.data import DataLoader\n",
    "import os\n",
    "import numpy as np"
   ],
   "metadata": {
    "collapsed": false,
    "pycharm": {
     "name": "#%%\n"
    }
   }
  },
  {
   "cell_type": "markdown",
   "source": [
    "define parameters"
   ],
   "metadata": {
    "collapsed": false
   }
  },
  {
   "cell_type": "code",
   "execution_count": null,
   "outputs": [],
   "source": [
    "image_size = [1, 28, 28]\n",
    "latent_dim = 96\n",
    "label_emb_dim = 32\n",
    "use_gpu = torch.cuda.is_available()\n",
    "num_epoch, batch_size = 100, 32\n",
    "save_dir = 'cgan_images'\n",
    "os.makedirs(save_dir, exist_ok=True)"
   ],
   "metadata": {
    "collapsed": false,
    "pycharm": {
     "name": "#%%\n"
    }
   }
  },
  {
   "cell_type": "markdown",
   "source": [
    "define generator model"
   ],
   "metadata": {
    "collapsed": false,
    "pycharm": {
     "name": "#%% md\n"
    }
   }
  },
  {
   "cell_type": "code",
   "execution_count": null,
   "outputs": [],
   "source": [
    "class Generator(nn.Module):\n",
    "\n",
    "    def __init__(self):\n",
    "        super(Generator, self).__init__()\n",
    "\n",
    "        self.embedding = nn.Embedding(10, label_emb_dim)\n",
    "        self.model = nn.Sequential(\n",
    "            nn.Linear(latent_dim + label_emb_dim, 128),\n",
    "            nn.BatchNorm1d(128),\n",
    "            nn.GELU(),\n",
    "            nn.Linear(128, 256),\n",
    "            nn.BatchNorm1d(256),\n",
    "            nn.GELU(),\n",
    "            nn.Linear(256, 512),\n",
    "            nn.BatchNorm1d(512),\n",
    "            nn.GELU(),\n",
    "            nn.Linear(512, 1024),\n",
    "            nn.GELU(),\n",
    "            nn.Linear(1024, np.prod(image_size, dtype=np.int32)),\n",
    "            nn.Sigmoid(),\n",
    "        )\n",
    "\n",
    "    def forward(self, z, labels):\n",
    "        # shape of z: [batch_size, latent_dim]\n",
    "        label_embedding = self.embedding(labels)\n",
    "        z = torch.cat([z, label_embedding], dim=-1)\n",
    "        output = self.model(z)\n",
    "        image = output.reshape(z.shape[0], *image_size)\n",
    "\n",
    "        return image\n",
    "\n",
    "generator = Generator()"
   ],
   "metadata": {
    "collapsed": false,
    "pycharm": {
     "name": "#%%\n"
    }
   }
  },
  {
   "cell_type": "markdown",
   "source": [
    "define discriminator model"
   ],
   "metadata": {
    "collapsed": false,
    "pycharm": {
     "name": "#%% md\n"
    }
   }
  },
  {
   "cell_type": "code",
   "execution_count": null,
   "outputs": [],
   "source": [
    "class Discriminator(nn.Module):\n",
    "\n",
    "    def __init__(self):\n",
    "        super(Discriminator, self).__init__()\n",
    "\n",
    "        self.embedding = nn.Embedding(10, label_emb_dim)\n",
    "        self.model = nn.Sequential(\n",
    "            nn.Linear(np.prod(image_size, dtype=np.int32) + label_emb_dim, 512), nn.GELU(),\n",
    "            nn.utils.spectral_norm(nn.Linear(512, 256)), nn.GELU(),\n",
    "            nn.utils.spectral_norm(nn.Linear(256, 128)), nn.GELU(),\n",
    "            nn.utils.spectral_norm(nn.Linear(128, 64)), nn.GELU(),\n",
    "            nn.utils.spectral_norm(nn.Linear(64, 32)), nn.GELU(),\n",
    "            nn.utils.spectral_norm(nn.Linear(32, 1)), nn.Sigmoid(),\n",
    "        )\n",
    "\n",
    "    def forward(self, image, labels):\n",
    "        # shape of image: [batch_size, 1, 28, 28]\n",
    "        label_embedding = self.embedding(labels)\n",
    "        prob = self.model(torch.cat([image.reshape(image.shape[0], -1), label_embedding], dim=-1))\n",
    "\n",
    "        return prob\n",
    "\n",
    "discriminator = Discriminator()"
   ],
   "metadata": {
    "collapsed": false,
    "pycharm": {
     "name": "#%%\n"
    }
   }
  },
  {
   "cell_type": "markdown",
   "source": [
    "load data"
   ],
   "metadata": {
    "collapsed": false,
    "pycharm": {
     "name": "#%% md\n"
    }
   }
  },
  {
   "cell_type": "code",
   "execution_count": null,
   "outputs": [],
   "source": [
    "transform = torchvision.transforms.Compose([\n",
    "    torchvision.transforms.Resize(28),\n",
    "    torchvision.transforms.ToTensor(),\n",
    "    # torchvision.transforms.Normalize(mean=[0.5], std=[0.5]),\n",
    "])\n",
    "\n",
    "dataset = torchvision.datasets.MNIST(\"mnist_data\", train=True, download=True, transform=transform)\n",
    "\n",
    "dataloader = DataLoader(dataset, batch_size=batch_size, shuffle=True)"
   ],
   "metadata": {
    "collapsed": false,
    "pycharm": {
     "name": "#%%\n"
    }
   }
  },
  {
   "cell_type": "markdown",
   "source": [
    "define optimizer and loss function"
   ],
   "metadata": {
    "collapsed": false,
    "pycharm": {
     "name": "#%% md\n"
    }
   }
  },
  {
   "cell_type": "code",
   "execution_count": null,
   "outputs": [],
   "source": [
    "g_optimizer = torch.optim.Adam(generator.parameters(), lr=3e-4, betas=(0.4, 0.8), weight_decay=1e-4)\n",
    "d_optimizer = torch.optim.Adam(discriminator.parameters(), lr=3e-4, betas=(0.4, 0.8), weight_decay=1e-4)\n",
    "\n",
    "loss_fn = nn.BCELoss()\n",
    "labels_one = torch.ones(batch_size, 1)\n",
    "labels_zero = torch.zeros(batch_size, 1)\n",
    "\n",
    "if use_gpu:\n",
    "    print(f'training on gpu')\n",
    "    generator = generator.cuda()\n",
    "    discriminator = discriminator.cuda()\n",
    "    loss_fn = loss_fn.cuda()\n",
    "    labels_one = labels_zero.to('cuda')\n",
    "    labels_zero = labels_zero.to('cuda')"
   ],
   "metadata": {
    "collapsed": false,
    "pycharm": {
     "name": "#%%\n"
    }
   }
  },
  {
   "cell_type": "markdown",
   "source": [
    "train:"
   ],
   "metadata": {
    "collapsed": false,
    "pycharm": {
     "name": "#%% md\n"
    }
   }
  },
  {
   "cell_type": "code",
   "execution_count": null,
   "outputs": [],
   "source": [
    "for epoch in range(num_epoch):\n",
    "    print(f'epcoh {epoch}: ')\n",
    "    for i, mini_batch in enumerate(dataloader):\n",
    "        gt_images, labels = mini_batch\n",
    "\n",
    "        z = torch.randn(batch_size, latent_dim)\n",
    "\n",
    "        if use_gpu:\n",
    "            gt_images = gt_images.to('cuda')\n",
    "            labels = labels.to('cuda')\n",
    "            z = z.to('cuda')\n",
    "\n",
    "        pred_images = generator(z, labels)\n",
    "\n",
    "        g_optimizer.zero_grad()\n",
    "\n",
    "        recons_loss = torch.abs(pred_images - gt_images).mean()\n",
    "\n",
    "        g_loss = recons_loss * 0.05 + loss_fn(discriminator(pred_images, labels), labels_one)\n",
    "\n",
    "        g_loss.backward()\n",
    "        g_optimizer.step()\n",
    "\n",
    "        d_optimizer.zero_grad()\n",
    "\n",
    "        real_loss = loss_fn(discriminator(gt_images, labels), labels_one)\n",
    "        fake_loss = loss_fn(discriminator(pred_images.detach(), labels), labels_zero)\n",
    "        d_loss = real_loss + fake_loss\n",
    "\n",
    "        # model is stable when you observing real_loss and fake_loss both minimize\n",
    "\n",
    "        d_loss.backward()\n",
    "        d_optimizer.step()\n",
    "\n",
    "        if i % 50 == 0:\n",
    "            print(f'step:{len(dataloader) * epoch + i}, recons_loss:{recons_loss.item()}, g_loss:{g_loss.item()},'\n",
    "                  f'd_loss:{d_loss.item()}, real_loss:{real_loss.item()}, fake_loss:{fake_loss.item()}')\n",
    "\n",
    "        if i % 800 == 0:\n",
    "            image = pred_images[:16].data\n",
    "            torchvision.utils.save_image(image, f\"{save_dir}/image_{len(dataloader)*epoch + i}.png\", nrow=4)"
   ],
   "metadata": {
    "collapsed": false,
    "pycharm": {
     "name": "#%%\n"
    }
   }
  }
 ],
 "metadata": {
  "kernelspec": {
   "name": "pycharm-9146fa6d",
   "language": "python",
   "display_name": "PyCharm (DeepLearningTutorial)"
  },
  "language_info": {
   "codemirror_mode": {
    "name": "ipython",
    "version": 2
   },
   "file_extension": ".py",
   "mimetype": "text/x-python",
   "name": "python",
   "nbconvert_exporter": "python",
   "pygments_lexer": "ipython2",
   "version": "2.7.6"
  }
 },
 "nbformat": 4,
 "nbformat_minor": 0
}