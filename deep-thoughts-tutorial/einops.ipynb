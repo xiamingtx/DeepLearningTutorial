{
 "cells": [
  {
   "cell_type": "markdown",
   "metadata": {
    "collapsed": true,
    "pycharm": {
     "name": "#%% md\n"
    }
   },
   "source": [
    "## 爱因斯坦标识(einops)与PyTorch联合编写"
   ]
  },
  {
   "cell_type": "code",
   "execution_count": 1,
   "outputs": [],
   "source": [
    "import torch\n",
    "from einops import rearrange, reduce, repeat"
   ],
   "metadata": {
    "collapsed": false,
    "pycharm": {
     "name": "#%%\n"
    }
   }
  },
  {
   "cell_type": "markdown",
   "source": [
    "### 使用 rearrange 将进行转置和变形"
   ],
   "metadata": {
    "collapsed": false,
    "pycharm": {
     "name": "#%% md\n"
    }
   }
  },
  {
   "cell_type": "code",
   "execution_count": 2,
   "outputs": [
    {
     "data": {
      "text/plain": "True"
     },
     "execution_count": 2,
     "metadata": {},
     "output_type": "execute_result"
    }
   ],
   "source": [
    "# 1. 转置\n",
    "x = torch.randn(2, 3, 4, 4)  # 4D tensor  bs * ic * h * w\n",
    "\n",
    "out1 = x.transpose(1, 2)\n",
    "out2 = rearrange(x, 'b i h w -> b h i w')\n",
    "torch.allclose(out1, out2)"
   ],
   "metadata": {
    "collapsed": false,
    "pycharm": {
     "name": "#%%\n"
    }
   }
  },
  {
   "cell_type": "code",
   "execution_count": 3,
   "outputs": [
    {
     "name": "stdout",
     "output_type": "stream",
     "text": [
      "True\n",
      "True\n"
     ]
    }
   ],
   "source": [
    "# 2. 变形\n",
    "out1 = x.reshape(6, 4, 4)\n",
    "out2 = rearrange(x, 'b i h w -> (b i) h w')\n",
    "out3 = rearrange(out2, '(b i) h w -> b i h w', b=2)\n",
    "print(torch.allclose(out1, out2))\n",
    "print(torch.allclose(x, out3))"
   ],
   "metadata": {
    "collapsed": false,
    "pycharm": {
     "name": "#%%\n"
    }
   }
  },
  {
   "cell_type": "code",
   "execution_count": 4,
   "outputs": [
    {
     "data": {
      "text/plain": "torch.Size([2, 4, 12])"
     },
     "execution_count": 4,
     "metadata": {},
     "output_type": "execute_result"
    }
   ],
   "source": [
    "# 3. image2patch\n",
    "out1 = rearrange(x, 'b i (h1 p1) (w1 p2) -> b (h1 w1) (p1 p2 i)', p1=2, p2=2)  # p1、p2是patch的高和宽\n",
    "out1.shape  # [batch_size, num_patch, patch_depth]"
   ],
   "metadata": {
    "collapsed": false,
    "pycharm": {
     "name": "#%%\n"
    }
   }
  },
  {
   "cell_type": "code",
   "execution_count": 5,
   "outputs": [
    {
     "data": {
      "text/plain": "torch.Size([3, 2, 3, 4, 4])"
     },
     "execution_count": 5,
     "metadata": {},
     "output_type": "execute_result"
    }
   ],
   "source": [
    "# 4. 堆叠张量\n",
    "tensor_list = [x, x, x]\n",
    "out1 = rearrange(tensor_list, 'n b i h w -> n b i h w')\n",
    "out1.shape"
   ],
   "metadata": {
    "collapsed": false,
    "pycharm": {
     "name": "#%%\n"
    }
   }
  },
  {
   "cell_type": "markdown",
   "source": [
    "### 使用 reduce 进行池化"
   ],
   "metadata": {
    "collapsed": false,
    "pycharm": {
     "name": "#%% md\n"
    }
   }
  },
  {
   "cell_type": "code",
   "execution_count": 6,
   "outputs": [
    {
     "name": "stdout",
     "output_type": "stream",
     "text": [
      "torch.Size([2, 3, 4])\n",
      "torch.Size([2, 3, 4, 1])\n",
      "torch.Size([2, 3])\n"
     ]
    }
   ],
   "source": [
    "# 5. 池化\n",
    "# 求平均池化\n",
    "out1 = reduce(x, 'b i h w -> b i h', 'mean')  # mean, min, max, sum, prod\n",
    "print(out1.shape)\n",
    "\n",
    "# 求和\n",
    "out2 = reduce(x, 'b i h w -> b i h 1', 'sum')  # keep dimension\n",
    "# 最大值\n",
    "out3 = reduce(x, 'b i h w -> b i', 'max')\n",
    "\n",
    "print(out2.shape)\n",
    "print(out3.shape)"
   ],
   "metadata": {
    "collapsed": false,
    "pycharm": {
     "name": "#%%\n"
    }
   }
  },
  {
   "cell_type": "code",
   "source": [
    "# 6. 扩维\n",
    "out1 = rearrange(x, 'b i h w -> b i h w 1')  # 类似torch.unsqueeze\n",
    "print(out1.shape)\n",
    "\n",
    "# 7. 复制\n",
    "out2 = repeat(out1, 'b i h w 1 -> b i h w 2')  # 类似torch.tile\n",
    "print(out2.shape)\n",
    "\n",
    "out3 = repeat(x, 'b i h w -> b i (2 h) (2 w)')\n",
    "print(out3.shape)"
   ],
   "metadata": {
    "collapsed": false,
    "pycharm": {
     "name": "#%%\n"
    }
   },
   "execution_count": 7,
   "outputs": [
    {
     "name": "stdout",
     "output_type": "stream",
     "text": [
      "torch.Size([2, 3, 4, 4, 1])\n",
      "torch.Size([2, 3, 4, 4, 2])\n",
      "torch.Size([2, 3, 8, 8])\n"
     ]
    }
   ]
  }
 ],
 "metadata": {
  "kernelspec": {
   "name": "pycharm-9146fa6d",
   "language": "python",
   "display_name": "PyCharm (DeepLearningTutorial)"
  },
  "language_info": {
   "codemirror_mode": {
    "name": "ipython",
    "version": 2
   },
   "file_extension": ".py",
   "mimetype": "text/x-python",
   "name": "python",
   "nbconvert_exporter": "python",
   "pygments_lexer": "ipython2",
   "version": "2.7.6"
  }
 },
 "nbformat": 4,
 "nbformat_minor": 0
}