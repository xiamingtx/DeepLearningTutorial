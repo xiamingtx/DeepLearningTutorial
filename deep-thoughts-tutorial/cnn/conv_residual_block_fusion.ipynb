{
 "cells": [
  {
   "cell_type": "markdown",
   "metadata": {
    "collapsed": true,
    "pycharm": {
     "name": "#%% md\n"
    }
   },
   "source": [
    "res_block = 3 * 3 conv + 1 * 1 conv + input"
   ]
  },
  {
   "cell_type": "code",
   "execution_count": 1,
   "outputs": [],
   "source": [
    "import torch\n",
    "import torch.nn.functional as F\n",
    "import torch.nn as nn\n",
    "import time"
   ],
   "metadata": {
    "collapsed": false,
    "pycharm": {
     "name": "#%%\n"
    }
   }
  },
  {
   "cell_type": "code",
   "source": [
    "batch_size = 1\n",
    "in_channels = 2\n",
    "out_channels = 2\n",
    "kernel_size = 3\n",
    "w = 9\n",
    "h = 9\n",
    "\n",
    "x = torch.ones(batch_size, in_channels, w, h)  # 输入图片"
   ],
   "metadata": {
    "collapsed": false,
    "pycharm": {
     "name": "#%%\n"
    }
   },
   "execution_count": 2,
   "outputs": []
  },
  {
   "cell_type": "markdown",
   "source": [
    "## 方法1：原生写法"
   ],
   "metadata": {
    "collapsed": false,
    "pycharm": {
     "name": "#%% md\n"
    }
   }
  },
  {
   "cell_type": "code",
   "execution_count": 3,
   "outputs": [
    {
     "data": {
      "text/plain": "tensor([[[[-0.0053, -0.1841, -0.1841, -0.1841, -0.1841, -0.1841, -0.1841,\n           -0.1841, -0.4957],\n          [-0.0773, -0.1728, -0.1728, -0.1728, -0.1728, -0.1728, -0.1728,\n           -0.1728, -0.2089],\n          [-0.0773, -0.1728, -0.1728, -0.1728, -0.1728, -0.1728, -0.1728,\n           -0.1728, -0.2089],\n          [-0.0773, -0.1728, -0.1728, -0.1728, -0.1728, -0.1728, -0.1728,\n           -0.1728, -0.2089],\n          [-0.0773, -0.1728, -0.1728, -0.1728, -0.1728, -0.1728, -0.1728,\n           -0.1728, -0.2089],\n          [-0.0773, -0.1728, -0.1728, -0.1728, -0.1728, -0.1728, -0.1728,\n           -0.1728, -0.2089],\n          [-0.0773, -0.1728, -0.1728, -0.1728, -0.1728, -0.1728, -0.1728,\n           -0.1728, -0.2089],\n          [-0.0773, -0.1728, -0.1728, -0.1728, -0.1728, -0.1728, -0.1728,\n           -0.1728, -0.2089],\n          [-0.3106, -0.4763, -0.4763, -0.4763, -0.4763, -0.4763, -0.4763,\n           -0.4763, -0.1885]],\n\n         [[ 1.5132,  0.8370,  0.8370,  0.8370,  0.8370,  0.8370,  0.8370,\n            0.8370,  0.9116],\n          [ 2.2292,  1.4926,  1.4926,  1.4926,  1.4926,  1.4926,  1.4926,\n            1.4926,  1.1776],\n          [ 2.2292,  1.4926,  1.4926,  1.4926,  1.4926,  1.4926,  1.4926,\n            1.4926,  1.1776],\n          [ 2.2292,  1.4926,  1.4926,  1.4926,  1.4926,  1.4926,  1.4926,\n            1.4926,  1.1776],\n          [ 2.2292,  1.4926,  1.4926,  1.4926,  1.4926,  1.4926,  1.4926,\n            1.4926,  1.1776],\n          [ 2.2292,  1.4926,  1.4926,  1.4926,  1.4926,  1.4926,  1.4926,\n            1.4926,  1.1776],\n          [ 2.2292,  1.4926,  1.4926,  1.4926,  1.4926,  1.4926,  1.4926,\n            1.4926,  1.1776],\n          [ 2.2292,  1.4926,  1.4926,  1.4926,  1.4926,  1.4926,  1.4926,\n            1.4926,  1.1776],\n          [ 2.1613,  1.8359,  1.8359,  1.8359,  1.8359,  1.8359,  1.8359,\n            1.8359,  1.6068]]]], grad_fn=<AddBackward0>)"
     },
     "execution_count": 3,
     "metadata": {},
     "output_type": "execute_result"
    }
   ],
   "source": [
    "conv_2d = nn.Conv2d(in_channels, out_channels, kernel_size, padding='same')\n",
    "conv_2d_pointwise = nn.Conv2d(in_channels, out_channels, 1)\n",
    "result1 = conv_2d(x) + conv_2d_pointwise(x) + x\n",
    "result1"
   ],
   "metadata": {
    "collapsed": false,
    "pycharm": {
     "name": "#%%\n"
    }
   }
  },
  {
   "cell_type": "markdown",
   "source": [
    "## 方法2：算子融合\n",
    "\n",
    "详情见[RepVGG: Making VGG-style ConvNets Great Again](https://arxiv.org/pdf/2101.03697.pdf)\n",
    "\n",
    "把point-wise卷和x本身都写成3 * 3的卷积 最终把三个卷积都写成一个卷积\n",
    "\n",
    "### 1. 改造"
   ],
   "metadata": {
    "collapsed": false,
    "pycharm": {
     "name": "#%% md\n"
    }
   }
  },
  {
   "cell_type": "code",
   "execution_count": 4,
   "outputs": [],
   "source": [
    "# 2*2*1*1 -> 2*2*3*3 第二个parameter是由于 从里到外4个维度 前两个维度在上下左右padding一层0\n",
    "pointwise_to_conv_weight = F.pad(conv_2d_pointwise.weight, [1, 1, 1, 1, 0, 0, 0, 0])\n",
    "conv_2d_for_pointwise = nn.Conv2d(in_channels, out_channels, kernel_size, padding='same')\n",
    "conv_2d_for_pointwise.weight = nn.Parameter(pointwise_to_conv_weight)\n",
    "conv_2d_for_pointwise.bias = nn.Parameter(conv_2d_pointwise.bias)"
   ],
   "metadata": {
    "collapsed": false,
    "pycharm": {
     "name": "#%%\n"
    }
   }
  },
  {
   "cell_type": "code",
   "execution_count": 5,
   "outputs": [
    {
     "name": "stdout",
     "output_type": "stream",
     "text": [
      "原生写法 耗时: 0.0000000000秒\n",
      "tensor(True)\n",
      "tensor([[[[-0.0053, -0.1841, -0.1841, -0.1841, -0.1841, -0.1841, -0.1841,\n",
      "           -0.1841, -0.4957],\n",
      "          [-0.0773, -0.1728, -0.1728, -0.1728, -0.1728, -0.1728, -0.1728,\n",
      "           -0.1728, -0.2089],\n",
      "          [-0.0773, -0.1728, -0.1728, -0.1728, -0.1728, -0.1728, -0.1728,\n",
      "           -0.1728, -0.2089],\n",
      "          [-0.0773, -0.1728, -0.1728, -0.1728, -0.1728, -0.1728, -0.1728,\n",
      "           -0.1728, -0.2089],\n",
      "          [-0.0773, -0.1728, -0.1728, -0.1728, -0.1728, -0.1728, -0.1728,\n",
      "           -0.1728, -0.2089],\n",
      "          [-0.0773, -0.1728, -0.1728, -0.1728, -0.1728, -0.1728, -0.1728,\n",
      "           -0.1728, -0.2089],\n",
      "          [-0.0773, -0.1728, -0.1728, -0.1728, -0.1728, -0.1728, -0.1728,\n",
      "           -0.1728, -0.2089],\n",
      "          [-0.0773, -0.1728, -0.1728, -0.1728, -0.1728, -0.1728, -0.1728,\n",
      "           -0.1728, -0.2089],\n",
      "          [-0.3106, -0.4763, -0.4763, -0.4763, -0.4763, -0.4763, -0.4763,\n",
      "           -0.4763, -0.1885]],\n",
      "\n",
      "         [[ 1.5132,  0.8370,  0.8370,  0.8370,  0.8370,  0.8370,  0.8370,\n",
      "            0.8370,  0.9116],\n",
      "          [ 2.2292,  1.4926,  1.4926,  1.4926,  1.4926,  1.4926,  1.4926,\n",
      "            1.4926,  1.1776],\n",
      "          [ 2.2292,  1.4926,  1.4926,  1.4926,  1.4926,  1.4926,  1.4926,\n",
      "            1.4926,  1.1776],\n",
      "          [ 2.2292,  1.4926,  1.4926,  1.4926,  1.4926,  1.4926,  1.4926,\n",
      "            1.4926,  1.1776],\n",
      "          [ 2.2292,  1.4926,  1.4926,  1.4926,  1.4926,  1.4926,  1.4926,\n",
      "            1.4926,  1.1776],\n",
      "          [ 2.2292,  1.4926,  1.4926,  1.4926,  1.4926,  1.4926,  1.4926,\n",
      "            1.4926,  1.1776],\n",
      "          [ 2.2292,  1.4926,  1.4926,  1.4926,  1.4926,  1.4926,  1.4926,\n",
      "            1.4926,  1.1776],\n",
      "          [ 2.2292,  1.4926,  1.4926,  1.4926,  1.4926,  1.4926,  1.4926,\n",
      "            1.4926,  1.1776],\n",
      "          [ 2.1613,  1.8359,  1.8359,  1.8359,  1.8359,  1.8359,  1.8359,\n",
      "            1.8359,  1.6068]]]], grad_fn=<AddBackward0>)\n"
     ]
    }
   ],
   "source": [
    "# 2*2*3*3\n",
    "zeros = torch.unsqueeze(torch.zeros(kernel_size, kernel_size), 0)\n",
    "stars = torch.unsqueeze(F.pad(torch.ones(1, 1), [1, 1, 1, 1]), 0)\n",
    "# 第一个通道的卷积核\n",
    "stars_zeros = torch.unsqueeze(torch.cat([stars, zeros], 0), 0)\n",
    "# 第二个通道的卷积核\n",
    "zeros_stars = torch.unsqueeze(torch.cat([zeros, stars], 0), 0)\n",
    "\n",
    "identity_to_conv_weight = torch.cat([stars_zeros, zeros_stars], 0)\n",
    "identity_to_conv_bias = torch.zeros([out_channels])\n",
    "\n",
    "conv_2d_for_identity = nn.Conv2d(in_channels, out_channels, kernel_size, padding='same')\n",
    "conv_2d_for_identity.weight = nn.Parameter(identity_to_conv_weight)\n",
    "conv_2d_for_identity.bias = nn.Parameter(identity_to_conv_bias)\n",
    "\n",
    "t1 = time.time()\n",
    "result2 = conv_2d(x) + conv_2d_for_pointwise(x) + conv_2d_for_identity(x)\n",
    "t2 = time.time()\n",
    "print(\"原生写法 耗时: {:.10f}秒\".format(t2 - t1))\n",
    "print(torch.all(torch.isclose(result1, result2)))\n",
    "print(result2)"
   ],
   "metadata": {
    "collapsed": false,
    "pycharm": {
     "name": "#%%\n"
    }
   }
  },
  {
   "cell_type": "markdown",
   "source": [
    "### 2. 融合"
   ],
   "metadata": {
    "collapsed": false,
    "pycharm": {
     "name": "#%% md\n"
    }
   }
  },
  {
   "cell_type": "code",
   "execution_count": 6,
   "outputs": [
    {
     "name": "stdout",
     "output_type": "stream",
     "text": [
      "算子融合写法 耗时: 0.000000000000000000秒\n",
      "tensor(True)\n",
      "tensor([[[[-0.0053, -0.1841, -0.1841, -0.1841, -0.1841, -0.1841, -0.1841,\n",
      "           -0.1841, -0.4957],\n",
      "          [-0.0773, -0.1728, -0.1728, -0.1728, -0.1728, -0.1728, -0.1728,\n",
      "           -0.1728, -0.2089],\n",
      "          [-0.0773, -0.1728, -0.1728, -0.1728, -0.1728, -0.1728, -0.1728,\n",
      "           -0.1728, -0.2089],\n",
      "          [-0.0773, -0.1728, -0.1728, -0.1728, -0.1728, -0.1728, -0.1728,\n",
      "           -0.1728, -0.2089],\n",
      "          [-0.0773, -0.1728, -0.1728, -0.1728, -0.1728, -0.1728, -0.1728,\n",
      "           -0.1728, -0.2089],\n",
      "          [-0.0773, -0.1728, -0.1728, -0.1728, -0.1728, -0.1728, -0.1728,\n",
      "           -0.1728, -0.2089],\n",
      "          [-0.0773, -0.1728, -0.1728, -0.1728, -0.1728, -0.1728, -0.1728,\n",
      "           -0.1728, -0.2089],\n",
      "          [-0.0773, -0.1728, -0.1728, -0.1728, -0.1728, -0.1728, -0.1728,\n",
      "           -0.1728, -0.2089],\n",
      "          [-0.3106, -0.4763, -0.4763, -0.4763, -0.4763, -0.4763, -0.4763,\n",
      "           -0.4763, -0.1885]],\n",
      "\n",
      "         [[ 1.5132,  0.8370,  0.8370,  0.8370,  0.8370,  0.8370,  0.8370,\n",
      "            0.8370,  0.9116],\n",
      "          [ 2.2292,  1.4926,  1.4926,  1.4926,  1.4926,  1.4926,  1.4926,\n",
      "            1.4926,  1.1776],\n",
      "          [ 2.2292,  1.4926,  1.4926,  1.4926,  1.4926,  1.4926,  1.4926,\n",
      "            1.4926,  1.1776],\n",
      "          [ 2.2292,  1.4926,  1.4926,  1.4926,  1.4926,  1.4926,  1.4926,\n",
      "            1.4926,  1.1776],\n",
      "          [ 2.2292,  1.4926,  1.4926,  1.4926,  1.4926,  1.4926,  1.4926,\n",
      "            1.4926,  1.1776],\n",
      "          [ 2.2292,  1.4926,  1.4926,  1.4926,  1.4926,  1.4926,  1.4926,\n",
      "            1.4926,  1.1776],\n",
      "          [ 2.2292,  1.4926,  1.4926,  1.4926,  1.4926,  1.4926,  1.4926,\n",
      "            1.4926,  1.1776],\n",
      "          [ 2.2292,  1.4926,  1.4926,  1.4926,  1.4926,  1.4926,  1.4926,\n",
      "            1.4926,  1.1776],\n",
      "          [ 2.1613,  1.8359,  1.8359,  1.8359,  1.8359,  1.8359,  1.8359,\n",
      "            1.8359,  1.6068]]]], grad_fn=<ConvolutionBackward0>)\n"
     ]
    }
   ],
   "source": [
    "conv_2d_for_fusion = nn.Conv2d(in_channels, out_channels, kernel_size, padding='same')\n",
    "conv_2d_for_fusion.weight = nn.Parameter(conv_2d.weight.data +\n",
    "                                         conv_2d_for_pointwise.weight.data +\n",
    "                                         conv_2d_for_identity.weight.data)\n",
    "\n",
    "conv_2d_for_fusion.bias = nn.Parameter(conv_2d.bias.data +\n",
    "                                       conv_2d_for_pointwise.bias.data +\n",
    "                                       conv_2d_for_identity.bias.data)\n",
    "\n",
    "t3 = time.time()\n",
    "result3 = conv_2d_for_fusion(x)\n",
    "t4 = time.time()\n",
    "print(\"算子融合写法 耗时: {:.18f}秒\".format(t4 - t3))\n",
    "print(torch.all(torch.isclose(result2, result3)))\n",
    "print(result3)"
   ],
   "metadata": {
    "collapsed": false,
    "pycharm": {
     "name": "#%%\n"
    }
   }
  }
 ],
 "metadata": {
  "kernelspec": {
   "name": "pycharm-9146fa6d",
   "language": "python",
   "display_name": "PyCharm (DeepLearningTutorial)"
  },
  "language_info": {
   "codemirror_mode": {
    "name": "ipython",
    "version": 2
   },
   "file_extension": ".py",
   "mimetype": "text/x-python",
   "name": "python",
   "nbconvert_exporter": "python",
   "pygments_lexer": "ipython2",
   "version": "2.7.6"
  }
 },
 "nbformat": 4,
 "nbformat_minor": 0
}