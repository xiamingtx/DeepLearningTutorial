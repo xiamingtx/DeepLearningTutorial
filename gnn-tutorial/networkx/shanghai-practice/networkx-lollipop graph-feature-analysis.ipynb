{
 "cells": [
  {
   "cell_type": "markdown",
   "metadata": {
    "collapsed": true,
    "pycharm": {
     "name": "#%% md\n"
    }
   },
   "source": [
    "## 棒棒糖图特征分析\n",
    "\n",
    "[参考文档](https://networkx.org/documentation/stable/auto_examples/basic/plot_properties.html)"
   ]
  },
  {
   "cell_type": "code",
   "execution_count": 1,
   "outputs": [],
   "source": [
    "import networkx as nx\n",
    "import matplotlib.pyplot as plt\n",
    "\n",
    "%matplotlib inline\n",
    "\n",
    "plt.rcParams['font.sans-serif'] = ['Microsoft YaHei']\n",
    "plt.rcParams['axes.unicode_minus']=False"
   ],
   "metadata": {
    "collapsed": false,
    "pycharm": {
     "name": "#%%\n"
    }
   }
  },
  {
   "cell_type": "markdown",
   "source": [
    "导入图"
   ],
   "metadata": {
    "collapsed": false,
    "pycharm": {
     "name": "#%% md\n"
    }
   }
  },
  {
   "cell_type": "code",
   "execution_count": 2,
   "outputs": [],
   "source": [
    "# 第一个参数指定头部节点数 第二个参数指定尾部节点数\n",
    "G = nx.lollipop_graph(4, 7)"
   ],
   "metadata": {
    "collapsed": false,
    "pycharm": {
     "name": "#%%\n"
    }
   }
  },
  {
   "cell_type": "markdown",
   "source": [
    "可视化"
   ],
   "metadata": {
    "collapsed": false,
    "pycharm": {
     "name": "#%% md\n"
    }
   }
  },
  {
   "cell_type": "code",
   "execution_count": 3,
   "outputs": [
    {
     "data": {
      "text/plain": "<Figure size 640x480 with 1 Axes>",
      "image/png": "[encoded data removed]"
     },
     "metadata": {},
     "output_type": "display_data"
    }
   ],
   "source": [
    "pos = nx.spring_layout(G, seed=3068)\n",
    "nx.draw(G, pos, with_labels=True)\n",
    "plt.show()"
   ],
   "metadata": {
    "collapsed": false,
    "pycharm": {
     "name": "#%%\n"
    }
   }
  },
  {
   "cell_type": "markdown",
   "source": [
    "图数据分析"
   ],
   "metadata": {
    "collapsed": false,
    "pycharm": {
     "name": "#%% md\n"
    }
   }
  },
  {
   "cell_type": "code",
   "execution_count": 4,
   "outputs": [
    {
     "data": {
      "text/plain": "4"
     },
     "execution_count": 4,
     "metadata": {},
     "output_type": "execute_result"
    }
   ],
   "source": [
    "# 半径\n",
    "nx.radius(G)"
   ],
   "metadata": {
    "collapsed": false,
    "pycharm": {
     "name": "#%%\n"
    }
   }
  },
  {
   "cell_type": "code",
   "execution_count": 5,
   "outputs": [
    {
     "data": {
      "text/plain": "8"
     },
     "execution_count": 5,
     "metadata": {},
     "output_type": "execute_result"
    }
   ],
   "source": [
    "# 直径\n",
    "nx.diameter(G)"
   ],
   "metadata": {
    "collapsed": false,
    "pycharm": {
     "name": "#%%\n"
    }
   }
  },
  {
   "cell_type": "code",
   "execution_count": 6,
   "outputs": [
    {
     "data": {
      "text/plain": "{0: 8, 1: 8, 2: 8, 3: 7, 4: 6, 5: 5, 6: 4, 7: 5, 8: 6, 9: 7, 10: 8}"
     },
     "execution_count": 6,
     "metadata": {},
     "output_type": "execute_result"
    }
   ],
   "source": [
    "# 偏心度: 每个节点导图中其他节点的最远距离\n",
    "nx.eccentricity(G)"
   ],
   "metadata": {
    "collapsed": false,
    "pycharm": {
     "name": "#%%\n"
    }
   }
  },
  {
   "cell_type": "code",
   "execution_count": 7,
   "outputs": [
    {
     "data": {
      "text/plain": "[6]"
     },
     "execution_count": 7,
     "metadata": {},
     "output_type": "execute_result"
    }
   ],
   "source": [
    "# 中心节点: 偏心度与半径相等的节点\n",
    "nx.center(G)"
   ],
   "metadata": {
    "collapsed": false,
    "pycharm": {
     "name": "#%%\n"
    }
   }
  },
  {
   "cell_type": "code",
   "execution_count": 8,
   "outputs": [
    {
     "data": {
      "text/plain": "[0, 1, 2, 10]"
     },
     "execution_count": 8,
     "metadata": {},
     "output_type": "execute_result"
    }
   ],
   "source": [
    "# 外围节点: 偏心度与直径相等的节点\n",
    "nx.periphery(G)"
   ],
   "metadata": {
    "collapsed": false,
    "pycharm": {
     "name": "#%%\n"
    }
   }
  },
  {
   "cell_type": "code",
   "execution_count": 9,
   "outputs": [],
   "source": [
    "nx.density?"
   ],
   "metadata": {
    "collapsed": false,
    "pycharm": {
     "name": "#%%\n"
    }
   }
  },
  {
   "cell_type": "code",
   "execution_count": 10,
   "outputs": [
    {
     "data": {
      "text/plain": "0.23636363636363636"
     },
     "execution_count": 10,
     "metadata": {},
     "output_type": "execute_result"
    }
   ],
   "source": [
    "nx.density(G)"
   ],
   "metadata": {
    "collapsed": false,
    "pycharm": {
     "name": "#%%\n"
    }
   }
  },
  {
   "cell_type": "markdown",
   "source": [
    "n为节点个数 m为连接个数\n",
    "对于无向图:\n",
    "    $$ density = \\frac{2m}{n(n-1)} $$\n",
    "对于有向图:\n",
    "    $$ density = \\frac{m}{n(n-1)} $$\n",
    "\n",
    "无连接图的density为0, 全连接图的density为1, Multigraph(多重连接图)和带self loop的图density可能大于1"
   ],
   "metadata": {
    "collapsed": false,
    "pycharm": {
     "name": "#%% md\n"
    }
   }
  },
  {
   "cell_type": "markdown",
   "source": [
    "3号节点到其他节点的最短距离"
   ],
   "metadata": {
    "collapsed": false,
    "pycharm": {
     "name": "#%% md\n"
    }
   }
  },
  {
   "cell_type": "code",
   "execution_count": 11,
   "outputs": [
    {
     "data": {
      "text/plain": "{3: 0, 0: 1, 1: 1, 2: 1, 4: 1, 5: 2, 6: 3, 7: 4, 8: 5, 9: 6, 10: 7}"
     },
     "execution_count": 11,
     "metadata": {},
     "output_type": "execute_result"
    }
   ],
   "source": [
    "node_id = 3\n",
    "nx.single_source_shortest_path_length(G, node_id)"
   ],
   "metadata": {
    "collapsed": false,
    "pycharm": {
     "name": "#%%\n"
    }
   }
  },
  {
   "cell_type": "markdown",
   "source": [
    "每两个节点之间的最短距离"
   ],
   "metadata": {
    "collapsed": false,
    "pycharm": {
     "name": "#%% md\n"
    }
   }
  },
  {
   "cell_type": "code",
   "execution_count": 12,
   "outputs": [
    {
     "name": "stdout",
     "output_type": "stream",
     "text": [
      "0 到 0 最短距离 0\n",
      "0 到 1 最短距离 1\n",
      "0 到 2 最短距离 1\n",
      "0 到 3 最短距离 1\n",
      "0 到 4 最短距离 2\n",
      "0 到 5 最短距离 3\n",
      "0 到 6 最短距离 4\n",
      "0 到 7 最短距离 5\n",
      "0 到 8 最短距离 6\n",
      "0 到 9 最短距离 7\n",
      "0 到 10 最短距离 8\n",
      "1 到 1 最短距离 0\n",
      "1 到 0 最短距离 1\n",
      "1 到 2 最短距离 1\n",
      "1 到 3 最短距离 1\n",
      "1 到 4 最短距离 2\n",
      "1 到 5 最短距离 3\n",
      "1 到 6 最短距离 4\n",
      "1 到 7 最短距离 5\n",
      "1 到 8 最短距离 6\n",
      "1 到 9 最短距离 7\n",
      "1 到 10 最短距离 8\n",
      "2 到 2 最短距离 0\n",
      "2 到 0 最短距离 1\n",
      "2 到 1 最短距离 1\n",
      "2 到 3 最短距离 1\n",
      "2 到 4 最短距离 2\n",
      "2 到 5 最短距离 3\n",
      "2 到 6 最短距离 4\n",
      "2 到 7 最短距离 5\n",
      "2 到 8 最短距离 6\n",
      "2 到 9 最短距离 7\n",
      "2 到 10 最短距离 8\n",
      "3 到 3 最短距离 0\n",
      "3 到 0 最短距离 1\n",
      "3 到 1 最短距离 1\n",
      "3 到 2 最短距离 1\n",
      "3 到 4 最短距离 1\n",
      "3 到 5 最短距离 2\n",
      "3 到 6 最短距离 3\n",
      "3 到 7 最短距离 4\n",
      "3 到 8 最短距离 5\n",
      "3 到 9 最短距离 6\n",
      "3 到 10 最短距离 7\n",
      "4 到 4 最短距离 0\n",
      "4 到 5 最短距离 1\n",
      "4 到 3 最短距离 1\n",
      "4 到 6 最短距离 2\n",
      "4 到 0 最短距离 2\n",
      "4 到 1 最短距离 2\n",
      "4 到 2 最短距离 2\n",
      "4 到 7 最短距离 3\n",
      "4 到 8 最短距离 4\n",
      "4 到 9 最短距离 5\n",
      "4 到 10 最短距离 6\n",
      "5 到 5 最短距离 0\n",
      "5 到 4 最短距离 1\n",
      "5 到 6 最短距离 1\n",
      "5 到 3 最短距离 2\n",
      "5 到 7 最短距离 2\n",
      "5 到 0 最短距离 3\n",
      "5 到 1 最短距离 3\n",
      "5 到 2 最短距离 3\n",
      "5 到 8 最短距离 3\n",
      "5 到 9 最短距离 4\n",
      "5 到 10 最短距离 5\n",
      "6 到 6 最短距离 0\n",
      "6 到 5 最短距离 1\n",
      "6 到 7 最短距离 1\n",
      "6 到 4 最短距离 2\n",
      "6 到 8 最短距离 2\n",
      "6 到 3 最短距离 3\n",
      "6 到 9 最短距离 3\n",
      "6 到 0 最短距离 4\n",
      "6 到 1 最短距离 4\n",
      "6 到 2 最短距离 4\n",
      "6 到 10 最短距离 4\n",
      "7 到 7 最短距离 0\n",
      "7 到 6 最短距离 1\n",
      "7 到 8 最短距离 1\n",
      "7 到 5 最短距离 2\n",
      "7 到 9 最短距离 2\n",
      "7 到 4 最短距离 3\n",
      "7 到 10 最短距离 3\n",
      "7 到 3 最短距离 4\n",
      "7 到 0 最短距离 5\n",
      "7 到 1 最短距离 5\n",
      "7 到 2 最短距离 5\n",
      "8 到 8 最短距离 0\n",
      "8 到 7 最短距离 1\n",
      "8 到 9 最短距离 1\n",
      "8 到 6 最短距离 2\n",
      "8 到 10 最短距离 2\n",
      "8 到 5 最短距离 3\n",
      "8 到 4 最短距离 4\n",
      "8 到 3 最短距离 5\n",
      "8 到 0 最短距离 6\n",
      "8 到 1 最短距离 6\n",
      "8 到 2 最短距离 6\n",
      "9 到 9 最短距离 0\n",
      "9 到 8 最短距离 1\n",
      "9 到 10 最短距离 1\n",
      "9 到 7 最短距离 2\n",
      "9 到 6 最短距离 3\n",
      "9 到 5 最短距离 4\n",
      "9 到 4 最短距离 5\n",
      "9 到 3 最短距离 6\n",
      "9 到 0 最短距离 7\n",
      "9 到 1 最短距离 7\n",
      "9 到 2 最短距离 7\n",
      "10 到 10 最短距离 0\n",
      "10 到 9 最短距离 1\n",
      "10 到 8 最短距离 2\n",
      "10 到 7 最短距离 3\n",
      "10 到 6 最短距离 4\n",
      "10 到 5 最短距离 5\n",
      "10 到 4 最短距离 6\n",
      "10 到 3 最短距离 7\n",
      "10 到 0 最短距离 8\n",
      "10 到 1 最短距离 8\n",
      "10 到 2 最短距离 8\n"
     ]
    }
   ],
   "source": [
    "pathlengths = []\n",
    "for v in G.nodes():\n",
    "    spl = nx.single_source_shortest_path_length(G, v)\n",
    "    for p in spl:\n",
    "        print(f'{v} 到 {p} 最短距离 {spl[p]}')\n",
    "        pathlengths.append(spl[p])"
   ],
   "metadata": {
    "collapsed": false,
    "pycharm": {
     "name": "#%%\n"
    }
   }
  },
  {
   "cell_type": "code",
   "execution_count": 13,
   "outputs": [
    {
     "data": {
      "text/plain": "3.2231404958677685"
     },
     "execution_count": 13,
     "metadata": {},
     "output_type": "execute_result"
    }
   ],
   "source": [
    "# 平均最短距离\n",
    "sum(pathlengths) / len(pathlengths)"
   ],
   "metadata": {
    "collapsed": false,
    "pycharm": {
     "name": "#%%\n"
    }
   }
  },
  {
   "cell_type": "markdown",
   "source": [
    "不同距离的节点对个数"
   ],
   "metadata": {
    "collapsed": false,
    "pycharm": {
     "name": "#%% md\n"
    }
   }
  },
  {
   "cell_type": "code",
   "execution_count": 14,
   "outputs": [
    {
     "data": {
      "text/plain": "{0: 11, 1: 26, 2: 18, 3: 16, 4: 14, 5: 12, 6: 10, 7: 8, 8: 6}"
     },
     "execution_count": 14,
     "metadata": {},
     "output_type": "execute_result"
    }
   ],
   "source": [
    "dist = {}\n",
    "for p in pathlengths:\n",
    "    if p in dist:\n",
    "        dist[p] += 1\n",
    "    else:\n",
    "        dist[p] = 1\n",
    "\n",
    "dist\n"
   ],
   "metadata": {
    "collapsed": false,
    "pycharm": {
     "name": "#%%\n"
    }
   }
  }
 ],
 "metadata": {
  "kernelspec": {
   "name": "pycharm-9146fa6d",
   "language": "python",
   "display_name": "PyCharm (DeepLearningTutorial)"
  },
  "language_info": {
   "codemirror_mode": {
    "name": "ipython",
    "version": 2
   },
   "file_extension": ".py",
   "mimetype": "text/x-python",
   "name": "python",
   "nbconvert_exporter": "python",
   "pygments_lexer": "ipython2",
   "version": "2.7.6"
  }
 },
 "nbformat": 4,
 "nbformat_minor": 0
}