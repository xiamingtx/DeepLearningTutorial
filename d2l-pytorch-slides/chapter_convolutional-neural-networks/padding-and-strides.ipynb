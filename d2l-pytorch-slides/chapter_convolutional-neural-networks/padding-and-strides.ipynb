{
 "cells": [
  {
   "cell_type": "markdown",
   "id": "d0da207c",
   "metadata": {
    "slideshow": {
     "slide_type": "-"
    }
   },
   "source": [
    "# 填充和步幅\n",
    "\n",
    "在所有侧边填充1个像素"
   ]
  },
  {
   "cell_type": "code",
   "execution_count": 1,
   "id": "9b49465c",
   "metadata": {
    "execution": {
     "iopub.execute_input": "2022-12-07T16:37:27.951805Z",
     "iopub.status.busy": "2022-12-07T16:37:27.951222Z",
     "iopub.status.idle": "2022-12-07T16:37:29.115118Z",
     "shell.execute_reply": "2022-12-07T16:37:29.114029Z"
    },
    "origin_pos": 2,
    "tab": [
     "pytorch"
    ]
   },
   "outputs": [
    {
     "data": {
      "text/plain": [
       "torch.Size([8, 8])"
      ]
     },
     "execution_count": 1,
     "metadata": {},
     "output_type": "execute_result"
    }
   ],
   "source": [
    "import torch\n",
    "from torch import nn\n",
    "\n",
    "\n",
    "def comp_conv2d(conv2d, X):\n",
    "    X = X.reshape((1, 1) + X.shape)\n",
    "    Y = conv2d(X)\n",
    "    return Y.reshape(Y.shape[2:])\n",
    "\n",
    "conv2d = nn.Conv2d(1, 1, kernel_size=3, padding=1)\n",
    "X = torch.rand(size=(8, 8))\n",
    "comp_conv2d(conv2d, X).shape"
   ]
  },
  {
   "cell_type": "markdown",
   "id": "284f7d1b",
   "metadata": {
    "slideshow": {
     "slide_type": "slide"
    }
   },
   "source": [
    "填充不同的高度和宽度"
   ]
  },
  {
   "cell_type": "code",
   "execution_count": 2,
   "id": "f8b3e058",
   "metadata": {
    "execution": {
     "iopub.execute_input": "2022-12-07T16:37:29.118729Z",
     "iopub.status.busy": "2022-12-07T16:37:29.118165Z",
     "iopub.status.idle": "2022-12-07T16:37:29.124975Z",
     "shell.execute_reply": "2022-12-07T16:37:29.124060Z"
    },
    "origin_pos": 7,
    "tab": [
     "pytorch"
    ]
   },
   "outputs": [
    {
     "data": {
      "text/plain": [
       "torch.Size([8, 8])"
      ]
     },
     "execution_count": 2,
     "metadata": {},
     "output_type": "execute_result"
    }
   ],
   "source": [
    "conv2d = nn.Conv2d(1, 1, kernel_size=(5, 3), padding=(2, 1))\n",
    "comp_conv2d(conv2d, X).shape"
   ]
  },
  {
   "cell_type": "markdown",
   "id": "4b6996cb",
   "metadata": {
    "slideshow": {
     "slide_type": "slide"
    }
   },
   "source": [
    "将高度和宽度的步幅设置为2"
   ]
  },
  {
   "cell_type": "code",
   "execution_count": 3,
   "id": "46cb6c25",
   "metadata": {
    "execution": {
     "iopub.execute_input": "2022-12-07T16:37:29.128304Z",
     "iopub.status.busy": "2022-12-07T16:37:29.127723Z",
     "iopub.status.idle": "2022-12-07T16:37:29.134177Z",
     "shell.execute_reply": "2022-12-07T16:37:29.133337Z"
    },
    "origin_pos": 12,
    "tab": [
     "pytorch"
    ]
   },
   "outputs": [
    {
     "data": {
      "text/plain": [
       "torch.Size([4, 4])"
      ]
     },
     "execution_count": 3,
     "metadata": {},
     "output_type": "execute_result"
    }
   ],
   "source": [
    "conv2d = nn.Conv2d(1, 1, kernel_size=3, padding=1, stride=2)\n",
    "comp_conv2d(conv2d, X).shape"
   ]
  },
  {
   "cell_type": "markdown",
   "id": "1e643784",
   "metadata": {
    "slideshow": {
     "slide_type": "-"
    }
   },
   "source": [
    "一个稍微复杂的例子"
   ]
  },
  {
   "cell_type": "code",
   "execution_count": 4,
   "id": "45d2073d",
   "metadata": {
    "execution": {
     "iopub.execute_input": "2022-12-07T16:37:29.137156Z",
     "iopub.status.busy": "2022-12-07T16:37:29.136892Z",
     "iopub.status.idle": "2022-12-07T16:37:29.143915Z",
     "shell.execute_reply": "2022-12-07T16:37:29.143121Z"
    },
    "origin_pos": 17,
    "tab": [
     "pytorch"
    ]
   },
   "outputs": [
    {
     "data": {
      "text/plain": [
       "torch.Size([2, 2])"
      ]
     },
     "execution_count": 4,
     "metadata": {},
     "output_type": "execute_result"
    }
   ],
   "source": [
    "conv2d = nn.Conv2d(1, 1, kernel_size=(3, 5), padding=(0, 1), stride=(3, 4))\n",
    "comp_conv2d(conv2d, X).shape"
   ]
  }
 ],
 "metadata": {
  "celltoolbar": "Slideshow",
  "kernelspec": {
   "display_name": "Python 3 (ipykernel)",
   "language": "python",
   "name": "python3"
  },
  "language_info": {
   "codemirror_mode": {
    "name": "ipython",
    "version": 3
   },
   "file_extension": ".py",
   "mimetype": "text/x-python",
   "name": "python",
   "nbconvert_exporter": "python",
   "pygments_lexer": "ipython3",
   "version": "3.8.16"
  },
  "rise": {
   "autolaunch": true,
   "enable_chalkboard": true,
   "overlay": "<div class='my-top-right'><img height=80px src='http://d2l.ai/_static/logo-with-text.png'/></div><div class='my-top-left'></div>",
   "scroll": true
  }
 },
 "nbformat": 4,
 "nbformat_minor": 5
}
