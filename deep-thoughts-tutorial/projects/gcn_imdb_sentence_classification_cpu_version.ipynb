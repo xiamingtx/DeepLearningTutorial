{
 "cells": [
  {
   "cell_type": "markdown",
   "metadata": {
    "collapsed": true,
    "pycharm": {
     "name": "#%% md\n"
    }
   },
   "source": [
    "## 基于PyTorch的文本分类项目模型与训练代码"
   ]
  },
  {
   "cell_type": "code",
   "execution_count": 1,
   "outputs": [],
   "source": [
    "import torch\n",
    "import torch.nn as nn\n",
    "import torch.nn.functional as F\n",
    "import torchtext\n",
    "import torchdata\n",
    "from torchtext.datasets import IMDB\n",
    "# pip install torchtext 安装指令\n",
    "from torchtext.datasets.imdb import NUM_LINES\n",
    "from torchtext.data import get_tokenizer\n",
    "from torchtext.vocab import build_vocab_from_iterator\n",
    "from torchtext.data.functional import to_map_style_dataset\n",
    "\n",
    "import sys\n",
    "import os\n",
    "import logging\n",
    "\n",
    "logging.basicConfig(\n",
    "    level=logging.WARN,\n",
    "    stream=sys.stdout,\n",
    "    format=\"%(asctime)s (%(module)s:%(lineno)d) %(levelname)s: %(message)s\",\n",
    ")\n",
    "\n",
    "VOCAB_SIZE = 15000"
   ],
   "metadata": {
    "collapsed": false,
    "pycharm": {
     "name": "#%%\n"
    }
   }
  },
  {
   "cell_type": "markdown",
   "source": [
    "1. 编写 GCNN模型代码"
   ],
   "metadata": {
    "collapsed": false,
    "pycharm": {
     "name": "#%% md\n"
    }
   }
  },
  {
   "cell_type": "code",
   "execution_count": 2,
   "outputs": [],
   "source": [
    "class GCNN(nn.Module):\n",
    "    def __init__(self, vocab_size=VOCAB_SIZE, embedding_dim=64, num_class=2):\n",
    "        super().__init__()\n",
    "\n",
    "        self.embedding_table = nn.Embedding(vocab_size, embedding_dim)\n",
    "        nn.init.xavier_uniform_(self.embedding_table.weight)\n",
    "\n",
    "        self.conv_A_1 = nn.Conv1d(embedding_dim, 64, 15, stride=7)\n",
    "        self.conv_B_1 = nn.Conv1d(embedding_dim, 64, 15, stride=7)\n",
    "\n",
    "        self.conv_A_2 = nn.Conv1d(64, 64, 15, stride=7)\n",
    "        self.conv_B_2 = nn.Conv1d(64, 64, 15, stride=7)\n",
    "\n",
    "        self.output_linear1 = nn.Linear(64, 128)\n",
    "        self.output_linear2 = nn.Linear(128, num_class)\n",
    "\n",
    "    def forward(self, word_index):\n",
    "        # 定义GCN网络的算子操作流程, 基于句子单词ID输入得到分类logits输出\n",
    "\n",
    "        # 1. 通过word_index得到word_embedding\n",
    "        # word_index_shape: [bs, max_seq_len]\n",
    "        word_embedding = self.embedding_table(word_index)  # [bs, max_seq_len, embedding_dim]\n",
    "\n",
    "        # 2. 编写第一层1D门卷积\n",
    "        word_embedding = word_embedding.transpose(1, 2)  # [bs, embedding_dim, max_seq_len]\n",
    "        A = self.conv_A_1(word_embedding)\n",
    "        B = self.conv_B_1(word_embedding)\n",
    "        H = A * torch.sigmoid(B)  # [bs, 64, max_seq_len]\n",
    "\n",
    "        A = self.conv_A_2(H)\n",
    "        B = self.conv_B_2(H)\n",
    "        H = A * torch.sigmoid(B)  # [bs, 64, max_seq_len]\n",
    "\n",
    "        # 3. 池化并经过全连接层\n",
    "        pool_output = torch.mean(H, dim=-1)  # 平均池化, 得到[bs, 64]\n",
    "        linear1_output = self.output_linear1(pool_output)\n",
    "        logits = self.output_linear2(linear1_output)  # [bs, 2]\n",
    "\n",
    "        return logits"
   ],
   "metadata": {
    "collapsed": false,
    "pycharm": {
     "name": "#%%\n"
    }
   }
  },
  {
   "cell_type": "code",
   "execution_count": 3,
   "outputs": [],
   "source": [
    "class TextClassificationModel(nn.Module):\n",
    "    \"\"\"简单版embeddingbag + DNN模型\"\"\"\n",
    "    def __init__(self, vocab_size=VOCAB_SIZE, embed_dim=64, num_class=2):\n",
    "        super().__init__()\n",
    "        self.embedding = nn.EmbeddingBag(vocab_size, embed_dim, sparse=False)\n",
    "        self.fc = nn.Linear(embed_dim, num_class)\n",
    "\n",
    "    def forward(self, token_index):\n",
    "        embedded = self.embedding(token_index)  # shape: [bs, embedding_dim] 得到的是这句话平均的embedding 所以没有seq_len\n",
    "        return self.fc(embedded)"
   ],
   "metadata": {
    "collapsed": false,
    "pycharm": {
     "name": "#%%\n"
    }
   }
  },
  {
   "cell_type": "markdown",
   "source": [
    "2. 构建 IMDB DataLoader"
   ],
   "metadata": {
    "collapsed": false,
    "pycharm": {
     "name": "#%% md\n"
    }
   }
  },
  {
   "cell_type": "code",
   "execution_count": 4,
   "outputs": [
    {
     "name": "stdout",
     "output_type": "stream",
     "text": [
      "单词表大小: 13351\n"
     ]
    }
   ],
   "source": [
    "BATCH_SIZE = 64\n",
    "\n",
    "def yield_tokens(train_data_iter, tokenizer):\n",
    "    for i, sample in enumerate(train_data_iter):\n",
    "        label, comment = sample\n",
    "        yield tokenizer(comment)\n",
    "\n",
    "train_data_iter = IMDB(root='data', split='train')  # Dataset类型的对象\n",
    "tokenizer = get_tokenizer('basic_english')\n",
    "vocab = build_vocab_from_iterator(yield_tokens(train_data_iter, tokenizer), min_freq=20, specials=['<unk>'])\n",
    "vocab.set_default_index(0)\n",
    "print(f'单词表大小: {len(vocab)}')"
   ],
   "metadata": {
    "collapsed": false,
    "pycharm": {
     "name": "#%%\n"
    }
   }
  },
  {
   "cell_type": "markdown",
   "source": [
    "实现一个collate_function 对DataLoader生成的mini-batch进行后处理"
   ],
   "metadata": {
    "collapsed": false,
    "pycharm": {
     "name": "#%% md\n"
    }
   }
  },
  {
   "cell_type": "code",
   "execution_count": 5,
   "outputs": [],
   "source": [
    "def collate_fn(batch):\n",
    "    \"\"\"\n",
    "    对DataLoader生成的mini-batch进行后处理\n",
    "    :param batch:\n",
    "    :return:\n",
    "    \"\"\"\n",
    "    target = []\n",
    "    token_index = []\n",
    "    max_length = 0\n",
    "    for i, (label, comment) in enumerate(batch):\n",
    "        tokens=  tokenizer(comment)\n",
    "\n",
    "        token_index.append(vocab(tokens))\n",
    "        if len(tokens) > max_length:\n",
    "            max_length = len(tokens)\n",
    "\n",
    "        if label == 'pos':\n",
    "            target.append(0)\n",
    "        else:\n",
    "            target.append(1)\n",
    "\n",
    "    token_index = [index + [0] * (max_length - len(index)) for index in token_index]\n",
    "    # target需要是int64,因为后面算loss的时候 需要将target先转换成one-hot向量 它接收的是一个长整型数据\n",
    "    return torch.tensor(target, dtype=torch.int64), torch.tensor(token_index, dtype=torch.int32)"
   ],
   "metadata": {
    "collapsed": false,
    "pycharm": {
     "name": "#%%\n"
    }
   }
  },
  {
   "cell_type": "markdown",
   "source": [
    "3. 编写训练代码"
   ],
   "metadata": {
    "collapsed": false,
    "pycharm": {
     "name": "#%% md\n"
    }
   }
  },
  {
   "cell_type": "code",
   "execution_count": 6,
   "outputs": [],
   "source": [
    "def train(train_data_loader, eval_data_loader, model, optimizer, num_epoch,\n",
    "          log_step_interval, save_step_interval, eval_step_interval, save_path, resume=''):\n",
    "    \"\"\"此处data_loader是map-style dataset\"\"\"\n",
    "    start_epoch, start_step = 0, 0\n",
    "    if resume != '':\n",
    "        # 加载之前训练过的模型的参数文件\n",
    "        logging.warning(f'loading from {resume}')\n",
    "        checkpoint = torch.load(resume)\n",
    "        model.load_state_dict(checkpoint['model_state_dict'])\n",
    "        optimizer.load_state_dict(checkpoint['optimizer_state_dict'])\n",
    "        start_epoch = checkpoint['epoch']\n",
    "        start_step = checkpoint['step']\n",
    "\n",
    "    for epoch_index in range(start_epoch, num_epoch):\n",
    "        ema_loss = 0.\n",
    "        num_batches = len(train_data_loader)\n",
    "\n",
    "        for batch_index, (target, token_index) in enumerate(train_data_loader):\n",
    "            optimizer.zero_grad()\n",
    "            step = num_batches * (epoch_index) + batch_index + 1\n",
    "            logits = model(token_index)\n",
    "            bce_loss = F.binary_cross_entropy(torch.sigmoid(logits), F.one_hot(target, num_classes=2).to(torch.float32))\n",
    "            ema_loss = 0.9 * ema_loss + 0.1 * bce_loss\n",
    "            bce_loss.backward()\n",
    "            nn.utils.clip_grad_norm(model.parameters(), 0.1)\n",
    "            optimizer.step()\n",
    "\n",
    "            if step % log_step_interval == 0:\n",
    "                logging.warning(f'epoch_index: {epoch_index}, batch_index: {batch_index}, ema_loss: {ema_loss.item()}')\n",
    "\n",
    "            if step % save_step_interval == 0:\n",
    "                os.makedirs(save_path, exist_ok=True)\n",
    "                save_file = os.path.join(save_path, f'step_{step}.pt')\n",
    "                torch.save({\n",
    "                    'epoch': epoch_index,\n",
    "                    'step': step,\n",
    "                    'model_state_dict': model.state_dict(),\n",
    "                    'optimizer_state_dict': optimizer.state_dict(),\n",
    "                    'loss': bce_loss\n",
    "                }, save_file)\n",
    "                logging.warning(f'checkpoint has been saved in {save_file}')\n",
    "\n",
    "            if step % eval_step_interval == 0:\n",
    "                logging.warning('start to do evaluation...')\n",
    "                model.eval()\n",
    "                eval_ema_loss = 0\n",
    "                total_acc_count = 0\n",
    "                total_count = 0\n",
    "                for eval_batch_index, (eval_target, eval_token_index) in enumerate(eval_data_loader):\n",
    "                    total_count += eval_target.shape[0]\n",
    "                    eval_logits = model(eval_token_index)\n",
    "                    total_acc_count += (torch.argmax(eval_logits, dim=1) == eval_target).sum().item()\n",
    "                    eval_bce_loss = F.binary_cross_entropy(torch.sigmoid(eval_logits),\n",
    "                                                           F.one_hot(eval_target, num_classes=2).to(torch.float32))\n",
    "                    eval_ema_loss = 0.9 * eval_ema_loss + 0.1 * eval_bce_loss\n",
    "\n",
    "                acc = total_acc_count / total_count\n",
    "                logging.warning(f'eval_ema_loss: {eval_ema_loss.item()}, eval_acc: {acc}')\n",
    "                model.train()"
   ],
   "metadata": {
    "collapsed": false,
    "pycharm": {
     "name": "#%%\n"
    }
   }
  },
  {
   "cell_type": "markdown",
   "source": [
    "4. 测试代码"
   ],
   "metadata": {
    "collapsed": false,
    "pycharm": {
     "name": "#%% md\n"
    }
   }
  },
  {
   "cell_type": "code",
   "execution_count": 7,
   "outputs": [
    {
     "name": "stdout",
     "output_type": "stream",
     "text": [
      "模型总参数: 1214594\n"
     ]
    },
    {
     "name": "stderr",
     "output_type": "stream",
     "text": [
      "C:\\Users\\86183\\AppData\\Local\\Temp\\ipykernel_31964\\2110245594.py:25: UserWarning: torch.nn.utils.clip_grad_norm is now deprecated in favor of torch.nn.utils.clip_grad_norm_.\n",
      "  nn.utils.clip_grad_norm(model.parameters(), 0.1)\n"
     ]
    },
    {
     "name": "stdout",
     "output_type": "stream",
     "text": [
      "2023-03-10 20:41:36,090 (2110245594:29) WARNING: epoch_index: 0, batch_index: 19, ema_loss: 0.14351625740528107\n",
      "2023-03-10 20:41:49,073 (2110245594:29) WARNING: epoch_index: 0, batch_index: 39, ema_loss: 0.017448216676712036\n",
      "2023-03-10 20:41:56,612 (2110245594:29) WARNING: epoch_index: 0, batch_index: 59, ema_loss: 0.0021212943829596043\n",
      "2023-03-10 20:42:00,600 (2110245594:29) WARNING: epoch_index: 0, batch_index: 79, ema_loss: 0.0002578997518867254\n",
      "2023-03-10 20:42:04,739 (2110245594:29) WARNING: epoch_index: 0, batch_index: 99, ema_loss: 3.135456790914759e-05\n",
      "2023-03-10 20:42:09,188 (2110245594:29) WARNING: epoch_index: 0, batch_index: 119, ema_loss: 3.811981514445506e-06\n",
      "2023-03-10 20:42:13,538 (2110245594:29) WARNING: epoch_index: 0, batch_index: 139, ema_loss: 4.6344766246875224e-07\n",
      "2023-03-10 20:42:17,473 (2110245594:29) WARNING: epoch_index: 0, batch_index: 159, ema_loss: 5.6344379828487945e-08\n",
      "2023-03-10 20:42:22,060 (2110245594:29) WARNING: epoch_index: 0, batch_index: 179, ema_loss: 6.850158662530248e-09\n",
      "2023-03-10 20:42:26,198 (2110245594:29) WARNING: epoch_index: 0, batch_index: 199, ema_loss: 8.328189804451824e-10\n",
      "2023-03-10 20:42:29,916 (2110245594:29) WARNING: epoch_index: 0, batch_index: 219, ema_loss: 1.0125129901172869e-10\n",
      "2023-03-10 20:42:34,952 (2110245594:29) WARNING: epoch_index: 0, batch_index: 239, ema_loss: 1.2309786870390305e-11\n",
      "2023-03-10 20:42:39,231 (2110245594:29) WARNING: epoch_index: 0, batch_index: 259, ema_loss: 1.496581938237318e-12\n",
      "2023-03-10 20:42:43,654 (2110245594:29) WARNING: epoch_index: 0, batch_index: 279, ema_loss: 1.8194929070347587e-13\n",
      "2023-03-10 20:42:48,134 (2110245594:29) WARNING: epoch_index: 0, batch_index: 299, ema_loss: 2.2120773637314406e-14\n",
      "2023-03-10 20:42:48,135 (2110245594:44) WARNING: start to do evaluation...\n",
      "2023-03-10 20:43:19,980 (2110245594:58) WARNING: eval_ema_loss: 0.0, eval_acc: 1.0\n",
      "2023-03-10 20:43:24,673 (2110245594:29) WARNING: epoch_index: 0, batch_index: 319, ema_loss: 2.689368782806214e-15\n",
      "2023-03-10 20:43:29,783 (2110245594:29) WARNING: epoch_index: 0, batch_index: 339, ema_loss: 3.2696424676081654e-16\n",
      "2023-03-10 20:43:33,481 (2110245594:29) WARNING: epoch_index: 0, batch_index: 359, ema_loss: 3.975120327508511e-17\n",
      "2023-03-10 20:43:37,578 (2110245594:29) WARNING: epoch_index: 0, batch_index: 379, ema_loss: 4.832815550140559e-18\n",
      "2023-03-10 20:43:41,330 (2110245594:29) WARNING: epoch_index: 1, batch_index: 8, ema_loss: 0.0\n",
      "2023-03-10 20:43:46,226 (2110245594:29) WARNING: epoch_index: 1, batch_index: 28, ema_loss: 0.0\n",
      "2023-03-10 20:43:51,059 (2110245594:29) WARNING: epoch_index: 1, batch_index: 48, ema_loss: 0.0\n",
      "2023-03-10 20:43:56,090 (2110245594:29) WARNING: epoch_index: 1, batch_index: 68, ema_loss: 0.0\n",
      "2023-03-10 20:44:01,869 (2110245594:29) WARNING: epoch_index: 1, batch_index: 88, ema_loss: 0.0\n",
      "2023-03-10 20:44:06,868 (2110245594:29) WARNING: epoch_index: 1, batch_index: 108, ema_loss: 0.0\n",
      "2023-03-10 20:44:06,902 (2110245594:41) WARNING: checkpoint has been saved in ./logs_imdb_text_classification\\step_500.pt\n",
      "2023-03-10 20:44:12,870 (2110245594:29) WARNING: epoch_index: 1, batch_index: 128, ema_loss: 0.0\n",
      "2023-03-10 20:44:16,981 (2110245594:29) WARNING: epoch_index: 1, batch_index: 148, ema_loss: 0.0\n",
      "2023-03-10 20:44:20,643 (2110245594:29) WARNING: epoch_index: 1, batch_index: 168, ema_loss: 0.0\n",
      "2023-03-10 20:44:24,228 (2110245594:29) WARNING: epoch_index: 1, batch_index: 188, ema_loss: 0.0\n",
      "2023-03-10 20:44:28,446 (2110245594:29) WARNING: epoch_index: 1, batch_index: 208, ema_loss: 0.0\n",
      "2023-03-10 20:44:28,447 (2110245594:44) WARNING: start to do evaluation...\n",
      "2023-03-10 20:44:53,362 (2110245594:58) WARNING: eval_ema_loss: 0.0, eval_acc: 1.0\n",
      "2023-03-10 20:44:57,302 (2110245594:29) WARNING: epoch_index: 1, batch_index: 228, ema_loss: 0.0\n",
      "2023-03-10 20:45:01,084 (2110245594:29) WARNING: epoch_index: 1, batch_index: 248, ema_loss: 0.0\n",
      "2023-03-10 20:45:05,130 (2110245594:29) WARNING: epoch_index: 1, batch_index: 268, ema_loss: 0.0\n",
      "2023-03-10 20:45:08,862 (2110245594:29) WARNING: epoch_index: 1, batch_index: 288, ema_loss: 0.0\n",
      "2023-03-10 20:45:13,007 (2110245594:29) WARNING: epoch_index: 1, batch_index: 308, ema_loss: 0.0\n",
      "2023-03-10 20:45:17,369 (2110245594:29) WARNING: epoch_index: 1, batch_index: 328, ema_loss: 0.0\n",
      "2023-03-10 20:45:21,892 (2110245594:29) WARNING: epoch_index: 1, batch_index: 348, ema_loss: 0.0\n",
      "2023-03-10 20:45:25,388 (2110245594:29) WARNING: epoch_index: 1, batch_index: 368, ema_loss: 0.0\n",
      "2023-03-10 20:45:29,216 (2110245594:29) WARNING: epoch_index: 1, batch_index: 388, ema_loss: 0.0\n",
      "2023-03-10 20:45:32,890 (2110245594:29) WARNING: epoch_index: 2, batch_index: 17, ema_loss: 0.0\n",
      "2023-03-10 20:45:36,397 (2110245594:29) WARNING: epoch_index: 2, batch_index: 37, ema_loss: 0.0\n",
      "2023-03-10 20:45:40,042 (2110245594:29) WARNING: epoch_index: 2, batch_index: 57, ema_loss: 0.0\n",
      "2023-03-10 20:45:44,704 (2110245594:29) WARNING: epoch_index: 2, batch_index: 77, ema_loss: 0.0\n",
      "2023-03-10 20:45:48,666 (2110245594:29) WARNING: epoch_index: 2, batch_index: 97, ema_loss: 0.0\n",
      "2023-03-10 20:45:52,812 (2110245594:29) WARNING: epoch_index: 2, batch_index: 117, ema_loss: 0.0\n",
      "2023-03-10 20:45:52,813 (2110245594:44) WARNING: start to do evaluation...\n",
      "2023-03-10 20:46:21,133 (2110245594:58) WARNING: eval_ema_loss: 0.0, eval_acc: 1.0\n",
      "2023-03-10 20:46:25,708 (2110245594:29) WARNING: epoch_index: 2, batch_index: 137, ema_loss: 0.0\n",
      "2023-03-10 20:46:30,393 (2110245594:29) WARNING: epoch_index: 2, batch_index: 157, ema_loss: 0.0\n",
      "2023-03-10 20:46:35,402 (2110245594:29) WARNING: epoch_index: 2, batch_index: 177, ema_loss: 0.0\n",
      "2023-03-10 20:46:39,482 (2110245594:29) WARNING: epoch_index: 2, batch_index: 197, ema_loss: 0.0\n",
      "2023-03-10 20:46:43,913 (2110245594:29) WARNING: epoch_index: 2, batch_index: 217, ema_loss: 0.0\n",
      "2023-03-10 20:46:43,933 (2110245594:41) WARNING: checkpoint has been saved in ./logs_imdb_text_classification\\step_1000.pt\n",
      "2023-03-10 20:46:47,958 (2110245594:29) WARNING: epoch_index: 2, batch_index: 237, ema_loss: 0.0\n",
      "2023-03-10 20:46:52,932 (2110245594:29) WARNING: epoch_index: 2, batch_index: 257, ema_loss: 0.0\n",
      "2023-03-10 20:46:57,547 (2110245594:29) WARNING: epoch_index: 2, batch_index: 277, ema_loss: 0.0\n",
      "2023-03-10 20:47:01,727 (2110245594:29) WARNING: epoch_index: 2, batch_index: 297, ema_loss: 0.0\n",
      "2023-03-10 20:47:06,228 (2110245594:29) WARNING: epoch_index: 2, batch_index: 317, ema_loss: 0.0\n",
      "2023-03-10 20:47:11,095 (2110245594:29) WARNING: epoch_index: 2, batch_index: 337, ema_loss: 0.0\n",
      "2023-03-10 20:47:18,241 (2110245594:29) WARNING: epoch_index: 2, batch_index: 357, ema_loss: 0.0\n",
      "2023-03-10 20:47:24,791 (2110245594:29) WARNING: epoch_index: 2, batch_index: 377, ema_loss: 0.0\n",
      "2023-03-10 20:47:29,242 (2110245594:29) WARNING: epoch_index: 3, batch_index: 6, ema_loss: 0.0\n",
      "2023-03-10 20:47:34,695 (2110245594:29) WARNING: epoch_index: 3, batch_index: 26, ema_loss: 0.0\n",
      "2023-03-10 20:47:34,696 (2110245594:44) WARNING: start to do evaluation...\n",
      "2023-03-10 20:48:12,578 (2110245594:58) WARNING: eval_ema_loss: 0.0, eval_acc: 1.0\n",
      "2023-03-10 20:48:19,004 (2110245594:29) WARNING: epoch_index: 3, batch_index: 46, ema_loss: 0.0\n",
      "2023-03-10 20:48:25,025 (2110245594:29) WARNING: epoch_index: 3, batch_index: 66, ema_loss: 0.0\n",
      "2023-03-10 20:48:33,736 (2110245594:29) WARNING: epoch_index: 3, batch_index: 86, ema_loss: 0.0\n",
      "2023-03-10 20:48:39,406 (2110245594:29) WARNING: epoch_index: 3, batch_index: 106, ema_loss: 0.0\n",
      "2023-03-10 20:48:45,560 (2110245594:29) WARNING: epoch_index: 3, batch_index: 126, ema_loss: 0.0\n",
      "2023-03-10 20:48:50,396 (2110245594:29) WARNING: epoch_index: 3, batch_index: 146, ema_loss: 0.0\n",
      "2023-03-10 20:48:55,354 (2110245594:29) WARNING: epoch_index: 3, batch_index: 166, ema_loss: 0.0\n",
      "2023-03-10 20:49:00,853 (2110245594:29) WARNING: epoch_index: 3, batch_index: 186, ema_loss: 0.0\n",
      "2023-03-10 20:49:06,082 (2110245594:29) WARNING: epoch_index: 3, batch_index: 206, ema_loss: 0.0\n",
      "2023-03-10 20:49:10,780 (2110245594:29) WARNING: epoch_index: 3, batch_index: 226, ema_loss: 0.0\n",
      "2023-03-10 20:49:16,028 (2110245594:29) WARNING: epoch_index: 3, batch_index: 246, ema_loss: 0.0\n",
      "2023-03-10 20:49:20,867 (2110245594:29) WARNING: epoch_index: 3, batch_index: 266, ema_loss: 0.0\n",
      "2023-03-10 20:49:26,373 (2110245594:29) WARNING: epoch_index: 3, batch_index: 286, ema_loss: 0.0\n",
      "2023-03-10 20:49:31,028 (2110245594:29) WARNING: epoch_index: 3, batch_index: 306, ema_loss: 0.0\n",
      "2023-03-10 20:49:36,186 (2110245594:29) WARNING: epoch_index: 3, batch_index: 326, ema_loss: 0.0\n",
      "2023-03-10 20:49:36,213 (2110245594:41) WARNING: checkpoint has been saved in ./logs_imdb_text_classification\\step_1500.pt\n",
      "2023-03-10 20:49:36,214 (2110245594:44) WARNING: start to do evaluation...\n",
      "2023-03-10 20:50:24,051 (2110245594:58) WARNING: eval_ema_loss: 0.0, eval_acc: 1.0\n",
      "2023-03-10 20:50:33,954 (2110245594:29) WARNING: epoch_index: 3, batch_index: 346, ema_loss: 0.0\n",
      "2023-03-10 20:50:40,096 (2110245594:29) WARNING: epoch_index: 3, batch_index: 366, ema_loss: 0.0\n",
      "2023-03-10 20:50:44,816 (2110245594:29) WARNING: epoch_index: 3, batch_index: 386, ema_loss: 0.0\n",
      "2023-03-10 20:50:49,843 (2110245594:29) WARNING: epoch_index: 4, batch_index: 15, ema_loss: 0.0\n",
      "2023-03-10 20:50:54,123 (2110245594:29) WARNING: epoch_index: 4, batch_index: 35, ema_loss: 0.0\n",
      "2023-03-10 20:50:58,574 (2110245594:29) WARNING: epoch_index: 4, batch_index: 55, ema_loss: 0.0\n",
      "2023-03-10 20:51:03,118 (2110245594:29) WARNING: epoch_index: 4, batch_index: 75, ema_loss: 0.0\n",
      "2023-03-10 20:51:07,235 (2110245594:29) WARNING: epoch_index: 4, batch_index: 95, ema_loss: 0.0\n",
      "2023-03-10 20:51:11,753 (2110245594:29) WARNING: epoch_index: 4, batch_index: 115, ema_loss: 0.0\n",
      "2023-03-10 20:51:16,534 (2110245594:29) WARNING: epoch_index: 4, batch_index: 135, ema_loss: 0.0\n",
      "2023-03-10 20:51:21,106 (2110245594:29) WARNING: epoch_index: 4, batch_index: 155, ema_loss: 0.0\n",
      "2023-03-10 20:51:25,374 (2110245594:29) WARNING: epoch_index: 4, batch_index: 175, ema_loss: 0.0\n",
      "2023-03-10 20:51:29,728 (2110245594:29) WARNING: epoch_index: 4, batch_index: 195, ema_loss: 0.0\n",
      "2023-03-10 20:51:33,916 (2110245594:29) WARNING: epoch_index: 4, batch_index: 215, ema_loss: 0.0\n",
      "2023-03-10 20:51:38,677 (2110245594:29) WARNING: epoch_index: 4, batch_index: 235, ema_loss: 0.0\n",
      "2023-03-10 20:51:38,678 (2110245594:44) WARNING: start to do evaluation...\n",
      "2023-03-10 20:52:03,818 (2110245594:58) WARNING: eval_ema_loss: 0.0, eval_acc: 1.0\n",
      "2023-03-10 20:52:10,216 (2110245594:29) WARNING: epoch_index: 4, batch_index: 255, ema_loss: 0.0\n",
      "2023-03-10 20:52:15,441 (2110245594:29) WARNING: epoch_index: 4, batch_index: 275, ema_loss: 0.0\n",
      "2023-03-10 20:52:21,514 (2110245594:29) WARNING: epoch_index: 4, batch_index: 295, ema_loss: 0.0\n",
      "2023-03-10 20:52:26,180 (2110245594:29) WARNING: epoch_index: 4, batch_index: 315, ema_loss: 0.0\n",
      "2023-03-10 20:52:31,023 (2110245594:29) WARNING: epoch_index: 4, batch_index: 335, ema_loss: 0.0\n",
      "2023-03-10 20:52:35,993 (2110245594:29) WARNING: epoch_index: 4, batch_index: 355, ema_loss: 0.0\n",
      "2023-03-10 20:52:40,529 (2110245594:29) WARNING: epoch_index: 4, batch_index: 375, ema_loss: 0.0\n",
      "2023-03-10 20:52:44,885 (2110245594:29) WARNING: epoch_index: 5, batch_index: 4, ema_loss: 0.0\n",
      "2023-03-10 20:52:49,380 (2110245594:29) WARNING: epoch_index: 5, batch_index: 24, ema_loss: 0.0\n",
      "2023-03-10 20:52:53,229 (2110245594:29) WARNING: epoch_index: 5, batch_index: 44, ema_loss: 0.0\n",
      "2023-03-10 20:52:53,271 (2110245594:41) WARNING: checkpoint has been saved in ./logs_imdb_text_classification\\step_2000.pt\n",
      "2023-03-10 20:52:57,230 (2110245594:29) WARNING: epoch_index: 5, batch_index: 64, ema_loss: 0.0\n",
      "2023-03-10 20:53:02,200 (2110245594:29) WARNING: epoch_index: 5, batch_index: 84, ema_loss: 0.0\n",
      "2023-03-10 20:53:07,054 (2110245594:29) WARNING: epoch_index: 5, batch_index: 104, ema_loss: 0.0\n",
      "2023-03-10 20:53:11,217 (2110245594:29) WARNING: epoch_index: 5, batch_index: 124, ema_loss: 0.0\n",
      "2023-03-10 20:53:15,707 (2110245594:29) WARNING: epoch_index: 5, batch_index: 144, ema_loss: 0.0\n",
      "2023-03-10 20:53:15,708 (2110245594:44) WARNING: start to do evaluation...\n",
      "2023-03-10 20:53:41,285 (2110245594:58) WARNING: eval_ema_loss: 0.0, eval_acc: 1.0\n",
      "2023-03-10 20:53:46,013 (2110245594:29) WARNING: epoch_index: 5, batch_index: 164, ema_loss: 0.0\n",
      "2023-03-10 20:53:51,010 (2110245594:29) WARNING: epoch_index: 5, batch_index: 184, ema_loss: 0.0\n",
      "2023-03-10 20:53:55,123 (2110245594:29) WARNING: epoch_index: 5, batch_index: 204, ema_loss: 0.0\n",
      "2023-03-10 20:53:59,487 (2110245594:29) WARNING: epoch_index: 5, batch_index: 224, ema_loss: 0.0\n",
      "2023-03-10 20:54:03,920 (2110245594:29) WARNING: epoch_index: 5, batch_index: 244, ema_loss: 0.0\n",
      "2023-03-10 20:54:08,342 (2110245594:29) WARNING: epoch_index: 5, batch_index: 264, ema_loss: 0.0\n",
      "2023-03-10 20:54:12,767 (2110245594:29) WARNING: epoch_index: 5, batch_index: 284, ema_loss: 0.0\n",
      "2023-03-10 20:54:17,434 (2110245594:29) WARNING: epoch_index: 5, batch_index: 304, ema_loss: 0.0\n",
      "2023-03-10 20:54:21,850 (2110245594:29) WARNING: epoch_index: 5, batch_index: 324, ema_loss: 0.0\n",
      "2023-03-10 20:54:25,967 (2110245594:29) WARNING: epoch_index: 5, batch_index: 344, ema_loss: 0.0\n",
      "2023-03-10 20:54:31,757 (2110245594:29) WARNING: epoch_index: 5, batch_index: 364, ema_loss: 0.0\n",
      "2023-03-10 20:54:35,695 (2110245594:29) WARNING: epoch_index: 5, batch_index: 384, ema_loss: 0.0\n",
      "2023-03-10 20:54:39,964 (2110245594:29) WARNING: epoch_index: 6, batch_index: 13, ema_loss: 0.0\n",
      "2023-03-10 20:54:44,185 (2110245594:29) WARNING: epoch_index: 6, batch_index: 33, ema_loss: 0.0\n",
      "2023-03-10 20:54:48,545 (2110245594:29) WARNING: epoch_index: 6, batch_index: 53, ema_loss: 0.0\n",
      "2023-03-10 20:54:48,546 (2110245594:44) WARNING: start to do evaluation...\n",
      "2023-03-10 20:55:13,933 (2110245594:58) WARNING: eval_ema_loss: 0.0, eval_acc: 1.0\n",
      "2023-03-10 20:55:19,009 (2110245594:29) WARNING: epoch_index: 6, batch_index: 73, ema_loss: 0.0\n",
      "2023-03-10 20:55:23,760 (2110245594:29) WARNING: epoch_index: 6, batch_index: 93, ema_loss: 0.0\n",
      "2023-03-10 20:55:28,420 (2110245594:29) WARNING: epoch_index: 6, batch_index: 113, ema_loss: 0.0\n",
      "2023-03-10 20:55:32,852 (2110245594:29) WARNING: epoch_index: 6, batch_index: 133, ema_loss: 0.0\n",
      "2023-03-10 20:55:37,127 (2110245594:29) WARNING: epoch_index: 6, batch_index: 153, ema_loss: 0.0\n",
      "2023-03-10 20:55:37,146 (2110245594:41) WARNING: checkpoint has been saved in ./logs_imdb_text_classification\\step_2500.pt\n",
      "2023-03-10 20:55:42,392 (2110245594:29) WARNING: epoch_index: 6, batch_index: 173, ema_loss: 0.0\n",
      "2023-03-10 20:55:49,078 (2110245594:29) WARNING: epoch_index: 6, batch_index: 193, ema_loss: 0.0\n",
      "2023-03-10 20:55:54,380 (2110245594:29) WARNING: epoch_index: 6, batch_index: 213, ema_loss: 0.0\n",
      "2023-03-10 20:55:59,834 (2110245594:29) WARNING: epoch_index: 6, batch_index: 233, ema_loss: 0.0\n",
      "2023-03-10 20:56:04,050 (2110245594:29) WARNING: epoch_index: 6, batch_index: 253, ema_loss: 0.0\n",
      "2023-03-10 20:56:08,388 (2110245594:29) WARNING: epoch_index: 6, batch_index: 273, ema_loss: 0.0\n",
      "2023-03-10 20:56:12,979 (2110245594:29) WARNING: epoch_index: 6, batch_index: 293, ema_loss: 0.0\n",
      "2023-03-10 20:56:17,185 (2110245594:29) WARNING: epoch_index: 6, batch_index: 313, ema_loss: 0.0\n",
      "2023-03-10 20:56:21,384 (2110245594:29) WARNING: epoch_index: 6, batch_index: 333, ema_loss: 0.0\n",
      "2023-03-10 20:56:25,680 (2110245594:29) WARNING: epoch_index: 6, batch_index: 353, ema_loss: 0.0\n",
      "2023-03-10 20:56:25,682 (2110245594:44) WARNING: start to do evaluation...\n",
      "2023-03-10 20:56:50,322 (2110245594:58) WARNING: eval_ema_loss: 0.0, eval_acc: 1.0\n",
      "2023-03-10 20:56:54,868 (2110245594:29) WARNING: epoch_index: 6, batch_index: 373, ema_loss: 0.0\n",
      "2023-03-10 20:56:59,159 (2110245594:29) WARNING: epoch_index: 7, batch_index: 2, ema_loss: 0.0\n",
      "2023-03-10 20:57:03,389 (2110245594:29) WARNING: epoch_index: 7, batch_index: 22, ema_loss: 0.0\n",
      "2023-03-10 20:57:08,031 (2110245594:29) WARNING: epoch_index: 7, batch_index: 42, ema_loss: 0.0\n",
      "2023-03-10 20:57:12,058 (2110245594:29) WARNING: epoch_index: 7, batch_index: 62, ema_loss: 0.0\n",
      "2023-03-10 20:57:16,475 (2110245594:29) WARNING: epoch_index: 7, batch_index: 82, ema_loss: 0.0\n",
      "2023-03-10 20:57:21,049 (2110245594:29) WARNING: epoch_index: 7, batch_index: 102, ema_loss: 0.0\n",
      "2023-03-10 20:57:25,193 (2110245594:29) WARNING: epoch_index: 7, batch_index: 122, ema_loss: 0.0\n",
      "2023-03-10 20:57:29,268 (2110245594:29) WARNING: epoch_index: 7, batch_index: 142, ema_loss: 0.0\n",
      "2023-03-10 20:57:33,768 (2110245594:29) WARNING: epoch_index: 7, batch_index: 162, ema_loss: 0.0\n",
      "2023-03-10 20:57:38,011 (2110245594:29) WARNING: epoch_index: 7, batch_index: 182, ema_loss: 0.0\n",
      "2023-03-10 20:57:42,977 (2110245594:29) WARNING: epoch_index: 7, batch_index: 202, ema_loss: 0.0\n",
      "2023-03-10 20:57:48,424 (2110245594:29) WARNING: epoch_index: 7, batch_index: 222, ema_loss: 0.0\n",
      "2023-03-10 20:57:52,526 (2110245594:29) WARNING: epoch_index: 7, batch_index: 242, ema_loss: 0.0\n",
      "2023-03-10 20:57:56,804 (2110245594:29) WARNING: epoch_index: 7, batch_index: 262, ema_loss: 0.0\n",
      "2023-03-10 20:57:56,826 (2110245594:41) WARNING: checkpoint has been saved in ./logs_imdb_text_classification\\step_3000.pt\n",
      "2023-03-10 20:57:56,827 (2110245594:44) WARNING: start to do evaluation...\n",
      "2023-03-10 20:58:21,713 (2110245594:58) WARNING: eval_ema_loss: 0.0, eval_acc: 1.0\n",
      "2023-03-10 20:58:26,206 (2110245594:29) WARNING: epoch_index: 7, batch_index: 282, ema_loss: 0.0\n",
      "2023-03-10 20:58:30,454 (2110245594:29) WARNING: epoch_index: 7, batch_index: 302, ema_loss: 0.0\n",
      "2023-03-10 20:58:34,914 (2110245594:29) WARNING: epoch_index: 7, batch_index: 322, ema_loss: 0.0\n",
      "2023-03-10 20:58:39,285 (2110245594:29) WARNING: epoch_index: 7, batch_index: 342, ema_loss: 0.0\n",
      "2023-03-10 20:58:43,585 (2110245594:29) WARNING: epoch_index: 7, batch_index: 362, ema_loss: 0.0\n",
      "2023-03-10 20:58:47,859 (2110245594:29) WARNING: epoch_index: 7, batch_index: 382, ema_loss: 0.0\n",
      "2023-03-10 20:58:52,404 (2110245594:29) WARNING: epoch_index: 8, batch_index: 11, ema_loss: 0.0\n",
      "2023-03-10 20:58:56,836 (2110245594:29) WARNING: epoch_index: 8, batch_index: 31, ema_loss: 0.0\n",
      "2023-03-10 20:59:01,298 (2110245594:29) WARNING: epoch_index: 8, batch_index: 51, ema_loss: 0.0\n",
      "2023-03-10 20:59:06,342 (2110245594:29) WARNING: epoch_index: 8, batch_index: 71, ema_loss: 0.0\n",
      "2023-03-10 20:59:10,886 (2110245594:29) WARNING: epoch_index: 8, batch_index: 91, ema_loss: 0.0\n",
      "2023-03-10 20:59:14,893 (2110245594:29) WARNING: epoch_index: 8, batch_index: 111, ema_loss: 0.0\n",
      "2023-03-10 20:59:18,969 (2110245594:29) WARNING: epoch_index: 8, batch_index: 131, ema_loss: 0.0\n",
      "2023-03-10 20:59:23,116 (2110245594:29) WARNING: epoch_index: 8, batch_index: 151, ema_loss: 0.0\n",
      "2023-03-10 20:59:27,794 (2110245594:29) WARNING: epoch_index: 8, batch_index: 171, ema_loss: 0.0\n",
      "2023-03-10 20:59:27,795 (2110245594:44) WARNING: start to do evaluation...\n",
      "2023-03-10 20:59:53,880 (2110245594:58) WARNING: eval_ema_loss: 0.0, eval_acc: 1.0\n",
      "2023-03-10 20:59:58,371 (2110245594:29) WARNING: epoch_index: 8, batch_index: 191, ema_loss: 0.0\n",
      "2023-03-10 21:00:02,986 (2110245594:29) WARNING: epoch_index: 8, batch_index: 211, ema_loss: 0.0\n",
      "2023-03-10 21:00:07,840 (2110245594:29) WARNING: epoch_index: 8, batch_index: 231, ema_loss: 0.0\n",
      "2023-03-10 21:00:12,244 (2110245594:29) WARNING: epoch_index: 8, batch_index: 251, ema_loss: 0.0\n",
      "2023-03-10 21:00:16,852 (2110245594:29) WARNING: epoch_index: 8, batch_index: 271, ema_loss: 0.0\n",
      "2023-03-10 21:00:21,888 (2110245594:29) WARNING: epoch_index: 8, batch_index: 291, ema_loss: 0.0\n",
      "2023-03-10 21:00:26,430 (2110245594:29) WARNING: epoch_index: 8, batch_index: 311, ema_loss: 0.0\n",
      "2023-03-10 21:00:31,529 (2110245594:29) WARNING: epoch_index: 8, batch_index: 331, ema_loss: 0.0\n",
      "2023-03-10 21:00:35,629 (2110245594:29) WARNING: epoch_index: 8, batch_index: 351, ema_loss: 0.0\n",
      "2023-03-10 21:00:40,138 (2110245594:29) WARNING: epoch_index: 8, batch_index: 371, ema_loss: 0.0\n",
      "2023-03-10 21:00:40,161 (2110245594:41) WARNING: checkpoint has been saved in ./logs_imdb_text_classification\\step_3500.pt\n",
      "2023-03-10 21:00:44,227 (2110245594:29) WARNING: epoch_index: 9, batch_index: 0, ema_loss: 0.0\n",
      "2023-03-10 21:00:48,712 (2110245594:29) WARNING: epoch_index: 9, batch_index: 20, ema_loss: 0.0\n",
      "2023-03-10 21:00:53,436 (2110245594:29) WARNING: epoch_index: 9, batch_index: 40, ema_loss: 0.0\n",
      "2023-03-10 21:00:57,454 (2110245594:29) WARNING: epoch_index: 9, batch_index: 60, ema_loss: 0.0\n",
      "2023-03-10 21:01:01,863 (2110245594:29) WARNING: epoch_index: 9, batch_index: 80, ema_loss: 0.0\n",
      "2023-03-10 21:01:01,864 (2110245594:44) WARNING: start to do evaluation...\n",
      "2023-03-10 21:01:27,006 (2110245594:58) WARNING: eval_ema_loss: 0.0, eval_acc: 1.0\n",
      "2023-03-10 21:01:31,217 (2110245594:29) WARNING: epoch_index: 9, batch_index: 100, ema_loss: 0.0\n",
      "2023-03-10 21:01:35,208 (2110245594:29) WARNING: epoch_index: 9, batch_index: 120, ema_loss: 0.0\n",
      "2023-03-10 21:01:39,539 (2110245594:29) WARNING: epoch_index: 9, batch_index: 140, ema_loss: 0.0\n",
      "2023-03-10 21:01:44,046 (2110245594:29) WARNING: epoch_index: 9, batch_index: 160, ema_loss: 0.0\n",
      "2023-03-10 21:01:48,619 (2110245594:29) WARNING: epoch_index: 9, batch_index: 180, ema_loss: 0.0\n",
      "2023-03-10 21:01:53,120 (2110245594:29) WARNING: epoch_index: 9, batch_index: 200, ema_loss: 0.0\n",
      "2023-03-10 21:01:57,473 (2110245594:29) WARNING: epoch_index: 9, batch_index: 220, ema_loss: 0.0\n",
      "2023-03-10 21:02:01,796 (2110245594:29) WARNING: epoch_index: 9, batch_index: 240, ema_loss: 0.0\n",
      "2023-03-10 21:02:05,937 (2110245594:29) WARNING: epoch_index: 9, batch_index: 260, ema_loss: 0.0\n",
      "2023-03-10 21:02:10,031 (2110245594:29) WARNING: epoch_index: 9, batch_index: 280, ema_loss: 0.0\n",
      "2023-03-10 21:02:14,312 (2110245594:29) WARNING: epoch_index: 9, batch_index: 300, ema_loss: 0.0\n",
      "2023-03-10 21:02:18,777 (2110245594:29) WARNING: epoch_index: 9, batch_index: 320, ema_loss: 0.0\n",
      "2023-03-10 21:02:22,936 (2110245594:29) WARNING: epoch_index: 9, batch_index: 340, ema_loss: 0.0\n",
      "2023-03-10 21:02:27,687 (2110245594:29) WARNING: epoch_index: 9, batch_index: 360, ema_loss: 0.0\n",
      "2023-03-10 21:02:32,291 (2110245594:29) WARNING: epoch_index: 9, batch_index: 380, ema_loss: 0.0\n",
      "2023-03-10 21:02:32,292 (2110245594:44) WARNING: start to do evaluation...\n",
      "2023-03-10 21:02:56,969 (2110245594:58) WARNING: eval_ema_loss: 0.0, eval_acc: 1.0\n"
     ]
    }
   ],
   "source": [
    "if __name__ == '__main__':\n",
    "    model = GCNN()\n",
    "    # model = TextClassificationModel()\n",
    "    print('模型总参数:', sum(p.numel() for p in model.parameters()))\n",
    "    optimizer = torch.optim.Adam(model.parameters(), lr=0.001)\n",
    "\n",
    "    train_data_iter = IMDB(root='data', split='train')  # Dataset类型的对象\n",
    "    train_data_loader = torch.utils.data.DataLoader(to_map_style_dataset(train_data_iter),\n",
    "                                                    batch_size=BATCH_SIZE,\n",
    "                                                    collate_fn=collate_fn,\n",
    "                                                    shuffle=True)\n",
    "\n",
    "    eval_data_iter = IMDB(root='data', split='test')  # Dataset类型的对象\n",
    "    eval_data_loader = torch.utils.data.DataLoader(to_map_style_dataset(eval_data_iter),\n",
    "                                                   batch_size=8,\n",
    "                                                   collate_fn=collate_fn)\n",
    "    resume = ''\n",
    "    # resume = './logs_imdb_text_classification/step_1000.pt'\n",
    "\n",
    "    train(train_data_loader, eval_data_loader, model, optimizer, num_epoch=10, log_step_interval=20,\n",
    "          save_step_interval=500, eval_step_interval=300, save_path='./logs_imdb_text_classification', resume=resume)"
   ],
   "metadata": {
    "collapsed": false,
    "pycharm": {
     "name": "#%%\n"
    }
   }
  }
 ],
 "metadata": {
  "kernelspec": {
   "name": "pycharm-9146fa6d",
   "language": "python",
   "display_name": "PyCharm (DeepLearningTutorial)"
  },
  "language_info": {
   "codemirror_mode": {
    "name": "ipython",
    "version": 2
   },
   "file_extension": ".py",
   "mimetype": "text/x-python",
   "name": "python",
   "nbconvert_exporter": "python",
   "pygments_lexer": "ipython2",
   "version": "2.7.6"
  }
 },
 "nbformat": 4,
 "nbformat_minor": 0
}