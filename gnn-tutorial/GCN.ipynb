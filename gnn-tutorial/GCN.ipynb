{
 "cells": [
  {
   "cell_type": "markdown",
   "id": "49d410bc",
   "metadata": {},
   "source": [
    "# 1. Implementing the GCN Layer"
   ]
  },
  {
   "cell_type": "code",
   "execution_count": null,
   "id": "d79f3531",
   "metadata": {
    "pycharm": {
     "is_executing": true
    }
   },
   "outputs": [],
   "source": [
    "import torch\n",
    "from torch_geometric.nn import MessagePassing\n",
    "from torch_geometric.utils import add_self_loops, degree"
   ]
  },
  {
   "attachments": {
    "image.png": {
     "image/png": "[encoded data removed]"
    }
   },
   "cell_type": "markdown",
   "id": "b38f0f39",
   "metadata": {},
   "source": [
    "![image.png](attachment:image.png)"
   ]
  },
  {
   "cell_type": "code",
   "execution_count": 77,
   "id": "a394bfd4",
   "metadata": {},
   "outputs": [],
   "source": [
    "# 定义Data实例的属性数据\n",
    "edge_index = torch.tensor([[1, 2, 3], [0, 0, 0]], dtype=torch.long)\n",
    "x = torch.tensor([[1], [1], [1], [1]], dtype=torch.float)"
   ]
  },
  {
   "cell_type": "markdown",
   "id": "2428f500",
   "metadata": {},
   "source": [
    "x has shape [N, in_channels], N表示节点个数    \n",
    "edge_index has shape [2, E], E表示边的个数"
   ]
  },
  {
   "cell_type": "code",
   "execution_count": 90,
   "id": "0c352ecf",
   "metadata": {},
   "outputs": [],
   "source": [
    "class GCNConv(MessagePassing):\n",
    "    def __init__(self, in_channels, out_channels):\n",
    "        super().__init__(aggr='add')  # \"Add\" aggregation (Step 5).\n",
    "        self.lin = torch.nn.Linear(in_channels, out_channels)\n",
    "\n",
    "    def forward(self, x, edge_index):\n",
    "        # x has shape [N, in_channels]\n",
    "        # edge_index has shape [2, E]\n",
    "\n",
    "        # Step 1: Add self-loops to the adjacency matrix.\n",
    "        edge_index, _ = add_self_loops(edge_index, num_nodes=x.size(0))\n",
    "        print(\"\\nAdd self-loops edge_index--------------\")\n",
    "        print(edge_index)\n",
    "\n",
    "        # Step 2: Linearly transform node feature matrix.\n",
    "        x = self.lin(x)\n",
    "        print(\"\\nLinearly transform--------------\")\n",
    "        print(x)\n",
    "\n",
    "        # Step 3: Compute normalization.\n",
    "        row, col = edge_index\n",
    "        print(\"\\nrow-------\",row)\n",
    "        print(\"\\ncol-------\",col)\n",
    "        deg = degree(col, x.size(0), dtype=x.dtype)\n",
    "        print(\"\\ndegree------------------\")\n",
    "        print(deg)\n",
    "        deg_inv_sqrt = deg.pow(-0.5)\n",
    "        deg_inv_sqrt[deg_inv_sqrt == float('inf')] = 0\n",
    "        norm = deg_inv_sqrt[row] * deg_inv_sqrt[col]\n",
    "        print(\"\\nnorm--------------\")\n",
    "        print(norm)\n",
    "\n",
    "        # Step 4-5: Start propagating messages.\n",
    "        return self.propagate(edge_index, x=x, norm=norm)\n",
    "\n",
    "    def message(self, x_j, norm):\n",
    "        # x_j has shape [E, out_channels]\n",
    "        \n",
    "        print(\"\\nx_j--------------\")\n",
    "        print(x_j)\n",
    "        print(\"\\nnorm.view(-1, 1) * x_j--------------\")\n",
    "        print(norm.view(-1, 1) * x_j)\n",
    "\n",
    "        # Step 4: Normalize node features.\n",
    "        return norm.view(-1, 1) * x_j"
   ]
  },
  {
   "cell_type": "code",
   "execution_count": 91,
   "id": "41dfc455",
   "metadata": {},
   "outputs": [
    {
     "name": "stdout",
     "output_type": "stream",
     "text": [
      "\n",
      "Add self-loops edge_index--------------\n",
      "tensor([[1, 2, 3, 0, 1, 2, 3],\n",
      "        [0, 0, 0, 0, 1, 2, 3]])\n",
      "\n",
      "Linearly transform--------------\n",
      "tensor([[ 0.8011, -0.1327],\n",
      "        [ 0.8011, -0.1327],\n",
      "        [ 0.8011, -0.1327],\n",
      "        [ 0.8011, -0.1327]], grad_fn=<AddmmBackward>)\n",
      "\n",
      "row------- tensor([1, 2, 3, 0, 1, 2, 3])\n",
      "\n",
      "col------- tensor([0, 0, 0, 0, 1, 2, 3])\n",
      "\n",
      "degree------------------\n",
      "tensor([4., 1., 1., 1.])\n",
      "\n",
      "norm--------------\n",
      "tensor([0.5000, 0.5000, 0.5000, 0.2500, 1.0000, 1.0000, 1.0000])\n",
      "\n",
      "x_j--------------\n",
      "tensor([[ 0.8011, -0.1327],\n",
      "        [ 0.8011, -0.1327],\n",
      "        [ 0.8011, -0.1327],\n",
      "        [ 0.8011, -0.1327],\n",
      "        [ 0.8011, -0.1327],\n",
      "        [ 0.8011, -0.1327],\n",
      "        [ 0.8011, -0.1327]], grad_fn=<IndexSelectBackward>)\n",
      "\n",
      "norm.view(-1, 1) * x_j--------------\n",
      "tensor([[ 0.4005, -0.0664],\n",
      "        [ 0.4005, -0.0664],\n",
      "        [ 0.4005, -0.0664],\n",
      "        [ 0.2003, -0.0332],\n",
      "        [ 0.8011, -0.1327],\n",
      "        [ 0.8011, -0.1327],\n",
      "        [ 0.8011, -0.1327]], grad_fn=<MulBackward0>)\n"
     ]
    },
    {
     "data": {
      "text/plain": [
       "tensor([[ 1.4019, -0.2322],\n",
       "        [ 0.8011, -0.1327],\n",
       "        [ 0.8011, -0.1327],\n",
       "        [ 0.8011, -0.1327]], grad_fn=<ScatterAddBackward>)"
      ]
     },
     "execution_count": 91,
     "metadata": {},
     "output_type": "execute_result"
    }
   ],
   "source": [
    "conv = GCNConv(1, 2)\n",
    "ret = conv(x, edge_index)\n",
    "ret"
   ]
  },
  {
   "cell_type": "markdown",
   "id": "90a29305",
   "metadata": {},
   "source": [
    "# 2. GCN的简单实例"
   ]
  },
  {
   "cell_type": "code",
   "execution_count": 92,
   "id": "819069a8",
   "metadata": {},
   "outputs": [],
   "source": [
    "import torch\n",
    "import torch.nn.functional as F\n",
    "from torch_geometric.nn import GCNConv\n",
    "\n",
    "class GNN(torch.nn.Module):\n",
    "    def __init__(self):\n",
    "        super().__init__()\n",
    "        self.conv1 = GCNConv(dataset.num_node_features, 16)\n",
    "        self.conv2 = GCNConv(16, dataset.num_classes)\n",
    "\n",
    "    def forward(self, data):\n",
    "        x, edge_index = data.x, data.edge_index\n",
    "\n",
    "        x = self.conv1(x, edge_index)\n",
    "        x = F.relu(x)\n",
    "        x = F.dropout(x, training=self.training)\n",
    "        x = self.conv2(x, edge_index)\n",
    "\n",
    "        return F.log_softmax(x, dim=1)"
   ]
  },
  {
   "cell_type": "code",
   "execution_count": 93,
   "id": "9fe972c4",
   "metadata": {},
   "outputs": [],
   "source": [
    "from torch_geometric.datasets import Planetoid\n",
    "dataset = Planetoid(root='./data/Cora', name='Cora')"
   ]
  },
  {
   "cell_type": "code",
   "execution_count": 94,
   "id": "c06386b4",
   "metadata": {},
   "outputs": [],
   "source": [
    "device = torch.device('cuda' if torch.cuda.is_available() else 'cpu')\n",
    "model = GNN().to(device)\n",
    "data = dataset[0].to(device)\n",
    "optimizer = torch.optim.Adam(model.parameters(), lr=0.01, weight_decay=5e-4)\n",
    "\n",
    "model.train()\n",
    "for epoch in range(200):\n",
    "    optimizer.zero_grad()\n",
    "    out = model(data)\n",
    "    loss = F.nll_loss(out[data.train_mask], data.y[data.train_mask])\n",
    "    loss.backward()\n",
    "    optimizer.step()"
   ]
  },
  {
   "cell_type": "code",
   "execution_count": 95,
   "id": "d9806c9d",
   "metadata": {},
   "outputs": [
    {
     "name": "stdout",
     "output_type": "stream",
     "text": [
      "Accuracy: 0.7980\n"
     ]
    }
   ],
   "source": [
    "model.eval()\n",
    "pred = model(data).argmax(dim=1)\n",
    "correct = (pred[data.test_mask] == data.y[data.test_mask]).sum()\n",
    "acc = int(correct) / int(data.test_mask.sum())\n",
    "print(f'Accuracy: {acc:.4f}')"
   ]
  },
  {
   "cell_type": "code",
   "execution_count": null,
   "id": "7396a9d6",
   "metadata": {},
   "outputs": [],
   "source": []
  }
 ],
 "metadata": {
  "kernelspec": {
   "name": "pycharm-9146fa6d",
   "language": "python",
   "display_name": "PyCharm (DeepLearningTutorial)"
  },
  "language_info": {
   "codemirror_mode": {
    "name": "ipython",
    "version": 3
   },
   "file_extension": ".py",
   "mimetype": "text/x-python",
   "name": "python",
   "nbconvert_exporter": "python",
   "pygments_lexer": "ipython3",
   "version": "3.7.13"
  }
 },
 "nbformat": 4,
 "nbformat_minor": 5
}