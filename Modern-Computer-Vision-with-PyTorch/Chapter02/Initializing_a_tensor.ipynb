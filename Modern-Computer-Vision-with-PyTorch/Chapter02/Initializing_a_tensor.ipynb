{
 "nbformat": 4,
 "nbformat_minor": 0,
 "metadata": {
  "colab": {
   "name": "Initializing_a_tensor.ipynb",
   "provenance": [],
   "include_colab_link": true
  },
  "kernelspec": {
   "name": "pycharm-9146fa6d",
   "language": "python",
   "display_name": "PyCharm (DeepLearningTutorial)"
  },
  "language_info": {
   "codemirror_mode": {
    "name": "ipython",
    "version": 3
   },
   "file_extension": ".py",
   "mimetype": "text/x-python",
   "name": "python",
   "nbconvert_exporter": "python",
   "pygments_lexer": "ipython3",
   "version": "3.7.6"
  }
 },
 "cells": [
  {
   "cell_type": "markdown",
   "metadata": {
    "id": "view-in-github",
    "colab_type": "text"
   },
   "source": [
    "<a href=\"https://colab.research.google.com/github/PacktPublishing/Hands-On-Computer-Vision-with-PyTorch/blob/master/Chapter02/Initializing_a_tensor.ipynb\" target=\"_parent\"><img src=\"https://colab.research.google.com/assets/colab-badge.svg\" alt=\"Open In Colab\"/></a>"
   ]
  },
  {
   "cell_type": "markdown",
   "source": [
    "## 2.2.1 初始化张量\n",
    "\n",
    "书中P33"
   ],
   "metadata": {
    "collapsed": false,
    "pycharm": {
     "name": "#%% md\n"
    }
   }
  },
  {
   "cell_type": "code",
   "metadata": {
    "ExecuteTime": {
     "end_time": "2020-09-25T19:01:20.140985Z",
     "start_time": "2020-09-25T19:01:19.854244Z"
    },
    "id": "ihh6_GZ3ZIY-"
   },
   "source": [
    "# 导入PyTorch并通过调用torch.tensor在列表中初始化一个张量\n",
    "import torch\n",
    "\n",
    "x = torch.tensor([[1,2]])\n",
    "y = torch.tensor([[1],[2]])"
   ],
   "execution_count": 1,
   "outputs": []
  },
  {
   "cell_type": "code",
   "metadata": {
    "ExecuteTime": {
     "end_time": "2020-09-25T19:01:20.144749Z",
     "start_time": "2020-09-25T19:01:20.142079Z"
    },
    "id": "Q3M5XCH9ZJ2c",
    "outputId": "6a17c9f7-69b5-40c7-8a35-b3daf6dbe60e",
    "colab": {
     "base_uri": "https://localhost:8080/",
     "height": 68
    }
   },
   "source": [
    "# 访问张量对象的形状和数据类型\n",
    "print(x.shape)\n",
    "# torch.Size([1,2]) # one entity of two items\n",
    "print(y.shape)\n",
    "# torch.Size([2,1]) # two entities of one item each\n",
    "print(x.dtype)\n",
    "# torch.int64"
   ],
   "execution_count": 2,
   "outputs": [
    {
     "name": "stdout",
     "output_type": "stream",
     "text": [
      "torch.Size([1, 2])\n",
      "torch.Size([2, 1])\n",
      "torch.int64\n"
     ]
    }
   ]
  },
  {
   "cell_type": "code",
   "metadata": {
    "ExecuteTime": {
     "end_time": "2020-09-25T19:01:20.149178Z",
     "start_time": "2020-09-25T19:01:20.146083Z"
    },
    "id": "BTEN4-yhZL4j",
    "outputId": "a753ca92-6614-4de1-bf7a-cbf331b87fd7",
    "colab": {
     "base_uri": "https://localhost:8080/",
     "height": 34
    }
   },
   "source": [
    "# 张量内所有元素的数据类型是相同的 这就意味着如果一个张量包含不同数据类型的数据(比如布尔、整数和浮点数)\n",
    "# 那么整个张量会被强制转换为一种最为通用的数据类型\n",
    "x = torch.tensor([False, 1, 2.0])\n",
    "print(x)\n",
    "# tensor([0., 1., 2.])"
   ],
   "execution_count": 3,
   "outputs": [
    {
     "name": "stdout",
     "output_type": "stream",
     "text": [
      "tensor([0., 1., 2.])\n"
     ]
    }
   ]
  },
  {
   "cell_type": "code",
   "metadata": {
    "ExecuteTime": {
     "end_time": "2020-09-25T19:01:20.156974Z",
     "start_time": "2020-09-25T19:01:20.150527Z"
    },
    "id": "csI_Z5TzZO3B",
    "outputId": "7401ad59-1a21-4d5a-c271-54a3036ebc0e",
    "colab": {
     "base_uri": "https://localhost:8080/",
     "height": 68
    }
   },
   "source": [
    "# 生成一个张量对象, 它有三行四列, 填充0\n",
    "torch.zeros((3, 4))"
   ],
   "execution_count": 4,
   "outputs": [
    {
     "data": {
      "text/plain": "tensor([[0., 0., 0., 0.],\n        [0., 0., 0., 0.],\n        [0., 0., 0., 0.]])"
     },
     "execution_count": 4,
     "metadata": {},
     "output_type": "execute_result"
    }
   ]
  },
  {
   "cell_type": "code",
   "metadata": {
    "ExecuteTime": {
     "end_time": "2020-09-25T19:01:20.161041Z",
     "start_time": "2020-09-25T19:01:20.157954Z"
    },
    "id": "nocW50iiZUHD",
    "outputId": "da76102a-8218-4ef5-d61a-e32de822431e",
    "colab": {
     "base_uri": "https://localhost:8080/",
     "height": 68
    }
   },
   "source": [
    "# 生成一个张量对象, 它有三行四列, 填充1\n",
    "torch.ones((3, 4))"
   ],
   "execution_count": 5,
   "outputs": [
    {
     "data": {
      "text/plain": "tensor([[1., 1., 1., 1.],\n        [1., 1., 1., 1.],\n        [1., 1., 1., 1.]])"
     },
     "execution_count": 5,
     "metadata": {},
     "output_type": "execute_result"
    }
   ]
  },
  {
   "cell_type": "code",
   "metadata": {
    "ExecuteTime": {
     "end_time": "2020-09-25T19:01:20.165239Z",
     "start_time": "2020-09-25T19:01:20.162169Z"
    },
    "id": "owSLyu6CZVke",
    "outputId": "5e155bca-c8b4-4613-a3c2-f50dd41c9beb",
    "colab": {
     "base_uri": "https://localhost:8080/",
     "height": 68
    }
   },
   "source": [
    "# 生成一个张量对象, 它有三行四列, 生成的值介于0和10之间(包含小值但不包括大值)\n",
    "torch.randint(low=0, high=10, size=(3,4))"
   ],
   "execution_count": 6,
   "outputs": [
    {
     "data": {
      "text/plain": "tensor([[8, 6, 8, 7],\n        [0, 2, 1, 2],\n        [8, 6, 6, 8]])"
     },
     "execution_count": 6,
     "metadata": {},
     "output_type": "execute_result"
    }
   ]
  },
  {
   "cell_type": "code",
   "metadata": {
    "ExecuteTime": {
     "end_time": "2020-09-25T19:01:20.169014Z",
     "start_time": "2020-09-25T19:01:20.166159Z"
    },
    "id": "3wz1iubjZXLn",
    "outputId": "2cba953d-6619-4845-97e9-5ea69c06068e",
    "colab": {
     "base_uri": "https://localhost:8080/",
     "height": 68
    }
   },
   "source": [
    "# 生成具有0和1之间随机数的三行四列的张量\n",
    "torch.rand(3, 4)"
   ],
   "execution_count": 7,
   "outputs": [
    {
     "data": {
      "text/plain": "tensor([[0.4468, 0.0776, 0.2071, 0.7695],\n        [0.6584, 0.4347, 0.5693, 0.7163],\n        [0.8118, 0.2063, 0.9942, 0.2635]])"
     },
     "execution_count": 7,
     "metadata": {},
     "output_type": "execute_result"
    }
   ]
  },
  {
   "cell_type": "code",
   "metadata": {
    "ExecuteTime": {
     "end_time": "2020-09-25T19:01:20.174384Z",
     "start_time": "2020-09-25T19:01:20.170128Z"
    },
    "id": "_-_lniB8ZwuX",
    "outputId": "ac7f1f58-5dd8-423b-ffe2-4d4a050f3a72",
    "colab": {
     "base_uri": "https://localhost:8080/",
     "height": 68
    }
   },
   "source": [
    "# 生成数值服从正态分布的三行四列的张量\n",
    "torch.randn((3,4))"
   ],
   "execution_count": 8,
   "outputs": [
    {
     "data": {
      "text/plain": "tensor([[ 1.1459,  0.1504, -2.5967,  1.3636],\n        [-0.7218,  0.2458, -0.3939, -1.6656],\n        [-0.4448, -2.4501, -0.2307, -1.5707]])"
     },
     "execution_count": 8,
     "metadata": {},
     "output_type": "execute_result"
    }
   ]
  },
  {
   "cell_type": "code",
   "metadata": {
    "ExecuteTime": {
     "end_time": "2020-09-25T19:22:06.835458Z",
     "start_time": "2020-09-25T19:22:06.829580Z"
    },
    "id": "xCwiFIwk2Bu2",
    "outputId": "292de0d2-6604-4d2d-dc1c-b8b0967555fd",
    "pycharm": {
     "name": "#%%\n"
    }
   },
   "source": [
    "import numpy as np\n",
    "\n",
    "# 可以直接使用torch.tensor(<Numpy-array>)将NumPy数组转换为Torch张量\n",
    "x = np.array([[10,20,30],[2,3,4]])\n",
    "y = torch.tensor(x)\n",
    "print(type(x), type(y))\n"
   ],
   "execution_count": 9,
   "outputs": [
    {
     "name": "stdout",
     "output_type": "stream",
     "text": [
      "<class 'numpy.ndarray'> <class 'torch.Tensor'>\n"
     ]
    }
   ]
  }
 ]
}