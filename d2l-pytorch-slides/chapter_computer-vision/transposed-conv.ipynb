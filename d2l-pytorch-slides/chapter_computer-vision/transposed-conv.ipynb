{
 "cells": [
  {
   "cell_type": "markdown",
   "id": "b93023ce",
   "metadata": {
    "slideshow": {
     "slide_type": "-"
    }
   },
   "source": [
    "# 转置卷积\n",
    "\n"
   ]
  },
  {
   "cell_type": "code",
   "execution_count": 1,
   "id": "0cec7331",
   "metadata": {
    "execution": {
     "iopub.execute_input": "2022-12-07T16:36:17.948513Z",
     "iopub.status.busy": "2022-12-07T16:36:17.947792Z",
     "iopub.status.idle": "2022-12-07T16:36:21.389597Z",
     "shell.execute_reply": "2022-12-07T16:36:21.388777Z"
    },
    "origin_pos": 2,
    "tab": [
     "pytorch"
    ]
   },
   "outputs": [],
   "source": [
    "import torch\n",
    "from torch import nn\n",
    "from d2l import torch as d2l"
   ]
  },
  {
   "cell_type": "markdown",
   "id": "f2b25e38",
   "metadata": {
    "slideshow": {
     "slide_type": "-"
    }
   },
   "source": [
    "实现基本的转置卷积运算"
   ]
  },
  {
   "cell_type": "code",
   "execution_count": 2,
   "id": "605c480a",
   "metadata": {
    "execution": {
     "iopub.execute_input": "2022-12-07T16:36:21.394054Z",
     "iopub.status.busy": "2022-12-07T16:36:21.393226Z",
     "iopub.status.idle": "2022-12-07T16:36:21.398782Z",
     "shell.execute_reply": "2022-12-07T16:36:21.397951Z"
    },
    "origin_pos": 5,
    "tab": [
     "pytorch"
    ]
   },
   "outputs": [],
   "source": [
    "def trans_conv(X, K):\n",
    "    h, w = K.shape\n",
    "    Y = torch.zeros((X.shape[0] + h - 1, X.shape[1] + w - 1))\n",
    "    for i in range(X.shape[0]):\n",
    "        for j in range(X.shape[1]):\n",
    "            Y[i: i + h, j: j + w] += X[i, j] * K\n",
    "    return Y"
   ]
  },
  {
   "cell_type": "markdown",
   "id": "71218b7f",
   "metadata": {
    "slideshow": {
     "slide_type": "slide"
    }
   },
   "source": [
    "验证上述实现输出"
   ]
  },
  {
   "cell_type": "code",
   "execution_count": 3,
   "id": "4a7b955c",
   "metadata": {
    "execution": {
     "iopub.execute_input": "2022-12-07T16:36:21.402218Z",
     "iopub.status.busy": "2022-12-07T16:36:21.401772Z",
     "iopub.status.idle": "2022-12-07T16:36:21.412250Z",
     "shell.execute_reply": "2022-12-07T16:36:21.411512Z"
    },
    "origin_pos": 7,
    "tab": [
     "pytorch"
    ]
   },
   "outputs": [
    {
     "data": {
      "text/plain": "tensor([[ 0.,  0.,  1.],\n        [ 0.,  4.,  6.],\n        [ 4., 12.,  9.]])"
     },
     "execution_count": 3,
     "metadata": {},
     "output_type": "execute_result"
    }
   ],
   "source": [
    "X = torch.tensor([[0.0, 1.0], [2.0, 3.0]])\n",
    "K = torch.tensor([[0.0, 1.0], [2.0, 3.0]])\n",
    "trans_conv(X, K)"
   ]
  },
  {
   "cell_type": "markdown",
   "id": "310beb21",
   "metadata": {
    "slideshow": {
     "slide_type": "slide"
    }
   },
   "source": [
    "使用高级API获得相同的结果"
   ]
  },
  {
   "cell_type": "code",
   "execution_count": 4,
   "id": "977fab6b",
   "metadata": {
    "execution": {
     "iopub.execute_input": "2022-12-07T16:36:21.415706Z",
     "iopub.status.busy": "2022-12-07T16:36:21.415148Z",
     "iopub.status.idle": "2022-12-07T16:36:21.422644Z",
     "shell.execute_reply": "2022-12-07T16:36:21.421897Z"
    },
    "origin_pos": 10,
    "tab": [
     "pytorch"
    ]
   },
   "outputs": [
    {
     "data": {
      "text/plain": "tensor([[[[ 0.,  0.,  1.],\n          [ 0.,  4.,  6.],\n          [ 4., 12.,  9.]]]], grad_fn=<ConvolutionBackward0>)"
     },
     "execution_count": 4,
     "metadata": {},
     "output_type": "execute_result"
    }
   ],
   "source": [
    "X, K = X.reshape(1, 1, 2, 2), K.reshape(1, 1, 2, 2)\n",
    "tconv = nn.ConvTranspose2d(1, 1, kernel_size=2, bias=False)\n",
    "tconv.weight.data = K\n",
    "tconv(X)"
   ]
  },
  {
   "cell_type": "markdown",
   "id": "e29ee7fa",
   "metadata": {
    "slideshow": {
     "slide_type": "slide"
    }
   },
   "source": [
    "填充、步幅和多通道"
   ]
  },
  {
   "cell_type": "code",
   "execution_count": 5,
   "id": "cba6e13e",
   "metadata": {
    "execution": {
     "iopub.execute_input": "2022-12-07T16:36:21.425955Z",
     "iopub.status.busy": "2022-12-07T16:36:21.425499Z",
     "iopub.status.idle": "2022-12-07T16:36:21.432042Z",
     "shell.execute_reply": "2022-12-07T16:36:21.431312Z"
    },
    "origin_pos": 14,
    "tab": [
     "pytorch"
    ]
   },
   "outputs": [
    {
     "data": {
      "text/plain": "tensor([[[[4.]]]], grad_fn=<ConvolutionBackward0>)"
     },
     "execution_count": 5,
     "metadata": {},
     "output_type": "execute_result"
    }
   ],
   "source": [
    "tconv = nn.ConvTranspose2d(1, 1, kernel_size=2, padding=1, bias=False)\n",
    "tconv.weight.data = K\n",
    "tconv(X)"
   ]
  },
  {
   "cell_type": "code",
   "execution_count": 6,
   "id": "087cdb75",
   "metadata": {
    "execution": {
     "iopub.execute_input": "2022-12-07T16:36:21.435590Z",
     "iopub.status.busy": "2022-12-07T16:36:21.435010Z",
     "iopub.status.idle": "2022-12-07T16:36:21.441737Z",
     "shell.execute_reply": "2022-12-07T16:36:21.440991Z"
    },
    "origin_pos": 18,
    "tab": [
     "pytorch"
    ]
   },
   "outputs": [
    {
     "data": {
      "text/plain": "tensor([[[[0., 0., 0., 1.],\n          [0., 0., 2., 3.],\n          [0., 2., 0., 3.],\n          [4., 6., 6., 9.]]]], grad_fn=<ConvolutionBackward0>)"
     },
     "execution_count": 6,
     "metadata": {},
     "output_type": "execute_result"
    }
   ],
   "source": [
    "tconv = nn.ConvTranspose2d(1, 1, kernel_size=2, stride=2, bias=False)\n",
    "tconv.weight.data = K\n",
    "tconv(X)"
   ]
  },
  {
   "cell_type": "code",
   "execution_count": 7,
   "id": "16d7c50e",
   "metadata": {
    "execution": {
     "iopub.execute_input": "2022-12-07T16:36:21.445002Z",
     "iopub.status.busy": "2022-12-07T16:36:21.444562Z",
     "iopub.status.idle": "2022-12-07T16:36:21.455335Z",
     "shell.execute_reply": "2022-12-07T16:36:21.454575Z"
    },
    "origin_pos": 22,
    "tab": [
     "pytorch"
    ]
   },
   "outputs": [
    {
     "data": {
      "text/plain": "True"
     },
     "execution_count": 7,
     "metadata": {},
     "output_type": "execute_result"
    }
   ],
   "source": [
    "X = torch.rand(size=(1, 10, 16, 16))\n",
    "conv = nn.Conv2d(10, 20, kernel_size=5, padding=2, stride=3)\n",
    "tconv = nn.ConvTranspose2d(20, 10, kernel_size=5, padding=2, stride=3)\n",
    "tconv(conv(X)).shape == X.shape"
   ]
  },
  {
   "cell_type": "markdown",
   "id": "baec7d25",
   "metadata": {
    "slideshow": {
     "slide_type": "slide"
    }
   },
   "source": [
    "与矩阵变换的联系"
   ]
  },
  {
   "cell_type": "code",
   "execution_count": 8,
   "id": "4eb9cbf2",
   "metadata": {
    "execution": {
     "iopub.execute_input": "2022-12-07T16:36:21.458559Z",
     "iopub.status.busy": "2022-12-07T16:36:21.458130Z",
     "iopub.status.idle": "2022-12-07T16:36:21.465205Z",
     "shell.execute_reply": "2022-12-07T16:36:21.464459Z"
    },
    "origin_pos": 25,
    "tab": [
     "pytorch"
    ]
   },
   "outputs": [
    {
     "data": {
      "text/plain": "tensor([[27., 37.],\n        [57., 67.]])"
     },
     "execution_count": 8,
     "metadata": {},
     "output_type": "execute_result"
    }
   ],
   "source": [
    "X = torch.arange(9.0).reshape(3, 3)\n",
    "K = torch.tensor([[1.0, 2.0], [3.0, 4.0]])\n",
    "Y = d2l.corr2d(X, K)\n",
    "Y"
   ]
  },
  {
   "cell_type": "code",
   "execution_count": 9,
   "id": "cb326ae3",
   "metadata": {
    "execution": {
     "iopub.execute_input": "2022-12-07T16:36:21.468512Z",
     "iopub.status.busy": "2022-12-07T16:36:21.468072Z",
     "iopub.status.idle": "2022-12-07T16:36:21.476146Z",
     "shell.execute_reply": "2022-12-07T16:36:21.475404Z"
    },
    "origin_pos": 28,
    "tab": [
     "pytorch"
    ]
   },
   "outputs": [
    {
     "data": {
      "text/plain": "tensor([[1., 2., 0., 3., 4., 0., 0., 0., 0.],\n        [0., 1., 2., 0., 3., 4., 0., 0., 0.],\n        [0., 0., 0., 1., 2., 0., 3., 4., 0.],\n        [0., 0., 0., 0., 1., 2., 0., 3., 4.]])"
     },
     "execution_count": 9,
     "metadata": {},
     "output_type": "execute_result"
    }
   ],
   "source": [
    "def kernel2matrix(K):\n",
    "    k, W = torch.zeros(5), torch.zeros((4, 9))\n",
    "    k[:2], k[3:5] = K[0, :], K[1, :]\n",
    "    W[0, :5], W[1, 1:6], W[2, 3:8], W[3, 4:] = k, k, k, k\n",
    "    return W\n",
    "\n",
    "W = kernel2matrix(K)\n",
    "W"
   ]
  },
  {
   "cell_type": "code",
   "execution_count": 10,
   "id": "21c7b41b",
   "metadata": {
    "execution": {
     "iopub.execute_input": "2022-12-07T16:36:21.479898Z",
     "iopub.status.busy": "2022-12-07T16:36:21.479216Z",
     "iopub.status.idle": "2022-12-07T16:36:21.485176Z",
     "shell.execute_reply": "2022-12-07T16:36:21.484465Z"
    },
    "origin_pos": 31,
    "tab": [
     "pytorch"
    ]
   },
   "outputs": [
    {
     "data": {
      "text/plain": "tensor([[True, True],\n        [True, True]])"
     },
     "execution_count": 10,
     "metadata": {},
     "output_type": "execute_result"
    }
   ],
   "source": [
    "Y == torch.matmul(W, X.reshape(-1)).reshape(2, 2)"
   ]
  },
  {
   "cell_type": "code",
   "execution_count": 11,
   "id": "8c39ace7",
   "metadata": {
    "execution": {
     "iopub.execute_input": "2022-12-07T16:36:21.488405Z",
     "iopub.status.busy": "2022-12-07T16:36:21.487974Z",
     "iopub.status.idle": "2022-12-07T16:36:21.494192Z",
     "shell.execute_reply": "2022-12-07T16:36:21.493463Z"
    },
    "origin_pos": 34,
    "tab": [
     "pytorch"
    ]
   },
   "outputs": [
    {
     "data": {
      "text/plain": "tensor([[True, True, True],\n        [True, True, True],\n        [True, True, True]])"
     },
     "execution_count": 11,
     "metadata": {},
     "output_type": "execute_result"
    }
   ],
   "source": [
    "Z = trans_conv(Y, K)\n",
    "Z == torch.matmul(W.T, Y.reshape(-1)).reshape(3, 3)"
   ]
  }
 ],
 "metadata": {
  "celltoolbar": "Slideshow",
  "language_info": {
   "name": "python"
  },
  "rise": {
   "autolaunch": true,
   "enable_chalkboard": true,
   "overlay": "<div class='my-top-right'><img height=80px src='http://d2l.ai/_static/logo-with-text.png'/></div><div class='my-top-left'></div>",
   "scroll": true
  },
  "kernelspec": {
   "name": "pycharm-9146fa6d",
   "language": "python",
   "display_name": "PyCharm (DeepLearningTutorial)"
  }
 },
 "nbformat": 4,
 "nbformat_minor": 5
}