{
 "nbformat": 4,
 "nbformat_minor": 0,
 "metadata": {
  "colab": {
   "name": "Building_a_neural_network_using_PyTorch_on_a_toy_dataset.ipynb",
   "provenance": [],
   "include_colab_link": true
  },
  "kernelspec": {
   "name": "pycharm-9146fa6d",
   "language": "python",
   "display_name": "PyCharm (DeepLearningTutorial)"
  },
  "language_info": {
   "codemirror_mode": {
    "name": "ipython",
    "version": 3
   },
   "file_extension": ".py",
   "mimetype": "text/x-python",
   "name": "python",
   "nbconvert_exporter": "python",
   "pygments_lexer": "ipython3",
   "version": "3.7.6"
  }
 },
 "cells": [
  {
   "cell_type": "markdown",
   "metadata": {
    "id": "view-in-github",
    "colab_type": "text"
   },
   "source": [
    "<a href=\"https://colab.research.google.com/github/PacktPublishing/Hands-On-Computer-Vision-with-PyTorch/blob/master/Chapter02/Building_a_neural_network_using_PyTorch_on_a_toy_dataset.ipynb\" target=\"_parent\"><img src=\"https://colab.research.google.com/assets/colab-badge.svg\" alt=\"Open In Colab\"/></a>"
   ]
  },
  {
   "cell_type": "markdown",
   "source": [
    "### 2.3 使用PyTorch构建神经网络"
   ],
   "metadata": {
    "collapsed": false,
    "pycharm": {
     "name": "#%% md\n"
    }
   }
  },
  {
   "cell_type": "code",
   "metadata": {
    "ExecuteTime": {
     "end_time": "2020-09-25T19:37:27.437450Z",
     "start_time": "2020-09-25T19:37:27.143217Z"
    },
    "id": "e1gtGb85daHv"
   },
   "source": [
    "import torch\n",
    "\n",
    "# 1. define input: x and output: y\n",
    "x = [[1,2],[3,4],[5,6],[7,8]]\n",
    "y = [[3],[7],[11],[15]]"
   ],
   "execution_count": 1,
   "outputs": []
  },
  {
   "cell_type": "code",
   "metadata": {
    "ExecuteTime": {
     "end_time": "2020-09-25T19:37:27.440914Z",
     "start_time": "2020-09-25T19:37:27.438557Z"
    },
    "id": "ZaYGlxtQdbd1"
   },
   "source": [
    "# 2. 将输入列表转换为浮点张量对象\n",
    "X = torch.tensor(x).float()\n",
    "Y = torch.tensor(y).float()"
   ],
   "execution_count": 2,
   "outputs": []
  },
  {
   "cell_type": "code",
   "metadata": {
    "ExecuteTime": {
     "end_time": "2020-09-25T19:37:29.527549Z",
     "start_time": "2020-09-25T19:37:27.442428Z"
    },
    "id": "q5DT95H_dcwi"
   },
   "source": [
    "# 将数据注册到设备中\n",
    "device = 'cuda' if torch.cuda.is_available() else 'cpu'\n",
    "X = X.to(device)\n",
    "Y = Y.to(device)"
   ],
   "execution_count": 3,
   "outputs": []
  },
  {
   "cell_type": "code",
   "metadata": {
    "ExecuteTime": {
     "end_time": "2020-09-25T19:37:29.530750Z",
     "start_time": "2020-09-25T19:37:29.528696Z"
    },
    "id": "rHq7VwgDdeJ-"
   },
   "source": [
    "import torch.nn as nn"
   ],
   "execution_count": 4,
   "outputs": []
  },
  {
   "cell_type": "code",
   "metadata": {
    "ExecuteTime": {
     "end_time": "2020-09-25T19:37:29.535567Z",
     "start_time": "2020-09-25T19:37:29.531890Z"
    },
    "id": "clpig_05dfYK"
   },
   "source": [
    "# 3. 定义神经网络架构\n",
    "# nn.Module是所有神经网络模块的基类\n",
    "class MyNeuralNet(nn.Module):\n",
    "    # 使用__init__方法初始化神经网络的所有组件\n",
    "    def __init__(self):\n",
    "        # 必须调用super().__init__()来确保类继承nn.Module\n",
    "        super().__init__()\n",
    "        # 定义神经网络的层\n",
    "        self.input_to_hidden_layer = nn.Linear(2,8)\n",
    "        self.hidden_layer_activation = nn.ReLU()\n",
    "        self.hidden_to_output_layer = nn.Linear(8,1)\n",
    "    # 必须使用forward作为函数名 PyTorch保留了这个函数作为执行前向传播的方法\n",
    "    def forward(self, x):\n",
    "        x = self.input_to_hidden_layer(x)\n",
    "        x = self.hidden_layer_activation(x)\n",
    "        x = self.hidden_to_output_layer(x)\n",
    "        return x\n",
    "\n",
    "# 可以通过输出来理解上述代码中函数nn.Linear方法完成的功能\n",
    "print(nn.Linear(2, 7))"
   ],
   "execution_count": 5,
   "outputs": [
    {
     "name": "stdout",
     "output_type": "stream",
     "text": [
      "Linear(in_features=2, out_features=7, bias=True)\n"
     ]
    }
   ]
  },
  {
   "cell_type": "code",
   "metadata": {
    "ExecuteTime": {
     "end_time": "2020-09-25T19:37:29.540168Z",
     "start_time": "2020-09-25T19:37:29.536723Z"
    },
    "id": "McmLsQstdnxr"
   },
   "source": [
    "# 4. 可以通过以下步骤获取每个组件的初始权重\n",
    "# 定义MyNeuralNet类对象的一个实例 并注册到device\n",
    "mynet = MyNeuralNet().to(device)\n",
    "\n",
    "# 可以通过以下方式获取每一层的权重和偏置项\n",
    "mynet.input_to_hidden_layer.weight"
   ],
   "execution_count": 6,
   "outputs": [
    {
     "data": {
      "text/plain": "Parameter containing:\ntensor([[-0.6179,  0.4473],\n        [-0.3869, -0.2472],\n        [ 0.4835,  0.1609],\n        [ 0.6792, -0.5558],\n        [ 0.5160,  0.4921],\n        [ 0.2755, -0.5618],\n        [-0.2826,  0.4804],\n        [ 0.3036,  0.5293]], device='cuda:0', requires_grad=True)"
     },
     "execution_count": 6,
     "metadata": {},
     "output_type": "execute_result"
    }
   ]
  },
  {
   "cell_type": "code",
   "execution_count": 7,
   "outputs": [
    {
     "data": {
      "text/plain": "<generator object Module.parameters at 0x00000221D202AC10>"
     },
     "execution_count": 7,
     "metadata": {},
     "output_type": "execute_result"
    }
   ],
   "source": [
    "# 可以使用下列代码获得神经网络的所有参数\n",
    "mynet.parameters()"
   ],
   "metadata": {
    "collapsed": false,
    "pycharm": {
     "name": "#%%\n"
    }
   }
  },
  {
   "cell_type": "code",
   "execution_count": 8,
   "outputs": [
    {
     "name": "stdout",
     "output_type": "stream",
     "text": [
      "Parameter containing:\n",
      "tensor([[-0.6179,  0.4473],\n",
      "        [-0.3869, -0.2472],\n",
      "        [ 0.4835,  0.1609],\n",
      "        [ 0.6792, -0.5558],\n",
      "        [ 0.5160,  0.4921],\n",
      "        [ 0.2755, -0.5618],\n",
      "        [-0.2826,  0.4804],\n",
      "        [ 0.3036,  0.5293]], device='cuda:0', requires_grad=True)\n",
      "Parameter containing:\n",
      "tensor([ 0.3732,  0.2767,  0.1508, -0.1812,  0.0356,  0.1483,  0.0163, -0.6178],\n",
      "       device='cuda:0', requires_grad=True)\n",
      "Parameter containing:\n",
      "tensor([[ 0.1179,  0.2062,  0.3422, -0.0870, -0.2650, -0.2286, -0.0238,  0.1047]],\n",
      "       device='cuda:0', requires_grad=True)\n",
      "Parameter containing:\n",
      "tensor([0.1619], device='cuda:0', requires_grad=True)\n"
     ]
    }
   ],
   "source": [
    "# 上述代码返回一个生成器对象\n",
    "# 通过循环遍历生成器 可以得到如下参数\n",
    "for par in mynet.parameters():\n",
    "    print(par)"
   ],
   "metadata": {
    "collapsed": false,
    "pycharm": {
     "name": "#%%\n"
    }
   }
  },
  {
   "cell_type": "code",
   "execution_count": 9,
   "outputs": [],
   "source": [
    "# 使用nn.Parameter函数定义神经网络模型的另一种方法如下\n",
    "class MyNeuralNet2(nn.Module):\n",
    "    def __init__(self):\n",
    "        super().__init__()\n",
    "        self.input_to_hidden_layer = nn.Parameter(torch.rand(2, 8))\n",
    "        self.hidden_layer_activation = nn.ReLU()\n",
    "        self.hidden_to_output_layer = nn.Parameter(torch.rand(8, 1))\n",
    "    # 必须使用forward作为函数名 PyTorch保留了这个函数作为执行前向传播的方法\n",
    "    def forward(self, x):\n",
    "        x = x @ self.input_to_hidden_layer\n",
    "        x = self.hidden_layer_activation(x)\n",
    "        x = x @ self.hidden_to_output_layer\n",
    "        return x"
   ],
   "metadata": {
    "collapsed": false,
    "pycharm": {
     "name": "#%%\n"
    }
   }
  },
  {
   "cell_type": "code",
   "metadata": {
    "ExecuteTime": {
     "end_time": "2020-09-25T19:37:29.544857Z",
     "start_time": "2020-09-25T19:37:29.541272Z"
    },
    "id": "8cyG-B-AdoBB"
   },
   "source": [
    "# 5. 定义用于最优化的损失函数 (由于回归任务预测的是连续输出, 这里将优化均方误差)\n",
    "loss_func = nn.MSELoss()"
   ],
   "execution_count": 10,
   "outputs": []
  },
  {
   "cell_type": "code",
   "metadata": {
    "ExecuteTime": {
     "end_time": "2020-09-25T19:37:29.554504Z",
     "start_time": "2020-09-25T19:37:29.546221Z"
    },
    "id": "QRTf8vdKdqmP",
    "outputId": "202d1e33-b0c3-4dcc-a760-c96bb5e94ea2",
    "colab": {
     "base_uri": "https://localhost:8080/",
     "height": 34
    }
   },
   "source": [
    "# 通过将输入值传递给neuralnet对象, 然后计算给定输入的MSELoss, 就可以计算出神经网络的损失值\n",
    "_Y = mynet(X)\n",
    "loss_value = loss_func(_Y,Y)\n",
    "print(loss_value)"
   ],
   "execution_count": 11,
   "outputs": [
    {
     "name": "stdout",
     "output_type": "stream",
     "text": [
      "tensor(95.6832, device='cuda:0', grad_fn=<MseLossBackward0>)\n"
     ]
    }
   ]
  },
  {
   "cell_type": "code",
   "metadata": {
    "ExecuteTime": {
     "end_time": "2020-09-25T19:37:29.558932Z",
     "start_time": "2020-09-25T19:37:29.555392Z"
    },
    "id": "dTOdsvFydsQK"
   },
   "source": [
    "from torch.optim import SGD\n",
    "\n",
    "# 6. 定义优化器, 这里使用SGD随机梯度下降的优化方法, 在初始化时需指定更新的参数和学习率\n",
    "opt = SGD(mynet.parameters(), lr = 0.001)"
   ],
   "execution_count": 12,
   "outputs": []
  },
  {
   "cell_type": "code",
   "metadata": {
    "ExecuteTime": {
     "end_time": "2020-09-25T19:37:29.588488Z",
     "start_time": "2020-09-25T19:37:29.560089Z"
    },
    "id": "xyHCZwfYduGO"
   },
   "source": [
    "# 7. 在一轮中一起执行所有要做的步骤\n",
    "# 计算给定输入和输出所对应的损失值\n",
    "# 计算每个参数对应的梯度\n",
    "# 根据每个参数的学习率和梯度更新权重\n",
    "# 一旦权重被更新, 就要确保在下轮计算梯度之前刷新上一步计算的梯度\n",
    "\n",
    "loss_history = [] # 存储每轮的损失值\n",
    "for _ in range(50):\n",
    "    opt.zero_grad()\n",
    "    loss_value = loss_func(mynet(X),Y)\n",
    "    loss_value.backward()\n",
    "    opt.step()\n",
    "    loss_history.append(loss_value.item())"
   ],
   "execution_count": 13,
   "outputs": []
  },
  {
   "cell_type": "code",
   "metadata": {
    "ExecuteTime": {
     "end_time": "2020-09-25T19:37:29.838987Z",
     "start_time": "2020-09-25T19:37:29.589467Z"
    },
    "id": "DiO6I53udwvY",
    "outputId": "5dd07791-cb79-4f27-d5c4-2c6b17e9f614",
    "colab": {
     "base_uri": "https://localhost:8080/",
     "height": 312
    },
    "pycharm": {
     "name": "#%%\n"
    }
   },
   "source": [
    "import matplotlib.pyplot as plt\n",
    "%matplotlib inline\n",
    "\n",
    "# 绘制出损失随着轮数增加而发生的变化\n",
    "plt.plot(loss_history)\n",
    "plt.title('Loss variation over increasing epochs')\n",
    "plt.xlabel('epochs')\n",
    "plt.ylabel('loss value')\n"
   ],
   "execution_count": 14,
   "outputs": [
    {
     "data": {
      "text/plain": "Text(0, 0.5, 'loss value')"
     },
     "execution_count": 14,
     "metadata": {},
     "output_type": "execute_result"
    },
    {
     "data": {
      "text/plain": "<Figure size 640x480 with 1 Axes>",
      "image/png": "[encoded data removed]"
     },
     "metadata": {},
     "output_type": "display_data"
    }
   ]
  }
 ]
}