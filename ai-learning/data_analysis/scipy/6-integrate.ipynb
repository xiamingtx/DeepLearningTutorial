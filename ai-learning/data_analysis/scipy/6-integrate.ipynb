{
 "cells": [
  {
   "cell_type": "markdown",
   "metadata": {
    "collapsed": true,
    "pycharm": {
     "name": "#%% md\n"
    }
   },
   "source": [
    "## 积分\n",
    "\n",
    "### 符号积分\n",
    "\n",
    "积分与求导的关系：\n",
    "\n",
    "$\\frac{\\text{d}}{\\text{d} x}F(x)=f(x)\\implies F(x)=\\int f(x)\\text{d}x$\n",
    "\n",
    "符号运算可以用 `sympy` 模块完成。\n",
    "\n",
    "先导入 `init_printing` 模块方便其显示："
   ]
  },
  {
   "cell_type": "code",
   "execution_count": 1,
   "outputs": [],
   "source": [
    "from sympy import init_printing\n",
    "init_printing()"
   ],
   "metadata": {
    "collapsed": false,
    "pycharm": {
     "name": "#%%\n"
    }
   }
  },
  {
   "cell_type": "code",
   "execution_count": 2,
   "outputs": [],
   "source": [
    "from sympy import symbols, integrate\n",
    "import sympy"
   ],
   "metadata": {
    "collapsed": false,
    "pycharm": {
     "name": "#%%\n"
    }
   }
  },
  {
   "cell_type": "markdown",
   "source": [
    "产生 x 和 y 两个符号变量，并进行运算："
   ],
   "metadata": {
    "collapsed": false,
    "pycharm": {
     "name": "#%% md\n"
    }
   }
  },
  {
   "cell_type": "code",
   "execution_count": 3,
   "outputs": [
    {
     "data": {
      "text/plain": "   _________\n  ╱  2    2 \n╲╱  x  + y  ",
      "image/png": "[encoded data removed]",
      "text/latex": "$\\displaystyle \\sqrt{x^{2} + y^{2}}$"
     },
     "execution_count": 3,
     "metadata": {},
     "output_type": "execute_result"
    }
   ],
   "source": [
    "x, y = symbols('x y')\n",
    "sympy.sqrt(x ** 2 + y ** 2)"
   ],
   "metadata": {
    "collapsed": false,
    "pycharm": {
     "name": "#%%\n"
    }
   }
  },
  {
   "cell_type": "markdown",
   "source": [
    "对于生成的符号变量 `z`，我们将其中的 `x` 利用 `subs` 方法替换为 `3`："
   ],
   "metadata": {
    "collapsed": false,
    "pycharm": {
     "name": "#%% md\n"
    }
   }
  },
  {
   "cell_type": "code",
   "execution_count": 4,
   "outputs": [
    {
     "data": {
      "text/plain": "   ________\n  ╱  2     \n╲╱  y  + 9 ",
      "image/png": "[encoded data removed]",
      "text/latex": "$\\displaystyle \\sqrt{y^{2} + 9}$"
     },
     "execution_count": 4,
     "metadata": {},
     "output_type": "execute_result"
    }
   ],
   "source": [
    "z = sympy.sqrt(x ** 2 + y ** 2)\n",
    "z.subs(x, 3)"
   ],
   "metadata": {
    "collapsed": false,
    "pycharm": {
     "name": "#%%\n"
    }
   }
  },
  {
   "cell_type": "markdown",
   "source": [
    "再替换 y："
   ],
   "metadata": {
    "collapsed": false,
    "pycharm": {
     "name": "#%% md\n"
    }
   }
  },
  {
   "cell_type": "code",
   "execution_count": 5,
   "outputs": [
    {
     "data": {
      "text/plain": "5",
      "image/png": "[encoded data removed]",
      "text/latex": "$\\displaystyle 5$"
     },
     "execution_count": 5,
     "metadata": {},
     "output_type": "execute_result"
    }
   ],
   "source": [
    "z.subs(x, 3).subs(y, 4)"
   ],
   "metadata": {
    "collapsed": false,
    "pycharm": {
     "name": "#%%\n"
    }
   }
  },
  {
   "cell_type": "markdown",
   "source": [
    "还可以从 sympy.abc 中导入现成的符号变量："
   ],
   "metadata": {
    "collapsed": false,
    "pycharm": {
     "name": "#%% md\n"
    }
   }
  },
  {
   "cell_type": "code",
   "execution_count": 6,
   "outputs": [
    {
     "data": {
      "text/plain": "   2   \nsin (θ)",
      "image/png": "[encoded data removed]",
      "text/latex": "$\\displaystyle \\sin^{2}{\\left(\\theta \\right)}$"
     },
     "execution_count": 6,
     "metadata": {},
     "output_type": "execute_result"
    }
   ],
   "source": [
    "from sympy.abc import theta\n",
    "y = sympy.sin(theta) ** 2\n",
    "y"
   ],
   "metadata": {
    "collapsed": false,
    "pycharm": {
     "name": "#%%\n"
    }
   }
  },
  {
   "cell_type": "markdown",
   "source": [
    "对 y 进行积分："
   ],
   "metadata": {
    "collapsed": false,
    "pycharm": {
     "name": "#%% md\n"
    }
   }
  },
  {
   "cell_type": "code",
   "execution_count": 7,
   "outputs": [
    {
     "data": {
      "text/plain": "θ   sin(θ)⋅cos(θ)\n─ - ─────────────\n2         2      ",
      "image/png": "[encoded data removed]",
      "text/latex": "$\\displaystyle \\frac{\\theta}{2} - \\frac{\\sin{\\left(\\theta \\right)} \\cos{\\left(\\theta \\right)}}{2}$"
     },
     "execution_count": 7,
     "metadata": {},
     "output_type": "execute_result"
    }
   ],
   "source": [
    "Y = integrate(y)\n",
    "Y"
   ],
   "metadata": {
    "collapsed": false,
    "pycharm": {
     "name": "#%%\n"
    }
   }
  },
  {
   "cell_type": "markdown",
   "source": [
    "计算 $Y(\\pi) - Y(0)$"
   ],
   "metadata": {
    "collapsed": false,
    "pycharm": {
     "name": "#%% md\n"
    }
   }
  },
  {
   "cell_type": "code",
   "execution_count": 8,
   "outputs": [
    {
     "data": {
      "text/plain": "1.57079632679490",
      "image/png": "[encoded data removed]",
      "text/latex": "$\\displaystyle 1.5707963267949$"
     },
     "execution_count": 8,
     "metadata": {},
     "output_type": "execute_result"
    }
   ],
   "source": [
    "import numpy as np\n",
    "np.set_printoptions(precision=3)\n",
    "\n",
    "Y.subs(theta, np.pi) - Y.subs(theta, 0)"
   ],
   "metadata": {
    "collapsed": false,
    "pycharm": {
     "name": "#%%\n"
    }
   }
  },
  {
   "cell_type": "markdown",
   "source": [
    "计算$\\int_{0}^{\\pi}y\\text{d}\\theta$"
   ],
   "metadata": {
    "collapsed": false,
    "pycharm": {
     "name": "#%% md\n"
    }
   }
  },
  {
   "cell_type": "code",
   "execution_count": 9,
   "outputs": [
    {
     "data": {
      "text/plain": "π\n─\n2",
      "image/png": "[encoded data removed]",
      "text/latex": "$\\displaystyle \\frac{\\pi}{2}$"
     },
     "execution_count": 9,
     "metadata": {},
     "output_type": "execute_result"
    }
   ],
   "source": [
    "integrate(y, (theta, 0, sympy.pi))"
   ],
   "metadata": {
    "collapsed": false,
    "pycharm": {
     "name": "#%%\n"
    }
   }
  },
  {
   "cell_type": "markdown",
   "source": [
    "显示的是字符表达式，查看具体数值可以使用 `evalf()` 方法，或者传入 `numpy.pi`，而不是 `sympy.pi` ："
   ],
   "metadata": {
    "collapsed": false,
    "pycharm": {
     "name": "#%% md\n"
    }
   }
  },
  {
   "cell_type": "code",
   "execution_count": 10,
   "outputs": [
    {
     "data": {
      "text/plain": "1.57079632679490",
      "image/png": "[encoded data removed]",
      "text/latex": "$\\displaystyle 1.5707963267949$"
     },
     "execution_count": 10,
     "metadata": {},
     "output_type": "execute_result"
    }
   ],
   "source": [
    "integrate(y, (theta, 0, sympy.pi)).evalf()"
   ],
   "metadata": {
    "collapsed": false,
    "pycharm": {
     "name": "#%%\n"
    }
   }
  },
  {
   "cell_type": "code",
   "execution_count": 11,
   "outputs": [
    {
     "data": {
      "text/plain": "1.57079632679490",
      "image/png": "[encoded data removed]",
      "text/latex": "$\\displaystyle 1.5707963267949$"
     },
     "execution_count": 11,
     "metadata": {},
     "output_type": "execute_result"
    }
   ],
   "source": [
    "integrate(y, (theta, 0, np.pi))"
   ],
   "metadata": {
    "collapsed": false,
    "pycharm": {
     "name": "#%%\n"
    }
   }
  },
  {
   "cell_type": "markdown",
   "source": [
    "根据牛顿莱布尼兹公式，这两个数值应该相等。\n",
    "\n",
    "产生不定积分对象："
   ],
   "metadata": {
    "collapsed": false,
    "pycharm": {
     "name": "#%% md\n"
    }
   }
  },
  {
   "cell_type": "code",
   "execution_count": 12,
   "outputs": [
    {
     "data": {
      "text/plain": "⌠           \n⎮    2      \n⎮ sin (θ) dθ\n⌡           ",
      "image/png": "[encoded data removed]",
      "text/latex": "$\\displaystyle \\int \\sin^{2}{\\left(\\theta \\right)}\\, d\\theta$"
     },
     "execution_count": 12,
     "metadata": {},
     "output_type": "execute_result"
    }
   ],
   "source": [
    "Y_indef = sympy.Integral(y)\n",
    "Y_indef"
   ],
   "metadata": {
    "collapsed": false,
    "pycharm": {
     "name": "#%%\n"
    }
   }
  },
  {
   "cell_type": "code",
   "execution_count": 13,
   "outputs": [
    {
     "name": "stdout",
     "output_type": "stream",
     "text": [
      "<class 'sympy.integrals.integrals.Integral'>\n"
     ]
    }
   ],
   "source": [
    "print(type(Y_indef))"
   ],
   "metadata": {
    "collapsed": false,
    "pycharm": {
     "name": "#%%\n"
    }
   }
  },
  {
   "cell_type": "markdown",
   "source": [
    "定积分："
   ],
   "metadata": {
    "collapsed": false,
    "pycharm": {
     "name": "#%% md\n"
    }
   }
  },
  {
   "cell_type": "code",
   "execution_count": 14,
   "outputs": [
    {
     "data": {
      "text/plain": "π           \n⌠           \n⎮    2      \n⎮ sin (θ) dθ\n⌡           \n0           ",
      "image/png": "[encoded data removed]",
      "text/latex": "$\\displaystyle \\int\\limits_{0}^{\\pi} \\sin^{2}{\\left(\\theta \\right)}\\, d\\theta$"
     },
     "execution_count": 14,
     "metadata": {},
     "output_type": "execute_result"
    }
   ],
   "source": [
    "Y_def = sympy.Integral(y, (theta, 0, sympy.pi))\n",
    "Y_def"
   ],
   "metadata": {
    "collapsed": false,
    "pycharm": {
     "name": "#%%\n"
    }
   }
  },
  {
   "cell_type": "markdown",
   "source": [
    "产生函数$Y(x)=\\int_{0}^{x}sin^{2}(\\theta)\\text{d}\\theta$ 并将其向量化："
   ],
   "metadata": {
    "collapsed": false,
    "pycharm": {
     "name": "#%% md\n"
    }
   }
  },
  {
   "cell_type": "code",
   "execution_count": 15,
   "outputs": [],
   "source": [
    "Y_raw = lambda x: integrate(y, (theta, 0, x))\n",
    "Y = np.vectorize(Y_raw)"
   ],
   "metadata": {
    "collapsed": false,
    "pycharm": {
     "name": "#%%\n"
    }
   }
  },
  {
   "cell_type": "code",
   "execution_count": 16,
   "outputs": [
    {
     "data": {
      "text/plain": "<Figure size 640x480 with 1 Axes>",
      "image/png": "[encoded data removed]"
     },
     "metadata": {},
     "output_type": "display_data"
    }
   ],
   "source": [
    "%matplotlib inline\n",
    "import matplotlib.pyplot as plt\n",
    "\n",
    "x = np.linspace(0, 2 * np.pi)\n",
    "p = plt.plot(x, Y(x))\n",
    "t = plt.title(r'$Y(x) = \\int_0^x sin^2(\\theta) d\\theta$')"
   ],
   "metadata": {
    "collapsed": false,
    "pycharm": {
     "name": "#%%\n"
    }
   }
  },
  {
   "cell_type": "markdown",
   "source": [
    "### 数值积分\n",
    "\n",
    "数值积分：$$F(x)=\\lim_{n\\rightarrow\\infty}\\sum_{i=0}^{n-1}f(x_i)(x_{i+1}-x_i)\\implies F(x)=\\int_{x_0}^{x_n}f(x)\\text{d}x$$\n",
    "\n",
    "导入贝塞尔函数："
   ],
   "metadata": {
    "collapsed": false,
    "pycharm": {
     "name": "#%% md\n"
    }
   }
  },
  {
   "cell_type": "code",
   "execution_count": 17,
   "outputs": [],
   "source": [
    "from scipy.special import jv"
   ],
   "metadata": {
    "collapsed": false,
    "pycharm": {
     "name": "#%%\n"
    }
   }
  },
  {
   "cell_type": "code",
   "execution_count": 18,
   "outputs": [],
   "source": [
    "def f(x):\n",
    "    return jv(2.5, x)"
   ],
   "metadata": {
    "collapsed": false,
    "pycharm": {
     "name": "#%%\n"
    }
   }
  },
  {
   "cell_type": "code",
   "execution_count": 19,
   "outputs": [
    {
     "data": {
      "text/plain": "<Figure size 640x480 with 1 Axes>",
      "image/png": "[encoded data removed]"
     },
     "metadata": {},
     "output_type": "display_data"
    }
   ],
   "source": [
    "x = np.linspace(0, 10)\n",
    "p = plt.plot(x, f(x), 'k-')"
   ],
   "metadata": {
    "collapsed": false,
    "pycharm": {
     "name": "#%%\n"
    }
   }
  },
  {
   "cell_type": "markdown",
   "source": [
    "`quad` 函数\n",
    "\n",
    "Quadrature 积分的原理参见：\n",
    "\n",
    "http://en.wikipedia.org/wiki/Numerical_integration#Quadrature_rules_based_on_interpolating_functions\n",
    "\n",
    "quad 返回一个 (积分值，误差) 组成的元组："
   ],
   "metadata": {
    "collapsed": false,
    "pycharm": {
     "name": "#%% md\n"
    }
   }
  },
  {
   "cell_type": "code",
   "execution_count": 20,
   "outputs": [],
   "source": [
    "from scipy.integrate import quad\n",
    "\n",
    "interval = [0, 6.5]\n",
    "value, max_err = quad(f, *interval)"
   ],
   "metadata": {
    "collapsed": false,
    "pycharm": {
     "name": "#%%\n"
    }
   }
  },
  {
   "cell_type": "markdown",
   "source": [
    "积分值："
   ],
   "metadata": {
    "collapsed": false,
    "pycharm": {
     "name": "#%% md\n"
    }
   }
  },
  {
   "cell_type": "code",
   "execution_count": 21,
   "outputs": [
    {
     "name": "stdout",
     "output_type": "stream",
     "text": [
      "1.2847429723410955\n"
     ]
    }
   ],
   "source": [
    "print(value)"
   ],
   "metadata": {
    "collapsed": false,
    "pycharm": {
     "name": "#%%\n"
    }
   }
  },
  {
   "cell_type": "markdown",
   "source": [
    "最大误差："
   ],
   "metadata": {
    "collapsed": false,
    "pycharm": {
     "name": "#%% md\n"
    }
   }
  },
  {
   "cell_type": "code",
   "execution_count": 22,
   "outputs": [
    {
     "name": "stdout",
     "output_type": "stream",
     "text": [
      "2.3418185139578114e-09\n"
     ]
    }
   ],
   "source": [
    "print(max_err)"
   ],
   "metadata": {
    "collapsed": false,
    "pycharm": {
     "name": "#%%\n"
    }
   }
  },
  {
   "cell_type": "markdown",
   "source": [
    "积分区间图示，蓝色为正，红色为负："
   ],
   "metadata": {
    "collapsed": false,
    "pycharm": {
     "name": "#%% md\n"
    }
   }
  },
  {
   "cell_type": "code",
   "execution_count": 23,
   "outputs": [
    {
     "name": "stdout",
     "output_type": "stream",
     "text": [
      "integral = 1.284742972\n",
      "upper bound on error: 2.34e-09\n"
     ]
    },
    {
     "data": {
      "text/plain": "<Figure size 640x480 with 1 Axes>",
      "image/png": "[encoded data removed]"
     },
     "metadata": {},
     "output_type": "display_data"
    }
   ],
   "source": [
    "print(\"integral = {:.9f}\".format(value))\n",
    "print(\"upper bound on error: {:.2e}\".format(max_err))\n",
    "x = np.linspace(0, 10, 100)\n",
    "p = plt.plot(x, f(x), 'k-')\n",
    "x = np.linspace(0, 6.5, 45)\n",
    "p = plt.fill_between(x, f(x), where=f(x)>0, color=\"blue\")\n",
    "p = plt.fill_between(x, f(x), where=f(x)<0, color=\"red\", interpolate=True)"
   ],
   "metadata": {
    "collapsed": false,
    "pycharm": {
     "name": "#%%\n"
    }
   }
  },
  {
   "cell_type": "markdown",
   "source": [
    "积分到无穷"
   ],
   "metadata": {
    "collapsed": false,
    "pycharm": {
     "name": "#%% md\n"
    }
   }
  },
  {
   "cell_type": "code",
   "execution_count": 24,
   "outputs": [],
   "source": [
    "from numpy import inf\n",
    "interval = [0., inf]\n",
    "\n",
    "def g(x):\n",
    "    return np.exp(-x ** 1/2)"
   ],
   "metadata": {
    "collapsed": false,
    "pycharm": {
     "name": "#%%\n"
    }
   }
  },
  {
   "cell_type": "code",
   "execution_count": 25,
   "outputs": [
    {
     "name": "stdout",
     "output_type": "stream",
     "text": [
      "upper bound on error: 7.2e-11\n"
     ]
    },
    {
     "data": {
      "text/plain": "<Figure size 1000x300 with 1 Axes>",
      "image/png": "[encoded data removed]"
     },
     "metadata": {},
     "output_type": "display_data"
    }
   ],
   "source": [
    "value, max_err = quad(g, *interval)\n",
    "x = np.linspace(0, 10, 50)\n",
    "fig = plt.figure(figsize=(10,3))\n",
    "p = plt.plot(x, g(x), 'k-')\n",
    "p = plt.fill_between(x, g(x))\n",
    "plt.annotate(r\"$\\int_0^{\\infty}e^{-x^1/2}dx = $\" + \"{}\".format(value), (4, 0.6),\n",
    "         fontsize=16)\n",
    "print(\"upper bound on error: {:.1e}\".format(max_err))"
   ],
   "metadata": {
    "collapsed": false,
    "pycharm": {
     "name": "#%%\n"
    }
   }
  },
  {
   "cell_type": "markdown",
   "source": [
    "### 双重积分\n",
    "\n",
    "假设我们要进行如下的积分：\n",
    "\n",
    "$$I_n=\\int_{0}^{\\infty}\\int_{1}^{\\infty}\\frac{e^{-xt}}{t^n}\\text{d}t\\text{d}x=\\frac{1}{n}$$"
   ],
   "metadata": {
    "collapsed": false,
    "pycharm": {
     "name": "#%% md\n"
    }
   }
  },
  {
   "cell_type": "code",
   "execution_count": 26,
   "outputs": [],
   "source": [
    "def h(x, t, n):\n",
    "    \"\"\"core function, takes x, t, n\"\"\"\n",
    "    return np.exp(-x * t) / (t ** n)"
   ],
   "metadata": {
    "collapsed": false,
    "pycharm": {
     "name": "#%%\n"
    }
   }
  },
  {
   "cell_type": "markdown",
   "source": [
    "一种方式是调用两次 `quad` 函数，不过这里 `quad` 的返回值不能向量化，所以使用了修饰符 `vectorize` 将其向量化："
   ],
   "metadata": {
    "collapsed": false,
    "pycharm": {
     "name": "#%% md\n"
    }
   }
  },
  {
   "cell_type": "code",
   "execution_count": 27,
   "outputs": [],
   "source": [
    "from numpy import vectorize\n",
    "@vectorize\n",
    "def int_h_dx(t, n):\n",
    "    \"\"\"Time integrand of h(x).\"\"\"\n",
    "    return quad(h, 0, np.inf, args=(t, n))[0]"
   ],
   "metadata": {
    "collapsed": false,
    "pycharm": {
     "name": "#%%\n"
    }
   }
  },
  {
   "cell_type": "code",
   "execution_count": 28,
   "outputs": [],
   "source": [
    "@vectorize\n",
    "def I_n(n):\n",
    "    return quad(int_h_dx, 1, np.inf, args=(n))"
   ],
   "metadata": {
    "collapsed": false,
    "pycharm": {
     "name": "#%%\n"
    }
   }
  },
  {
   "cell_type": "code",
   "execution_count": 29,
   "outputs": [
    {
     "data": {
      "text/plain": "(array([2. , 1. , 0.5, 0.2]),\n array([4.507e-12, 4.340e-14, 5.551e-15, 2.220e-15]))"
     },
     "execution_count": 29,
     "metadata": {},
     "output_type": "execute_result"
    }
   ],
   "source": [
    "I_n([0.5, 1.0, 2.0, 5])"
   ],
   "metadata": {
    "collapsed": false,
    "pycharm": {
     "name": "#%%\n"
    }
   }
  },
  {
   "cell_type": "markdown",
   "source": [
    "或者直接调用 dblquad 函数，并将积分参数传入，传入方式有多种，后传入的先进行积分："
   ],
   "metadata": {
    "collapsed": false,
    "pycharm": {
     "name": "#%% md\n"
    }
   }
  },
  {
   "cell_type": "code",
   "execution_count": 30,
   "outputs": [],
   "source": [
    "from scipy.integrate import dblquad\n",
    "@vectorize\n",
    "def I(n):\n",
    "    \"\"\"Same as I_n, but using the built-in dblquad\"\"\"\n",
    "    x_lower = 0\n",
    "    x_upper = np.inf\n",
    "    return dblquad(h,\n",
    "                   lambda t_lower: 1, lambda t_upper: np.inf,\n",
    "                   x_lower, x_upper, args=(n,))"
   ],
   "metadata": {
    "collapsed": false,
    "pycharm": {
     "name": "#%%\n"
    }
   }
  },
  {
   "cell_type": "code",
   "execution_count": 31,
   "outputs": [
    {
     "data": {
      "text/plain": "(array([2. , 1. , 0.5, 0.2]),\n array([4.507e-12, 4.340e-14, 5.551e-15, 2.220e-15]))"
     },
     "execution_count": 31,
     "metadata": {},
     "output_type": "execute_result"
    }
   ],
   "source": [
    "I_n([0.5, 1.0, 2.0, 5])"
   ],
   "metadata": {
    "collapsed": false,
    "pycharm": {
     "name": "#%%\n"
    }
   }
  },
  {
   "cell_type": "markdown",
   "source": [
    "### 采样点积分\n",
    "\n",
    "trapz 方法 和 simps 方法"
   ],
   "metadata": {
    "collapsed": false,
    "pycharm": {
     "name": "#%% md\n"
    }
   }
  },
  {
   "cell_type": "code",
   "execution_count": 32,
   "outputs": [],
   "source": [
    "from scipy.integrate import trapz, simps"
   ],
   "metadata": {
    "collapsed": false,
    "pycharm": {
     "name": "#%%\n"
    }
   }
  },
  {
   "cell_type": "markdown",
   "source": [
    "`sin` 函数， `100` 个采样点和 `5` 个采样点："
   ],
   "metadata": {
    "collapsed": false,
    "pycharm": {
     "name": "#%% md\n"
    }
   }
  },
  {
   "cell_type": "code",
   "execution_count": 33,
   "outputs": [],
   "source": [
    "x_s = np.linspace(0, np.pi, 5)\n",
    "y_s = np.sin(x_s)\n",
    "x = np.linspace(0, np.pi, 100)\n",
    "y = np.sin(x)"
   ],
   "metadata": {
    "collapsed": false,
    "pycharm": {
     "name": "#%%\n"
    }
   }
  },
  {
   "cell_type": "code",
   "execution_count": 34,
   "outputs": [
    {
     "data": {
      "text/plain": "<Figure size 640x480 with 1 Axes>",
      "image/png": "[encoded data removed]"
     },
     "metadata": {},
     "output_type": "display_data"
    }
   ],
   "source": [
    "p = plt.plot(x, y, 'k:')\n",
    "p = plt.plot(x_s, y_s, 'k+-')\n",
    "p = plt.fill_between(x_s, y_s, color=\"gray\")"
   ],
   "metadata": {
    "collapsed": false,
    "pycharm": {
     "name": "#%%\n"
    }
   }
  },
  {
   "cell_type": "markdown",
   "source": [
    "采用 [trapezoidal](https://en.wikipedia.org/wiki/Trapezoidal_rule) 方法 和 [simpson](https://en.wikipedia.org/wiki/Simpson%27s_rule) 方法 对这些采样点进行积分（函数积分为 2）："
   ],
   "metadata": {
    "collapsed": false,
    "pycharm": {
     "name": "#%% md\n"
    }
   }
  },
  {
   "cell_type": "code",
   "execution_count": 35,
   "outputs": [
    {
     "name": "stdout",
     "output_type": "stream",
     "text": [
      "Trapezoidal Integration over 5 points : 1.896\n",
      "Simpson Integration over 5 points : 2.005\n",
      "Trapezoidal Integration over 100 points : 2.000\n"
     ]
    }
   ],
   "source": [
    "result_s = trapz(y_s, x_s)\n",
    "result_s_s = simps(y_s, x_s)\n",
    "result = trapz(y, x)\n",
    "print(\"Trapezoidal Integration over 5 points : {:.3f}\".format(result_s))\n",
    "print(\"Simpson Integration over 5 points : {:.3f}\".format(result_s_s))\n",
    "print(\"Trapezoidal Integration over 100 points : {:.3f}\".format(result))"
   ],
   "metadata": {
    "collapsed": false,
    "pycharm": {
     "name": "#%%\n"
    }
   }
  },
  {
   "cell_type": "markdown",
   "source": [
    "### 使用 ufunc 进行积分\n",
    "\n",
    "`Numpy` 中有很多 `ufunc` 对象："
   ],
   "metadata": {
    "collapsed": false,
    "pycharm": {
     "name": "#%% md\n"
    }
   }
  },
  {
   "cell_type": "code",
   "execution_count": 36,
   "outputs": [
    {
     "data": {
      "text/plain": "numpy.ufunc"
     },
     "execution_count": 36,
     "metadata": {},
     "output_type": "execute_result"
    }
   ],
   "source": [
    "type(np.add)"
   ],
   "metadata": {
    "collapsed": false,
    "pycharm": {
     "name": "#%%\n"
    }
   }
  },
  {
   "cell_type": "code",
   "execution_count": 37,
   "outputs": [
    {
     "name": "stdout",
     "output_type": "stream",
     "text": [
      "accumulate(array, axis=0, dtype=None, out=None)\n",
      "\n",
      "Accumulate the result of applying the operator to all elements.\n",
      "\n",
      "For a one-dimensional array, accumulate produces results equivalent to::\n",
      "\n",
      "  r = np.empty(len(A))\n",
      "  t = op.identity        # op = the ufunc being applied to A's  elements\n",
      "  for i in range(len(A)):\n",
      "      t = op(t, A[i])\n",
      "      r[i] = t\n",
      "  return r\n",
      "\n",
      "For example, add.accumulate() is equivalent to np.cumsum().\n",
      "\n",
      "For a multi-dimensional array, accumulate is applied along only one\n",
      "axis (axis zero by default; see Examples below) so repeated use is\n",
      "necessary if one wants to accumulate over multiple axes.\n",
      "\n",
      "Parameters\n",
      "----------\n",
      "array : array_like\n",
      "    The array to act on.\n",
      "axis : int, optional\n",
      "    The axis along which to apply the accumulation; default is zero.\n",
      "dtype : data-type code, optional\n",
      "    The data-type used to represent the intermediate results. Defaults\n",
      "    to the data-type of the output array if such is provided, or the\n",
      "    the data-type of the input array if no output array is provided.\n",
      "out : ndarray, None, or tuple of ndarray and None, optional\n",
      "    A location into which the result is stored. If not provided or None,\n",
      "    a freshly-allocated array is returned. For consistency with\n",
      "    ``ufunc.__call__``, if given as a keyword, this may be wrapped in a\n",
      "    1-element tuple.\n",
      "\n",
      "    .. versionchanged:: 1.13.0\n",
      "       Tuples are allowed for keyword argument.\n",
      "\n",
      "Returns\n",
      "-------\n",
      "r : ndarray\n",
      "    The accumulated values. If `out` was supplied, `r` is a reference to\n",
      "    `out`.\n",
      "\n",
      "Examples\n",
      "--------\n",
      "1-D array examples:\n",
      "\n",
      ">>> np.add.accumulate([2, 3, 5])\n",
      "array([ 2,  5, 10])\n",
      ">>> np.multiply.accumulate([2, 3, 5])\n",
      "array([ 2,  6, 30])\n",
      "\n",
      "2-D array examples:\n",
      "\n",
      ">>> I = np.eye(2)\n",
      ">>> I\n",
      "array([[1.,  0.],\n",
      "       [0.,  1.]])\n",
      "\n",
      "Accumulate along axis 0 (rows), down columns:\n",
      "\n",
      ">>> np.add.accumulate(I, 0)\n",
      "array([[1.,  0.],\n",
      "       [1.,  1.]])\n",
      ">>> np.add.accumulate(I) # no axis specified = axis zero\n",
      "array([[1.,  0.],\n",
      "       [1.,  1.]])\n",
      "\n",
      "Accumulate along axis 1 (columns), through rows:\n",
      "\n",
      ">>> np.add.accumulate(I, 1)\n",
      "array([[1.,  1.],\n",
      "       [0.,  1.]])\n"
     ]
    }
   ],
   "source": [
    "np.info(np.add.accumulate)"
   ],
   "metadata": {
    "collapsed": false,
    "pycharm": {
     "name": "#%%\n"
    }
   }
  },
  {
   "cell_type": "markdown",
   "source": [
    "`np.add.accumulate` 相当于 `cumsum` ："
   ],
   "metadata": {
    "collapsed": false,
    "pycharm": {
     "name": "#%% md\n"
    }
   }
  },
  {
   "cell_type": "code",
   "execution_count": 38,
   "outputs": [],
   "source": [
    "result_np = np.add.accumulate(y) * (x[1] - x[0]) - (x[1] - x[0]) / 2"
   ],
   "metadata": {
    "collapsed": false,
    "pycharm": {
     "name": "#%%\n"
    }
   }
  },
  {
   "cell_type": "code",
   "execution_count": 39,
   "outputs": [
    {
     "data": {
      "text/plain": "<Figure size 640x480 with 1 Axes>",
      "image/png": "[encoded data removed]"
     },
     "metadata": {},
     "output_type": "display_data"
    }
   ],
   "source": [
    "p = plt.plot(x, - np.cos(x) + np.cos(0), 'rx')\n",
    "p = plt.plot(x, result_np)"
   ],
   "metadata": {
    "collapsed": false,
    "pycharm": {
     "name": "#%%\n"
    }
   }
  },
  {
   "cell_type": "markdown",
   "source": [
    "计算积分：\n",
    "\n",
    "$\\int_{0}^{x}sin(\\theta)\\text{d}\\theta$"
   ],
   "metadata": {
    "collapsed": false,
    "pycharm": {
     "name": "#%% md\n"
    }
   }
  },
  {
   "cell_type": "code",
   "execution_count": 40,
   "outputs": [],
   "source": [
    "import sympy\n",
    "from sympy.abc import x, theta\n",
    "sympy_x = x"
   ],
   "metadata": {
    "collapsed": false,
    "pycharm": {
     "name": "#%%\n"
    }
   }
  },
  {
   "cell_type": "code",
   "execution_count": 41,
   "outputs": [],
   "source": [
    "x = np.linspace(0, 20 * np.pi, int(1e+4))\n",
    "y = np.sin(x)\n",
    "sympy_y = vectorize(lambda x: sympy.integrate(sympy.sin(theta), (theta, 0, x)))"
   ],
   "metadata": {
    "collapsed": false,
    "pycharm": {
     "name": "#%%\n"
    }
   }
  },
  {
   "cell_type": "markdown",
   "source": [
    "`numpy` 方法："
   ],
   "metadata": {
    "collapsed": false,
    "pycharm": {
     "name": "#%% md\n"
    }
   }
  },
  {
   "cell_type": "code",
   "execution_count": 42,
   "outputs": [
    {
     "name": "stdout",
     "output_type": "stream",
     "text": [
      "30.5 µs ± 212 ns per loop (mean ± std. dev. of 7 runs, 10,000 loops each)\n",
      "-2.3413804475641734e-17\n"
     ]
    }
   ],
   "source": [
    "%timeit np.add.accumulate(y) * (x[1] - x[0])\n",
    "y0 = np.add.accumulate(y) * (x[1] - x[0])\n",
    "print(y0[-1] )"
   ],
   "metadata": {
    "collapsed": false,
    "pycharm": {
     "name": "#%%\n"
    }
   }
  },
  {
   "cell_type": "markdown",
   "source": [
    "`quad` 方法："
   ],
   "metadata": {
    "collapsed": false,
    "pycharm": {
     "name": "#%% md\n"
    }
   }
  },
  {
   "cell_type": "code",
   "execution_count": 43,
   "outputs": [
    {
     "name": "stdout",
     "output_type": "stream",
     "text": [
      "17.4 µs ± 615 ns per loop (mean ± std. dev. of 7 runs, 100,000 loops each)\n",
      "result =  3.437813371530083e-15\n",
      "number of evaluations 21\n"
     ]
    }
   ],
   "source": [
    "%timeit quad(np.sin, 0, 20 * np.pi)\n",
    "y2 = quad(np.sin, 0, 20 * np.pi, full_output=True)\n",
    "print(\"result = \", y2[0])\n",
    "print(\"number of evaluations\", y2[-1]['neval'])"
   ],
   "metadata": {
    "collapsed": false,
    "pycharm": {
     "name": "#%%\n"
    }
   }
  },
  {
   "cell_type": "markdown",
   "source": [
    "`trapz` 方法："
   ],
   "metadata": {
    "collapsed": false,
    "pycharm": {
     "name": "#%% md\n"
    }
   }
  },
  {
   "cell_type": "code",
   "execution_count": 44,
   "outputs": [
    {
     "name": "stdout",
     "output_type": "stream",
     "text": [
      "37.2 µs ± 3.17 µs per loop (mean ± std. dev. of 7 runs, 10,000 loops each)\n",
      "-4.440892098500626e-16\n"
     ]
    }
   ],
   "source": [
    "%timeit trapz(y, x)\n",
    "y1 = trapz(y, x)\n",
    "print(y1)"
   ],
   "metadata": {
    "collapsed": false,
    "pycharm": {
     "name": "#%%\n"
    }
   }
  },
  {
   "cell_type": "markdown",
   "source": [
    "`simps` 方法："
   ],
   "metadata": {
    "collapsed": false,
    "pycharm": {
     "name": "#%% md\n"
    }
   }
  },
  {
   "cell_type": "code",
   "execution_count": 45,
   "outputs": [
    {
     "name": "stdout",
     "output_type": "stream",
     "text": [
      "273 µs ± 14.8 µs per loop (mean ± std. dev. of 7 runs, 1,000 loops each)\n",
      "5.504731598934137e-16\n"
     ]
    }
   ],
   "source": [
    "%timeit simps(y, x)\n",
    "y3 = simps(y, x)\n",
    "print(y3)"
   ],
   "metadata": {
    "collapsed": false,
    "pycharm": {
     "name": "#%%\n"
    }
   }
  },
  {
   "cell_type": "markdown",
   "source": [
    "`sympy` 积分方法："
   ],
   "metadata": {
    "collapsed": false,
    "pycharm": {
     "name": "#%% md\n"
    }
   }
  },
  {
   "cell_type": "code",
   "execution_count": 46,
   "outputs": [
    {
     "name": "stdout",
     "output_type": "stream",
     "text": [
      "31.3 ms ± 2.54 ms per loop (mean ± std. dev. of 7 runs, 10 loops each)\n",
      "0\n"
     ]
    }
   ],
   "source": [
    "%timeit sympy_y(20 * np.pi)\n",
    "y4 = sympy_y(20 * np.pi)\n",
    "print(y4)\n"
   ],
   "metadata": {
    "collapsed": false,
    "pycharm": {
     "name": "#%%\n"
    }
   }
  }
 ],
 "metadata": {
  "kernelspec": {
   "name": "pycharm-9146fa6d",
   "language": "python",
   "display_name": "PyCharm (DeepLearningTutorial)"
  },
  "language_info": {
   "codemirror_mode": {
    "name": "ipython",
    "version": 2
   },
   "file_extension": ".py",
   "mimetype": "text/x-python",
   "name": "python",
   "nbconvert_exporter": "python",
   "pygments_lexer": "ipython2",
   "version": "2.7.6"
  }
 },
 "nbformat": 4,
 "nbformat_minor": 0
}