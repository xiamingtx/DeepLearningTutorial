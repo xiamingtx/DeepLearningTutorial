{
 "nbformat": 4,
 "nbformat_minor": 0,
 "metadata": {
  "colab": {
   "name": "Specifying_batch_size_while_training_a_model.ipynb",
   "provenance": [],
   "include_colab_link": true
  },
  "kernelspec": {
   "name": "pycharm-9146fa6d",
   "language": "python",
   "display_name": "PyCharm (DeepLearningTutorial)"
  },
  "language_info": {
   "codemirror_mode": {
    "name": "ipython",
    "version": 3
   },
   "file_extension": ".py",
   "mimetype": "text/x-python",
   "name": "python",
   "nbconvert_exporter": "python",
   "pygments_lexer": "ipython3",
   "version": "3.7.6"
  }
 },
 "cells": [
  {
   "cell_type": "markdown",
   "metadata": {
    "id": "view-in-github",
    "colab_type": "text"
   },
   "source": [
    "<a href=\"https://colab.research.google.com/github/PacktPublishing/Hands-On-Computer-Vision-with-PyTorch/blob/master/Chapter02/Specifying_batch_size_while_training_a_model.ipynb\" target=\"_parent\"><img src=\"https://colab.research.google.com/assets/colab-badge.svg\" alt=\"Open In Colab\"/></a>"
   ]
  },
  {
   "cell_type": "markdown",
   "source": [
    "### 2.3.1 数据集、数据加载器和批大小"
   ],
   "metadata": {
    "collapsed": false,
    "pycharm": {
     "name": "#%% md\n"
    }
   }
  },
  {
   "cell_type": "code",
   "metadata": {
    "ExecuteTime": {
     "end_time": "2020-09-25T19:38:09.313991Z",
     "start_time": "2020-09-25T19:38:09.019280Z"
    },
    "id": "qMRMqX5bxknN"
   },
   "source": [
    "# 1. 导入用于加载数据和处理数据集的方法:\n",
    "from torch.utils.data import Dataset, DataLoader\n",
    "import torch\n",
    "import torch.nn as nn"
   ],
   "execution_count": 1,
   "outputs": []
  },
  {
   "cell_type": "code",
   "metadata": {
    "ExecuteTime": {
     "end_time": "2020-09-25T19:38:09.317494Z",
     "start_time": "2020-09-25T19:38:09.315108Z"
    },
    "id": "pwlhqEFtxldo"
   },
   "source": [
    "# 2. 导入数据, 将数据转换为浮点数, 并注册到设备\n",
    "\n",
    "# 提供需要处理的数据点:\n",
    "x = [[1,2],[3,4],[5,6],[7,8]]\n",
    "y = [[3],[7],[11],[15]]"
   ],
   "execution_count": 2,
   "outputs": []
  },
  {
   "cell_type": "code",
   "metadata": {
    "ExecuteTime": {
     "end_time": "2020-09-25T19:38:09.322276Z",
     "start_time": "2020-09-25T19:38:09.319108Z"
    },
    "id": "Xvn8m82PxqGL"
   },
   "source": [
    "# 将数据转换成浮点数\n",
    "X = torch.tensor(x).float()\n",
    "Y = torch.tensor(y).float()"
   ],
   "execution_count": 3,
   "outputs": []
  },
  {
   "cell_type": "code",
   "metadata": {
    "ExecuteTime": {
     "end_time": "2020-09-25T19:38:10.908620Z",
     "start_time": "2020-09-25T19:38:09.324375Z"
    },
    "id": "suZ9rXQqxrUi"
   },
   "source": [
    "# 将数据注册到设备上\n",
    "device = 'cuda' if torch.cuda.is_available() else 'cpu'\n",
    "X = X.to(device)\n",
    "Y = Y.to(device)"
   ],
   "execution_count": 4,
   "outputs": []
  },
  {
   "cell_type": "code",
   "metadata": {
    "ExecuteTime": {
     "end_time": "2020-09-25T19:38:10.913405Z",
     "start_time": "2020-09-25T19:38:10.909638Z"
    },
    "id": "GZwy83Zaxsrw",
    "outputId": "cb09c682-1509-420d-d663-91dff0f00e91",
    "colab": {
     "base_uri": "https://localhost:8080/",
     "height": 105
    }
   },
   "source": [
    "# 3. 实例化一个数据集类 MyDataset:\n",
    "\n",
    "# 在MyDataset类中, 存储信息每次获取一个数据点, 以便可以将一批数据点捆绑在一起(使用DataLoader),\n",
    "# 并通过一个前向和一个反向传播发送, 以更新权重\n",
    "class MyDataset(Dataset):\n",
    "    # 定义一个__init__方法, 用于接收输入和输出对, 并将它们转换为Torch浮点对象:\n",
    "    def __init__(self, x, y):\n",
    "        self.x = torch.tensor(x).float()\n",
    "        self.y = torch.tensor(y).float()\n",
    "    # 指定输入数据集的长度(__len__):\n",
    "    def __len__(self):\n",
    "        return len(self.x)\n",
    "    # 最后, 用__getitem__方法获取特定的行\n",
    "    def __getitem__(self, ix):\n",
    "        # ix指的是需要从数据集中获取的行的索引\n",
    "        return self.x[ix], self.y[ix]\n",
    "\n",
    "# 4. 创建已定义类的实例:\n",
    "ds = MyDataset(X, Y)"
   ],
   "execution_count": 5,
   "outputs": [
    {
     "name": "stderr",
     "output_type": "stream",
     "text": [
      "C:\\Users\\86183\\AppData\\Local\\Temp\\ipykernel_27508\\4126783974.py:8: UserWarning: To copy construct from a tensor, it is recommended to use sourceTensor.clone().detach() or sourceTensor.clone().detach().requires_grad_(True), rather than torch.tensor(sourceTensor).\n",
      "  self.x = torch.tensor(x).float()\n",
      "C:\\Users\\86183\\AppData\\Local\\Temp\\ipykernel_27508\\4126783974.py:9: UserWarning: To copy construct from a tensor, it is recommended to use sourceTensor.clone().detach() or sourceTensor.clone().detach().requires_grad_(True), rather than torch.tensor(sourceTensor).\n",
      "  self.y = torch.tensor(y).float()\n"
     ]
    }
   ]
  },
  {
   "cell_type": "code",
   "metadata": {
    "ExecuteTime": {
     "end_time": "2020-09-25T19:38:10.917418Z",
     "start_time": "2020-09-25T19:38:10.915031Z"
    },
    "id": "K28I9mj-x1yB"
   },
   "source": [
    "# 5. 通过DataLoader传递之前定义的数据集实例, 获取原始输入和输出张量对象\n",
    "dl = DataLoader(ds, batch_size=2, shuffle=True)\n",
    "\n",
    "# 在上述代码中, 还指定从原始数据集(ds)中获取两个数据点(通过batch_size=2)的一个随机样本(通过shuffle=True)\n",
    "# 为了从dl中获取批数据, 需要进行如下循环\n",
    "for x, y in dl:\n",
    "    print(x, y)"
   ],
   "execution_count": 6,
   "outputs": [
    {
     "name": "stdout",
     "output_type": "stream",
     "text": [
      "tensor([[3., 4.],\n",
      "        [7., 8.]], device='cuda:0') tensor([[ 7.],\n",
      "        [15.]], device='cuda:0')\n",
      "tensor([[5., 6.],\n",
      "        [1., 2.]], device='cuda:0') tensor([[11.],\n",
      "        [ 3.]], device='cuda:0')\n"
     ]
    }
   ]
  },
  {
   "cell_type": "code",
   "metadata": {
    "ExecuteTime": {
     "end_time": "2020-09-25T19:38:10.922176Z",
     "start_time": "2020-09-25T19:38:10.918671Z"
    },
    "id": "i1uNDQLDx3bb"
   },
   "source": [
    "# 6. 定义一个神经网络类\n",
    "class MyNeuralNet(nn.Module):\n",
    "    def __init__(self):\n",
    "        super().__init__()\n",
    "        self.input_to_hidden_layer = nn.Linear(2,8)\n",
    "        self.hidden_layer_activation = nn.ReLU()\n",
    "        self.hidden_to_output_layer = nn.Linear(8,1)\n",
    "    def forward(self, x):\n",
    "        x = self.input_to_hidden_layer(x)\n",
    "        x = self.hidden_layer_activation(x)\n",
    "        x = self.hidden_to_output_layer(x)\n",
    "        return x"
   ],
   "execution_count": 7,
   "outputs": []
  },
  {
   "cell_type": "code",
   "metadata": {
    "ExecuteTime": {
     "end_time": "2020-09-25T19:38:10.928421Z",
     "start_time": "2020-09-25T19:38:10.924741Z"
    },
    "id": "M5GAnaPmx5w5"
   },
   "source": [
    "# 7. 定义模型对象、损失函数和优化器\n",
    "mynet = MyNeuralNet().to(device)\n",
    "loss_func = nn.MSELoss()\n",
    "from torch.optim import SGD\n",
    "opt = SGD(mynet.parameters(), lr = 0.001)"
   ],
   "execution_count": 8,
   "outputs": []
  },
  {
   "cell_type": "code",
   "metadata": {
    "ExecuteTime": {
     "end_time": "2020-09-25T19:38:11.011394Z",
     "start_time": "2020-09-25T19:38:10.929771Z"
    },
    "id": "_da8xi-9x7oJ",
    "outputId": "7a59135d-f162-4178-f05e-2e5492893216",
    "colab": {
     "base_uri": "https://localhost:8080/",
     "height": 34
    }
   },
   "source": [
    "import time\n",
    "\n",
    "# 8. 循环遍历各批数据点以最小化损失值, 正如前一节第6步所做的一样\n",
    "loss_history = []\n",
    "start = time.time()\n",
    "for _ in range(50):\n",
    "    for data in dl:\n",
    "        x, y = data\n",
    "        opt.zero_grad()\n",
    "        loss_value = loss_func(mynet(x),y)\n",
    "        loss_value.backward()\n",
    "        opt.step()\n",
    "        loss_history.append(loss_value)\n",
    "end = time.time()\n",
    "print(end - start)"
   ],
   "execution_count": 9,
   "outputs": [
    {
     "name": "stdout",
     "output_type": "stream",
     "text": [
      "1.5108284950256348\n"
     ]
    }
   ]
  },
  {
   "cell_type": "markdown",
   "source": [
    "### 2.3.2 预测新的数据点"
   ],
   "metadata": {
    "collapsed": false,
    "pycharm": {
     "name": "#%% md\n"
    }
   }
  },
  {
   "cell_type": "code",
   "metadata": {
    "ExecuteTime": {
     "end_time": "2020-09-25T19:38:11.014114Z",
     "start_time": "2020-09-25T19:38:11.012332Z"
    },
    "id": "ou1Hdxb4x9TP"
   },
   "source": [
    "# 1. 创建用于测试模型的数据点:\n",
    "val_x = [[10,11]]"
   ],
   "execution_count": 10,
   "outputs": []
  },
  {
   "cell_type": "code",
   "metadata": {
    "ExecuteTime": {
     "end_time": "2020-09-25T19:38:11.017321Z",
     "start_time": "2020-09-25T19:38:11.015262Z"
    },
    "id": "OtA5Oswrx_Sl"
   },
   "source": [
    "# 2. 将新数据点转换为一个张量浮点对象并注册到设备:\n",
    "val_x = torch.tensor(val_x).float().to(device)"
   ],
   "execution_count": 11,
   "outputs": []
  },
  {
   "cell_type": "code",
   "metadata": {
    "ExecuteTime": {
     "end_time": "2020-09-25T19:38:11.025594Z",
     "start_time": "2020-09-25T19:38:11.018406Z"
    },
    "id": "UysdiiFSyAf1",
    "outputId": "f11228a4-0aaa-4851-eee2-a855a93acd91",
    "colab": {
     "base_uri": "https://localhost:8080/",
     "height": 34
    },
    "pycharm": {
     "name": "#%%\n"
    }
   },
   "source": [
    "# 3. 前向传播\n",
    "mynet(val_x)\n"
   ],
   "execution_count": 12,
   "outputs": [
    {
     "data": {
      "text/plain": "tensor([[20.4343]], device='cuda:0', grad_fn=<AddmmBackward0>)"
     },
     "execution_count": 12,
     "metadata": {},
     "output_type": "execute_result"
    }
   ]
  }
 ]
}