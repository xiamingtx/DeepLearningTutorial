{
 "nbformat": 4,
 "nbformat_minor": 0,
 "metadata": {
  "accelerator": "GPU",
  "colab": {
   "name": "Numpy_Vs_Torch_object_computation_speed_comparison.ipynb",
   "provenance": [],
   "collapsed_sections": [],
   "include_colab_link": true
  },
  "kernelspec": {
   "name": "pycharm-9146fa6d",
   "language": "python",
   "display_name": "PyCharm (DeepLearningTutorial)"
  },
  "language_info": {
   "codemirror_mode": {
    "name": "ipython",
    "version": 3
   },
   "file_extension": ".py",
   "mimetype": "text/x-python",
   "name": "python",
   "nbconvert_exporter": "python",
   "pygments_lexer": "ipython3",
   "version": "3.7.6"
  }
 },
 "cells": [
  {
   "cell_type": "markdown",
   "metadata": {
    "id": "view-in-github",
    "colab_type": "text"
   },
   "source": [
    "<a href=\"https://colab.research.google.com/github/PacktPublishing/Hands-On-Computer-Vision-with-PyTorch/blob/master/Chapter02/Numpy_Vs_Torch_object_computation_speed_comparison.ipynb\" target=\"_parent\"><img src=\"https://colab.research.google.com/assets/colab-badge.svg\" alt=\"Open In Colab\"/></a>"
   ]
  },
  {
   "cell_type": "markdown",
   "source": [
    "### 2.2.4 PyTorch的张量较NumPy的ndarrays的优势"
   ],
   "metadata": {
    "collapsed": false,
    "pycharm": {
     "name": "#%% md\n"
    }
   }
  },
  {
   "cell_type": "code",
   "metadata": {
    "id": "28AUPOlYcu3r"
   },
   "source": [
    "import torch\n",
    "\n",
    "# 1. 生成两个不同的torch对象\n",
    "x = torch.rand(1, 6400)\n",
    "y = torch.rand(6400, 5000)"
   ],
   "execution_count": 1,
   "outputs": []
  },
  {
   "cell_type": "code",
   "metadata": {
    "id": "Sv_d4T5wcwyd"
   },
   "source": [
    "# 2. 定义存储第1步中所创建的张量对象的设备\n",
    "device = 'cuda' if torch.cuda.is_available() else 'cpu'\n",
    "assert device == 'cuda', \"This exercise assumes the notebook is on a GPU machine\""
   ],
   "execution_count": 2,
   "outputs": []
  },
  {
   "cell_type": "code",
   "metadata": {
    "id": "Xc8oysTVczCG"
   },
   "source": [
    "# 3. 将第1步中创建的张量对象注册到设备中, 注册张量对象意味着在设备中存储信息\n",
    "x, y = x.to(device), y.to(device)"
   ],
   "execution_count": 3,
   "outputs": []
  },
  {
   "cell_type": "code",
   "metadata": {
    "id": "jdzaTd7Rc0fc",
    "outputId": "70159e60-eacb-4855-c791-a95de753f494",
    "colab": {
     "base_uri": "https://localhost:8080/",
     "height": 51
    }
   },
   "source": [
    "# 4. 执行Torch对象的矩阵乘法并计时, 以便比较在NumPy数组上执行矩阵乘法的计算速度\n",
    "%timeit z=(x@y)"
   ],
   "execution_count": 4,
   "outputs": [
    {
     "name": "stdout",
     "output_type": "stream",
     "text": [
      "26.2 µs ± 10.4 µs per loop (mean ± std. dev. of 7 runs, 1 loop each)\n"
     ]
    }
   ]
  },
  {
   "cell_type": "code",
   "metadata": {
    "id": "B7nijUnjc2BC",
    "outputId": "047a5c2f-58c5-4567-c3e9-14734d056bd8",
    "colab": {
     "base_uri": "https://localhost:8080/",
     "height": 34
    }
   },
   "source": [
    "# 5. 在cpu上执行相同张量的矩阵乘法\n",
    "x, y = x.cpu(), y.cpu()\n",
    "%timeit z=(x@y)"
   ],
   "execution_count": 5,
   "outputs": [
    {
     "name": "stdout",
     "output_type": "stream",
     "text": [
      "5.94 ms ± 266 µs per loop (mean ± std. dev. of 7 runs, 100 loops each)\n"
     ]
    }
   ]
  },
  {
   "cell_type": "code",
   "metadata": {
    "id": "wEGUO99Ec3Z4",
    "outputId": "11cd14b4-5c89-4ea3-d43a-104d7ceb3370",
    "colab": {
     "base_uri": "https://localhost:8080/",
     "height": 34
    },
    "pycharm": {
     "name": "#%%\n"
    }
   },
   "source": [
    "import numpy as np\n",
    "# 6. 在NumPy数组上执行同样的矩阵乘法\n",
    "x = np.random.random((1, 6400))\n",
    "y = np.random.random((6400, 5000))\n",
    "%timeit z = np.matmul(x,y)\n"
   ],
   "execution_count": 6,
   "outputs": [
    {
     "name": "stdout",
     "output_type": "stream",
     "text": [
      "12.6 ms ± 186 µs per loop (mean ± std. dev. of 7 runs, 100 loops each)\n"
     ]
    }
   ]
  }
 ]
}