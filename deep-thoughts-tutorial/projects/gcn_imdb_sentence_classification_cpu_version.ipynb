{
 "cells": [
  {
   "cell_type": "markdown",
   "metadata": {
    "collapsed": true,
    "pycharm": {
     "name": "#%% md\n"
    }
   },
   "source": [
    "## 基于PyTorch的文本分类项目模型与训练代码"
   ]
  },
  {
   "cell_type": "code",
   "execution_count": 1,
   "outputs": [],
   "source": [
    "import torch\n",
    "import torch.nn as nn\n",
    "import torch.nn.functional as F\n",
    "import torchtext\n",
    "import torchdata\n",
    "from torchtext.datasets import IMDB\n",
    "# pip install torchtext 安装指令\n",
    "from torchtext.datasets.imdb import NUM_LINES\n",
    "from torchtext.data import get_tokenizer\n",
    "from torchtext.vocab import build_vocab_from_iterator\n",
    "from torchtext.data.functional import to_map_style_dataset\n",
    "\n",
    "import sys\n",
    "import os\n",
    "import logging\n",
    "\n",
    "logging.basicConfig(\n",
    "    level=logging.WARN,\n",
    "    stream=sys.stdout,\n",
    "    format=\"%(asctime)s (%(module)s:%(lineno)d) %(levelname)s: %(message)s\",\n",
    ")\n",
    "\n",
    "VOCAB_SIZE = 15000"
   ],
   "metadata": {
    "collapsed": false,
    "pycharm": {
     "name": "#%%\n"
    }
   }
  },
  {
   "cell_type": "markdown",
   "source": [
    "1. 编写 GCNN模型代码"
   ],
   "metadata": {
    "collapsed": false,
    "pycharm": {
     "name": "#%% md\n"
    }
   }
  },
  {
   "cell_type": "code",
   "execution_count": 2,
   "outputs": [],
   "source": [
    "class GCNN(nn.Module):\n",
    "    def __init__(self, vocab_size=VOCAB_SIZE, embedding_dim=64, num_class=2):\n",
    "        super().__init__()\n",
    "\n",
    "        self.embedding_table = nn.Embedding(vocab_size, embedding_dim)\n",
    "        nn.init.xavier_uniform_(self.embedding_table.weight)\n",
    "\n",
    "        self.conv_A_1 = nn.Conv1d(embedding_dim, 64, 15, stride=7)\n",
    "        self.conv_B_1 = nn.Conv1d(embedding_dim, 64, 15, stride=7)\n",
    "\n",
    "        self.conv_A_2 = nn.Conv1d(64, 64, 15, stride=7)\n",
    "        self.conv_B_2 = nn.Conv1d(64, 64, 15, stride=7)\n",
    "\n",
    "        self.output_linear1 = nn.Linear(64, 128)\n",
    "        self.output_linear2 = nn.Linear(128, num_class)\n",
    "\n",
    "    def forward(self, word_index):\n",
    "        # 定义GCN网络的算子操作流程, 基于句子单词ID输入得到分类logits输出\n",
    "\n",
    "        # 1. 通过word_index得到word_embedding\n",
    "        # word_index_shape: [bs, max_seq_len]\n",
    "        word_embedding = self.embedding_table(word_index)  # [bs, max_seq_len, embedding_dim]\n",
    "\n",
    "        # 2. 编写第一层1D门卷积\n",
    "        word_embedding = word_embedding.transpose(1, 2)  # [bs, embedding_dim, max_seq_len]\n",
    "        A = self.conv_A_1(word_embedding)\n",
    "        B = self.conv_B_1(word_embedding)\n",
    "        H = A * torch.sigmoid(B)  # [bs, 64, max_seq_len]\n",
    "\n",
    "        A = self.conv_A_2(H)\n",
    "        B = self.conv_B_2(H)\n",
    "        H = A * torch.sigmoid(B)  # [bs, 64, max_seq_len]\n",
    "\n",
    "        # 3. 池化并经过全连接层\n",
    "        pool_output = torch.mean(H, dim=-1)  # 平均池化, 得到[bs, 64]\n",
    "        linear1_output = self.output_linear1(pool_output)\n",
    "        logits = self.output_linear2(linear1_output)  # [bs, 2]\n",
    "\n",
    "        return logits"
   ],
   "metadata": {
    "collapsed": false,
    "pycharm": {
     "name": "#%%\n"
    }
   }
  },
  {
   "cell_type": "code",
   "execution_count": 3,
   "outputs": [],
   "source": [
    "class TextClassificationModel(nn.Module):\n",
    "    \"\"\"简单版embeddingbag + DNN模型\"\"\"\n",
    "    def __init__(self, vocab_size=VOCAB_SIZE, embed_dim=64, num_class=2):\n",
    "        super().__init__()\n",
    "        self.embedding = nn.EmbeddingBag(vocab_size, embed_dim, sparse=False)\n",
    "        self.fc = nn.Linear(embed_dim, num_class)\n",
    "\n",
    "    def forward(self, token_index):\n",
    "        embedded = self.embedding(token_index)  # shape: [bs, embedding_dim] 得到的是这句话平均的embedding 所以没有seq_len\n",
    "        return self.fc(embedded)"
   ],
   "metadata": {
    "collapsed": false,
    "pycharm": {
     "name": "#%%\n"
    }
   }
  },
  {
   "cell_type": "markdown",
   "source": [
    "2. 构建 IMDB DataLoader"
   ],
   "metadata": {
    "collapsed": false,
    "pycharm": {
     "name": "#%% md\n"
    }
   }
  },
  {
   "cell_type": "code",
   "execution_count": 4,
   "outputs": [
    {
     "name": "stdout",
     "output_type": "stream",
     "text": [
      "单词表大小: 13351\n"
     ]
    }
   ],
   "source": [
    "BATCH_SIZE = 64\n",
    "\n",
    "def yield_tokens(train_data_iter, tokenizer):\n",
    "    for i, sample in enumerate(train_data_iter):\n",
    "        label, comment = sample\n",
    "        yield tokenizer(comment)\n",
    "\n",
    "train_data_iter = IMDB(root='data', split='train')  # Dataset类型的对象\n",
    "tokenizer = get_tokenizer('basic_english')\n",
    "vocab = build_vocab_from_iterator(yield_tokens(train_data_iter, tokenizer), min_freq=20, specials=['<unk>'])\n",
    "vocab.set_default_index(0)\n",
    "print(f'单词表大小: {len(vocab)}')"
   ],
   "metadata": {
    "collapsed": false,
    "pycharm": {
     "name": "#%%\n"
    }
   }
  },
  {
   "cell_type": "markdown",
   "source": [
    "实现一个collate_function 对DataLoader生成的mini-batch进行后处理"
   ],
   "metadata": {
    "collapsed": false,
    "pycharm": {
     "name": "#%% md\n"
    }
   }
  },
  {
   "cell_type": "code",
   "execution_count": 5,
   "outputs": [],
   "source": [
    "def collate_fn(batch):\n",
    "    \"\"\"\n",
    "    对DataLoader生成的mini-batch进行后处理\n",
    "    :param batch:\n",
    "    :return:\n",
    "    \"\"\"\n",
    "    target = []\n",
    "    token_index = []\n",
    "    max_length = 0\n",
    "    for i, (label, comment) in enumerate(batch):\n",
    "        tokens=  tokenizer(comment)\n",
    "\n",
    "        token_index.append(vocab(tokens))\n",
    "        if len(tokens) > max_length:\n",
    "            max_length = len(tokens)\n",
    "\n",
    "        if label == 'pos':\n",
    "            target.append(0)\n",
    "        else:\n",
    "            target.append(1)\n",
    "\n",
    "    token_index = [index + [0] * (max_length - len(index)) for index in token_index]\n",
    "    # target需要是int64,因为后面算loss的时候 需要将target先转换成one-hot向量 它接收的是一个长整型数据\n",
    "    return torch.tensor(target, dtype=torch.int64), torch.tensor(token_index, dtype=torch.int32)"
   ],
   "metadata": {
    "collapsed": false,
    "pycharm": {
     "name": "#%%\n"
    }
   }
  },
  {
   "cell_type": "markdown",
   "source": [
    "3. 编写训练代码"
   ],
   "metadata": {
    "collapsed": false,
    "pycharm": {
     "name": "#%% md\n"
    }
   }
  },
  {
   "cell_type": "code",
   "execution_count": 6,
   "outputs": [],
   "source": [
    "def train(train_data_loader, eval_data_loader, model, optimizer, num_epoch,\n",
    "          log_step_interval, save_step_interval, eval_step_interval, save_path, resume=''):\n",
    "    \"\"\"此处data_loader是map-style dataset\"\"\"\n",
    "    start_epoch, start_step = 0, 0\n",
    "    if resume != '':\n",
    "        # 加载之前训练过的模型的参数文件\n",
    "        logging.warning(f'loading from {resume}')\n",
    "        checkpoint = torch.load(resume)\n",
    "        model.load_state_dict(checkpoint['model_state_dict'])\n",
    "        optimizer.load_state_dict(checkpoint['optimizer_state_dict'])\n",
    "        start_epoch = checkpoint['epoch']\n",
    "        start_step = checkpoint['step']\n",
    "\n",
    "    for epoch_index in range(start_epoch, num_epoch):\n",
    "        ema_loss = 0.\n",
    "        num_batches = len(train_data_loader)\n",
    "\n",
    "        for batch_index, (target, token_index) in enumerate(train_data_loader):\n",
    "            optimizer.zero_grad()\n",
    "            step = num_batches * (epoch_index) + batch_index + 1\n",
    "            logits = model(token_index)\n",
    "            bce_loss = F.binary_cross_entropy(torch.sigmoid(logits), F.one_hot(target, num_classes=2).to(torch.float32))\n",
    "            ema_loss = 0.9 * ema_loss + 0.1 * bce_loss\n",
    "            bce_loss.backward()\n",
    "            nn.utils.clip_grad_norm(model.parameters(), 0.1)\n",
    "            optimizer.step()\n",
    "\n",
    "            if step % log_step_interval == 0:\n",
    "                logging.warning(f'epoch_index: {epoch_index}, batch_index: {batch_index}, ema_loss: {ema_loss.item()}')\n",
    "\n",
    "            if step % save_step_interval == 0:\n",
    "                os.makedirs(save_path, exist_ok=True)\n",
    "                save_file = os.path.join(save_path, f'step_{step}.pt')\n",
    "                torch.save({\n",
    "                    'epoch': epoch_index,\n",
    "                    'step': step,\n",
    "                    'model_state_dict': model.state_dict(),\n",
    "                    'optimizer_state_dict': optimizer.state_dict(),\n",
    "                    'loss': bce_loss\n",
    "                }, save_file)\n",
    "                logging.warning(f'checkpoint has been saved in {save_file}')\n",
    "\n",
    "            if step % eval_step_interval == 0:\n",
    "                logging.warning('start to do evaluation...')\n",
    "                model.eval()\n",
    "                eval_ema_loss = 0\n",
    "                total_acc_count = 0\n",
    "                total_count = 0\n",
    "                for eval_batch_index, (eval_target, eval_token_index) in enumerate(eval_data_loader):\n",
    "                    total_count += eval_target.shape[0]\n",
    "                    eval_logits = model(eval_token_index)\n",
    "                    total_acc_count += (torch.argmax(eval_logits, dim=1) == eval_target).sum().item()\n",
    "                    eval_bce_loss = F.binary_cross_entropy(torch.sigmoid(eval_logits),\n",
    "                                                           F.one_hot(eval_target, num_classes=2).to(torch.float32))\n",
    "                    eval_ema_loss = 0.9 * eval_ema_loss + 0.1 * eval_bce_loss\n",
    "\n",
    "                acc = total_acc_count / total_count\n",
    "                logging.warning(f'eval_ema_loss: {eval_ema_loss.item()}, eval_acc: {acc.item()}')\n",
    "                model.train()"
   ],
   "metadata": {
    "collapsed": false,
    "pycharm": {
     "name": "#%%\n"
    }
   }
  },
  {
   "cell_type": "markdown",
   "source": [
    "4. 测试代码"
   ],
   "metadata": {
    "collapsed": false,
    "pycharm": {
     "name": "#%% md\n"
    }
   }
  },
  {
   "cell_type": "code",
   "execution_count": 7,
   "outputs": [
    {
     "name": "stdout",
     "output_type": "stream",
     "text": [
      "模型总参数: 1214594\n"
     ]
    },
    {
     "name": "stderr",
     "output_type": "stream",
     "text": [
      "C:\\Users\\86183\\AppData\\Local\\Temp\\ipykernel_30636\\3499599930.py:25: UserWarning: torch.nn.utils.clip_grad_norm is now deprecated in favor of torch.nn.utils.clip_grad_norm_.\n",
      "  nn.utils.clip_grad_norm(model.parameters(), 0.1)\n"
     ]
    },
    {
     "name": "stdout",
     "output_type": "stream",
     "text": [
      "2023-03-10 16:12:52,388 (3499599930:29) WARNING: epoch_index: 0, batch_index: 19, ema_loss: 0.13335013389587402\n",
      "2023-03-10 16:13:04,528 (3499599930:29) WARNING: epoch_index: 0, batch_index: 39, ema_loss: 0.016212254762649536\n",
      "2023-03-10 16:13:11,114 (3499599930:29) WARNING: epoch_index: 0, batch_index: 59, ema_loss: 0.0019710310734808445\n",
      "2023-03-10 16:13:16,574 (3499599930:29) WARNING: epoch_index: 0, batch_index: 79, ema_loss: 0.00023963127750903368\n",
      "2023-03-10 16:13:21,730 (3499599930:29) WARNING: epoch_index: 0, batch_index: 99, ema_loss: 2.9133549105608836e-05\n",
      "2023-03-10 16:13:27,569 (3499599930:29) WARNING: epoch_index: 0, batch_index: 119, ema_loss: 3.541957312336308e-06\n",
      "2023-03-10 16:13:32,618 (3499599930:29) WARNING: epoch_index: 0, batch_index: 139, ema_loss: 4.3061913856945466e-07\n",
      "2023-03-10 16:13:37,647 (3499599930:29) WARNING: epoch_index: 0, batch_index: 159, ema_loss: 5.2353197332877244e-08\n",
      "2023-03-10 16:13:42,410 (3499599930:29) WARNING: epoch_index: 0, batch_index: 179, ema_loss: 6.3649232551199475e-09\n",
      "2023-03-10 16:13:46,880 (3499599930:29) WARNING: epoch_index: 0, batch_index: 199, ema_loss: 7.738257257194903e-10\n",
      "2023-03-10 16:13:52,116 (3499599930:29) WARNING: epoch_index: 0, batch_index: 219, ema_loss: 9.407909173919649e-11\n",
      "2023-03-10 16:13:56,445 (3499599930:29) WARNING: epoch_index: 0, batch_index: 239, ema_loss: 1.1437815104764493e-11\n",
      "2023-03-10 16:14:01,150 (3499599930:29) WARNING: epoch_index: 0, batch_index: 259, ema_loss: 1.390570709795813e-12\n",
      "2023-03-10 16:14:05,233 (3499599930:29) WARNING: epoch_index: 0, batch_index: 279, ema_loss: 1.690608509305816e-13\n",
      "2023-03-10 16:14:09,341 (3499599930:29) WARNING: epoch_index: 0, batch_index: 299, ema_loss: 2.0553842305990992e-14\n",
      "2023-03-10 16:14:09,342 (3499599930:44) WARNING: start to do evaluation...\n",
      "2023-03-10 16:14:34,904 (3499599930:57) WARNING: eval_ema_loss: 0.0, eval_acc: 1.0\n",
      "2023-03-10 16:14:40,289 (3499599930:29) WARNING: epoch_index: 0, batch_index: 319, ema_loss: 2.4988659907710384e-15\n",
      "2023-03-10 16:14:44,923 (3499599930:29) WARNING: epoch_index: 0, batch_index: 339, ema_loss: 3.038036131258054e-16\n",
      "2023-03-10 16:14:48,917 (3499599930:29) WARNING: epoch_index: 0, batch_index: 359, ema_loss: 3.69354076780607e-17\n",
      "2023-03-10 16:14:53,015 (3499599930:29) WARNING: epoch_index: 0, batch_index: 379, ema_loss: 4.4904810633712004e-18\n",
      "2023-03-10 16:14:57,316 (3499599930:29) WARNING: epoch_index: 1, batch_index: 8, ema_loss: 0.0\n",
      "2023-03-10 16:15:01,473 (3499599930:29) WARNING: epoch_index: 1, batch_index: 28, ema_loss: 0.0\n",
      "2023-03-10 16:15:06,057 (3499599930:29) WARNING: epoch_index: 1, batch_index: 48, ema_loss: 0.0\n",
      "2023-03-10 16:15:10,184 (3499599930:29) WARNING: epoch_index: 1, batch_index: 68, ema_loss: 0.0\n",
      "2023-03-10 16:15:14,825 (3499599930:29) WARNING: epoch_index: 1, batch_index: 88, ema_loss: 0.0\n",
      "2023-03-10 16:15:19,190 (3499599930:29) WARNING: epoch_index: 1, batch_index: 108, ema_loss: 0.0\n",
      "2023-03-10 16:15:19,223 (3499599930:41) WARNING: checkpoint has been saved in ./logs_imdb_text_classification\\step_500.pt\n",
      "2023-03-10 16:15:25,453 (3499599930:29) WARNING: epoch_index: 1, batch_index: 128, ema_loss: 0.0\n",
      "2023-03-10 16:15:30,625 (3499599930:29) WARNING: epoch_index: 1, batch_index: 148, ema_loss: 0.0\n",
      "2023-03-10 16:15:35,543 (3499599930:29) WARNING: epoch_index: 1, batch_index: 168, ema_loss: 0.0\n",
      "2023-03-10 16:15:40,462 (3499599930:29) WARNING: epoch_index: 1, batch_index: 188, ema_loss: 0.0\n",
      "2023-03-10 16:15:44,519 (3499599930:29) WARNING: epoch_index: 1, batch_index: 208, ema_loss: 0.0\n",
      "2023-03-10 16:15:44,520 (3499599930:44) WARNING: start to do evaluation...\n",
      "2023-03-10 16:16:10,485 (3499599930:57) WARNING: eval_ema_loss: 0.0, eval_acc: 1.0\n",
      "2023-03-10 16:16:18,320 (3499599930:29) WARNING: epoch_index: 1, batch_index: 228, ema_loss: 0.0\n",
      "2023-03-10 16:16:25,040 (3499599930:29) WARNING: epoch_index: 1, batch_index: 248, ema_loss: 0.0\n",
      "2023-03-10 16:16:29,412 (3499599930:29) WARNING: epoch_index: 1, batch_index: 268, ema_loss: 0.0\n",
      "2023-03-10 16:16:34,617 (3499599930:29) WARNING: epoch_index: 1, batch_index: 288, ema_loss: 0.0\n",
      "2023-03-10 16:16:39,403 (3499599930:29) WARNING: epoch_index: 1, batch_index: 308, ema_loss: 0.0\n",
      "2023-03-10 16:16:44,080 (3499599930:29) WARNING: epoch_index: 1, batch_index: 328, ema_loss: 0.0\n",
      "2023-03-10 16:16:48,668 (3499599930:29) WARNING: epoch_index: 1, batch_index: 348, ema_loss: 0.0\n",
      "2023-03-10 16:16:52,770 (3499599930:29) WARNING: epoch_index: 1, batch_index: 368, ema_loss: 0.0\n",
      "2023-03-10 16:16:56,920 (3499599930:29) WARNING: epoch_index: 1, batch_index: 388, ema_loss: 0.0\n",
      "2023-03-10 16:17:01,597 (3499599930:29) WARNING: epoch_index: 2, batch_index: 17, ema_loss: 0.0\n",
      "2023-03-10 16:17:05,987 (3499599930:29) WARNING: epoch_index: 2, batch_index: 37, ema_loss: 0.0\n",
      "2023-03-10 16:17:10,181 (3499599930:29) WARNING: epoch_index: 2, batch_index: 57, ema_loss: 0.0\n",
      "2023-03-10 16:17:15,185 (3499599930:29) WARNING: epoch_index: 2, batch_index: 77, ema_loss: 0.0\n",
      "2023-03-10 16:17:19,810 (3499599930:29) WARNING: epoch_index: 2, batch_index: 97, ema_loss: 0.0\n",
      "2023-03-10 16:17:24,132 (3499599930:29) WARNING: epoch_index: 2, batch_index: 117, ema_loss: 0.0\n",
      "2023-03-10 16:17:24,133 (3499599930:44) WARNING: start to do evaluation...\n",
      "2023-03-10 16:17:49,376 (3499599930:57) WARNING: eval_ema_loss: 0.0, eval_acc: 1.0\n",
      "2023-03-10 16:17:54,229 (3499599930:29) WARNING: epoch_index: 2, batch_index: 137, ema_loss: 0.0\n",
      "2023-03-10 16:18:00,017 (3499599930:29) WARNING: epoch_index: 2, batch_index: 157, ema_loss: 0.0\n",
      "2023-03-10 16:18:04,836 (3499599930:29) WARNING: epoch_index: 2, batch_index: 177, ema_loss: 0.0\n",
      "2023-03-10 16:18:09,083 (3499599930:29) WARNING: epoch_index: 2, batch_index: 197, ema_loss: 0.0\n",
      "2023-03-10 16:18:14,249 (3499599930:29) WARNING: epoch_index: 2, batch_index: 217, ema_loss: 0.0\n",
      "2023-03-10 16:18:14,284 (3499599930:41) WARNING: checkpoint has been saved in ./logs_imdb_text_classification\\step_1000.pt\n",
      "2023-03-10 16:18:18,687 (3499599930:29) WARNING: epoch_index: 2, batch_index: 237, ema_loss: 0.0\n",
      "2023-03-10 16:18:23,247 (3499599930:29) WARNING: epoch_index: 2, batch_index: 257, ema_loss: 0.0\n",
      "2023-03-10 16:18:27,906 (3499599930:29) WARNING: epoch_index: 2, batch_index: 277, ema_loss: 0.0\n",
      "2023-03-10 16:18:32,635 (3499599930:29) WARNING: epoch_index: 2, batch_index: 297, ema_loss: 0.0\n",
      "2023-03-10 16:18:37,187 (3499599930:29) WARNING: epoch_index: 2, batch_index: 317, ema_loss: 0.0\n",
      "2023-03-10 16:18:42,114 (3499599930:29) WARNING: epoch_index: 2, batch_index: 337, ema_loss: 0.0\n",
      "2023-03-10 16:18:46,685 (3499599930:29) WARNING: epoch_index: 2, batch_index: 357, ema_loss: 0.0\n",
      "2023-03-10 16:18:50,995 (3499599930:29) WARNING: epoch_index: 2, batch_index: 377, ema_loss: 0.0\n",
      "2023-03-10 16:18:55,212 (3499599930:29) WARNING: epoch_index: 3, batch_index: 6, ema_loss: 0.0\n",
      "2023-03-10 16:18:59,367 (3499599930:29) WARNING: epoch_index: 3, batch_index: 26, ema_loss: 0.0\n",
      "2023-03-10 16:18:59,368 (3499599930:44) WARNING: start to do evaluation...\n",
      "2023-03-10 16:19:25,494 (3499599930:57) WARNING: eval_ema_loss: 0.0, eval_acc: 1.0\n",
      "2023-03-10 16:19:32,081 (3499599930:29) WARNING: epoch_index: 3, batch_index: 46, ema_loss: 0.0\n",
      "2023-03-10 16:19:36,866 (3499599930:29) WARNING: epoch_index: 3, batch_index: 66, ema_loss: 0.0\n",
      "2023-03-10 16:19:41,809 (3499599930:29) WARNING: epoch_index: 3, batch_index: 86, ema_loss: 0.0\n",
      "2023-03-10 16:19:47,685 (3499599930:29) WARNING: epoch_index: 3, batch_index: 106, ema_loss: 0.0\n",
      "2023-03-10 16:19:52,823 (3499599930:29) WARNING: epoch_index: 3, batch_index: 126, ema_loss: 0.0\n",
      "2023-03-10 16:19:57,750 (3499599930:29) WARNING: epoch_index: 3, batch_index: 146, ema_loss: 0.0\n",
      "2023-03-10 16:20:02,166 (3499599930:29) WARNING: epoch_index: 3, batch_index: 166, ema_loss: 0.0\n",
      "2023-03-10 16:20:06,806 (3499599930:29) WARNING: epoch_index: 3, batch_index: 186, ema_loss: 0.0\n",
      "2023-03-10 16:20:11,999 (3499599930:29) WARNING: epoch_index: 3, batch_index: 206, ema_loss: 0.0\n",
      "2023-03-10 16:20:18,566 (3499599930:29) WARNING: epoch_index: 3, batch_index: 226, ema_loss: 0.0\n",
      "2023-03-10 16:20:24,199 (3499599930:29) WARNING: epoch_index: 3, batch_index: 246, ema_loss: 0.0\n",
      "2023-03-10 16:20:30,620 (3499599930:29) WARNING: epoch_index: 3, batch_index: 266, ema_loss: 0.0\n",
      "2023-03-10 16:20:38,215 (3499599930:29) WARNING: epoch_index: 3, batch_index: 286, ema_loss: 0.0\n",
      "2023-03-10 16:20:44,616 (3499599930:29) WARNING: epoch_index: 3, batch_index: 306, ema_loss: 0.0\n",
      "2023-03-10 16:20:51,226 (3499599930:29) WARNING: epoch_index: 3, batch_index: 326, ema_loss: 0.0\n",
      "2023-03-10 16:20:51,263 (3499599930:41) WARNING: checkpoint has been saved in ./logs_imdb_text_classification\\step_1500.pt\n",
      "2023-03-10 16:20:51,264 (3499599930:44) WARNING: start to do evaluation...\n",
      "2023-03-10 16:21:23,992 (3499599930:57) WARNING: eval_ema_loss: 0.0, eval_acc: 1.0\n",
      "2023-03-10 16:21:28,561 (3499599930:29) WARNING: epoch_index: 3, batch_index: 346, ema_loss: 0.0\n",
      "2023-03-10 16:21:34,381 (3499599930:29) WARNING: epoch_index: 3, batch_index: 366, ema_loss: 0.0\n",
      "2023-03-10 16:21:39,754 (3499599930:29) WARNING: epoch_index: 3, batch_index: 386, ema_loss: 0.0\n",
      "2023-03-10 16:21:44,431 (3499599930:29) WARNING: epoch_index: 4, batch_index: 15, ema_loss: 0.0\n",
      "2023-03-10 16:21:50,671 (3499599930:29) WARNING: epoch_index: 4, batch_index: 35, ema_loss: 0.0\n",
      "2023-03-10 16:21:55,662 (3499599930:29) WARNING: epoch_index: 4, batch_index: 55, ema_loss: 0.0\n",
      "2023-03-10 16:22:01,105 (3499599930:29) WARNING: epoch_index: 4, batch_index: 75, ema_loss: 0.0\n",
      "2023-03-10 16:22:06,863 (3499599930:29) WARNING: epoch_index: 4, batch_index: 95, ema_loss: 0.0\n",
      "2023-03-10 16:22:13,716 (3499599930:29) WARNING: epoch_index: 4, batch_index: 115, ema_loss: 0.0\n",
      "2023-03-10 16:22:18,773 (3499599930:29) WARNING: epoch_index: 4, batch_index: 135, ema_loss: 0.0\n",
      "2023-03-10 16:22:23,723 (3499599930:29) WARNING: epoch_index: 4, batch_index: 155, ema_loss: 0.0\n",
      "2023-03-10 16:22:28,923 (3499599930:29) WARNING: epoch_index: 4, batch_index: 175, ema_loss: 0.0\n",
      "2023-03-10 16:22:33,721 (3499599930:29) WARNING: epoch_index: 4, batch_index: 195, ema_loss: 0.0\n",
      "2023-03-10 16:22:38,259 (3499599930:29) WARNING: epoch_index: 4, batch_index: 215, ema_loss: 0.0\n",
      "2023-03-10 16:22:43,890 (3499599930:29) WARNING: epoch_index: 4, batch_index: 235, ema_loss: 0.0\n",
      "2023-03-10 16:22:43,891 (3499599930:44) WARNING: start to do evaluation...\n",
      "2023-03-10 16:23:07,364 (3499599930:57) WARNING: eval_ema_loss: 0.0, eval_acc: 1.0\n",
      "2023-03-10 16:23:12,761 (3499599930:29) WARNING: epoch_index: 4, batch_index: 255, ema_loss: 0.0\n",
      "2023-03-10 16:23:18,535 (3499599930:29) WARNING: epoch_index: 4, batch_index: 275, ema_loss: 0.0\n",
      "2023-03-10 16:23:24,194 (3499599930:29) WARNING: epoch_index: 4, batch_index: 295, ema_loss: 0.0\n",
      "2023-03-10 16:23:31,025 (3499599930:29) WARNING: epoch_index: 4, batch_index: 315, ema_loss: 0.0\n",
      "2023-03-10 16:23:36,500 (3499599930:29) WARNING: epoch_index: 4, batch_index: 335, ema_loss: 0.0\n",
      "2023-03-10 16:23:42,078 (3499599930:29) WARNING: epoch_index: 4, batch_index: 355, ema_loss: 0.0\n",
      "2023-03-10 16:23:47,562 (3499599930:29) WARNING: epoch_index: 4, batch_index: 375, ema_loss: 0.0\n",
      "2023-03-10 16:23:53,390 (3499599930:29) WARNING: epoch_index: 5, batch_index: 4, ema_loss: 0.0\n",
      "2023-03-10 16:23:59,367 (3499599930:29) WARNING: epoch_index: 5, batch_index: 24, ema_loss: 0.0\n",
      "2023-03-10 16:24:04,163 (3499599930:29) WARNING: epoch_index: 5, batch_index: 44, ema_loss: 0.0\n",
      "2023-03-10 16:24:04,200 (3499599930:41) WARNING: checkpoint has been saved in ./logs_imdb_text_classification\\step_2000.pt\n",
      "2023-03-10 16:24:10,226 (3499599930:29) WARNING: epoch_index: 5, batch_index: 64, ema_loss: 0.0\n",
      "2023-03-10 16:24:16,518 (3499599930:29) WARNING: epoch_index: 5, batch_index: 84, ema_loss: 0.0\n",
      "2023-03-10 16:24:22,570 (3499599930:29) WARNING: epoch_index: 5, batch_index: 104, ema_loss: 0.0\n",
      "2023-03-10 16:24:27,970 (3499599930:29) WARNING: epoch_index: 5, batch_index: 124, ema_loss: 0.0\n",
      "2023-03-10 16:24:33,849 (3499599930:29) WARNING: epoch_index: 5, batch_index: 144, ema_loss: 0.0\n",
      "2023-03-10 16:24:33,850 (3499599930:44) WARNING: start to do evaluation...\n",
      "2023-03-10 16:25:01,103 (3499599930:57) WARNING: eval_ema_loss: 0.0, eval_acc: 1.0\n",
      "2023-03-10 16:25:07,285 (3499599930:29) WARNING: epoch_index: 5, batch_index: 164, ema_loss: 0.0\n",
      "2023-03-10 16:25:13,260 (3499599930:29) WARNING: epoch_index: 5, batch_index: 184, ema_loss: 0.0\n",
      "2023-03-10 16:25:19,118 (3499599930:29) WARNING: epoch_index: 5, batch_index: 204, ema_loss: 0.0\n",
      "2023-03-10 16:25:24,023 (3499599930:29) WARNING: epoch_index: 5, batch_index: 224, ema_loss: 0.0\n",
      "2023-03-10 16:25:28,980 (3499599930:29) WARNING: epoch_index: 5, batch_index: 244, ema_loss: 0.0\n",
      "2023-03-10 16:25:34,203 (3499599930:29) WARNING: epoch_index: 5, batch_index: 264, ema_loss: 0.0\n",
      "2023-03-10 16:25:39,394 (3499599930:29) WARNING: epoch_index: 5, batch_index: 284, ema_loss: 0.0\n",
      "2023-03-10 16:25:43,888 (3499599930:29) WARNING: epoch_index: 5, batch_index: 304, ema_loss: 0.0\n",
      "2023-03-10 16:25:49,956 (3499599930:29) WARNING: epoch_index: 5, batch_index: 324, ema_loss: 0.0\n",
      "2023-03-10 16:25:54,596 (3499599930:29) WARNING: epoch_index: 5, batch_index: 344, ema_loss: 0.0\n",
      "2023-03-10 16:25:59,823 (3499599930:29) WARNING: epoch_index: 5, batch_index: 364, ema_loss: 0.0\n",
      "2023-03-10 16:26:05,407 (3499599930:29) WARNING: epoch_index: 5, batch_index: 384, ema_loss: 0.0\n",
      "2023-03-10 16:26:10,567 (3499599930:29) WARNING: epoch_index: 6, batch_index: 13, ema_loss: 0.0\n",
      "2023-03-10 16:26:16,230 (3499599930:29) WARNING: epoch_index: 6, batch_index: 33, ema_loss: 0.0\n",
      "2023-03-10 16:26:21,471 (3499599930:29) WARNING: epoch_index: 6, batch_index: 53, ema_loss: 0.0\n",
      "2023-03-10 16:26:21,472 (3499599930:44) WARNING: start to do evaluation...\n",
      "2023-03-10 16:26:48,003 (3499599930:57) WARNING: eval_ema_loss: 0.0, eval_acc: 1.0\n",
      "2023-03-10 16:26:52,753 (3499599930:29) WARNING: epoch_index: 6, batch_index: 73, ema_loss: 0.0\n",
      "2023-03-10 16:26:57,448 (3499599930:29) WARNING: epoch_index: 6, batch_index: 93, ema_loss: 0.0\n",
      "2023-03-10 16:27:02,560 (3499599930:29) WARNING: epoch_index: 6, batch_index: 113, ema_loss: 0.0\n",
      "2023-03-10 16:27:08,620 (3499599930:29) WARNING: epoch_index: 6, batch_index: 133, ema_loss: 0.0\n",
      "2023-03-10 16:27:15,439 (3499599930:29) WARNING: epoch_index: 6, batch_index: 153, ema_loss: 0.0\n",
      "2023-03-10 16:27:15,462 (3499599930:41) WARNING: checkpoint has been saved in ./logs_imdb_text_classification\\step_2500.pt\n",
      "2023-03-10 16:27:20,629 (3499599930:29) WARNING: epoch_index: 6, batch_index: 173, ema_loss: 0.0\n",
      "2023-03-10 16:27:26,115 (3499599930:29) WARNING: epoch_index: 6, batch_index: 193, ema_loss: 0.0\n",
      "2023-03-10 16:27:30,656 (3499599930:29) WARNING: epoch_index: 6, batch_index: 213, ema_loss: 0.0\n",
      "2023-03-10 16:27:35,509 (3499599930:29) WARNING: epoch_index: 6, batch_index: 233, ema_loss: 0.0\n",
      "2023-03-10 16:27:40,320 (3499599930:29) WARNING: epoch_index: 6, batch_index: 253, ema_loss: 0.0\n",
      "2023-03-10 16:27:44,453 (3499599930:29) WARNING: epoch_index: 6, batch_index: 273, ema_loss: 0.0\n",
      "2023-03-10 16:27:48,577 (3499599930:29) WARNING: epoch_index: 6, batch_index: 293, ema_loss: 0.0\n",
      "2023-03-10 16:27:52,843 (3499599930:29) WARNING: epoch_index: 6, batch_index: 313, ema_loss: 0.0\n",
      "2023-03-10 16:27:57,585 (3499599930:29) WARNING: epoch_index: 6, batch_index: 333, ema_loss: 0.0\n",
      "2023-03-10 16:28:02,164 (3499599930:29) WARNING: epoch_index: 6, batch_index: 353, ema_loss: 0.0\n",
      "2023-03-10 16:28:02,164 (3499599930:44) WARNING: start to do evaluation...\n",
      "2023-03-10 16:28:28,190 (3499599930:57) WARNING: eval_ema_loss: 0.0, eval_acc: 1.0\n",
      "2023-03-10 16:28:34,396 (3499599930:29) WARNING: epoch_index: 6, batch_index: 373, ema_loss: 0.0\n",
      "2023-03-10 16:28:41,563 (3499599930:29) WARNING: epoch_index: 7, batch_index: 2, ema_loss: 0.0\n",
      "2023-03-10 16:28:46,358 (3499599930:29) WARNING: epoch_index: 7, batch_index: 22, ema_loss: 0.0\n",
      "2023-03-10 16:28:51,233 (3499599930:29) WARNING: epoch_index: 7, batch_index: 42, ema_loss: 0.0\n",
      "2023-03-10 16:28:55,843 (3499599930:29) WARNING: epoch_index: 7, batch_index: 62, ema_loss: 0.0\n",
      "2023-03-10 16:29:00,172 (3499599930:29) WARNING: epoch_index: 7, batch_index: 82, ema_loss: 0.0\n",
      "2023-03-10 16:29:05,845 (3499599930:29) WARNING: epoch_index: 7, batch_index: 102, ema_loss: 0.0\n",
      "2023-03-10 16:29:10,758 (3499599930:29) WARNING: epoch_index: 7, batch_index: 122, ema_loss: 0.0\n",
      "2023-03-10 16:29:15,880 (3499599930:29) WARNING: epoch_index: 7, batch_index: 142, ema_loss: 0.0\n",
      "2023-03-10 16:29:22,560 (3499599930:29) WARNING: epoch_index: 7, batch_index: 162, ema_loss: 0.0\n",
      "2023-03-10 16:29:27,576 (3499599930:29) WARNING: epoch_index: 7, batch_index: 182, ema_loss: 0.0\n",
      "2023-03-10 16:29:31,928 (3499599930:29) WARNING: epoch_index: 7, batch_index: 202, ema_loss: 0.0\n",
      "2023-03-10 16:29:37,578 (3499599930:29) WARNING: epoch_index: 7, batch_index: 222, ema_loss: 0.0\n",
      "2023-03-10 16:29:42,035 (3499599930:29) WARNING: epoch_index: 7, batch_index: 242, ema_loss: 0.0\n",
      "2023-03-10 16:29:46,725 (3499599930:29) WARNING: epoch_index: 7, batch_index: 262, ema_loss: 0.0\n",
      "2023-03-10 16:29:46,753 (3499599930:41) WARNING: checkpoint has been saved in ./logs_imdb_text_classification\\step_3000.pt\n",
      "2023-03-10 16:29:46,753 (3499599930:44) WARNING: start to do evaluation...\n",
      "2023-03-10 16:30:09,639 (3499599930:57) WARNING: eval_ema_loss: 0.0, eval_acc: 1.0\n",
      "2023-03-10 16:30:14,144 (3499599930:29) WARNING: epoch_index: 7, batch_index: 282, ema_loss: 0.0\n",
      "2023-03-10 16:30:19,550 (3499599930:29) WARNING: epoch_index: 7, batch_index: 302, ema_loss: 0.0\n",
      "2023-03-10 16:30:24,865 (3499599930:29) WARNING: epoch_index: 7, batch_index: 322, ema_loss: 0.0\n",
      "2023-03-10 16:30:29,590 (3499599930:29) WARNING: epoch_index: 7, batch_index: 342, ema_loss: 0.0\n",
      "2023-03-10 16:30:34,278 (3499599930:29) WARNING: epoch_index: 7, batch_index: 362, ema_loss: 0.0\n",
      "2023-03-10 16:30:38,782 (3499599930:29) WARNING: epoch_index: 7, batch_index: 382, ema_loss: 0.0\n",
      "2023-03-10 16:30:43,544 (3499599930:29) WARNING: epoch_index: 8, batch_index: 11, ema_loss: 0.0\n",
      "2023-03-10 16:30:47,831 (3499599930:29) WARNING: epoch_index: 8, batch_index: 31, ema_loss: 0.0\n",
      "2023-03-10 16:30:52,778 (3499599930:29) WARNING: epoch_index: 8, batch_index: 51, ema_loss: 0.0\n",
      "2023-03-10 16:30:57,579 (3499599930:29) WARNING: epoch_index: 8, batch_index: 71, ema_loss: 0.0\n",
      "2023-03-10 16:31:01,886 (3499599930:29) WARNING: epoch_index: 8, batch_index: 91, ema_loss: 0.0\n",
      "2023-03-10 16:31:06,550 (3499599930:29) WARNING: epoch_index: 8, batch_index: 111, ema_loss: 0.0\n",
      "2023-03-10 16:31:11,562 (3499599930:29) WARNING: epoch_index: 8, batch_index: 131, ema_loss: 0.0\n",
      "2023-03-10 16:31:16,501 (3499599930:29) WARNING: epoch_index: 8, batch_index: 151, ema_loss: 0.0\n",
      "2023-03-10 16:31:21,767 (3499599930:29) WARNING: epoch_index: 8, batch_index: 171, ema_loss: 0.0\n",
      "2023-03-10 16:31:21,768 (3499599930:44) WARNING: start to do evaluation...\n",
      "2023-03-10 16:31:44,273 (3499599930:57) WARNING: eval_ema_loss: 0.0, eval_acc: 1.0\n",
      "2023-03-10 16:31:49,223 (3499599930:29) WARNING: epoch_index: 8, batch_index: 191, ema_loss: 0.0\n",
      "2023-03-10 16:31:53,618 (3499599930:29) WARNING: epoch_index: 8, batch_index: 211, ema_loss: 0.0\n",
      "2023-03-10 16:31:58,745 (3499599930:29) WARNING: epoch_index: 8, batch_index: 231, ema_loss: 0.0\n",
      "2023-03-10 16:32:02,935 (3499599930:29) WARNING: epoch_index: 8, batch_index: 251, ema_loss: 0.0\n",
      "2023-03-10 16:32:07,745 (3499599930:29) WARNING: epoch_index: 8, batch_index: 271, ema_loss: 0.0\n",
      "2023-03-10 16:32:12,280 (3499599930:29) WARNING: epoch_index: 8, batch_index: 291, ema_loss: 0.0\n",
      "2023-03-10 16:32:16,763 (3499599930:29) WARNING: epoch_index: 8, batch_index: 311, ema_loss: 0.0\n",
      "2023-03-10 16:32:21,386 (3499599930:29) WARNING: epoch_index: 8, batch_index: 331, ema_loss: 0.0\n",
      "2023-03-10 16:32:25,886 (3499599930:29) WARNING: epoch_index: 8, batch_index: 351, ema_loss: 0.0\n",
      "2023-03-10 16:32:30,634 (3499599930:29) WARNING: epoch_index: 8, batch_index: 371, ema_loss: 0.0\n",
      "2023-03-10 16:32:30,652 (3499599930:41) WARNING: checkpoint has been saved in ./logs_imdb_text_classification\\step_3500.pt\n",
      "2023-03-10 16:32:35,621 (3499599930:29) WARNING: epoch_index: 9, batch_index: 0, ema_loss: 0.0\n",
      "2023-03-10 16:32:40,097 (3499599930:29) WARNING: epoch_index: 9, batch_index: 20, ema_loss: 0.0\n",
      "2023-03-10 16:32:45,639 (3499599930:29) WARNING: epoch_index: 9, batch_index: 40, ema_loss: 0.0\n",
      "2023-03-10 16:32:49,824 (3499599930:29) WARNING: epoch_index: 9, batch_index: 60, ema_loss: 0.0\n",
      "2023-03-10 16:32:54,453 (3499599930:29) WARNING: epoch_index: 9, batch_index: 80, ema_loss: 0.0\n",
      "2023-03-10 16:32:54,454 (3499599930:44) WARNING: start to do evaluation...\n",
      "2023-03-10 16:33:18,802 (3499599930:57) WARNING: eval_ema_loss: 0.0, eval_acc: 1.0\n",
      "2023-03-10 16:33:23,722 (3499599930:29) WARNING: epoch_index: 9, batch_index: 100, ema_loss: 0.0\n",
      "2023-03-10 16:33:28,620 (3499599930:29) WARNING: epoch_index: 9, batch_index: 120, ema_loss: 0.0\n",
      "2023-03-10 16:33:33,876 (3499599930:29) WARNING: epoch_index: 9, batch_index: 140, ema_loss: 0.0\n",
      "2023-03-10 16:33:38,622 (3499599930:29) WARNING: epoch_index: 9, batch_index: 160, ema_loss: 0.0\n",
      "2023-03-10 16:33:43,916 (3499599930:29) WARNING: epoch_index: 9, batch_index: 180, ema_loss: 0.0\n",
      "2023-03-10 16:33:48,321 (3499599930:29) WARNING: epoch_index: 9, batch_index: 200, ema_loss: 0.0\n",
      "2023-03-10 16:33:52,807 (3499599930:29) WARNING: epoch_index: 9, batch_index: 220, ema_loss: 0.0\n",
      "2023-03-10 16:33:57,703 (3499599930:29) WARNING: epoch_index: 9, batch_index: 240, ema_loss: 0.0\n",
      "2023-03-10 16:34:01,799 (3499599930:29) WARNING: epoch_index: 9, batch_index: 260, ema_loss: 0.0\n",
      "2023-03-10 16:34:06,432 (3499599930:29) WARNING: epoch_index: 9, batch_index: 280, ema_loss: 0.0\n",
      "2023-03-10 16:34:11,792 (3499599930:29) WARNING: epoch_index: 9, batch_index: 300, ema_loss: 0.0\n",
      "2023-03-10 16:34:16,190 (3499599930:29) WARNING: epoch_index: 9, batch_index: 320, ema_loss: 0.0\n",
      "2023-03-10 16:34:21,009 (3499599930:29) WARNING: epoch_index: 9, batch_index: 340, ema_loss: 0.0\n",
      "2023-03-10 16:34:25,681 (3499599930:29) WARNING: epoch_index: 9, batch_index: 360, ema_loss: 0.0\n",
      "2023-03-10 16:34:30,666 (3499599930:29) WARNING: epoch_index: 9, batch_index: 380, ema_loss: 0.0\n",
      "2023-03-10 16:34:30,667 (3499599930:44) WARNING: start to do evaluation...\n",
      "2023-03-10 16:34:52,530 (3499599930:57) WARNING: eval_ema_loss: 0.0, eval_acc: 1.0\n"
     ]
    }
   ],
   "source": [
    "if __name__ == '__main__':\n",
    "    model = GCNN()\n",
    "    # model = TextClassificationModel()\n",
    "    print('模型总参数:', sum(p.numel() for p in model.parameters()))\n",
    "    optimizer = torch.optim.Adam(model.parameters(), lr=0.001)\n",
    "\n",
    "    train_data_iter = IMDB(root='data', split='train')  # Dataset类型的对象\n",
    "    train_data_loader = torch.utils.data.DataLoader(to_map_style_dataset(train_data_iter),\n",
    "                                                    batch_size=BATCH_SIZE,\n",
    "                                                    collate_fn=collate_fn,\n",
    "                                                    shuffle=True)\n",
    "\n",
    "    eval_data_iter = IMDB(root='data', split='test')  # Dataset类型的对象\n",
    "    eval_data_loader = torch.utils.data.DataLoader(to_map_style_dataset(eval_data_iter),\n",
    "                                                   batch_size=8,\n",
    "                                                   collate_fn=collate_fn)\n",
    "    resume = ''\n",
    "    # resume = './logs_imdb_text_classification/step_1000.pt'\n",
    "\n",
    "    train(train_data_loader, eval_data_loader, model, optimizer, num_epoch=10, log_step_interval=20,\n",
    "          save_step_interval=500, eval_step_interval=300, save_path='./logs_imdb_text_classification', resume=resume)"
   ],
   "metadata": {
    "collapsed": false,
    "pycharm": {
     "name": "#%%\n"
    }
   }
  }
 ],
 "metadata": {
  "kernelspec": {
   "name": "pycharm-9146fa6d",
   "language": "python",
   "display_name": "PyCharm (DeepLearningTutorial)"
  },
  "language_info": {
   "codemirror_mode": {
    "name": "ipython",
    "version": 2
   },
   "file_extension": ".py",
   "mimetype": "text/x-python",
   "name": "python",
   "nbconvert_exporter": "python",
   "pygments_lexer": "ipython2",
   "version": "2.7.6"
  }
 },
 "nbformat": 4,
 "nbformat_minor": 0
}