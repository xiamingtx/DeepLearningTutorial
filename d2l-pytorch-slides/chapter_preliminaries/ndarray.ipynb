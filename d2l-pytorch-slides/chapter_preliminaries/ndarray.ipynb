{
 "cells": [
  {
   "cell_type": "markdown",
   "id": "d5b07117",
   "metadata": {
    "slideshow": {
     "slide_type": "-"
    }
   },
   "source": [
    "# 数据操作\n",
    "\n"
   ]
  },
  {
   "cell_type": "markdown",
   "id": "1868af10",
   "metadata": {
    "slideshow": {
     "slide_type": "-"
    }
   },
   "source": [
    "首先，我们导入`torch`。请注意，虽然它被称为PyTorch，但是代码中使用`torch`而不是`pytorch`"
   ]
  },
  {
   "cell_type": "code",
   "execution_count": 1,
   "id": "c576bdce",
   "metadata": {
    "execution": {
     "iopub.execute_input": "2022-12-07T16:28:00.300201Z",
     "iopub.status.busy": "2022-12-07T16:28:00.299529Z",
     "iopub.status.idle": "2022-12-07T16:28:01.537384Z",
     "shell.execute_reply": "2022-12-07T16:28:01.536531Z"
    },
    "origin_pos": 5,
    "tab": [
     "pytorch"
    ]
   },
   "outputs": [],
   "source": [
    "import torch "
   ]
  },
  {
   "cell_type": "markdown",
   "id": "7ec62acd",
   "metadata": {
    "slideshow": {
     "slide_type": "slide"
    }
   },
   "source": [
    "张量表示一个由数值组成的数组，这个数组可能有多个维度"
   ]
  },
  {
   "cell_type": "code",
   "execution_count": 2,
   "id": "b977093a",
   "metadata": {
    "execution": {
     "iopub.execute_input": "2022-12-07T16:28:01.542283Z",
     "iopub.status.busy": "2022-12-07T16:28:01.541755Z",
     "iopub.status.idle": "2022-12-07T16:28:01.553811Z",
     "shell.execute_reply": "2022-12-07T16:28:01.553055Z"
    },
    "origin_pos": 13,
    "tab": [
     "pytorch"
    ]
   },
   "outputs": [
    {
     "data": {
      "text/plain": [
       "tensor([ 0,  1,  2,  3,  4,  5,  6,  7,  8,  9, 10, 11])"
      ]
     },
     "execution_count": 2,
     "metadata": {},
     "output_type": "execute_result"
    }
   ],
   "source": [
    "x = torch.arange(12)\n",
    "x"
   ]
  },
  {
   "cell_type": "markdown",
   "id": "804b24c8",
   "metadata": {
    "slideshow": {
     "slide_type": "slide"
    }
   },
   "source": [
    "可以通过张量的`shape`属性来访问张量（沿每个轴的长度）的*形状*\n",
    "和张量中元素的总数"
   ]
  },
  {
   "cell_type": "code",
   "execution_count": 3,
   "id": "b7e39a32",
   "metadata": {
    "execution": {
     "iopub.execute_input": "2022-12-07T16:28:01.557389Z",
     "iopub.status.busy": "2022-12-07T16:28:01.556948Z",
     "iopub.status.idle": "2022-12-07T16:28:01.563199Z",
     "shell.execute_reply": "2022-12-07T16:28:01.562469Z"
    },
    "origin_pos": 17,
    "tab": [
     "pytorch"
    ]
   },
   "outputs": [
    {
     "data": {
      "text/plain": [
       "torch.Size([12])"
      ]
     },
     "execution_count": 3,
     "metadata": {},
     "output_type": "execute_result"
    }
   ],
   "source": [
    "x.shape"
   ]
  },
  {
   "cell_type": "code",
   "execution_count": 4,
   "id": "b6e3e2bd",
   "metadata": {
    "execution": {
     "iopub.execute_input": "2022-12-07T16:28:01.566826Z",
     "iopub.status.busy": "2022-12-07T16:28:01.566010Z",
     "iopub.status.idle": "2022-12-07T16:28:01.571319Z",
     "shell.execute_reply": "2022-12-07T16:28:01.570575Z"
    },
    "origin_pos": 20,
    "tab": [
     "pytorch"
    ]
   },
   "outputs": [
    {
     "data": {
      "text/plain": [
       "12"
      ]
     },
     "execution_count": 4,
     "metadata": {},
     "output_type": "execute_result"
    }
   ],
   "source": [
    "x.numel()"
   ]
  },
  {
   "cell_type": "markdown",
   "id": "761eb73b",
   "metadata": {
    "slideshow": {
     "slide_type": "slide"
    }
   },
   "source": [
    "要想改变一个张量的形状而不改变元素数量和元素值，可以调用`reshape`函数"
   ]
  },
  {
   "cell_type": "code",
   "execution_count": 5,
   "id": "309722cd",
   "metadata": {
    "execution": {
     "iopub.execute_input": "2022-12-07T16:28:01.574981Z",
     "iopub.status.busy": "2022-12-07T16:28:01.574441Z",
     "iopub.status.idle": "2022-12-07T16:28:01.579697Z",
     "shell.execute_reply": "2022-12-07T16:28:01.579008Z"
    },
    "origin_pos": 24,
    "tab": [
     "pytorch"
    ]
   },
   "outputs": [
    {
     "data": {
      "text/plain": [
       "tensor([[ 0,  1,  2,  3],\n",
       "        [ 4,  5,  6,  7],\n",
       "        [ 8,  9, 10, 11]])"
      ]
     },
     "execution_count": 5,
     "metadata": {},
     "output_type": "execute_result"
    }
   ],
   "source": [
    "X = x.reshape(3, 4)\n",
    "X"
   ]
  },
  {
   "cell_type": "markdown",
   "id": "14b2427a",
   "metadata": {
    "slideshow": {
     "slide_type": "slide"
    }
   },
   "source": [
    "使用全0、全1、其他常量，或者从特定分布中随机采样的数字"
   ]
  },
  {
   "cell_type": "code",
   "execution_count": 6,
   "id": "833fe454",
   "metadata": {
    "execution": {
     "iopub.execute_input": "2022-12-07T16:28:01.583460Z",
     "iopub.status.busy": "2022-12-07T16:28:01.582839Z",
     "iopub.status.idle": "2022-12-07T16:28:01.588562Z",
     "shell.execute_reply": "2022-12-07T16:28:01.587876Z"
    },
    "origin_pos": 29,
    "tab": [
     "pytorch"
    ]
   },
   "outputs": [
    {
     "data": {
      "text/plain": [
       "tensor([[[0., 0., 0., 0.],\n",
       "         [0., 0., 0., 0.],\n",
       "         [0., 0., 0., 0.]],\n",
       "\n",
       "        [[0., 0., 0., 0.],\n",
       "         [0., 0., 0., 0.],\n",
       "         [0., 0., 0., 0.]]])"
      ]
     },
     "execution_count": 6,
     "metadata": {},
     "output_type": "execute_result"
    }
   ],
   "source": [
    "torch.zeros((2, 3, 4))"
   ]
  },
  {
   "cell_type": "code",
   "execution_count": 7,
   "id": "40772601",
   "metadata": {
    "execution": {
     "iopub.execute_input": "2022-12-07T16:28:01.592461Z",
     "iopub.status.busy": "2022-12-07T16:28:01.591857Z",
     "iopub.status.idle": "2022-12-07T16:28:01.597800Z",
     "shell.execute_reply": "2022-12-07T16:28:01.597100Z"
    },
    "origin_pos": 34,
    "tab": [
     "pytorch"
    ]
   },
   "outputs": [
    {
     "data": {
      "text/plain": [
       "tensor([[[1., 1., 1., 1.],\n",
       "         [1., 1., 1., 1.],\n",
       "         [1., 1., 1., 1.]],\n",
       "\n",
       "        [[1., 1., 1., 1.],\n",
       "         [1., 1., 1., 1.],\n",
       "         [1., 1., 1., 1.]]])"
      ]
     },
     "execution_count": 7,
     "metadata": {},
     "output_type": "execute_result"
    }
   ],
   "source": [
    "torch.ones((2, 3, 4))"
   ]
  },
  {
   "cell_type": "code",
   "execution_count": 8,
   "id": "d4fcb962",
   "metadata": {
    "execution": {
     "iopub.execute_input": "2022-12-07T16:28:01.601753Z",
     "iopub.status.busy": "2022-12-07T16:28:01.601160Z",
     "iopub.status.idle": "2022-12-07T16:28:01.606633Z",
     "shell.execute_reply": "2022-12-07T16:28:01.605931Z"
    },
    "origin_pos": 39,
    "tab": [
     "pytorch"
    ]
   },
   "outputs": [
    {
     "data": {
      "text/plain": [
       "tensor([[ 0.4429, -1.0300,  0.1014, -0.2853],\n",
       "        [ 0.6683,  1.0961, -0.6187,  1.5149],\n",
       "        [ 0.2719,  0.9861,  0.6517,  0.2343]])"
      ]
     },
     "execution_count": 8,
     "metadata": {},
     "output_type": "execute_result"
    }
   ],
   "source": [
    "torch.randn(3, 4)"
   ]
  },
  {
   "cell_type": "markdown",
   "id": "0547912f",
   "metadata": {
    "slideshow": {
     "slide_type": "slide"
    }
   },
   "source": [
    "通过提供包含数值的Python列表（或嵌套列表），来为所需张量中的每个元素赋予确定值"
   ]
  },
  {
   "cell_type": "code",
   "execution_count": 9,
   "id": "394e6a3a",
   "metadata": {
    "execution": {
     "iopub.execute_input": "2022-12-07T16:28:01.610117Z",
     "iopub.status.busy": "2022-12-07T16:28:01.609477Z",
     "iopub.status.idle": "2022-12-07T16:28:01.615388Z",
     "shell.execute_reply": "2022-12-07T16:28:01.614630Z"
    },
    "origin_pos": 44,
    "tab": [
     "pytorch"
    ]
   },
   "outputs": [
    {
     "data": {
      "text/plain": [
       "tensor([[2, 1, 4, 3],\n",
       "        [1, 2, 3, 4],\n",
       "        [4, 3, 2, 1]])"
      ]
     },
     "execution_count": 9,
     "metadata": {},
     "output_type": "execute_result"
    }
   ],
   "source": [
    "torch.tensor([[2, 1, 4, 3], [1, 2, 3, 4], [4, 3, 2, 1]])"
   ]
  },
  {
   "cell_type": "markdown",
   "id": "a6cdd6c2",
   "metadata": {
    "slideshow": {
     "slide_type": "slide"
    }
   },
   "source": [
    "常见的标准算术运算符（`+`、`-`、`*`、`/`和`**`）都可以被升级为按元素运算"
   ]
  },
  {
   "cell_type": "code",
   "execution_count": 10,
   "id": "ccf751ee",
   "metadata": {
    "execution": {
     "iopub.execute_input": "2022-12-07T16:28:01.619942Z",
     "iopub.status.busy": "2022-12-07T16:28:01.619317Z",
     "iopub.status.idle": "2022-12-07T16:28:01.627243Z",
     "shell.execute_reply": "2022-12-07T16:28:01.626521Z"
    },
    "origin_pos": 49,
    "tab": [
     "pytorch"
    ]
   },
   "outputs": [
    {
     "data": {
      "text/plain": [
       "(tensor([ 3.,  4.,  6., 10.]),\n",
       " tensor([-1.,  0.,  2.,  6.]),\n",
       " tensor([ 2.,  4.,  8., 16.]),\n",
       " tensor([0.5000, 1.0000, 2.0000, 4.0000]),\n",
       " tensor([ 1.,  4., 16., 64.]))"
      ]
     },
     "execution_count": 10,
     "metadata": {},
     "output_type": "execute_result"
    }
   ],
   "source": [
    "x = torch.tensor([1.0, 2, 4, 8])\n",
    "y = torch.tensor([2, 2, 2, 2])\n",
    "x + y, x - y, x * y, x / y, x ** y"
   ]
  },
  {
   "cell_type": "markdown",
   "id": "6c82b9f5",
   "metadata": {
    "slideshow": {
     "slide_type": "-"
    }
   },
   "source": [
    "“按元素”方式可以应用更多的计算"
   ]
  },
  {
   "cell_type": "code",
   "execution_count": 11,
   "id": "696900f7",
   "metadata": {
    "execution": {
     "iopub.execute_input": "2022-12-07T16:28:01.630779Z",
     "iopub.status.busy": "2022-12-07T16:28:01.630107Z",
     "iopub.status.idle": "2022-12-07T16:28:01.635477Z",
     "shell.execute_reply": "2022-12-07T16:28:01.634784Z"
    },
    "origin_pos": 54,
    "tab": [
     "pytorch"
    ]
   },
   "outputs": [
    {
     "data": {
      "text/plain": [
       "tensor([2.7183e+00, 7.3891e+00, 5.4598e+01, 2.9810e+03])"
      ]
     },
     "execution_count": 11,
     "metadata": {},
     "output_type": "execute_result"
    }
   ],
   "source": [
    "torch.exp(x)"
   ]
  },
  {
   "cell_type": "markdown",
   "id": "82896d13",
   "metadata": {
    "slideshow": {
     "slide_type": "slide"
    }
   },
   "source": [
    "我们也可以把多个张量*连结*（concatenate）在一起"
   ]
  },
  {
   "cell_type": "code",
   "execution_count": 12,
   "id": "cf38c887",
   "metadata": {
    "execution": {
     "iopub.execute_input": "2022-12-07T16:28:01.639161Z",
     "iopub.status.busy": "2022-12-07T16:28:01.638398Z",
     "iopub.status.idle": "2022-12-07T16:28:01.646858Z",
     "shell.execute_reply": "2022-12-07T16:28:01.646135Z"
    },
    "origin_pos": 59,
    "tab": [
     "pytorch"
    ]
   },
   "outputs": [
    {
     "data": {
      "text/plain": [
       "(tensor([[ 0.,  1.,  2.,  3.],\n",
       "         [ 4.,  5.,  6.,  7.],\n",
       "         [ 8.,  9., 10., 11.],\n",
       "         [ 2.,  1.,  4.,  3.],\n",
       "         [ 1.,  2.,  3.,  4.],\n",
       "         [ 4.,  3.,  2.,  1.]]),\n",
       " tensor([[ 0.,  1.,  2.,  3.,  2.,  1.,  4.,  3.],\n",
       "         [ 4.,  5.,  6.,  7.,  1.,  2.,  3.,  4.],\n",
       "         [ 8.,  9., 10., 11.,  4.,  3.,  2.,  1.]]))"
      ]
     },
     "execution_count": 12,
     "metadata": {},
     "output_type": "execute_result"
    }
   ],
   "source": [
    "X = torch.arange(12, dtype=torch.float32).reshape((3,4))\n",
    "Y = torch.tensor([[2.0, 1, 4, 3], [1, 2, 3, 4], [4, 3, 2, 1]])\n",
    "torch.cat((X, Y), dim=0), torch.cat((X, Y), dim=1)"
   ]
  },
  {
   "cell_type": "markdown",
   "id": "bedba212",
   "metadata": {
    "slideshow": {
     "slide_type": "slide"
    }
   },
   "source": [
    "通过*逻辑运算符*构建二元张量"
   ]
  },
  {
   "cell_type": "code",
   "execution_count": 13,
   "id": "f760ca1d",
   "metadata": {
    "execution": {
     "iopub.execute_input": "2022-12-07T16:28:01.650566Z",
     "iopub.status.busy": "2022-12-07T16:28:01.649959Z",
     "iopub.status.idle": "2022-12-07T16:28:01.654963Z",
     "shell.execute_reply": "2022-12-07T16:28:01.654231Z"
    },
    "origin_pos": 63,
    "tab": [
     "pytorch"
    ]
   },
   "outputs": [
    {
     "data": {
      "text/plain": [
       "tensor([[False,  True, False,  True],\n",
       "        [False, False, False, False],\n",
       "        [False, False, False, False]])"
      ]
     },
     "execution_count": 13,
     "metadata": {},
     "output_type": "execute_result"
    }
   ],
   "source": [
    "X == Y"
   ]
  },
  {
   "cell_type": "markdown",
   "id": "6efec0e1",
   "metadata": {
    "slideshow": {
     "slide_type": "slide"
    }
   },
   "source": [
    "对张量中的所有元素进行求和，会产生一个单元素张量"
   ]
  },
  {
   "cell_type": "code",
   "execution_count": 14,
   "id": "7c176a4d",
   "metadata": {
    "execution": {
     "iopub.execute_input": "2022-12-07T16:28:01.658532Z",
     "iopub.status.busy": "2022-12-07T16:28:01.658029Z",
     "iopub.status.idle": "2022-12-07T16:28:01.663161Z",
     "shell.execute_reply": "2022-12-07T16:28:01.662413Z"
    },
    "origin_pos": 65,
    "tab": [
     "pytorch"
    ]
   },
   "outputs": [
    {
     "data": {
      "text/plain": [
       "tensor(66.)"
      ]
     },
     "execution_count": 14,
     "metadata": {},
     "output_type": "execute_result"
    }
   ],
   "source": [
    "X.sum()"
   ]
  },
  {
   "cell_type": "markdown",
   "id": "366574f1",
   "metadata": {
    "slideshow": {
     "slide_type": "slide"
    }
   },
   "source": [
    "即使形状不同，我们仍然可以通过调用\n",
    "*广播机制*（broadcasting mechanism）来执行按元素操作"
   ]
  },
  {
   "cell_type": "code",
   "execution_count": 15,
   "id": "f1a78cda",
   "metadata": {
    "execution": {
     "iopub.execute_input": "2022-12-07T16:28:01.666847Z",
     "iopub.status.busy": "2022-12-07T16:28:01.666215Z",
     "iopub.status.idle": "2022-12-07T16:28:01.671897Z",
     "shell.execute_reply": "2022-12-07T16:28:01.671182Z"
    },
    "origin_pos": 69,
    "tab": [
     "pytorch"
    ]
   },
   "outputs": [
    {
     "data": {
      "text/plain": [
       "(tensor([[0],\n",
       "         [1],\n",
       "         [2]]),\n",
       " tensor([[0, 1]]))"
      ]
     },
     "execution_count": 15,
     "metadata": {},
     "output_type": "execute_result"
    }
   ],
   "source": [
    "a = torch.arange(3).reshape((3, 1))\n",
    "b = torch.arange(2).reshape((1, 2))\n",
    "a, b"
   ]
  },
  {
   "cell_type": "code",
   "execution_count": 16,
   "id": "9ea4c05a",
   "metadata": {
    "execution": {
     "iopub.execute_input": "2022-12-07T16:28:01.675382Z",
     "iopub.status.busy": "2022-12-07T16:28:01.674877Z",
     "iopub.status.idle": "2022-12-07T16:28:01.679881Z",
     "shell.execute_reply": "2022-12-07T16:28:01.679188Z"
    },
    "origin_pos": 73,
    "tab": [
     "pytorch"
    ]
   },
   "outputs": [
    {
     "data": {
      "text/plain": [
       "tensor([[0, 1],\n",
       "        [1, 2],\n",
       "        [2, 3]])"
      ]
     },
     "execution_count": 16,
     "metadata": {},
     "output_type": "execute_result"
    }
   ],
   "source": [
    "a + b"
   ]
  },
  {
   "cell_type": "markdown",
   "id": "970aa6df",
   "metadata": {
    "slideshow": {
     "slide_type": "slide"
    }
   },
   "source": [
    "可以用`[-1]`选择最后一个元素，可以用`[1:3]`选择第二个和第三个元素"
   ]
  },
  {
   "cell_type": "code",
   "execution_count": 17,
   "id": "f3aa99c2",
   "metadata": {
    "execution": {
     "iopub.execute_input": "2022-12-07T16:28:01.683181Z",
     "iopub.status.busy": "2022-12-07T16:28:01.682528Z",
     "iopub.status.idle": "2022-12-07T16:28:01.688248Z",
     "shell.execute_reply": "2022-12-07T16:28:01.687556Z"
    },
    "origin_pos": 75,
    "tab": [
     "pytorch"
    ]
   },
   "outputs": [
    {
     "data": {
      "text/plain": [
       "(tensor([ 8.,  9., 10., 11.]),\n",
       " tensor([[ 4.,  5.,  6.,  7.],\n",
       "         [ 8.,  9., 10., 11.]]))"
      ]
     },
     "execution_count": 17,
     "metadata": {},
     "output_type": "execute_result"
    }
   ],
   "source": [
    "X[-1], X[1:3]"
   ]
  },
  {
   "cell_type": "markdown",
   "id": "7585d941",
   "metadata": {
    "slideshow": {
     "slide_type": "slide"
    }
   },
   "source": [
    "除读取外，我们还可以通过指定索引来将元素写入矩阵"
   ]
  },
  {
   "cell_type": "code",
   "execution_count": 18,
   "id": "c0a1c2d4",
   "metadata": {
    "execution": {
     "iopub.execute_input": "2022-12-07T16:28:01.691920Z",
     "iopub.status.busy": "2022-12-07T16:28:01.691320Z",
     "iopub.status.idle": "2022-12-07T16:28:01.696674Z",
     "shell.execute_reply": "2022-12-07T16:28:01.695981Z"
    },
    "origin_pos": 78,
    "tab": [
     "pytorch"
    ]
   },
   "outputs": [
    {
     "data": {
      "text/plain": [
       "tensor([[ 0.,  1.,  2.,  3.],\n",
       "        [ 4.,  5.,  9.,  7.],\n",
       "        [ 8.,  9., 10., 11.]])"
      ]
     },
     "execution_count": 18,
     "metadata": {},
     "output_type": "execute_result"
    }
   ],
   "source": [
    "X[1, 2] = 9\n",
    "X"
   ]
  },
  {
   "cell_type": "markdown",
   "id": "bd950b45",
   "metadata": {
    "slideshow": {
     "slide_type": "slide"
    }
   },
   "source": [
    "为多个元素赋值相同的值，我们只需要索引所有元素，然后为它们赋值"
   ]
  },
  {
   "cell_type": "code",
   "execution_count": 19,
   "id": "da6dc5b4",
   "metadata": {
    "execution": {
     "iopub.execute_input": "2022-12-07T16:28:01.700265Z",
     "iopub.status.busy": "2022-12-07T16:28:01.699658Z",
     "iopub.status.idle": "2022-12-07T16:28:01.705050Z",
     "shell.execute_reply": "2022-12-07T16:28:01.704366Z"
    },
    "origin_pos": 81,
    "tab": [
     "pytorch"
    ]
   },
   "outputs": [
    {
     "data": {
      "text/plain": [
       "tensor([[12., 12., 12., 12.],\n",
       "        [12., 12., 12., 12.],\n",
       "        [ 8.,  9., 10., 11.]])"
      ]
     },
     "execution_count": 19,
     "metadata": {},
     "output_type": "execute_result"
    }
   ],
   "source": [
    "X[0:2, :] = 12\n",
    "X"
   ]
  },
  {
   "cell_type": "markdown",
   "id": "3af1748a",
   "metadata": {
    "slideshow": {
     "slide_type": "slide"
    }
   },
   "source": [
    "运行一些操作可能会导致为新结果分配内存"
   ]
  },
  {
   "cell_type": "code",
   "execution_count": 20,
   "id": "3539c38d",
   "metadata": {
    "execution": {
     "iopub.execute_input": "2022-12-07T16:28:01.708652Z",
     "iopub.status.busy": "2022-12-07T16:28:01.707936Z",
     "iopub.status.idle": "2022-12-07T16:28:01.713553Z",
     "shell.execute_reply": "2022-12-07T16:28:01.712859Z"
    },
    "origin_pos": 84,
    "tab": [
     "pytorch"
    ]
   },
   "outputs": [
    {
     "data": {
      "text/plain": [
       "False"
      ]
     },
     "execution_count": 20,
     "metadata": {},
     "output_type": "execute_result"
    }
   ],
   "source": [
    "before = id(Y)\n",
    "Y = Y + X\n",
    "id(Y) == before"
   ]
  },
  {
   "cell_type": "markdown",
   "id": "e774dec6",
   "metadata": {
    "slideshow": {
     "slide_type": "-"
    }
   },
   "source": [
    "执行原地操作"
   ]
  },
  {
   "cell_type": "code",
   "execution_count": 21,
   "id": "9800284e",
   "metadata": {
    "execution": {
     "iopub.execute_input": "2022-12-07T16:28:01.717333Z",
     "iopub.status.busy": "2022-12-07T16:28:01.716751Z",
     "iopub.status.idle": "2022-12-07T16:28:01.721658Z",
     "shell.execute_reply": "2022-12-07T16:28:01.720936Z"
    },
    "origin_pos": 89,
    "tab": [
     "pytorch"
    ]
   },
   "outputs": [
    {
     "name": "stdout",
     "output_type": "stream",
     "text": [
      "id(Z): 139931132035296\n",
      "id(Z): 139931132035296\n"
     ]
    }
   ],
   "source": [
    "Z = torch.zeros_like(Y)\n",
    "print('id(Z):', id(Z))\n",
    "Z[:] = X + Y\n",
    "print('id(Z):', id(Z))"
   ]
  },
  {
   "cell_type": "markdown",
   "id": "8b590108",
   "metadata": {
    "slideshow": {
     "slide_type": "slide"
    }
   },
   "source": [
    "如果在后续计算中没有重复使用`X`，\n",
    "我们也可以使用`X[:] = X + Y`或`X += Y`来减少操作的内存开销"
   ]
  },
  {
   "cell_type": "code",
   "execution_count": 22,
   "id": "118199c7",
   "metadata": {
    "execution": {
     "iopub.execute_input": "2022-12-07T16:28:01.725521Z",
     "iopub.status.busy": "2022-12-07T16:28:01.724748Z",
     "iopub.status.idle": "2022-12-07T16:28:01.730112Z",
     "shell.execute_reply": "2022-12-07T16:28:01.729349Z"
    },
    "origin_pos": 94,
    "tab": [
     "pytorch"
    ]
   },
   "outputs": [
    {
     "data": {
      "text/plain": [
       "True"
      ]
     },
     "execution_count": 22,
     "metadata": {},
     "output_type": "execute_result"
    }
   ],
   "source": [
    "before = id(X)\n",
    "X += Y\n",
    "id(X) == before"
   ]
  },
  {
   "cell_type": "markdown",
   "id": "84bc583b",
   "metadata": {
    "slideshow": {
     "slide_type": "slide"
    }
   },
   "source": [
    "转换为NumPy张量（`ndarray`）"
   ]
  },
  {
   "cell_type": "code",
   "execution_count": 23,
   "id": "4ae87f13",
   "metadata": {
    "execution": {
     "iopub.execute_input": "2022-12-07T16:28:01.734214Z",
     "iopub.status.busy": "2022-12-07T16:28:01.733587Z",
     "iopub.status.idle": "2022-12-07T16:28:01.739355Z",
     "shell.execute_reply": "2022-12-07T16:28:01.738447Z"
    },
    "origin_pos": 100,
    "tab": [
     "pytorch"
    ]
   },
   "outputs": [
    {
     "data": {
      "text/plain": [
       "(numpy.ndarray, torch.Tensor)"
      ]
     },
     "execution_count": 23,
     "metadata": {},
     "output_type": "execute_result"
    }
   ],
   "source": [
    "A = X.numpy()\n",
    "B = torch.tensor(A)\n",
    "type(A), type(B)"
   ]
  },
  {
   "cell_type": "markdown",
   "id": "c5096d4d",
   "metadata": {
    "slideshow": {
     "slide_type": "-"
    }
   },
   "source": [
    "将大小为1的张量转换为Python标量"
   ]
  },
  {
   "cell_type": "code",
   "execution_count": 24,
   "id": "cf26d4aa",
   "metadata": {
    "execution": {
     "iopub.execute_input": "2022-12-07T16:28:01.742894Z",
     "iopub.status.busy": "2022-12-07T16:28:01.742318Z",
     "iopub.status.idle": "2022-12-07T16:28:01.748354Z",
     "shell.execute_reply": "2022-12-07T16:28:01.747641Z"
    },
    "origin_pos": 105,
    "tab": [
     "pytorch"
    ]
   },
   "outputs": [
    {
     "data": {
      "text/plain": [
       "(tensor([3.5000]), 3.5, 3.5, 3)"
      ]
     },
     "execution_count": 24,
     "metadata": {},
     "output_type": "execute_result"
    }
   ],
   "source": [
    "a = torch.tensor([3.5])\n",
    "a, a.item(), float(a), int(a)"
   ]
  }
 ],
 "metadata": {
  "celltoolbar": "Slideshow",
  "kernelspec": {
   "display_name": "PyCharm (DeepLearningTutorial)",
   "language": "python",
   "name": "pycharm-9146fa6d"
  },
  "language_info": {
   "codemirror_mode": {
    "name": "ipython",
    "version": 3
   },
   "file_extension": ".py",
   "mimetype": "text/x-python",
   "name": "python",
   "nbconvert_exporter": "python",
   "pygments_lexer": "ipython3",
   "version": "3.8.16"
  },
  "rise": {
   "autolaunch": true,
   "enable_chalkboard": true,
   "overlay": "<div class='my-top-right'><img height=80px src='http://d2l.ai/_static/logo-with-text.png'/></div><div class='my-top-left'></div>",
   "scroll": true
  }
 },
 "nbformat": 4,
 "nbformat_minor": 5
}