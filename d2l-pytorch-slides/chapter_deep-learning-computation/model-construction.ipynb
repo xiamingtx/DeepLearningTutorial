{
 "cells": [
  {
   "cell_type": "markdown",
   "id": "32e1bf03",
   "metadata": {
    "slideshow": {
     "slide_type": "-"
    }
   },
   "source": [
    "# 层和块\n",
    "\n",
    "我们先回顾一下多层感知机"
   ]
  },
  {
   "cell_type": "code",
   "execution_count": 1,
   "id": "b9bcbd98",
   "metadata": {
    "execution": {
     "iopub.execute_input": "2022-12-07T16:28:43.817066Z",
     "iopub.status.busy": "2022-12-07T16:28:43.816409Z",
     "iopub.status.idle": "2022-12-07T16:28:45.216452Z",
     "shell.execute_reply": "2022-12-07T16:28:45.215623Z"
    },
    "origin_pos": 2,
    "tab": [
     "pytorch"
    ]
   },
   "outputs": [
    {
     "data": {
      "text/plain": [
       "tensor([[ 0.0162, -0.1235,  0.0978, -0.1359,  0.0353,  0.0444,  0.0626,  0.2392,\n",
       "         -0.1748,  0.2616],\n",
       "        [-0.0665, -0.0984, -0.0934, -0.1049,  0.0151,  0.0801, -0.0665,  0.1619,\n",
       "         -0.2138,  0.1742]], grad_fn=<AddmmBackward0>)"
      ]
     },
     "execution_count": 1,
     "metadata": {},
     "output_type": "execute_result"
    }
   ],
   "source": [
    "import torch\n",
    "from torch import nn\n",
    "from torch.nn import functional as F\n",
    "\n",
    "net = nn.Sequential(nn.Linear(20, 256), nn.ReLU(), nn.Linear(256, 10))\n",
    "\n",
    "X = torch.rand(2, 20)\n",
    "net(X)"
   ]
  },
  {
   "cell_type": "markdown",
   "id": "3c753775",
   "metadata": {
    "slideshow": {
     "slide_type": "-"
    }
   },
   "source": [
    "`nn.Sequential`定义了一种特殊的`Module`"
   ]
  },
  {
   "cell_type": "markdown",
   "id": "0320db9e",
   "metadata": {
    "slideshow": {
     "slide_type": "slide"
    }
   },
   "source": [
    "自定义块"
   ]
  },
  {
   "cell_type": "code",
   "execution_count": 2,
   "id": "67970a47",
   "metadata": {
    "execution": {
     "iopub.execute_input": "2022-12-07T16:28:45.220410Z",
     "iopub.status.busy": "2022-12-07T16:28:45.219789Z",
     "iopub.status.idle": "2022-12-07T16:28:45.225103Z",
     "shell.execute_reply": "2022-12-07T16:28:45.224338Z"
    },
    "origin_pos": 14,
    "tab": [
     "pytorch"
    ]
   },
   "outputs": [],
   "source": [
    "class MLP(nn.Module):\n",
    "    def __init__(self):\n",
    "        super().__init__()\n",
    "        self.hidden = nn.Linear(20, 256)\n",
    "        self.out = nn.Linear(256, 10)\n",
    "\n",
    "    def forward(self, X):\n",
    "        return self.out(F.relu(self.hidden(X)))"
   ]
  },
  {
   "cell_type": "markdown",
   "id": "65ad8b5b",
   "metadata": {
    "slideshow": {
     "slide_type": "slide"
    }
   },
   "source": [
    "实例化多层感知机的层，然后在每次调用前向传播函数时调用这些层"
   ]
  },
  {
   "cell_type": "code",
   "execution_count": 3,
   "id": "c196f83b",
   "metadata": {
    "execution": {
     "iopub.execute_input": "2022-12-07T16:28:45.228240Z",
     "iopub.status.busy": "2022-12-07T16:28:45.227741Z",
     "iopub.status.idle": "2022-12-07T16:28:45.233871Z",
     "shell.execute_reply": "2022-12-07T16:28:45.233130Z"
    },
    "origin_pos": 19,
    "tab": [
     "pytorch"
    ]
   },
   "outputs": [
    {
     "data": {
      "text/plain": [
       "tensor([[-0.1847,  0.1681, -0.0677, -0.0248,  0.0628, -0.1342, -0.0590,  0.2103,\n",
       "         -0.1344, -0.0614],\n",
       "        [-0.0814,  0.1199,  0.0536, -0.0940,  0.0298, -0.1175, -0.2023,  0.1251,\n",
       "         -0.0909, -0.0490]], grad_fn=<AddmmBackward0>)"
      ]
     },
     "execution_count": 3,
     "metadata": {},
     "output_type": "execute_result"
    }
   ],
   "source": [
    "net = MLP()\n",
    "net(X)"
   ]
  },
  {
   "cell_type": "markdown",
   "id": "45400e46",
   "metadata": {
    "slideshow": {
     "slide_type": "slide"
    }
   },
   "source": [
    "顺序块"
   ]
  },
  {
   "cell_type": "code",
   "execution_count": 4,
   "id": "47eaeca3",
   "metadata": {
    "execution": {
     "iopub.execute_input": "2022-12-07T16:28:45.248643Z",
     "iopub.status.busy": "2022-12-07T16:28:45.248107Z",
     "iopub.status.idle": "2022-12-07T16:28:45.254498Z",
     "shell.execute_reply": "2022-12-07T16:28:45.253795Z"
    },
    "origin_pos": 31,
    "tab": [
     "pytorch"
    ]
   },
   "outputs": [
    {
     "data": {
      "text/plain": [
       "tensor([[-0.2714, -0.0470, -0.0670,  0.3418, -0.0940,  0.0299,  0.0071, -0.0880,\n",
       "         -0.3707,  0.2247],\n",
       "        [-0.2689,  0.0794, -0.0820,  0.2196, -0.0927, -0.0532,  0.0645, -0.0502,\n",
       "         -0.1984,  0.0872]], grad_fn=<AddmmBackward0>)"
      ]
     },
     "execution_count": 4,
     "metadata": {},
     "output_type": "execute_result"
    }
   ],
   "source": [
    "class MySequential(nn.Module):\n",
    "    def __init__(self, *args):\n",
    "        super().__init__()\n",
    "        for idx, module in enumerate(args):\n",
    "            self._modules[str(idx)] = module\n",
    "\n",
    "    def forward(self, X):\n",
    "        for block in self._modules.values():\n",
    "            X = block(X)\n",
    "        return X\n",
    "\n",
    "net = MySequential(nn.Linear(20, 256), nn.ReLU(), nn.Linear(256, 10))\n",
    "net(X)"
   ]
  },
  {
   "cell_type": "markdown",
   "id": "86e490d9",
   "metadata": {
    "slideshow": {
     "slide_type": "slide"
    }
   },
   "source": [
    "在前向传播函数中执行代码"
   ]
  },
  {
   "cell_type": "code",
   "execution_count": 5,
   "id": "8e23cfb9",
   "metadata": {
    "execution": {
     "iopub.execute_input": "2022-12-07T16:28:45.265695Z",
     "iopub.status.busy": "2022-12-07T16:28:45.265428Z",
     "iopub.status.idle": "2022-12-07T16:28:45.271974Z",
     "shell.execute_reply": "2022-12-07T16:28:45.271209Z"
    },
    "origin_pos": 40,
    "tab": [
     "pytorch"
    ]
   },
   "outputs": [
    {
     "data": {
      "text/plain": [
       "tensor(-0.0073, grad_fn=<SumBackward0>)"
      ]
     },
     "execution_count": 5,
     "metadata": {},
     "output_type": "execute_result"
    }
   ],
   "source": [
    "class FixedHiddenMLP(nn.Module):\n",
    "    def __init__(self):\n",
    "        super().__init__()\n",
    "        self.rand_weight = torch.rand((20, 20), requires_grad=False)\n",
    "        self.linear = nn.Linear(20, 20)\n",
    "\n",
    "    def forward(self, X):\n",
    "        X = self.linear(X)\n",
    "        X = F.relu(torch.mm(X, self.rand_weight) + 1)\n",
    "        X = self.linear(X)\n",
    "        while X.abs().sum() > 1:\n",
    "            X /= 2\n",
    "        return X.sum()\n",
    "\n",
    "net = FixedHiddenMLP()\n",
    "net(X)"
   ]
  },
  {
   "cell_type": "markdown",
   "id": "ea3d23e2",
   "metadata": {
    "slideshow": {
     "slide_type": "slide"
    }
   },
   "source": [
    "混合搭配各种组合块的方法"
   ]
  },
  {
   "cell_type": "code",
   "execution_count": 6,
   "id": "cb1cf1d0",
   "metadata": {
    "execution": {
     "iopub.execute_input": "2022-12-07T16:28:45.276015Z",
     "iopub.status.busy": "2022-12-07T16:28:45.275750Z",
     "iopub.status.idle": "2022-12-07T16:28:45.285289Z",
     "shell.execute_reply": "2022-12-07T16:28:45.284572Z"
    },
    "origin_pos": 43,
    "tab": [
     "pytorch"
    ]
   },
   "outputs": [
    {
     "data": {
      "text/plain": [
       "tensor(0.3243, grad_fn=<SumBackward0>)"
      ]
     },
     "execution_count": 6,
     "metadata": {},
     "output_type": "execute_result"
    }
   ],
   "source": [
    "class NestMLP(nn.Module):\n",
    "    def __init__(self):\n",
    "        super().__init__()\n",
    "        self.net = nn.Sequential(nn.Linear(20, 64), nn.ReLU(),\n",
    "                                 nn.Linear(64, 32), nn.ReLU())\n",
    "        self.linear = nn.Linear(32, 16)\n",
    "\n",
    "    def forward(self, X):\n",
    "        return self.linear(self.net(X))\n",
    "\n",
    "chimera = nn.Sequential(NestMLP(), nn.Linear(16, 20), FixedHiddenMLP())\n",
    "chimera(X)"
   ]
  }
 ],
 "metadata": {
  "celltoolbar": "Slideshow",
  "kernelspec": {
   "display_name": "Python 3 (ipykernel)",
   "language": "python",
   "name": "python3"
  },
  "language_info": {
   "codemirror_mode": {
    "name": "ipython",
    "version": 3
   },
   "file_extension": ".py",
   "mimetype": "text/x-python",
   "name": "python",
   "nbconvert_exporter": "python",
   "pygments_lexer": "ipython3",
   "version": "3.8.16"
  },
  "rise": {
   "autolaunch": true,
   "enable_chalkboard": true,
   "overlay": "<div class='my-top-right'><img height=80px src='http://d2l.ai/_static/logo-with-text.png'/></div><div class='my-top-left'></div>",
   "scroll": true
  }
 },
 "nbformat": 4,
 "nbformat_minor": 5
}