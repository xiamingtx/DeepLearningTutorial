{
 "cells": [
  {
   "cell_type": "code",
   "execution_count": 2,
   "metadata": {
    "collapsed": true
   },
   "outputs": [],
   "source": [
    "import torch\n",
    "import torch.nn as nn\n",
    "import torch.nn.functional as F"
   ]
  },
  {
   "cell_type": "code",
   "execution_count": 5,
   "outputs": [
    {
     "data": {
      "text/plain": "tensor([[2.4129, 1.2032, 1.6791],\n        [1.0048, 0.9689, 2.1638]])"
     },
     "execution_count": 5,
     "metadata": {},
     "output_type": "execute_result"
    }
   ],
   "source": [
    "# batch_size, seqlen, vocab_size\n",
    "logits = torch.randn(2, 3, 4)\n",
    "label = torch.randint(0, 4, (2, 3))\n",
    "\n",
    "logits = logits.transpose(1, 2)\n",
    "F.cross_entropy(logits, label, reduction='none')"
   ],
   "metadata": {
    "collapsed": false,
    "pycharm": {
     "name": "#%%\n"
    }
   }
  },
  {
   "cell_type": "code",
   "execution_count": 14,
   "outputs": [
    {
     "data": {
      "text/plain": "tensor([[1., 1., 0.],\n        [1., 1., 1.]])"
     },
     "execution_count": 14,
     "metadata": {},
     "output_type": "execute_result"
    }
   ],
   "source": [
    "tgt_len = torch.tensor([2, 3], dtype=torch.int32)\n",
    "mask = torch.stack([F.pad(torch.ones(L), (0, max(tgt_len - L))) for L in tgt_len])\n",
    "mask"
   ],
   "metadata": {
    "collapsed": false,
    "pycharm": {
     "name": "#%%\n"
    }
   }
  },
  {
   "cell_type": "code",
   "execution_count": 13,
   "outputs": [
    {
     "data": {
      "text/plain": "tensor([[2.4129, 1.2032, 0.0000],\n        [1.0048, 0.9689, 2.1638]])"
     },
     "execution_count": 13,
     "metadata": {},
     "output_type": "execute_result"
    }
   ],
   "source": [
    "F.cross_entropy(logits, label, reduction='none') * mask"
   ],
   "metadata": {
    "collapsed": false,
    "pycharm": {
     "name": "#%%\n"
    }
   }
  },
  {
   "cell_type": "code",
   "execution_count": 16,
   "outputs": [
    {
     "name": "stdout",
     "output_type": "stream",
     "text": [
      "tensor([[1, 1, 0],\n",
      "        [1, 1, 0]])\n",
      "tensor([[   1,    1, -100],\n",
      "        [   1,    1,    0]])\n"
     ]
    },
    {
     "data": {
      "text/plain": "tensor([[2.4129, 1.2032, 0.0000],\n        [1.0048, 0.9689, 2.1638]])"
     },
     "execution_count": 16,
     "metadata": {},
     "output_type": "execute_result"
    }
   ],
   "source": [
    "print(label)\n",
    "label[0, 2] = -100\n",
    "print(label)\n",
    "# ignore_index: int = -100,\n",
    "F.cross_entropy(logits, label, reduction='none')"
   ],
   "metadata": {
    "collapsed": false,
    "pycharm": {
     "name": "#%%\n"
    }
   }
  }
 ],
 "metadata": {
  "kernelspec": {
   "name": "pycharm-9146fa6d",
   "language": "python",
   "display_name": "PyCharm (DeepLearningTutorial)"
  },
  "language_info": {
   "codemirror_mode": {
    "name": "ipython",
    "version": 2
   },
   "file_extension": ".py",
   "mimetype": "text/x-python",
   "name": "python",
   "nbconvert_exporter": "python",
   "pygments_lexer": "ipython2",
   "version": "2.7.6"
  }
 },
 "nbformat": 4,
 "nbformat_minor": 0
}