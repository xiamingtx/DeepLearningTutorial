{
 "cells": [
  {
   "cell_type": "markdown",
   "metadata": {
    "collapsed": true,
    "pycharm": {
     "name": "#%% md\n"
    }
   },
   "source": [
    "## 二维卷积代码演示"
   ]
  },
  {
   "cell_type": "code",
   "execution_count": 1,
   "outputs": [],
   "source": [
    "import torch\n",
    "import torch.nn as nn\n",
    "import torch.nn.functional as F\n",
    "from math import floor"
   ],
   "metadata": {
    "collapsed": false,
    "pycharm": {
     "name": "#%%\n"
    }
   }
  },
  {
   "cell_type": "markdown",
   "source": [
    "定义常量"
   ],
   "metadata": {
    "collapsed": false,
    "pycharm": {
     "name": "#%% md\n"
    }
   }
  },
  {
   "cell_type": "code",
   "execution_count": 2,
   "outputs": [],
   "source": [
    "in_channels = 1\n",
    "out_channels = 1\n",
    "kernel_size = 3\n",
    "batch_size = 1\n",
    "bias = False\n",
    "input_size = [batch_size, in_channels, 4, 4]"
   ],
   "metadata": {
    "collapsed": false,
    "pycharm": {
     "name": "#%%\n"
    }
   }
  },
  {
   "cell_type": "code",
   "execution_count": 3,
   "outputs": [
    {
     "name": "stdout",
     "output_type": "stream",
     "text": [
      "tensor([[[[ 0.0154,  0.0635, -0.3639, -0.5033],\n",
      "          [-0.5038, -0.2192, -1.4445, -0.0946],\n",
      "          [-0.0067, -0.6616, -0.6039, -0.4955],\n",
      "          [ 0.7326, -1.1545, -0.3996, -0.1910]]]])\n",
      "Parameter containing:\n",
      "tensor([[[[ 0.3260, -0.0833,  0.3098],\n",
      "          [-0.0076,  0.1136, -0.1804],\n",
      "          [ 0.2704,  0.1957, -0.0588]]]], requires_grad=True)\n",
      "conv shape:  torch.Size([1, 1, 3, 3])\n",
      "tensor([[[[ 0.0306, -0.5182],\n",
      "          [-0.5641, -0.3338]]]], grad_fn=<ConvolutionBackward0>)\n"
     ]
    }
   ],
   "source": [
    "conv_layer = nn.Conv2d(in_channels, out_channels, kernel_size, bias=bias)\n",
    "input_feature_map = torch.randn(input_size)\n",
    "output_feature_map = conv_layer(input_feature_map)\n",
    "\n",
    "print(input_feature_map)\n",
    "print(conv_layer.weight)\n",
    "print('conv shape: ', conv_layer.weight.shape)  # out_channels * in_channels * height * width\n",
    "print(output_feature_map)"
   ],
   "metadata": {
    "collapsed": false,
    "pycharm": {
     "name": "#%%\n"
    }
   }
  },
  {
   "cell_type": "code",
   "execution_count": 4,
   "outputs": [
    {
     "name": "stdout",
     "output_type": "stream",
     "text": [
      "tensor([[[[ 0.0306, -0.5182],\n",
      "          [-0.5641, -0.3338]]]], grad_fn=<ConvolutionBackward0>)\n"
     ]
    }
   ],
   "source": [
    "output_feature_map1  = F.conv2d(input_feature_map, conv_layer.weight)\n",
    "print(output_feature_map1)"
   ],
   "metadata": {
    "collapsed": false,
    "pycharm": {
     "name": "#%%\n"
    }
   }
  },
  {
   "cell_type": "markdown",
   "source": [
    "### 实现卷积"
   ],
   "metadata": {
    "collapsed": false,
    "pycharm": {
     "name": "#%% md\n"
    }
   }
  },
  {
   "cell_type": "code",
   "execution_count": 5,
   "outputs": [
    {
     "name": "stdout",
     "output_type": "stream",
     "text": [
      "tensor([[-0.6325, -0.2957,  0.5462, -1.9451, -0.9402],\n",
      "        [ 0.4959,  1.7904, -0.5853, -0.2096,  0.3875],\n",
      "        [ 0.9051,  1.3585, -0.2588,  1.7262, -1.3823],\n",
      "        [ 0.4132,  0.8141,  0.0347, -0.2014, -0.8545],\n",
      "        [ 0.2931,  0.4612,  1.9812,  1.2929,  0.9103]])\n",
      "tensor([[-0.7825,  2.0124,  0.4009],\n",
      "        [-0.0393, -0.4620, -0.4053],\n",
      "        [ 1.2382, -0.1169,  0.9682]])\n",
      "tensor([-1.0259])\n"
     ]
    }
   ],
   "source": [
    "input = torch.randn(5, 5)  # 卷积输入特征图\n",
    "kernel = torch.randn(3, 3)  # 卷积核\n",
    "bias = torch.randn(1)  # 卷积偏置 默认输出通道数目为1\n",
    "\n",
    "print(input)\n",
    "print(kernel)\n",
    "print(bias)"
   ],
   "metadata": {
    "collapsed": false,
    "pycharm": {
     "name": "#%%\n"
    }
   }
  },
  {
   "cell_type": "markdown",
   "source": [
    "用原始的矩阵运算实现二维卷积\n",
    "\n",
    "先不考虑batch_size维度和channel维度"
   ],
   "metadata": {
    "collapsed": false,
    "pycharm": {
     "name": "#%% md\n"
    }
   }
  },
  {
   "cell_type": "code",
   "execution_count": 6,
   "outputs": [],
   "source": [
    "def matrix_multiplication_for_conv2d(input, kernel, bias=0, stride=1, padding=0):\n",
    "    if padding > 0:\n",
    "        input = F.pad(input, (padding, padding, padding, padding))\n",
    "\n",
    "    input_h, input_w = input.shape\n",
    "    kernel_h, kernel_w = kernel.shape\n",
    "\n",
    "    output_h = floor((input_h - kernel_h) / stride + 1)  # 卷积输入的高度\n",
    "    output_w = floor((input_w - kernel_w) / stride + 1)  # 卷积输入的宽度\n",
    "    output = torch.zeros(output_h, output_w)  # 初始化输出矩阵\n",
    "    for i in range(0, input_h - kernel_h + 1, stride):  # 对高度进行遍历\n",
    "        for j in range(0, input_w - kernel_w + 1, stride):  # 对宽度进行遍历\n",
    "            region = input[i:i + kernel_h, j:j + kernel_h]  # 取出被核滑动到的区域\n",
    "            output[int(i / stride), int(j / stride)] = torch.sum(region * kernel) + bias  # 点乘 并赋值给输出位置的元素\n",
    "\n",
    "    return output"
   ],
   "metadata": {
    "collapsed": false,
    "pycharm": {
     "name": "#%%\n"
    }
   }
  },
  {
   "cell_type": "markdown",
   "source": [
    "结果验证："
   ],
   "metadata": {
    "collapsed": false,
    "pycharm": {
     "name": "#%% md\n"
    }
   }
  },
  {
   "cell_type": "code",
   "execution_count": 7,
   "outputs": [
    {
     "name": "stdout",
     "output_type": "stream",
     "text": [
      "tensor([[ 1.0617,  1.6041, -0.8199],\n",
      "        [ 0.4610, -3.5135,  0.3393],\n",
      "        [-0.1904, -3.1314, -3.0592]])\n",
      "tensor([[ 1.0617,  1.6041, -0.8199],\n",
      "        [ 0.4610, -3.5135,  0.3393],\n",
      "        [-0.1904, -3.1314, -3.0592]])\n"
     ]
    },
    {
     "data": {
      "text/plain": "True"
     },
     "execution_count": 7,
     "metadata": {},
     "output_type": "execute_result"
    }
   ],
   "source": [
    "# 矩阵运算实现卷积的结果\n",
    "mat_mul_conv_output = matrix_multiplication_for_conv2d(input, kernel, bias=bias, padding=1, stride=2)\n",
    "print(mat_mul_conv_output)\n",
    "\n",
    "# 调用pytorch api卷积的结果\n",
    "pytorch_api_conv_output = F.conv2d(input.reshape(1, 1, input.shape[0], input.shape[1]),\n",
    "                                   kernel.reshape(1, 1, kernel.shape[0], kernel.shape[1]),\n",
    "                                   padding=1,\n",
    "                                   bias=bias,\n",
    "                                   stride=2)\n",
    "print(pytorch_api_conv_output.squeeze())\n",
    "\n",
    "torch.allclose(mat_mul_conv_output, pytorch_api_conv_output)  # 验证成功"
   ],
   "metadata": {
    "collapsed": false,
    "pycharm": {
     "name": "#%%\n"
    }
   }
  },
  {
   "cell_type": "markdown",
   "source": [
    "region拉直, flatten版本:"
   ],
   "metadata": {
    "collapsed": false,
    "pycharm": {
     "name": "#%% md\n"
    }
   }
  },
  {
   "cell_type": "code",
   "execution_count": 8,
   "outputs": [],
   "source": [
    "def matrix_multiplication_for_conv2d_flatten(input, kernel, bias=0, stride=1, padding=0):\n",
    "    if padding > 0:\n",
    "        input = F.pad(input, (padding, padding, padding, padding))\n",
    "\n",
    "    input_h, input_w = input.shape\n",
    "    kernel_h, kernel_w = kernel.shape\n",
    "\n",
    "    output_h = floor((input_h - kernel_h) / stride + 1)  # 卷积输入的高度\n",
    "    output_w = floor((input_w - kernel_w) / stride + 1)  # 卷积输入的宽度\n",
    "    output = torch.zeros(output_h, output_w)  # 初始化输出矩阵\n",
    "\n",
    "    region_matrix = torch.zeros(output.numel(), kernel.numel())  # 存储着拉平后的所有特征区域\n",
    "    kernel_matrix = kernel.reshape(kernel.numel(), 1)  # kernel的列向量（矩阵）形式\n",
    "    row_index = 0\n",
    "    for i in range(0, input_h - kernel_h + 1, stride):  # 对高度进行遍历\n",
    "        for j in range(0, input_w - kernel_w + 1, stride):  # 对宽度进行遍历\n",
    "            region = input[i:i + kernel_h, j:j + kernel_h]  # 取出被核滑动到的区域\n",
    "            region_vector = torch.flatten(region)\n",
    "            region_matrix[row_index] = region_vector\n",
    "            row_index += 1\n",
    "\n",
    "    output_matrix = region_matrix @ kernel_matrix\n",
    "    output = output_matrix.reshape(output_h, output_w) + bias\n",
    "\n",
    "    return output"
   ],
   "metadata": {
    "collapsed": false,
    "pycharm": {
     "name": "#%%\n"
    }
   }
  },
  {
   "cell_type": "code",
   "execution_count": 9,
   "outputs": [
    {
     "name": "stdout",
     "output_type": "stream",
     "text": [
      "tensor([[ 1.0617,  1.6041, -0.8199],\n",
      "        [ 0.4610, -3.5135,  0.3393],\n",
      "        [-0.1904, -3.1314, -3.0592]])\n",
      "tensor([[ 1.0617,  1.6041, -0.8199],\n",
      "        [ 0.4610, -3.5135,  0.3393],\n",
      "        [-0.1904, -3.1314, -3.0592]])\n"
     ]
    },
    {
     "data": {
      "text/plain": "True"
     },
     "execution_count": 9,
     "metadata": {},
     "output_type": "execute_result"
    }
   ],
   "source": [
    "# flatten版 实现卷积的结果\n",
    "mat_mul_conv_output_flatten = matrix_multiplication_for_conv2d_flatten(input, kernel, bias=bias, padding=1, stride=2)\n",
    "print(mat_mul_conv_output_flatten)\n",
    "\n",
    "# 调用pytorch api卷积的结果\n",
    "pytorch_api_conv_output = F.conv2d(input.reshape(1, 1, input.shape[0], input.shape[1]),\n",
    "                                   kernel.reshape(1, 1, kernel.shape[0], kernel.shape[1]),\n",
    "                                   padding=1,\n",
    "                                   bias=bias,\n",
    "                                   stride=2)\n",
    "print(pytorch_api_conv_output.squeeze())\n",
    "\n",
    "torch.allclose(mat_mul_conv_output_flatten, pytorch_api_conv_output)  # 验证成功"
   ],
   "metadata": {
    "collapsed": false,
    "pycharm": {
     "name": "#%%\n"
    }
   }
  },
  {
   "cell_type": "markdown",
   "source": [
    "考虑batch_size维和channel维度的完整实现"
   ],
   "metadata": {
    "collapsed": false,
    "pycharm": {
     "name": "#%% md\n"
    }
   }
  },
  {
   "cell_type": "code",
   "execution_count": 10,
   "outputs": [],
   "source": [
    "def matrix_multiplication_for_conv2d_full(input, kernel, bias=None, stride=1, padding=0):\n",
    "    # input, kernel都是四维的张量\n",
    "    if padding > 0:\n",
    "        input = F.pad(input, (padding, padding, padding, padding, 0, 0, 0, 0))\n",
    "\n",
    "    bs, in_channel, input_h, input_w = input.shape\n",
    "    output_channel, in_channel, kernel_h, kernel_w = kernel.shape\n",
    "\n",
    "    if bias is None:\n",
    "        bias = torch.zeros(output_channel)\n",
    "\n",
    "    output_h = floor((input_h - kernel_h) / stride + 1)  # 卷积输入的高度\n",
    "    output_w = floor((input_w - kernel_w) / stride + 1)  # 卷积输入的宽度\n",
    "    output = torch.zeros(bs, output_channel, output_h, output_w)  # 初始化输出矩阵\n",
    "\n",
    "    for idx in range(bs):\n",
    "        for oc in range(output_channel):\n",
    "            for ic in range(in_channel):\n",
    "                for i in range(0, input_h - kernel_h + 1, stride):  # 对高度进行遍历\n",
    "                    for j in range(0, input_w - kernel_w + 1, stride):  # 对宽度进行遍历\n",
    "                        region = input[idx, ic, i:i + kernel_h, j:j + kernel_h]  # 取出被核滑动到的区域\n",
    "                        output[idx, oc, i // stride, j // stride] += torch.sum(region * kernel[oc, ic])  # 点乘 并赋值给输出位置的元素\n",
    "            output[idx, oc] += bias[oc]\n",
    "\n",
    "    return output"
   ],
   "metadata": {
    "collapsed": false,
    "pycharm": {
     "name": "#%%\n"
    }
   }
  },
  {
   "cell_type": "code",
   "execution_count": 11,
   "outputs": [
    {
     "data": {
      "text/plain": "True"
     },
     "execution_count": 11,
     "metadata": {},
     "output_type": "execute_result"
    }
   ],
   "source": [
    "input = torch.randn(2 ,2, 5, 5)  # bs * in_channel * in_h * in_w\n",
    "kernel = torch.randn(3, 2, 3, 3)  # out_channel * in_channel * kernel_h * kernel_w\n",
    "bias = torch.randn(3)\n",
    "\n",
    "pytorch_conv2d_api_output = F.conv2d(input, kernel, bias, padding=1, stride=2)\n",
    "mm_conv2d_full_output = matrix_multiplication_for_conv2d_full(input, kernel, bias=bias, padding=1, stride=2)\n",
    "\n",
    "torch.allclose(mm_conv2d_full_output, pytorch_conv2d_api_output)"
   ],
   "metadata": {
    "collapsed": false,
    "pycharm": {
     "name": "#%%\n"
    }
   }
  },
  {
   "cell_type": "markdown",
   "source": [
    "对kernel进行展开来实现二维卷积 并推导出转置卷积: 先不考虑batch和channel, 不考虑padding, 假设stride=1"
   ],
   "metadata": {
    "collapsed": false,
    "pycharm": {
     "name": "#%% md\n"
    }
   }
  },
  {
   "cell_type": "code",
   "execution_count": 12,
   "outputs": [],
   "source": [
    "def get_kernel_matrix(kernel, input_size):\n",
    "    \"\"\" 基于kernel和输入特征图的大小来得到填充拉直后的kernel堆叠后的矩阵 \"\"\"\n",
    "    kernel_h, kernel_w = kernel.shape\n",
    "    input_h, input_w = input_size\n",
    "    num_out_feat_map = (input_h - kernel_h + 1) * (input_w - kernel_w + 1)\n",
    "    result = torch.zeros(num_out_feat_map, input_h * input_w)  # 初始化结果矩阵 输出特征图元素个数 * 输入特征图元素个数\n",
    "    count = 0\n",
    "    for i in range(0, input_h - kernel_h + 1, 1):\n",
    "        for j in range(0, input_w - kernel_w + 1, 1):\n",
    "            padded_kernel = F.pad(kernel, (j, input_w - kernel_w - j, i, input_h - kernel_h - i))  # 填充成跟输入特征图一样大小\n",
    "            result[count] = padded_kernel.flatten()\n",
    "            count += 1\n",
    "\n",
    "    return result"
   ],
   "metadata": {
    "collapsed": false,
    "pycharm": {
     "name": "#%%\n"
    }
   }
  },
  {
   "cell_type": "code",
   "execution_count": 13,
   "outputs": [
    {
     "name": "stdout",
     "output_type": "stream",
     "text": [
      "tensor([[ 0.0555,  1.1662,  0.1779],\n",
      "        [ 0.0437, -0.2212, -0.0591],\n",
      "        [ 0.2425, -0.4909,  1.4868]])\n",
      "tensor([[ 0.0555,  1.1662,  0.1779,  0.0000,  0.0437, -0.2212, -0.0591,  0.0000,\n",
      "          0.2425, -0.4909,  1.4868,  0.0000,  0.0000,  0.0000,  0.0000,  0.0000],\n",
      "        [ 0.0000,  0.0555,  1.1662,  0.1779,  0.0000,  0.0437, -0.2212, -0.0591,\n",
      "          0.0000,  0.2425, -0.4909,  1.4868,  0.0000,  0.0000,  0.0000,  0.0000],\n",
      "        [ 0.0000,  0.0000,  0.0000,  0.0000,  0.0555,  1.1662,  0.1779,  0.0000,\n",
      "          0.0437, -0.2212, -0.0591,  0.0000,  0.2425, -0.4909,  1.4868,  0.0000],\n",
      "        [ 0.0000,  0.0000,  0.0000,  0.0000,  0.0000,  0.0555,  1.1662,  0.1779,\n",
      "          0.0000,  0.0437, -0.2212, -0.0591,  0.0000,  0.2425, -0.4909,  1.4868]])\n"
     ]
    }
   ],
   "source": [
    "kernel = torch.randn(3, 3)\n",
    "input = torch.randn(4, 4)\n",
    "kernel_matrix = get_kernel_matrix(kernel, input.shape)  # 4*16\n",
    "\n",
    "print(kernel)\n",
    "print(kernel_matrix)"
   ],
   "metadata": {
    "collapsed": false,
    "pycharm": {
     "name": "#%%\n"
    }
   }
  },
  {
   "cell_type": "markdown",
   "source": [
    "验证二维卷积"
   ],
   "metadata": {
    "collapsed": false,
    "pycharm": {
     "name": "#%% md\n"
    }
   }
  },
  {
   "cell_type": "code",
   "execution_count": 14,
   "outputs": [
    {
     "name": "stdout",
     "output_type": "stream",
     "text": [
      "tensor([[ 1.6035],\n",
      "        [ 1.4561],\n",
      "        [-0.0267],\n",
      "        [ 0.3003]])\n",
      "tensor([[[[ 1.6035,  1.4561],\n",
      "          [-0.0267,  0.3003]]]])\n"
     ]
    }
   ],
   "source": [
    "mm_conv2d_output = kernel_matrix @ input.reshape(-1, 1)\n",
    "pytorch_conv2d_output = F.conv2d(input.unsqueeze(0).unsqueeze(0), kernel.unsqueeze(0).unsqueeze(0))\n",
    "\n",
    "print(mm_conv2d_output)\n",
    "print(pytorch_conv2d_output)"
   ],
   "metadata": {
    "collapsed": false,
    "pycharm": {
     "name": "#%%\n"
    }
   }
  },
  {
   "cell_type": "markdown",
   "source": [
    "验证二维转置卷积"
   ],
   "metadata": {
    "collapsed": false,
    "pycharm": {
     "name": "#%% md\n"
    }
   }
  },
  {
   "cell_type": "code",
   "execution_count": 15,
   "outputs": [
    {
     "name": "stdout",
     "output_type": "stream",
     "text": [
      "tensor([[ 0.0889,  1.9508,  1.9834,  0.2591],\n",
      "        [ 0.0686, -0.3055, -0.0714, -0.0326],\n",
      "        [ 0.3876, -0.4150,  1.6045,  2.1471],\n",
      "        [-0.0065,  0.0859, -0.1871,  0.4464]])\n",
      "tensor([[[[ 0.0889,  1.9508,  1.9834,  0.2591],\n",
      "          [ 0.0686, -0.3055, -0.0714, -0.0326],\n",
      "          [ 0.3876, -0.4150,  1.6045,  2.1471],\n",
      "          [-0.0065,  0.0859, -0.1871,  0.4464]]]])\n"
     ]
    }
   ],
   "source": [
    "mm_transposed_conv2d_output = kernel_matrix.transpose(-1, -2) @ mm_conv2d_output\n",
    "pytorch_transposed_conv2d_output = F.conv_transpose2d(pytorch_conv2d_output, kernel.unsqueeze(0).unsqueeze(0))\n",
    "\n",
    "print(mm_transposed_conv2d_output.reshape(4, 4))\n",
    "print(pytorch_transposed_conv2d_output)"
   ],
   "metadata": {
    "collapsed": false,
    "pycharm": {
     "name": "#%%\n"
    }
   }
  },
  {
   "cell_type": "markdown",
   "source": [
    "实现空洞卷积和群卷积（dilation and group）"
   ],
   "metadata": {
    "collapsed": false,
    "pycharm": {
     "name": "#%% md\n"
    }
   }
  },
  {
   "cell_type": "code",
   "execution_count": 16,
   "outputs": [],
   "source": [
    "def matrix_multiplication_for_conv2d_final(input, kernel, bias=None, stride=1, padding=0, dilation=1, groups=1):\n",
    "    if padding > 0:\n",
    "        input = F.pad(input, (padding, padding, padding, padding, 0, 0, 0, 0))\n",
    "\n",
    "    bs, in_channel, input_h, input_w = input.shape\n",
    "    out_channel, _, kernel_h, kernel_w = kernel.shape\n",
    "\n",
    "    assert out_channel % groups == 0 and in_channel % groups == 0, \"groups必须要同时被输入通道数和输出通道数整除!\"\n",
    "    input = input.reshape(bs, groups, in_channel // groups, input_h, input_w)\n",
    "    kernel = kernel.reshape(groups, out_channel // groups, in_channel // groups, kernel_h, kernel_w)\n",
    "\n",
    "    kernel_h = (kernel_h - 1) * (dilation - 1) + kernel_h\n",
    "    kernel_w = (kernel_w - 1) * (dilation - 1) + kernel_w\n",
    "\n",
    "    output_h = floor((input_h - kernel_h) / stride) + 1\n",
    "    output_w = floor((input_w - kernel_w) / stride) + 1\n",
    "    output_shape = (bs, groups, out_channel // groups, output_h, output_w)\n",
    "    output = torch.zeros(output_shape)\n",
    "\n",
    "    if bias is None:\n",
    "        bias = torch.zeros(out_channel)\n",
    "\n",
    "    for idx in range(bs):\n",
    "        for g in range(groups):\n",
    "            for oc in range(out_channel // groups):\n",
    "                for ic in range(in_channel // groups):\n",
    "                    for i in range(0, input_h - kernel_h + 1, stride):\n",
    "                        for j in range(0, input_w - kernel_w + 1, stride):\n",
    "                            region = input[idx, g, ic, i:i + kernel_h:dilation, j:j + kernel_w:dilation]\n",
    "                            output[idx, g, oc, i // stride, j // stride] += torch.sum(region * kernel[g, oc, ic])\n",
    "                output[idx, g, oc] += bias[g * (out_channel // groups) + oc]\n",
    "\n",
    "    output = output.reshape(bs, out_channel, output_h, output_w)\n",
    "    return output"
   ],
   "metadata": {
    "collapsed": false,
    "pycharm": {
     "name": "#%%\n"
    }
   }
  },
  {
   "cell_type": "code",
   "execution_count": 17,
   "outputs": [
    {
     "name": "stdout",
     "output_type": "stream",
     "text": [
      "tensor([[[[-2.4419e-01, -3.0583e+00,  1.4309e+00],\n",
      "          [ 1.0033e+00, -2.7890e+00, -5.5060e-01],\n",
      "          [ 1.2251e+00, -1.1161e+00, -5.0134e-01]],\n",
      "\n",
      "         [[-6.1742e-01,  1.0594e+00,  5.2264e-02],\n",
      "          [-4.4655e-01,  5.5588e-01,  1.9635e+00],\n",
      "          [ 3.4322e-01,  8.1468e-04,  1.9272e+00]],\n",
      "\n",
      "         [[-3.2600e+00,  1.1603e+00,  5.6671e-01],\n",
      "          [-3.4365e+00, -1.7850e+00, -2.8568e+00],\n",
      "          [ 6.0163e-02,  2.3038e+00,  8.2228e-01]],\n",
      "\n",
      "         [[-5.8294e-01,  3.6316e+00, -1.2523e-01],\n",
      "          [ 8.6782e-01, -1.0744e+00, -9.0748e-01],\n",
      "          [ 2.7644e+00, -3.3368e+00,  2.4442e+00]]],\n",
      "\n",
      "\n",
      "        [[[ 1.1006e+00,  1.8369e+00,  7.0896e-02],\n",
      "          [-1.6372e+00, -2.9309e+00, -7.3729e-01],\n",
      "          [ 6.2581e-01, -5.3360e-01, -1.0085e+00]],\n",
      "\n",
      "         [[ 3.5322e-01,  8.2231e-01,  2.2789e+00],\n",
      "          [-7.3674e-01, -1.7123e+00, -2.4497e+00],\n",
      "          [-6.3574e-01,  1.0733e+00,  2.9610e+00]],\n",
      "\n",
      "         [[-3.6122e-01, -6.8838e-01,  1.6779e-02],\n",
      "          [-2.6673e+00, -5.0455e+00, -1.2260e-01],\n",
      "          [-8.3526e-01, -2.7134e+00, -4.5595e+00]],\n",
      "\n",
      "         [[-4.2541e-02,  3.1506e+00, -7.5678e-02],\n",
      "          [ 1.2191e+00,  1.0310e+00,  3.6161e+00],\n",
      "          [ 1.1438e+00,  4.9426e+00, -4.2007e+00]]]])\n",
      "tensor([[[[-2.4419e-01, -3.0583e+00,  1.4309e+00],\n",
      "          [ 1.0033e+00, -2.7890e+00, -5.5060e-01],\n",
      "          [ 1.2251e+00, -1.1161e+00, -5.0134e-01]],\n",
      "\n",
      "         [[-6.1742e-01,  1.0594e+00,  5.2264e-02],\n",
      "          [-4.4655e-01,  5.5588e-01,  1.9635e+00],\n",
      "          [ 3.4322e-01,  8.1468e-04,  1.9272e+00]],\n",
      "\n",
      "         [[-3.2600e+00,  1.1603e+00,  5.6671e-01],\n",
      "          [-3.4365e+00, -1.7850e+00, -2.8568e+00],\n",
      "          [ 6.0163e-02,  2.3038e+00,  8.2228e-01]],\n",
      "\n",
      "         [[-5.8294e-01,  3.6316e+00, -1.2523e-01],\n",
      "          [ 8.6782e-01, -1.0744e+00, -9.0748e-01],\n",
      "          [ 2.7644e+00, -3.3368e+00,  2.4442e+00]]],\n",
      "\n",
      "\n",
      "        [[[ 1.1006e+00,  1.8369e+00,  7.0896e-02],\n",
      "          [-1.6372e+00, -2.9309e+00, -7.3729e-01],\n",
      "          [ 6.2581e-01, -5.3360e-01, -1.0085e+00]],\n",
      "\n",
      "         [[ 3.5322e-01,  8.2231e-01,  2.2789e+00],\n",
      "          [-7.3674e-01, -1.7123e+00, -2.4497e+00],\n",
      "          [-6.3574e-01,  1.0733e+00,  2.9610e+00]],\n",
      "\n",
      "         [[-3.6122e-01, -6.8838e-01,  1.6779e-02],\n",
      "          [-2.6673e+00, -5.0455e+00, -1.2260e-01],\n",
      "          [-8.3526e-01, -2.7134e+00, -4.5595e+00]],\n",
      "\n",
      "         [[-4.2541e-02,  3.1506e+00, -7.5678e-02],\n",
      "          [ 1.2191e+00,  1.0310e+00,  3.6161e+00],\n",
      "          [ 1.1438e+00,  4.9426e+00, -4.2007e+00]]]])\n"
     ]
    },
    {
     "data": {
      "text/plain": "True"
     },
     "execution_count": 17,
     "metadata": {},
     "output_type": "execute_result"
    }
   ],
   "source": [
    "kernel_size = 3\n",
    "bs, in_channel, input_h, input_w = 2, 2, 7, 7\n",
    "out_channel = 4\n",
    "groups, dilation, stride, padding = 2, 2, 2, 1\n",
    "\n",
    "input = torch.randn(bs, in_channel, input_h, input_w)\n",
    "kernel = torch.randn(out_channel, in_channel // groups, kernel_size, kernel_size)\n",
    "bias = torch.randn(out_channel)\n",
    "\n",
    "pytorch_conv2d_api_output = F.conv2d(input, kernel, bias=bias, padding=padding, stride=stride,\n",
    "                                     dilation=dilation, groups=groups)\n",
    "\n",
    "mm_conv2d_final_output = matrix_multiplication_for_conv2d_final(input, kernel, bias=bias, padding=padding,\n",
    "                                                                stride=stride,dilation=dilation, groups=groups)\n",
    "print(pytorch_conv2d_api_output)\n",
    "print(mm_conv2d_final_output)\n",
    "torch.allclose(pytorch_conv2d_api_output, mm_conv2d_final_output)"
   ],
   "metadata": {
    "collapsed": false,
    "pycharm": {
     "name": "#%%\n"
    }
   }
  }
 ],
 "metadata": {
  "kernelspec": {
   "name": "pycharm-9146fa6d",
   "language": "python",
   "display_name": "PyCharm (DeepLearningTutorial)"
  },
  "language_info": {
   "codemirror_mode": {
    "name": "ipython",
    "version": 2
   },
   "file_extension": ".py",
   "mimetype": "text/x-python",
   "name": "python",
   "nbconvert_exporter": "python",
   "pygments_lexer": "ipython2",
   "version": "2.7.6"
  }
 },
 "nbformat": 4,
 "nbformat_minor": 0
}