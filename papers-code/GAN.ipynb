{
 "cells": [
  {
   "cell_type": "markdown",
   "metadata": {
    "collapsed": true,
    "pycharm": {
     "name": "#%% md\n"
    }
   },
   "source": [
    "## GAN on MNIST"
   ]
  },
  {
   "cell_type": "code",
   "execution_count": 1,
   "outputs": [],
   "source": [
    "import torch\n",
    "import torch.nn as nn\n",
    "import torchvision\n",
    "from torch.utils.data import DataLoader\n",
    "\n",
    "device = torch.device('cuda:0' if torch.cuda.is_available() else 'cpu')"
   ],
   "metadata": {
    "collapsed": false,
    "pycharm": {
     "name": "#%%\n"
    }
   }
  },
  {
   "cell_type": "markdown",
   "source": [
    "define parameters"
   ],
   "metadata": {
    "collapsed": false
   }
  },
  {
   "cell_type": "code",
   "execution_count": 2,
   "outputs": [],
   "source": [
    "num_epoch, batch_size, latent_size = 100, 32, 64"
   ],
   "metadata": {
    "collapsed": false,
    "pycharm": {
     "name": "#%%\n"
    }
   }
  },
  {
   "cell_type": "markdown",
   "source": [
    "define generator model"
   ],
   "metadata": {
    "collapsed": false,
    "pycharm": {
     "name": "#%% md\n"
    }
   }
  },
  {
   "cell_type": "code",
   "execution_count": 3,
   "outputs": [
    {
     "data": {
      "text/plain": "Generator(\n  (model): Sequential(\n    (0): Linear(in_features=64, out_features=64, bias=True)\n    (1): ReLU(inplace=True)\n    (2): Linear(in_features=64, out_features=128, bias=True)\n    (3): ReLU(inplace=True)\n    (4): Linear(in_features=128, out_features=256, bias=True)\n    (5): ReLU(inplace=True)\n    (6): Linear(in_features=256, out_features=512, bias=True)\n    (7): ReLU(inplace=True)\n    (8): Linear(in_features=512, out_features=1024, bias=True)\n    (9): ReLU(inplace=True)\n    (10): Linear(in_features=1024, out_features=784, bias=True)\n    (11): Tanh()\n  )\n)"
     },
     "execution_count": 3,
     "metadata": {},
     "output_type": "execute_result"
    }
   ],
   "source": [
    "class Generator(nn.Module):\n",
    "\n",
    "    def __init__(self, in_dim):\n",
    "        super(Generator, self).__init__()\n",
    "\n",
    "        self.model = nn.Sequential(\n",
    "            nn.Linear(in_dim, 64), nn.ReLU(inplace=True),\n",
    "            nn.Linear(64, 128), nn.ReLU(inplace=True),\n",
    "            nn.Linear(128, 256), nn.ReLU(inplace=True),\n",
    "            nn.Linear(256, 512), nn.ReLU(inplace=True),\n",
    "            nn.Linear(512, 1024), nn.ReLU(inplace=True),\n",
    "            nn.Linear(1024, 784), nn.Tanh(),\n",
    "        )\n",
    "\n",
    "    def forward(self, z):\n",
    "        # shape of z: [batch_size, latent_dim]\n",
    "\n",
    "        output = self.model(z)\n",
    "        image = output.reshape(z.shape[0], 1, 28, 28)\n",
    "\n",
    "        return image\n",
    "\n",
    "generator = Generator(latent_size)\n",
    "generator.to(device)"
   ],
   "metadata": {
    "collapsed": false,
    "pycharm": {
     "name": "#%%\n"
    }
   }
  },
  {
   "cell_type": "markdown",
   "source": [
    "define discriminator model"
   ],
   "metadata": {
    "collapsed": false,
    "pycharm": {
     "name": "#%% md\n"
    }
   }
  },
  {
   "cell_type": "code",
   "execution_count": 4,
   "outputs": [
    {
     "data": {
      "text/plain": "Discriminator(\n  (model): Sequential(\n    (0): Linear(in_features=784, out_features=1024, bias=True)\n    (1): ReLU(inplace=True)\n    (2): Linear(in_features=1024, out_features=512, bias=True)\n    (3): ReLU(inplace=True)\n    (4): Linear(in_features=512, out_features=256, bias=True)\n    (5): ReLU(inplace=True)\n    (6): Linear(in_features=256, out_features=128, bias=True)\n    (7): ReLU(inplace=True)\n    (8): Linear(in_features=128, out_features=1, bias=True)\n    (9): Sigmoid()\n  )\n)"
     },
     "execution_count": 4,
     "metadata": {},
     "output_type": "execute_result"
    }
   ],
   "source": [
    "class Discriminator(nn.Module):\n",
    "\n",
    "    def __init__(self):\n",
    "        super(Discriminator, self).__init__()\n",
    "\n",
    "        self.model = nn.Sequential(\n",
    "            nn.Linear(784, 1024), nn.ReLU(inplace=True),\n",
    "            nn.Linear(1024, 512), nn.ReLU(inplace=True),\n",
    "            nn.Linear(512, 256), nn.ReLU(inplace=True),\n",
    "            nn.Linear(256, 128), nn.ReLU(inplace=True),\n",
    "            nn.Linear(128, 1), nn.Sigmoid(),\n",
    "        )\n",
    "\n",
    "    def forward(self, image):\n",
    "        # shape of image: [batch_size, 1, 28, 28]\n",
    "        image = image.reshape(image.shape[0], -1)\n",
    "        prob = self.model(image)\n",
    "\n",
    "        return prob\n",
    "\n",
    "discriminator = Discriminator()\n",
    "discriminator.to(device)"
   ],
   "metadata": {
    "collapsed": false,
    "pycharm": {
     "name": "#%%\n"
    }
   }
  },
  {
   "cell_type": "markdown",
   "source": [
    "load data"
   ],
   "metadata": {
    "collapsed": false,
    "pycharm": {
     "name": "#%% md\n"
    }
   }
  },
  {
   "cell_type": "code",
   "execution_count": 5,
   "outputs": [],
   "source": [
    "transform = torchvision.transforms.Compose([\n",
    "    torchvision.transforms.Resize(28),\n",
    "    torchvision.transforms.ToTensor(),\n",
    "    torchvision.transforms.Normalize(mean=[0.5], std=[0.5]),\n",
    "])\n",
    "\n",
    "dataset = torchvision.datasets.MNIST(\"data/mnist/\", train=True, download=True, transform=transform)\n",
    "\n",
    "dataloader = DataLoader(dataset, batch_size=batch_size, shuffle=True)"
   ],
   "metadata": {
    "collapsed": false,
    "pycharm": {
     "name": "#%%\n"
    }
   }
  },
  {
   "cell_type": "markdown",
   "source": [
    "define optimizer and loss function"
   ],
   "metadata": {
    "collapsed": false,
    "pycharm": {
     "name": "#%% md\n"
    }
   }
  },
  {
   "cell_type": "code",
   "execution_count": 6,
   "outputs": [],
   "source": [
    "g_optimizer = torch.optim.Adam(generator.parameters(), lr=1e-4)\n",
    "d_optimizer = torch.optim.Adam(discriminator.parameters(), lr=1e-4)\n",
    "\n",
    "loss_fn = nn.BCELoss()"
   ],
   "metadata": {
    "collapsed": false,
    "pycharm": {
     "name": "#%%\n"
    }
   }
  },
  {
   "cell_type": "markdown",
   "source": [
    "train:"
   ],
   "metadata": {
    "collapsed": false,
    "pycharm": {
     "name": "#%% md\n"
    }
   }
  },
  {
   "cell_type": "code",
   "execution_count": null,
   "outputs": [],
   "source": [
    "print(f'training on {device}')\n",
    "\n",
    "for epoch in range(num_epoch):\n",
    "    print(f'epcoh {epoch}: ')\n",
    "    for i, mini_batch in enumerate(dataloader):\n",
    "        gt_images, _ = mini_batch\n",
    "\n",
    "        gt_images = gt_images.to(device)\n",
    "\n",
    "        z = torch.randn(batch_size, latent_size, device=device)\n",
    "        pred_images = generator(z)\n",
    "\n",
    "        g_optimizer.zero_grad()\n",
    "        g_loss = loss_fn(discriminator(pred_images), torch.ones(batch_size, 1, device=device))\n",
    "        g_loss.backward()\n",
    "        g_optimizer.step()\n",
    "\n",
    "        d_optimizer.zero_grad()\n",
    "        # d_loss = 0.5 * (loss_fn(discriminator(gt_images), torch.ones(batch_size, 1)) + loss_fn(discriminator(pred_images.detach()), torch.zeros(batch_size, 1)))\n",
    "        real_loss = loss_fn(discriminator(gt_images), torch.ones(batch_size, 1, device=device))\n",
    "        fake_loss = loss_fn(discriminator(pred_images.detach()), torch.zeros(batch_size, 1, device=device))\n",
    "        d_loss = 0.5 * (real_loss + fake_loss)\n",
    "\n",
    "        # model is stable when you observing real_loss and fake_loss both minimize\n",
    "\n",
    "        d_loss.backward()\n",
    "        d_optimizer.step()\n",
    "\n",
    "        if i % 1000 == 0:\n",
    "            for index, image in enumerate(pred_images):\n",
    "                torchvision.utils.save_image(image, f\"image_{index}.png\")\n"
   ],
   "metadata": {
    "collapsed": false,
    "pycharm": {
     "name": "#%%\n"
    }
   }
  }
 ],
 "metadata": {
  "kernelspec": {
   "name": "pycharm-9146fa6d",
   "language": "python",
   "display_name": "PyCharm (DeepLearningTutorial)"
  },
  "language_info": {
   "codemirror_mode": {
    "name": "ipython",
    "version": 2
   },
   "file_extension": ".py",
   "mimetype": "text/x-python",
   "name": "python",
   "nbconvert_exporter": "python",
   "pygments_lexer": "ipython2",
   "version": "2.7.6"
  }
 },
 "nbformat": 4,
 "nbformat_minor": 0
}