{
 "cells": [
  {
   "cell_type": "markdown",
   "metadata": {
    "collapsed": true,
    "pycharm": {
     "name": "#%% md\n"
    }
   },
   "source": [
    "## 二维卷积代码演示"
   ]
  },
  {
   "cell_type": "code",
   "execution_count": 1,
   "outputs": [],
   "source": [
    "import torch\n",
    "import torch.nn as nn\n",
    "import torch.nn.functional as F\n",
    "from math import floor"
   ],
   "metadata": {
    "collapsed": false,
    "pycharm": {
     "name": "#%%\n"
    }
   }
  },
  {
   "cell_type": "markdown",
   "source": [
    "定义常量"
   ],
   "metadata": {
    "collapsed": false,
    "pycharm": {
     "name": "#%% md\n"
    }
   }
  },
  {
   "cell_type": "code",
   "execution_count": 2,
   "outputs": [],
   "source": [
    "in_channels = 1\n",
    "out_channels = 1\n",
    "kernel_size = 3\n",
    "batch_size = 1\n",
    "bias = False\n",
    "input_size = [batch_size, in_channels, 4, 4]"
   ],
   "metadata": {
    "collapsed": false,
    "pycharm": {
     "name": "#%%\n"
    }
   }
  },
  {
   "cell_type": "code",
   "execution_count": 3,
   "outputs": [
    {
     "name": "stdout",
     "output_type": "stream",
     "text": [
      "tensor([[[[ 0.5804, -1.6252,  0.9928, -0.7315],\n",
      "          [-0.0361, -0.1881,  0.2918,  0.5103],\n",
      "          [ 1.3324, -0.4831,  1.2877, -0.4636],\n",
      "          [ 0.9709, -0.3212, -0.8290,  0.4942]]]])\n",
      "Parameter containing:\n",
      "tensor([[[[ 0.2411,  0.3101, -0.1773],\n",
      "          [ 0.0611,  0.3279,  0.3087],\n",
      "          [-0.0889, -0.1766,  0.2767]]]], requires_grad=True)\n",
      "conv shape:  torch.Size([1, 1, 3, 3])\n",
      "tensor([[[[-0.1906, -0.0254],\n",
      "          [-0.0572,  0.5159]]]], grad_fn=<ConvolutionBackward0>)\n"
     ]
    }
   ],
   "source": [
    "conv_layer = nn.Conv2d(in_channels, out_channels, kernel_size, bias=bias)\n",
    "input_feature_map = torch.randn(input_size)\n",
    "output_feature_map = conv_layer(input_feature_map)\n",
    "\n",
    "print(input_feature_map)\n",
    "print(conv_layer.weight)\n",
    "print('conv shape: ', conv_layer.weight.shape)  # out_channels * in_channels * height * width\n",
    "print(output_feature_map)"
   ],
   "metadata": {
    "collapsed": false,
    "pycharm": {
     "name": "#%%\n"
    }
   }
  },
  {
   "cell_type": "code",
   "execution_count": 4,
   "outputs": [
    {
     "name": "stdout",
     "output_type": "stream",
     "text": [
      "tensor([[[[-0.1906, -0.0254],\n",
      "          [-0.0572,  0.5159]]]], grad_fn=<ConvolutionBackward0>)\n"
     ]
    }
   ],
   "source": [
    "output_feature_map1  = F.conv2d(input_feature_map, conv_layer.weight)\n",
    "print(output_feature_map1)"
   ],
   "metadata": {
    "collapsed": false,
    "pycharm": {
     "name": "#%%\n"
    }
   }
  },
  {
   "cell_type": "markdown",
   "source": [
    "### 实现卷积"
   ],
   "metadata": {
    "collapsed": false,
    "pycharm": {
     "name": "#%% md\n"
    }
   }
  },
  {
   "cell_type": "code",
   "execution_count": 5,
   "outputs": [
    {
     "name": "stdout",
     "output_type": "stream",
     "text": [
      "tensor([[ 1.0637,  0.7187,  0.5201,  0.5979, -0.1413],\n",
      "        [-0.1349, -0.5641, -1.3668,  0.9945, -0.6915],\n",
      "        [-0.8417, -0.0941, -1.2134,  1.6760, -0.0925],\n",
      "        [-0.0513,  0.0584, -1.2078,  0.7728, -0.1496],\n",
      "        [-0.5619, -0.6656, -1.0240,  0.6268,  1.6081]])\n",
      "tensor([[-0.9862, -0.4309, -1.7411],\n",
      "        [-1.6268,  1.1117, -1.3009],\n",
      "        [-1.1477, -1.9942, -0.4259]])\n",
      "tensor([-0.2516])\n"
     ]
    }
   ],
   "source": [
    "input = torch.randn(5, 5)  # 卷积输入特征图\n",
    "kernel = torch.randn(3, 3)  # 卷积核\n",
    "bias = torch.randn(1)  # 卷积偏置 默认输出通道数目为1\n",
    "\n",
    "print(input)\n",
    "print(kernel)\n",
    "print(bias)"
   ],
   "metadata": {
    "collapsed": false,
    "pycharm": {
     "name": "#%%\n"
    }
   }
  },
  {
   "cell_type": "markdown",
   "source": [
    "用原始的矩阵运算实现二维卷积\n",
    "\n",
    "先不考虑batch_size维度和channel维度"
   ],
   "metadata": {
    "collapsed": false,
    "pycharm": {
     "name": "#%% md\n"
    }
   }
  },
  {
   "cell_type": "code",
   "execution_count": 6,
   "outputs": [],
   "source": [
    "def matrix_multiplication_for_conv2d(input, kernel, bias=0, stride=1, padding=0):\n",
    "    if padding > 0:\n",
    "        input = F.pad(input, (padding, padding, padding, padding))\n",
    "\n",
    "    input_h, input_w = input.shape\n",
    "    kernel_h, kernel_w = kernel.shape\n",
    "\n",
    "    output_h = floor((input_h - kernel_h) / stride + 1)  # 卷积输入的高度\n",
    "    output_w = floor((input_w - kernel_w) / stride + 1)  # 卷积输入的宽度\n",
    "    output = torch.zeros(output_h, output_w)  # 初始化输出矩阵\n",
    "    for i in range(0, input_h - kernel_h + 1, stride):  # 对高度进行遍历\n",
    "        for j in range(0, input_w - kernel_w + 1, stride):  # 对宽度进行遍历\n",
    "            region = input[i:i + kernel_h, j:j + kernel_h]  # 取出被核滑动到的区域\n",
    "            output[int(i / stride), int(j / stride)] = torch.sum(region * kernel) + bias  # 点乘 并赋值给输出位置的元素\n",
    "\n",
    "    return output"
   ],
   "metadata": {
    "collapsed": false,
    "pycharm": {
     "name": "#%%\n"
    }
   }
  },
  {
   "cell_type": "markdown",
   "source": [
    "结果验证："
   ],
   "metadata": {
    "collapsed": false,
    "pycharm": {
     "name": "#%% md\n"
    }
   }
  },
  {
   "cell_type": "code",
   "execution_count": 7,
   "outputs": [
    {
     "name": "stdout",
     "output_type": "stream",
     "text": [
      "tensor([[ 0.5052,  1.3291, -1.1439],\n",
      "        [ 0.0529, -2.2017, -4.3525],\n",
      "        [-0.0900, -2.0053, -0.1812]])\n",
      "tensor([[ 0.5052,  1.3291, -1.1439],\n",
      "        [ 0.0529, -2.2017, -4.3525],\n",
      "        [-0.0900, -2.0053, -0.1812]])\n"
     ]
    },
    {
     "data": {
      "text/plain": "True"
     },
     "execution_count": 7,
     "metadata": {},
     "output_type": "execute_result"
    }
   ],
   "source": [
    "# 矩阵运算实现卷积的结果\n",
    "mat_mul_conv_output = matrix_multiplication_for_conv2d(input, kernel, bias=bias, padding=1, stride=2)\n",
    "print(mat_mul_conv_output)\n",
    "\n",
    "# 调用pytorch api卷积的结果\n",
    "pytorch_api_conv_output = F.conv2d(input.reshape(1, 1, input.shape[0], input.shape[1]),\n",
    "                                   kernel.reshape(1, 1, kernel.shape[0], kernel.shape[1]),\n",
    "                                   padding=1,\n",
    "                                   bias=bias,\n",
    "                                   stride=2)\n",
    "print(pytorch_api_conv_output.squeeze())\n",
    "\n",
    "torch.allclose(mat_mul_conv_output, pytorch_api_conv_output)  # 验证成功"
   ],
   "metadata": {
    "collapsed": false,
    "pycharm": {
     "name": "#%%\n"
    }
   }
  },
  {
   "cell_type": "markdown",
   "source": [
    "region拉直, flatten版本:"
   ],
   "metadata": {
    "collapsed": false,
    "pycharm": {
     "name": "#%% md\n"
    }
   }
  },
  {
   "cell_type": "code",
   "execution_count": 8,
   "outputs": [],
   "source": [
    "def matrix_multiplication_for_conv2d_flatten(input, kernel, bias=0, stride=1, padding=0):\n",
    "    if padding > 0:\n",
    "        input = F.pad(input, (padding, padding, padding, padding))\n",
    "\n",
    "    input_h, input_w = input.shape\n",
    "    kernel_h, kernel_w = kernel.shape\n",
    "\n",
    "    output_h = floor((input_h - kernel_h) / stride + 1)  # 卷积输入的高度\n",
    "    output_w = floor((input_w - kernel_w) / stride + 1)  # 卷积输入的宽度\n",
    "    output = torch.zeros(output_h, output_w)  # 初始化输出矩阵\n",
    "\n",
    "    region_matrix = torch.zeros(output.numel(), kernel.numel())  # 存储着拉平后的所有特征区域\n",
    "    kernel_matrix = kernel.reshape(kernel.numel(), 1)  # kernel的列向量（矩阵）形式\n",
    "    row_index = 0\n",
    "    for i in range(0, input_h - kernel_h + 1, stride):  # 对高度进行遍历\n",
    "        for j in range(0, input_w - kernel_w + 1, stride):  # 对宽度进行遍历\n",
    "            region = input[i:i + kernel_h, j:j + kernel_h]  # 取出被核滑动到的区域\n",
    "            region_vector = torch.flatten(region)\n",
    "            region_matrix[row_index] = region_vector\n",
    "            row_index += 1\n",
    "\n",
    "    output_matrix = region_matrix @ kernel_matrix\n",
    "    output = output_matrix.reshape(output_h, output_w) + bias\n",
    "\n",
    "    return output"
   ],
   "metadata": {
    "collapsed": false,
    "pycharm": {
     "name": "#%%\n"
    }
   }
  },
  {
   "cell_type": "code",
   "execution_count": 9,
   "outputs": [
    {
     "name": "stdout",
     "output_type": "stream",
     "text": [
      "tensor([[ 0.5052,  1.3291, -1.1439],\n",
      "        [ 0.0529, -2.2017, -4.3525],\n",
      "        [-0.0900, -2.0053, -0.1812]])\n",
      "tensor([[ 0.5052,  1.3291, -1.1439],\n",
      "        [ 0.0529, -2.2017, -4.3525],\n",
      "        [-0.0900, -2.0053, -0.1812]])\n"
     ]
    },
    {
     "data": {
      "text/plain": "True"
     },
     "execution_count": 9,
     "metadata": {},
     "output_type": "execute_result"
    }
   ],
   "source": [
    "# flatten版 实现卷积的结果\n",
    "mat_mul_conv_output_flatten = matrix_multiplication_for_conv2d_flatten(input, kernel, bias=bias, padding=1, stride=2)\n",
    "print(mat_mul_conv_output_flatten)\n",
    "\n",
    "# 调用pytorch api卷积的结果\n",
    "pytorch_api_conv_output = F.conv2d(input.reshape(1, 1, input.shape[0], input.shape[1]),\n",
    "                                   kernel.reshape(1, 1, kernel.shape[0], kernel.shape[1]),\n",
    "                                   padding=1,\n",
    "                                   bias=bias,\n",
    "                                   stride=2)\n",
    "print(pytorch_api_conv_output.squeeze())\n",
    "\n",
    "torch.allclose(mat_mul_conv_output_flatten, pytorch_api_conv_output)  # 验证成功"
   ],
   "metadata": {
    "collapsed": false,
    "pycharm": {
     "name": "#%%\n"
    }
   }
  },
  {
   "cell_type": "markdown",
   "source": [
    "考虑batch_size维和channel维度的完整实现"
   ],
   "metadata": {
    "collapsed": false,
    "pycharm": {
     "name": "#%% md\n"
    }
   }
  },
  {
   "cell_type": "code",
   "execution_count": 10,
   "outputs": [],
   "source": [
    "def matrix_multiplication_for_conv2d_full(input, kernel, bias=None, stride=1, padding=0):\n",
    "    # input, kernel都是四维的张量\n",
    "    if padding > 0:\n",
    "        input = F.pad(input, (padding, padding, padding, padding, 0, 0, 0, 0))\n",
    "\n",
    "    bs, in_channel, input_h, input_w = input.shape\n",
    "    output_channel, in_channel, kernel_h, kernel_w = kernel.shape\n",
    "\n",
    "    if bias is None:\n",
    "        bias = torch.zeros(output_channel)\n",
    "\n",
    "    output_h = floor((input_h - kernel_h) / stride + 1)  # 卷积输入的高度\n",
    "    output_w = floor((input_w - kernel_w) / stride + 1)  # 卷积输入的宽度\n",
    "    output = torch.zeros(bs, output_channel, output_h, output_w)  # 初始化输出矩阵\n",
    "\n",
    "    for idx in range(bs):\n",
    "        for oc in range(output_channel):\n",
    "            for ic in range(in_channel):\n",
    "                for i in range(0, input_h - kernel_h + 1, stride):  # 对高度进行遍历\n",
    "                    for j in range(0, input_w - kernel_w + 1, stride):  # 对宽度进行遍历\n",
    "                        region = input[idx, ic, i:i + kernel_h, j:j + kernel_h]  # 取出被核滑动到的区域\n",
    "                        output[idx, oc, int(i / stride), int(j / stride)] += torch.sum(region * kernel[oc, ic])  # 点乘 并赋值给输出位置的元素\n",
    "            output[idx, oc] += bias[oc]\n",
    "\n",
    "    return output"
   ],
   "metadata": {
    "collapsed": false,
    "pycharm": {
     "name": "#%%\n"
    }
   }
  },
  {
   "cell_type": "code",
   "execution_count": 11,
   "outputs": [
    {
     "data": {
      "text/plain": "True"
     },
     "execution_count": 11,
     "metadata": {},
     "output_type": "execute_result"
    }
   ],
   "source": [
    "input = torch.randn(2 ,2, 5, 5)  # bs * in_channel * in_h * in_w\n",
    "kernel = torch.randn(3, 2, 3, 3)  # out_channel * in_channel * kernel_h * kernel_w\n",
    "bias = torch.randn(3)\n",
    "\n",
    "pytorch_conv2d_api_output = F.conv2d(input, kernel, bias, padding=1, stride=2)\n",
    "mm_conv2d_full_output = matrix_multiplication_for_conv2d_full(input, kernel, bias=bias, padding=1, stride=2)\n",
    "\n",
    "torch.allclose(mm_conv2d_full_output, pytorch_conv2d_api_output)"
   ],
   "metadata": {
    "collapsed": false,
    "pycharm": {
     "name": "#%%\n"
    }
   }
  },
  {
   "cell_type": "markdown",
   "source": [
    "对kernel进行展开来实现二维卷积 并推导出转置卷积: 先不考虑batch和channel, 不考虑padding, 假设stride=1"
   ],
   "metadata": {
    "collapsed": false,
    "pycharm": {
     "name": "#%% md\n"
    }
   }
  },
  {
   "cell_type": "code",
   "execution_count": 12,
   "outputs": [],
   "source": [
    "def get_kernel_matrix(kernel, input_size):\n",
    "    \"\"\" 基于kernel和输入特征图的大小来得到填充拉直后的kernel堆叠后的矩阵 \"\"\"\n",
    "    kernel_h, kernel_w = kernel.shape\n",
    "    input_h, input_w = input_size\n",
    "    num_out_feat_map = (input_h - kernel_h + 1) * (input_w - kernel_w + 1)\n",
    "    result = torch.zeros(num_out_feat_map, input_h * input_w)  # 初始化结果矩阵 输出特征图元素个数 * 输入特征图元素个数\n",
    "    count = 0\n",
    "    for i in range(0, input_h - kernel_h + 1, 1):\n",
    "        for j in range(0, input_w - kernel_w + 1, 1):\n",
    "            padded_kernel = F.pad(kernel, (j, input_w - kernel_w - j, i, input_h - kernel_h - i))  # 填充成跟输入特征图一样大小\n",
    "            result[count] = padded_kernel.flatten()\n",
    "            count += 1\n",
    "\n",
    "    return result"
   ],
   "metadata": {
    "collapsed": false,
    "pycharm": {
     "name": "#%%\n"
    }
   }
  },
  {
   "cell_type": "code",
   "execution_count": 13,
   "outputs": [
    {
     "name": "stdout",
     "output_type": "stream",
     "text": [
      "tensor([[ 0.9637, -1.6034, -1.6446],\n",
      "        [ 2.0865, -0.6464, -0.1253],\n",
      "        [ 1.0258,  0.3600, -2.2583]])\n",
      "tensor([[ 0.9637, -1.6034, -1.6446,  0.0000,  2.0865, -0.6464, -0.1253,  0.0000,\n",
      "          1.0258,  0.3600, -2.2583,  0.0000,  0.0000,  0.0000,  0.0000,  0.0000],\n",
      "        [ 0.0000,  0.9637, -1.6034, -1.6446,  0.0000,  2.0865, -0.6464, -0.1253,\n",
      "          0.0000,  1.0258,  0.3600, -2.2583,  0.0000,  0.0000,  0.0000,  0.0000],\n",
      "        [ 0.0000,  0.0000,  0.0000,  0.0000,  0.9637, -1.6034, -1.6446,  0.0000,\n",
      "          2.0865, -0.6464, -0.1253,  0.0000,  1.0258,  0.3600, -2.2583,  0.0000],\n",
      "        [ 0.0000,  0.0000,  0.0000,  0.0000,  0.0000,  0.9637, -1.6034, -1.6446,\n",
      "          0.0000,  2.0865, -0.6464, -0.1253,  0.0000,  1.0258,  0.3600, -2.2583]])\n"
     ]
    }
   ],
   "source": [
    "kernel = torch.randn(3, 3)\n",
    "input = torch.randn(4, 4)\n",
    "kernel_matrix = get_kernel_matrix(kernel, input.shape)  # 4*16\n",
    "\n",
    "print(kernel)\n",
    "print(kernel_matrix)"
   ],
   "metadata": {
    "collapsed": false,
    "pycharm": {
     "name": "#%%\n"
    }
   }
  },
  {
   "cell_type": "markdown",
   "source": [
    "验证二维卷积"
   ],
   "metadata": {
    "collapsed": false,
    "pycharm": {
     "name": "#%% md\n"
    }
   }
  },
  {
   "cell_type": "code",
   "execution_count": 14,
   "outputs": [
    {
     "name": "stdout",
     "output_type": "stream",
     "text": [
      "tensor([[-3.8122],\n",
      "        [ 1.2780],\n",
      "        [-5.0330],\n",
      "        [-5.7984]])\n",
      "tensor([[[[-3.8122,  1.2780],\n",
      "          [-5.0330, -5.7984]]]])\n"
     ]
    }
   ],
   "source": [
    "mm_conv2d_output = kernel_matrix @ input.reshape(-1, 1)\n",
    "pytorch_conv2d_output = F.conv2d(input.unsqueeze(0).unsqueeze(0), kernel.unsqueeze(0).unsqueeze(0))\n",
    "\n",
    "print(mm_conv2d_output)\n",
    "print(pytorch_conv2d_output)"
   ],
   "metadata": {
    "collapsed": false,
    "pycharm": {
     "name": "#%%\n"
    }
   }
  },
  {
   "cell_type": "markdown",
   "source": [
    "验证二维转置卷积"
   ],
   "metadata": {
    "collapsed": false,
    "pycharm": {
     "name": "#%% md\n"
    }
   }
  },
  {
   "cell_type": "code",
   "execution_count": 15,
   "outputs": [
    {
     "name": "stdout",
     "output_type": "stream",
     "text": [
      "tensor([[ -3.6737,   7.3438,   4.2203,  -2.1018],\n",
      "        [-12.8044,   7.6127,  17.2256,   9.3757],\n",
      "        [-14.4118,  -8.9066,  13.4481,  -2.1595],\n",
      "        [ -5.1626,  -7.7596,   9.2787,  13.0947]])\n",
      "tensor([[[[ -3.6737,   7.3438,   4.2203,  -2.1018],\n",
      "          [-12.8044,   7.6127,  17.2256,   9.3757],\n",
      "          [-14.4118,  -8.9066,  13.4481,  -2.1595],\n",
      "          [ -5.1626,  -7.7596,   9.2787,  13.0947]]]])\n"
     ]
    }
   ],
   "source": [
    "mm_transposed_conv2d_output = kernel_matrix.transpose(-1, -2) @ mm_conv2d_output\n",
    "pytorch_transposed_conv2d_output = F.conv_transpose2d(pytorch_conv2d_output, kernel.unsqueeze(0).unsqueeze(0))\n",
    "\n",
    "print(mm_transposed_conv2d_output.reshape(4, 4))\n",
    "print(pytorch_transposed_conv2d_output)"
   ],
   "metadata": {
    "collapsed": false,
    "pycharm": {
     "name": "#%%\n"
    }
   }
  }
 ],
 "metadata": {
  "kernelspec": {
   "name": "pycharm-9146fa6d",
   "language": "python",
   "display_name": "PyCharm (DeepLearningTutorial)"
  },
  "language_info": {
   "codemirror_mode": {
    "name": "ipython",
    "version": 2
   },
   "file_extension": ".py",
   "mimetype": "text/x-python",
   "name": "python",
   "nbconvert_exporter": "python",
   "pygments_lexer": "ipython2",
   "version": "2.7.6"
  }
 },
 "nbformat": 4,
 "nbformat_minor": 0
}